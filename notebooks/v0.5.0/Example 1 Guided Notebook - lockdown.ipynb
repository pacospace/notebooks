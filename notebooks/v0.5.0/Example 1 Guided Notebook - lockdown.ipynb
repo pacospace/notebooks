{
 "cells": [
  {
   "cell_type": "markdown",
   "metadata": {},
   "source": [
    "# Thoth 0.5.0 - Example 1 Guided Notebook - Lockdown"
   ]
  },
  {
   "cell_type": "markdown",
   "metadata": {},
   "source": [
    "One of the basic tasks of a developer is to keep the application’s dependencies up to date. In the Python ecosystem tools like `pip` and `Pipenv` help with that task. As a best practice, lock files have emerged. These lock files lock the version of all dependencies (including transitive dependencies) to specific versions. The primary goal is to provide all information required for deterministic builds of the application.\n",
    "This use case is supported by Thoth’s command line tool [Thamos](https://pypi.org/project/thamos): Thamos will read an application’s Pipfile, submit it to Thoth’s API and based on the received result it will create a `Pipfile.lock`. The same goal can be achieved by using `pipenv lock`.\n",
    "\n",
    "See internal document for more info and clarification in [Google Docs](https://docs.google.com/document/d/1QflQpGXtOuHFFC2hkEFBlu0JmCQWEnXdgryvwxCNXpQ/edit#) - section \"Example 1\".\n",
    "\n",
    "This notebook is a supportive material for Thoth 0.5.0 release and use case stated above - it walks through the first example scenario from within a Jupyter Notebook. The same can be accomplished using `Thamos` CLI tool, as stated above, following instructions present at the bottom of this notebook."
   ]
  },
  {
   "cell_type": "markdown",
   "metadata": {},
   "source": [
    "In order to go through this scenario, we need first connect to a graph database instance. This notebook is playeble from within your computer, it inserts all the data into a provided JanusGraph instasnce, so select a graph database instance you would like to use. If you want to run this script purely on your local machine, setup your local graph database as [described in the README file of janusgraph-thoth-config repo](https://github.com/thoth-station/janusgraph-thoth-config#running-janusgraph-instance-locally). Ideally, just clone the repo and issue the following command to setup your local JanusGraph database instance:\n",
    "\n",
    "```\n",
    "sudo ./local.sh all\n",
    "```"
   ]
  },
  {
   "cell_type": "code",
   "execution_count": 1,
   "metadata": {
    "ExecuteTime": {
     "end_time": "2019-02-19T14:27:46.115546Z",
     "start_time": "2019-02-19T14:27:46.108633Z"
    }
   },
   "outputs": [],
   "source": [
    "# Configure JanusGraph instance to talk to:\n",
    "JANUSGRAPH_SERVICE_HOST = 'localhost'\n",
    "\n",
    "# For directly talking to test environment, uncomment the following line:\n",
    "#JANUSGRAPH_SERVICE_HOST = 'janusgraph.test.thoth-station.ninja'"
   ]
  },
  {
   "cell_type": "markdown",
   "metadata": {},
   "source": [
    "Now let's connect to desired JanusGraph database and check if we are properly connected:"
   ]
  },
  {
   "cell_type": "code",
   "execution_count": 2,
   "metadata": {
    "ExecuteTime": {
     "end_time": "2019-02-19T14:28:35.525376Z",
     "start_time": "2019-02-19T14:28:35.500350Z"
    }
   },
   "outputs": [
    {
     "data": {
      "text/plain": [
       "True"
      ]
     },
     "execution_count": 2,
     "metadata": {},
     "output_type": "execute_result"
    }
   ],
   "source": [
    "from thoth.storages import GraphDatabase\n",
    "\n",
    "# Instantiate and connect the JanusGraph database.\n",
    "graph = GraphDatabase.create(JANUSGRAPH_SERVICE_HOST)\n",
    "graph.connect()\n",
    "\n",
    "graph.is_connected()"
   ]
  },
  {
   "cell_type": "markdown",
   "metadata": {},
   "source": [
    "To let Thoth give you guidenance, there is a need to have some data precomputed. One of such data are solver results which resolve dependencies and observe whether packages are installable into a specific environment, what are dependencies of packages and how these dependencies are structured respecting transitive dependency graphs.\n",
    "\n",
    "There is [prepared a solver result in a form of a JSON](https://github.com/thoth-station/misc/tree/master/examples/lockdown). The solver is run in Thoth deployment based on monitored packages (packages used by users in images or explictly monitored packages by Thoth) and is something end-user does not interact with. Let's download it for our demo and store these observations into our graph database instance. "
   ]
  },
  {
   "cell_type": "code",
   "execution_count": 3,
   "metadata": {},
   "outputs": [],
   "source": [
    "import requests\n",
    "\n",
    "SOLVER_DOCUMENT_URL = 'https://raw.githubusercontent.com/thoth-station/misc/master/examples/lockdown/resolved.json'\n",
    "\n",
    "response = requests.get(SOLVER_DOCUMENT_URL)\n",
    "response.raise_for_status()\n",
    "solver_document = response.json()"
   ]
  },
  {
   "cell_type": "markdown",
   "metadata": {},
   "source": [
    "Let's check for which packages was the given solver run made:"
   ]
  },
  {
   "cell_type": "code",
   "execution_count": 4,
   "metadata": {},
   "outputs": [
    {
     "name": "stdout",
     "output_type": "stream",
     "text": [
      "daiquiri\n",
      "flask\n"
     ]
    }
   ],
   "source": [
    "print(solver_document[\"metadata\"][\"arguments\"][\"pypi\"][\"requirements\"].replace(\"\\\\n\", \"\\n\"))"
   ]
  },
  {
   "cell_type": "markdown",
   "metadata": {},
   "source": [
    "Also, do not forget that `Python` package resolution is dependent on environment (requirements can dynamically change based on `setup.py`/`setup.cfg` configuration). Let's check the environment for which resolution was done:"
   ]
  },
  {
   "cell_type": "code",
   "execution_count": 5,
   "metadata": {},
   "outputs": [
    {
     "data": {
      "text/plain": [
       "{'os_name': 'fedora', 'os_version': '29', 'python_version': '3.6'}"
      ]
     },
     "execution_count": 5,
     "metadata": {},
     "output_type": "execute_result"
    }
   ],
   "source": [
    "from  thoth.storages import SolverResultsStore\n",
    "\n",
    "document_id = SolverResultsStore.get_document_id(solver_document)\n",
    "solver_name = SolverResultsStore.get_solver_name_from_document_id(document_id)\n",
    "graph.parse_python_solver_name(solver_name)"
   ]
  },
  {
   "cell_type": "markdown",
   "metadata": {},
   "source": [
    "The above step is done internally in Thoth to obtain information about solver environment. Finally, let's sync solver results into graph database."
   ]
  },
  {
   "cell_type": "code",
   "execution_count": 6,
   "metadata": {},
   "outputs": [
    {
     "name": "stdout",
     "output_type": "stream",
     "text": [
      "CPU times: user 18 s, sys: 1.05 s, total: 19.1 s\n",
      "Wall time: 53.9 s\n"
     ]
    }
   ],
   "source": [
    "%%time\n",
    "\n",
    "graph.sync_solver_result(solver_document)"
   ]
  },
  {
   "cell_type": "markdown",
   "metadata": {},
   "source": [
    "As a next step, we will obtain `Pipfile` from Thamos repo with examples. In this case we have just `Pipfile`, the `Pipfile.lock` file will be generated at the bottom of this notebook by Thoth respecting environment and observations Thoth internally has to provide stack guidenance."
   ]
  },
  {
   "cell_type": "code",
   "execution_count": 7,
   "metadata": {},
   "outputs": [],
   "source": [
    "PIPFILE_URL = \"https://raw.githubusercontent.com/thoth-station/thamos/master/examples/lockdown/Pipfile\"\n",
    "\n",
    "response = requests.get(PIPFILE_URL)\n",
    "response.raise_for_status()\n",
    "pipfile_str = response.text"
   ]
  },
  {
   "cell_type": "markdown",
   "metadata": {},
   "source": [
    "The `Project` abstraction carries information about the project a user has. It wraps some additional logic to provide guidenance on project configuration as well as support for different package managers in future. This way we can transparently other managers such as `requirements.txt` or (better case) `pyproject.toml` as stated in [PEP-518](https://www.python.org/dev/peps/pep-0518/)."
   ]
  },
  {
   "cell_type": "code",
   "execution_count": 8,
   "metadata": {},
   "outputs": [
    {
     "data": {
      "text/plain": [
       "{'requirements': {'packages': {'daiquiri': '*', 'flask': '<=0.12.4'},\n",
       "  'dev-packages': {},\n",
       "  'source': [{'url': 'https://pypi.org/simple',\n",
       "    'verify_ssl': True,\n",
       "    'name': 'pypi'}],\n",
       "  'requires': {'python_version': '3.6'}},\n",
       " 'requirements_locked': None}"
      ]
     },
     "execution_count": 8,
     "metadata": {},
     "output_type": "execute_result"
    }
   ],
   "source": [
    "from thoth.python import Project\n",
    "\n",
    "project = Project.from_strings(pipfile_str)\n",
    "project.to_dict()"
   ]
  },
  {
   "cell_type": "markdown",
   "metadata": {},
   "source": [
    "The next input for Thoth are information about environment - if they are omitted, there is done generic resolution as in case of `Pipenv` for example. If this configuration is additionally supplied, Thoth can provide additional guidenance on software stack for the given runtime environment. For example pick software stacks with great performance for CUDA or specific CPU a user uses. This configuration is part of `.thoth.yaml` file (configuration for Thoth and Thamos inside user's repositories). Let's download it and use it interactively from within this notebook:"
   ]
  },
  {
   "cell_type": "code",
   "execution_count": 9,
   "metadata": {},
   "outputs": [
    {
     "data": {
      "text/plain": [
       "{'host': 'test.thoth-station.ninja',\n",
       " 'tls_verify': False,\n",
       " 'requirements_format': 'pipenv',\n",
       " 'runtime_environments': [{'name': 'fedora:29',\n",
       "   'recommendation_type': 'latest',\n",
       "   'operating_system': {'name': 'fedora', 'version': '29'}}]}"
      ]
     },
     "execution_count": 9,
     "metadata": {},
     "output_type": "execute_result"
    }
   ],
   "source": [
    "import yaml\n",
    "\n",
    "THOTH_YAML_URL = \"https://raw.githubusercontent.com/thoth-station/thamos/master/examples/lockdown/.thoth.yaml\"\n",
    "\n",
    "response = requests.get(THOTH_YAML_URL)\n",
    "response.raise_for_status()\n",
    "config_content = yaml.load(response.text)\n",
    "\n",
    "config_content"
   ]
  },
  {
   "cell_type": "markdown",
   "metadata": {},
   "source": [
    "Now, let's transfer this runtime environment configuration to Thoth's internal structures which provide addional checks and report any issues with user's configuration if any. We will stick with the first runtime environment stated in the configuration file (there is one stated anyway)."
   ]
  },
  {
   "cell_type": "code",
   "execution_count": 10,
   "metadata": {},
   "outputs": [
    {
     "name": "stderr",
     "output_type": "stream",
     "text": [
      "Unknown configuration entry in the configuration file recommendation_type with value latest\n"
     ]
    }
   ],
   "source": [
    "from thoth.common import RuntimeEnvironment\n",
    "\n",
    "runtime_environment = RuntimeEnvironment.from_dict(config_content[\"runtime_environments\"][0])"
   ]
  },
  {
   "cell_type": "markdown",
   "metadata": {},
   "source": [
    "The warning reported can be omitted. The `recommendation_type` configuration option in the configuration file is used in Thamos to override default `recommendation_type` if needed (for a specific runtime environment entry).\n",
    "\n",
    "Finally, let's compute some advises:"
   ]
  },
  {
   "cell_type": "code",
   "execution_count": 11,
   "metadata": {},
   "outputs": [
    {
     "name": "stdout",
     "output_type": "stream",
     "text": [
      "env: THOTH_ADVISER_SHOW_PACKAGES=1\n"
     ]
    },
    {
     "name": "stderr",
     "output_type": "stream",
     "text": [
      "2019-03-13 09:25:36,239 [24560] INFO     root:126: Logging to a Sentry instance is turned off\n",
      "2019-03-13 09:25:36,240 [24560] INFO     root:148: Logging to rsyslog endpoint is turned off\n",
      "2019-03-13 09:25:36,267 [24560] INFO     thoth.adviser.python.scoring:62: Using scoring function that will generate latest stacks\n",
      "2019-03-13 09:25:36,271 [24560] INFO     thoth.adviser.python.dependency_graph:440: Parsing and solving direct dependencies of the requested project\n",
      "2019-03-13 09:25:36,273 [24560] INFO     thoth.solver.python.python_solver:113: Parsing dependency 'daiquiri'\n",
      "2019-03-13 09:25:36,383 [24560] INFO     thoth.solver.python.python_solver:113: Parsing dependency 'flask<=0.12.4'\n",
      "2019-03-13 09:25:36,514 [24560] INFO     thoth.adviser.python.dependency_graph:455: Retrieving transitive dependencies of direct dependencies\n",
      "2019-03-13 09:25:38,862 [24560] INFO     thoth.adviser.python.dependency_graph:558: Sorting dependencies to preserve order of generated stacks\n",
      "2019-03-13 09:25:41,115 [24560] INFO     thoth.adviser.python.dependency_graph:563: Cutting off unwanted dependencies\n",
      "2019-03-13 09:25:41,623 [24560] WARNING  thoth.adviser.python.dependency_graph:573: Sorting dependencies to preserve order of generated stacks\n",
      "2019-03-13 09:25:41,910 [24560] INFO     thoth.adviser.python.dependency_graph:609: Creating dependency graph\n",
      "2019-03-13 09:25:41,913 [24560] INFO     thoth.adviser.python.dependency_graph:733: Computing possible stack candidates, estimated stacks count: 40588560\n",
      "2019-03-13 09:25:41,916 [24560] INFO     thoth.adviser.python.dependency_graph:639: Package 'flask': 19\n",
      "2019-03-13 09:25:41,921 [24560] INFO     thoth.adviser.python.dependency_graph:651: \t'0.1' from https://pypi.org/simple\n",
      "2019-03-13 09:25:41,922 [24560] INFO     thoth.adviser.python.dependency_graph:651: \t'0.2' from https://pypi.org/simple\n",
      "2019-03-13 09:25:41,928 [24560] INFO     thoth.adviser.python.dependency_graph:651: \t'0.3' from https://pypi.org/simple\n",
      "2019-03-13 09:25:41,932 [24560] INFO     thoth.adviser.python.dependency_graph:651: \t'0.3.1' from https://pypi.org/simple\n",
      "2019-03-13 09:25:41,937 [24560] INFO     thoth.adviser.python.dependency_graph:651: \t'0.4' from https://pypi.org/simple\n",
      "2019-03-13 09:25:41,938 [24560] INFO     thoth.adviser.python.dependency_graph:651: \t'0.5' from https://pypi.org/simple\n",
      "2019-03-13 09:25:41,939 [24560] INFO     thoth.adviser.python.dependency_graph:651: \t'0.5.1' from https://pypi.org/simple\n",
      "2019-03-13 09:25:41,940 [24560] INFO     thoth.adviser.python.dependency_graph:651: \t'0.5.2' from https://pypi.org/simple\n",
      "2019-03-13 09:25:41,942 [24560] INFO     thoth.adviser.python.dependency_graph:651: \t'0.6' from https://pypi.org/simple\n",
      "2019-03-13 09:25:41,942 [24560] INFO     thoth.adviser.python.dependency_graph:651: \t'0.6.1' from https://pypi.org/simple\n",
      "2019-03-13 09:25:41,943 [24560] INFO     thoth.adviser.python.dependency_graph:651: \t'0.10' from https://pypi.org/simple\n",
      "2019-03-13 09:25:41,944 [24560] INFO     thoth.adviser.python.dependency_graph:651: \t'0.10.1' from https://pypi.org/simple\n",
      "2019-03-13 09:25:41,945 [24560] INFO     thoth.adviser.python.dependency_graph:651: \t'0.11' from https://pypi.org/simple\n",
      "2019-03-13 09:25:41,959 [24560] INFO     thoth.adviser.python.dependency_graph:651: \t'0.11.1' from https://pypi.org/simple\n",
      "2019-03-13 09:25:41,964 [24560] INFO     thoth.adviser.python.dependency_graph:651: \t'0.12' from https://pypi.org/simple\n",
      "2019-03-13 09:25:41,965 [24560] INFO     thoth.adviser.python.dependency_graph:651: \t'0.12.1' from https://pypi.org/simple\n",
      "2019-03-13 09:25:41,966 [24560] INFO     thoth.adviser.python.dependency_graph:651: \t'0.12.2' from https://pypi.org/simple\n",
      "2019-03-13 09:25:41,967 [24560] INFO     thoth.adviser.python.dependency_graph:651: \t'0.12.3' from https://pypi.org/simple\n",
      "2019-03-13 09:25:41,969 [24560] INFO     thoth.adviser.python.dependency_graph:651: \t'0.12.4' from https://pypi.org/simple\n",
      "2019-03-13 09:25:41,974 [24560] INFO     thoth.adviser.python.dependency_graph:639: Package 'werkzeug': 43\n",
      "2019-03-13 09:25:41,975 [24560] INFO     thoth.adviser.python.dependency_graph:651: \t'0.6.1' from https://pypi.org/simple\n",
      "2019-03-13 09:25:41,976 [24560] INFO     thoth.adviser.python.dependency_graph:651: \t'0.6.2' from https://pypi.org/simple\n",
      "2019-03-13 09:25:41,977 [24560] INFO     thoth.adviser.python.dependency_graph:651: \t'0.7' from https://pypi.org/simple\n",
      "2019-03-13 09:25:41,982 [24560] INFO     thoth.adviser.python.dependency_graph:651: \t'0.7.1' from https://pypi.org/simple\n",
      "2019-03-13 09:25:41,985 [24560] INFO     thoth.adviser.python.dependency_graph:651: \t'0.7.2' from https://pypi.org/simple\n",
      "2019-03-13 09:25:41,991 [24560] INFO     thoth.adviser.python.dependency_graph:651: \t'0.8' from https://pypi.org/simple\n",
      "2019-03-13 09:25:41,992 [24560] INFO     thoth.adviser.python.dependency_graph:651: \t'0.8.1' from https://pypi.org/simple\n",
      "2019-03-13 09:25:41,993 [24560] INFO     thoth.adviser.python.dependency_graph:651: \t'0.8.2' from https://pypi.org/simple\n",
      "2019-03-13 09:25:41,994 [24560] INFO     thoth.adviser.python.dependency_graph:651: \t'0.8.3' from https://pypi.org/simple\n",
      "2019-03-13 09:25:41,997 [24560] INFO     thoth.adviser.python.dependency_graph:651: \t'0.9' from https://pypi.org/simple\n",
      "2019-03-13 09:25:41,999 [24560] INFO     thoth.adviser.python.dependency_graph:651: \t'0.9.1' from https://pypi.org/simple\n",
      "2019-03-13 09:25:42,002 [24560] INFO     thoth.adviser.python.dependency_graph:651: \t'0.9.2' from https://pypi.org/simple\n",
      "2019-03-13 09:25:42,003 [24560] INFO     thoth.adviser.python.dependency_graph:651: \t'0.9.3' from https://pypi.org/simple\n",
      "2019-03-13 09:25:42,005 [24560] INFO     thoth.adviser.python.dependency_graph:651: \t'0.9.4' from https://pypi.org/simple\n",
      "2019-03-13 09:25:42,006 [24560] INFO     thoth.adviser.python.dependency_graph:651: \t'0.9.5' from https://pypi.org/simple\n",
      "2019-03-13 09:25:42,007 [24560] INFO     thoth.adviser.python.dependency_graph:651: \t'0.9.6' from https://pypi.org/simple\n",
      "2019-03-13 09:25:42,008 [24560] INFO     thoth.adviser.python.dependency_graph:651: \t'0.10' from https://pypi.org/simple\n",
      "2019-03-13 09:25:42,009 [24560] INFO     thoth.adviser.python.dependency_graph:651: \t'0.10.1' from https://pypi.org/simple\n",
      "2019-03-13 09:25:42,011 [24560] INFO     thoth.adviser.python.dependency_graph:651: \t'0.10.2' from https://pypi.org/simple\n",
      "2019-03-13 09:25:42,020 [24560] INFO     thoth.adviser.python.dependency_graph:651: \t'0.10.3' from https://pypi.org/simple\n",
      "2019-03-13 09:25:42,024 [24560] INFO     thoth.adviser.python.dependency_graph:651: \t'0.10.4' from https://pypi.org/simple\n",
      "2019-03-13 09:25:42,025 [24560] INFO     thoth.adviser.python.dependency_graph:651: \t'0.11' from https://pypi.org/simple\n",
      "2019-03-13 09:25:42,030 [24560] INFO     thoth.adviser.python.dependency_graph:651: \t'0.11.1' from https://pypi.org/simple\n",
      "2019-03-13 09:25:42,031 [24560] INFO     thoth.adviser.python.dependency_graph:651: \t'0.11.2' from https://pypi.org/simple\n",
      "2019-03-13 09:25:42,032 [24560] INFO     thoth.adviser.python.dependency_graph:651: \t'0.11.3' from https://pypi.org/simple\n",
      "2019-03-13 09:25:42,033 [24560] INFO     thoth.adviser.python.dependency_graph:651: \t'0.11.4' from https://pypi.org/simple\n",
      "2019-03-13 09:25:42,034 [24560] INFO     thoth.adviser.python.dependency_graph:651: \t'0.11.5' from https://pypi.org/simple\n",
      "2019-03-13 09:25:42,035 [24560] INFO     thoth.adviser.python.dependency_graph:651: \t'0.11.6' from https://pypi.org/simple\n",
      "2019-03-13 09:25:42,036 [24560] INFO     thoth.adviser.python.dependency_graph:651: \t'0.11.7' from https://pypi.org/simple\n",
      "2019-03-13 09:25:42,038 [24560] INFO     thoth.adviser.python.dependency_graph:651: \t'0.11.8' from https://pypi.org/simple\n",
      "2019-03-13 09:25:42,043 [24560] INFO     thoth.adviser.python.dependency_graph:651: \t'0.11.9' from https://pypi.org/simple\n",
      "2019-03-13 09:25:42,044 [24560] INFO     thoth.adviser.python.dependency_graph:651: \t'0.11.10' from https://pypi.org/simple\n",
      "2019-03-13 09:25:42,045 [24560] INFO     thoth.adviser.python.dependency_graph:651: \t'0.11.11' from https://pypi.org/simple\n",
      "2019-03-13 09:25:42,046 [24560] INFO     thoth.adviser.python.dependency_graph:651: \t'0.11.12' from https://pypi.org/simple\n",
      "2019-03-13 09:25:42,047 [24560] INFO     thoth.adviser.python.dependency_graph:651: \t'0.11.13' from https://pypi.org/simple\n"
     ]
    },
    {
     "name": "stderr",
     "output_type": "stream",
     "text": [
      "2019-03-13 09:25:42,048 [24560] INFO     thoth.adviser.python.dependency_graph:651: \t'0.11.14' from https://pypi.org/simple\n",
      "2019-03-13 09:25:42,049 [24560] INFO     thoth.adviser.python.dependency_graph:651: \t'0.11.15' from https://pypi.org/simple\n",
      "2019-03-13 09:25:42,051 [24560] INFO     thoth.adviser.python.dependency_graph:651: \t'0.12' from https://pypi.org/simple\n",
      "2019-03-13 09:25:42,052 [24560] INFO     thoth.adviser.python.dependency_graph:651: \t'0.12.1' from https://pypi.org/simple\n",
      "2019-03-13 09:25:42,053 [24560] INFO     thoth.adviser.python.dependency_graph:651: \t'0.12.2' from https://pypi.org/simple\n",
      "2019-03-13 09:25:42,055 [24560] INFO     thoth.adviser.python.dependency_graph:651: \t'0.13' from https://pypi.org/simple\n",
      "2019-03-13 09:25:42,057 [24560] INFO     thoth.adviser.python.dependency_graph:651: \t'0.14' from https://pypi.org/simple\n",
      "2019-03-13 09:25:42,060 [24560] INFO     thoth.adviser.python.dependency_graph:651: \t'0.14.1' from https://pypi.org/simple\n",
      "2019-03-13 09:25:42,061 [24560] INFO     thoth.adviser.python.dependency_graph:639: Package 'jinja2': 23\n",
      "2019-03-13 09:25:42,062 [24560] INFO     thoth.adviser.python.dependency_graph:651: \t'2.4' from https://pypi.org/simple\n",
      "2019-03-13 09:25:42,064 [24560] INFO     thoth.adviser.python.dependency_graph:651: \t'2.4.1' from https://pypi.org/simple\n",
      "2019-03-13 09:25:42,065 [24560] INFO     thoth.adviser.python.dependency_graph:651: \t'2.5' from https://pypi.org/simple\n",
      "2019-03-13 09:25:42,066 [24560] INFO     thoth.adviser.python.dependency_graph:651: \t'2.5.1' from https://pypi.org/simple\n",
      "2019-03-13 09:25:42,067 [24560] INFO     thoth.adviser.python.dependency_graph:651: \t'2.5.2' from https://pypi.org/simple\n",
      "2019-03-13 09:25:42,069 [24560] INFO     thoth.adviser.python.dependency_graph:651: \t'2.5.3' from https://pypi.org/simple\n",
      "2019-03-13 09:25:42,070 [24560] INFO     thoth.adviser.python.dependency_graph:651: \t'2.5.4' from https://pypi.org/simple\n",
      "2019-03-13 09:25:42,071 [24560] INFO     thoth.adviser.python.dependency_graph:651: \t'2.5.5' from https://pypi.org/simple\n",
      "2019-03-13 09:25:42,073 [24560] INFO     thoth.adviser.python.dependency_graph:651: \t'2.6' from https://pypi.org/simple\n",
      "2019-03-13 09:25:42,074 [24560] INFO     thoth.adviser.python.dependency_graph:651: \t'2.7' from https://pypi.org/simple\n",
      "2019-03-13 09:25:42,075 [24560] INFO     thoth.adviser.python.dependency_graph:651: \t'2.7.1' from https://pypi.org/simple\n",
      "2019-03-13 09:25:42,090 [24560] INFO     thoth.adviser.python.dependency_graph:651: \t'2.7.2' from https://pypi.org/simple\n",
      "2019-03-13 09:25:42,091 [24560] INFO     thoth.adviser.python.dependency_graph:651: \t'2.7.3' from https://pypi.org/simple\n",
      "2019-03-13 09:25:42,092 [24560] INFO     thoth.adviser.python.dependency_graph:651: \t'2.8' from https://pypi.org/simple\n",
      "2019-03-13 09:25:42,094 [24560] INFO     thoth.adviser.python.dependency_graph:651: \t'2.8.1' from https://pypi.org/simple\n",
      "2019-03-13 09:25:42,095 [24560] INFO     thoth.adviser.python.dependency_graph:651: \t'2.9' from https://pypi.org/simple\n",
      "2019-03-13 09:25:42,096 [24560] INFO     thoth.adviser.python.dependency_graph:651: \t'2.9.1' from https://pypi.org/simple\n",
      "2019-03-13 09:25:42,097 [24560] INFO     thoth.adviser.python.dependency_graph:651: \t'2.9.2' from https://pypi.org/simple\n",
      "2019-03-13 09:25:42,098 [24560] INFO     thoth.adviser.python.dependency_graph:651: \t'2.9.3' from https://pypi.org/simple\n",
      "2019-03-13 09:25:42,099 [24560] INFO     thoth.adviser.python.dependency_graph:651: \t'2.9.4' from https://pypi.org/simple\n",
      "2019-03-13 09:25:42,101 [24560] INFO     thoth.adviser.python.dependency_graph:651: \t'2.9.5' from https://pypi.org/simple\n",
      "2019-03-13 09:25:42,102 [24560] INFO     thoth.adviser.python.dependency_graph:651: \t'2.9.6' from https://pypi.org/simple\n",
      "2019-03-13 09:25:42,103 [24560] INFO     thoth.adviser.python.dependency_graph:651: \t'2.10' from https://pypi.org/simple\n",
      "2019-03-13 09:25:42,105 [24560] INFO     thoth.adviser.python.dependency_graph:639: Package 'markupsafe': 18\n",
      "2019-03-13 09:25:42,106 [24560] INFO     thoth.adviser.python.dependency_graph:651: \t'0.9.2' from https://pypi.org/simple\n",
      "2019-03-13 09:25:42,107 [24560] INFO     thoth.adviser.python.dependency_graph:651: \t'0.9.3' from https://pypi.org/simple\n",
      "2019-03-13 09:25:42,108 [24560] INFO     thoth.adviser.python.dependency_graph:651: \t'0.11' from https://pypi.org/simple\n",
      "2019-03-13 09:25:42,110 [24560] INFO     thoth.adviser.python.dependency_graph:651: \t'0.12' from https://pypi.org/simple\n",
      "2019-03-13 09:25:42,111 [24560] INFO     thoth.adviser.python.dependency_graph:651: \t'0.13' from https://pypi.org/simple\n",
      "2019-03-13 09:25:42,113 [24560] INFO     thoth.adviser.python.dependency_graph:651: \t'0.14' from https://pypi.org/simple\n",
      "2019-03-13 09:25:42,117 [24560] INFO     thoth.adviser.python.dependency_graph:651: \t'0.15' from https://pypi.org/simple\n",
      "2019-03-13 09:25:42,119 [24560] INFO     thoth.adviser.python.dependency_graph:651: \t'0.16' from https://pypi.org/simple\n",
      "2019-03-13 09:25:42,127 [24560] INFO     thoth.adviser.python.dependency_graph:651: \t'0.17' from https://pypi.org/simple\n",
      "2019-03-13 09:25:42,129 [24560] INFO     thoth.adviser.python.dependency_graph:651: \t'0.18' from https://pypi.org/simple\n",
      "2019-03-13 09:25:42,134 [24560] INFO     thoth.adviser.python.dependency_graph:651: \t'0.19' from https://pypi.org/simple\n",
      "2019-03-13 09:25:42,135 [24560] INFO     thoth.adviser.python.dependency_graph:651: \t'0.20' from https://pypi.org/simple\n",
      "2019-03-13 09:25:42,136 [24560] INFO     thoth.adviser.python.dependency_graph:651: \t'0.21' from https://pypi.org/simple\n",
      "2019-03-13 09:25:42,138 [24560] INFO     thoth.adviser.python.dependency_graph:651: \t'0.22' from https://pypi.org/simple\n",
      "2019-03-13 09:25:42,139 [24560] INFO     thoth.adviser.python.dependency_graph:651: \t'0.23' from https://pypi.org/simple\n",
      "2019-03-13 09:25:42,140 [24560] INFO     thoth.adviser.python.dependency_graph:651: \t'1.0' from https://pypi.org/simple\n",
      "2019-03-13 09:25:42,142 [24560] INFO     thoth.adviser.python.dependency_graph:651: \t'1.1.0' from https://pypi.org/simple\n",
      "2019-03-13 09:25:42,144 [24560] INFO     thoth.adviser.python.dependency_graph:651: \t'1.1.1' from https://pypi.org/simple\n",
      "2019-03-13 09:25:42,152 [24560] INFO     thoth.adviser.python.dependency_graph:639: Package 'itsdangerous': 5\n",
      "2019-03-13 09:25:42,158 [24560] INFO     thoth.adviser.python.dependency_graph:651: \t'0.21' from https://pypi.org/simple\n",
      "2019-03-13 09:25:42,160 [24560] INFO     thoth.adviser.python.dependency_graph:651: \t'0.22' from https://pypi.org/simple\n",
      "2019-03-13 09:25:42,162 [24560] INFO     thoth.adviser.python.dependency_graph:651: \t'0.23' from https://pypi.org/simple\n",
      "2019-03-13 09:25:42,163 [24560] INFO     thoth.adviser.python.dependency_graph:651: \t'0.24' from https://pypi.org/simple\n",
      "2019-03-13 09:25:42,164 [24560] INFO     thoth.adviser.python.dependency_graph:651: \t'1.1.0' from https://pypi.org/simple\n",
      "2019-03-13 09:25:42,165 [24560] INFO     thoth.adviser.python.dependency_graph:639: Package 'click': 24\n",
      "2019-03-13 09:25:42,166 [24560] INFO     thoth.adviser.python.dependency_graph:651: \t'2.0' from https://pypi.org/simple\n",
      "2019-03-13 09:25:42,167 [24560] INFO     thoth.adviser.python.dependency_graph:651: \t'2.1' from https://pypi.org/simple\n",
      "2019-03-13 09:25:42,168 [24560] INFO     thoth.adviser.python.dependency_graph:651: \t'2.2' from https://pypi.org/simple\n",
      "2019-03-13 09:25:42,169 [24560] INFO     thoth.adviser.python.dependency_graph:651: \t'2.3' from https://pypi.org/simple\n",
      "2019-03-13 09:25:42,171 [24560] INFO     thoth.adviser.python.dependency_graph:651: \t'2.4' from https://pypi.org/simple\n",
      "2019-03-13 09:25:42,175 [24560] INFO     thoth.adviser.python.dependency_graph:651: \t'2.5' from https://pypi.org/simple\n",
      "2019-03-13 09:25:42,180 [24560] INFO     thoth.adviser.python.dependency_graph:651: \t'2.6' from https://pypi.org/simple\n",
      "2019-03-13 09:25:42,181 [24560] INFO     thoth.adviser.python.dependency_graph:651: \t'3.0' from https://pypi.org/simple\n",
      "2019-03-13 09:25:42,182 [24560] INFO     thoth.adviser.python.dependency_graph:651: \t'3.1' from https://pypi.org/simple\n",
      "2019-03-13 09:25:42,183 [24560] INFO     thoth.adviser.python.dependency_graph:651: \t'3.2' from https://pypi.org/simple\n",
      "2019-03-13 09:25:42,184 [24560] INFO     thoth.adviser.python.dependency_graph:651: \t'3.3' from https://pypi.org/simple\n"
     ]
    },
    {
     "name": "stderr",
     "output_type": "stream",
     "text": [
      "2019-03-13 09:25:42,185 [24560] INFO     thoth.adviser.python.dependency_graph:651: \t'4.0' from https://pypi.org/simple\n",
      "2019-03-13 09:25:42,186 [24560] INFO     thoth.adviser.python.dependency_graph:651: \t'4.1' from https://pypi.org/simple\n",
      "2019-03-13 09:25:42,187 [24560] INFO     thoth.adviser.python.dependency_graph:651: \t'5.0' from https://pypi.org/simple\n",
      "2019-03-13 09:25:42,188 [24560] INFO     thoth.adviser.python.dependency_graph:651: \t'5.1' from https://pypi.org/simple\n",
      "2019-03-13 09:25:42,189 [24560] INFO     thoth.adviser.python.dependency_graph:651: \t'6.0' from https://pypi.org/simple\n",
      "2019-03-13 09:25:42,190 [24560] INFO     thoth.adviser.python.dependency_graph:651: \t'6.1' from https://pypi.org/simple\n",
      "2019-03-13 09:25:42,195 [24560] INFO     thoth.adviser.python.dependency_graph:651: \t'6.2' from https://pypi.org/simple\n",
      "2019-03-13 09:25:42,199 [24560] INFO     thoth.adviser.python.dependency_graph:651: \t'6.3' from https://pypi.org/simple\n",
      "2019-03-13 09:25:42,200 [24560] INFO     thoth.adviser.python.dependency_graph:651: \t'6.4' from https://pypi.org/simple\n",
      "2019-03-13 09:25:42,201 [24560] INFO     thoth.adviser.python.dependency_graph:651: \t'6.5' from https://pypi.org/simple\n",
      "2019-03-13 09:25:42,202 [24560] INFO     thoth.adviser.python.dependency_graph:651: \t'6.6' from https://pypi.org/simple\n",
      "2019-03-13 09:25:42,204 [24560] INFO     thoth.adviser.python.dependency_graph:651: \t'6.7' from https://pypi.org/simple\n",
      "2019-03-13 09:25:42,205 [24560] INFO     thoth.adviser.python.dependency_graph:651: \t'7.0' from https://pypi.org/simple\n",
      "2019-03-13 09:25:42,250 [24560] DEBUG    thoth.adviser.python.bin.dependency_graph:185: Reading from pipe, item size: 4\n",
      "2019-03-13 09:25:42,247 [24602] INFO     thoth.adviser.python.bin.dependency_graph:132: Starting stack producer from '/home/fpokorny/github.com/thoth-station/adviser/thoth/adviser/python/bin/libdependency_graph.so' library...\n",
      "2019-03-13 09:25:42,276 [24602] DEBUG    thoth.adviser.python.bin.dependency_graph:152: Calling dependency graph constructor\n",
      "2019-03-13 09:25:42,286 [24602] DEBUG    thoth.adviser.python.bin.dependency_graph:153: Dependencies list size: 1589\n",
      "2019-03-13 09:25:42,298 [24602] DEBUG    thoth.adviser.python.bin.dependency_graph:154: Number of direct dependencies: 19\n",
      "2019-03-13 09:25:42,312 [24602] DEBUG    thoth.adviser.python.bin.dependency_graph:155: Total number of packages considered: 132\n",
      "2019-03-13 09:25:42,329 [24602] DEBUG    thoth.adviser.python.bin.dependency_graph:165: Starting dependency graph walk...\n",
      "2019-03-13 09:25:42,847 [24560] DEBUG    thoth.adviser.python.bin.dependency_graph:195: Reached stack delimiter, yielding stack\n",
      "2019-03-13 09:25:42,857 [24560] INFO     thoth.adviser.python.dependency_graph:744: Found a new stack, asking decision function for inclusion\n",
      "2019-03-13 09:25:42,858 [24560] INFO     thoth.adviser.python.dependency_graph:750: Decision function included the computed stack - result was 1.0\n",
      "2019-03-13 09:25:42,866 [24560] INFO     thoth.adviser.python.advise:111: Reached graph traversal limit (1), stopping dependency graph traversal\n",
      "2019-03-13 09:25:42,869 [24560] INFO     thoth.adviser.python.advise:118: Scored 1 stacks in total\n",
      "2019-03-13 09:25:42,870 [24560] INFO     thoth.adviser.python.advise:125: Filling package digests to software stacks\n",
      "2019-03-13 09:25:42,882 [24560] WARNING  thoth.adviser.python.helpers:110: No hashes found for package 'flask' in version '0.12.4' from index 'https://pypi.org/simple'\n",
      "2019-03-13 09:25:42,894 [24560] WARNING  thoth.adviser.python.helpers:110: No hashes found for package 'werkzeug' in version '0.14.1' from index 'https://pypi.org/simple'\n",
      "2019-03-13 09:25:42,904 [24560] WARNING  thoth.adviser.python.helpers:110: No hashes found for package 'jinja2' in version '2.10' from index 'https://pypi.org/simple'\n",
      "2019-03-13 09:25:42,917 [24560] WARNING  thoth.adviser.python.helpers:110: No hashes found for package 'markupsafe' in version '1.1.1' from index 'https://pypi.org/simple'\n",
      "2019-03-13 09:25:42,931 [24560] WARNING  thoth.adviser.python.helpers:110: No hashes found for package 'itsdangerous' in version '1.1.0' from index 'https://pypi.org/simple'\n",
      "2019-03-13 09:25:42,943 [24560] WARNING  thoth.adviser.python.helpers:110: No hashes found for package 'click' in version '7.0' from index 'https://pypi.org/simple'\n"
     ]
    },
    {
     "name": "stdout",
     "output_type": "stream",
     "text": [
      "CPU times: user 5.11 s, sys: 207 ms, total: 5.32 s\n",
      "Wall time: 7.5 s\n"
     ]
    }
   ],
   "source": [
    "%%time\n",
    "%env THOTH_ADVISER_SHOW_PACKAGES=1\n",
    "\n",
    "import logging\n",
    "\n",
    "from thoth.common import init_logging\n",
    "from thoth.adviser.python import Adviser\n",
    "from thoth.adviser.enums import RecommendationType\n",
    "\n",
    "# Adjust to DEBUG for more verbose output.\n",
    "logging.getLogger(\"thoth.adviser\").setLevel(logging.INFO)\n",
    "\n",
    "stack_info, advised_configuration, report = Adviser.compute_on_project(\n",
    "    project,\n",
    "    recommendation_type=RecommendationType.LATEST,\n",
    "    count=1,\n",
    "    limit=1,\n",
    "    dry_run=False,\n",
    "    graph=graph\n",
    ")"
   ]
  },
  {
   "cell_type": "markdown",
   "metadata": {},
   "source": [
    "After the above call, there are present two variables `stack_info` and `report`. The stack info hods some generic reports for the provided stack (such as warnings on wrong conifiguration, warnings on direct dependencies stated and so). In this demo, we will focus more on report. The report of adviser output is a list of stacks with some additional guidenance/information or justification why a user should use the computed stack.\n",
    "\n",
    "Each entry in report is a tuple made of two items - justification (a list of reports and information about the computed stack) and the generated stack in a form of direct dependencies as well as generated lockfile (in this case this output is serialized into `Pipfile` and `Pipfile.lock`, but later there can be supported other output formats as stated above - like `pyproject.toml`)."
   ]
  },
  {
   "cell_type": "code",
   "execution_count": 12,
   "metadata": {},
   "outputs": [
    {
     "data": {
      "text/plain": [
       "{'requirements': {'packages': {'daiquiri': '*', 'flask': '<=0.12.4'},\n",
       "  'dev-packages': {},\n",
       "  'source': [{'url': 'https://pypi.org/simple',\n",
       "    'verify_ssl': True,\n",
       "    'name': 'pypi-org'}],\n",
       "  'requires': {'python_version': '3.6'}},\n",
       " 'requirements_locked': {'_meta': {'sources': [{'url': 'https://pypi.org/simple',\n",
       "     'verify_ssl': True,\n",
       "     'name': 'pypi-org'}],\n",
       "   'requires': {'python_version': '3.6'},\n",
       "   'hash': {'sha256': '09e4195b3fc6e06bd5ba3a9a641b6bd3e3b036256850507e18e37aaf7294f148'},\n",
       "   'pipfile-spec': 6},\n",
       "  'default': {'flask': {'version': '==0.12.4',\n",
       "    'hashes': [],\n",
       "    'index': 'pypi-org'},\n",
       "   'werkzeug': {'version': '==0.14.1', 'hashes': [], 'index': 'pypi-org'},\n",
       "   'jinja2': {'version': '==2.10', 'hashes': [], 'index': 'pypi-org'},\n",
       "   'markupsafe': {'version': '==1.1.1', 'hashes': [], 'index': 'pypi-org'},\n",
       "   'itsdangerous': {'version': '==1.1.0', 'hashes': [], 'index': 'pypi-org'},\n",
       "   'click': {'version': '==7.0', 'hashes': [], 'index': 'pypi-org'}},\n",
       "  'develop': {}}}"
      ]
     },
     "execution_count": 12,
     "metadata": {},
     "output_type": "execute_result"
    }
   ],
   "source": [
    "from pprint import pprint\n",
    "\n",
    "project = report[0][1]\n",
    "project.to_dict()"
   ]
  },
  {
   "cell_type": "markdown",
   "metadata": {},
   "source": [
    "And advised Thoth's configuration changes by Thoth himself (add entry `python_version` to runtime environment):"
   ]
  },
  {
   "cell_type": "code",
   "execution_count": 13,
   "metadata": {},
   "outputs": [
    {
     "data": {
      "text/plain": [
       "{'python_version': '3.6'}"
      ]
     },
     "execution_count": 13,
     "metadata": {},
     "output_type": "execute_result"
    }
   ],
   "source": [
    "advised_configuration"
   ]
  },
  {
   "cell_type": "markdown",
   "metadata": {},
   "source": [
    "Having the result wrapped in the `Project` instance conforms to good API design practices and we can provide guidenance not only on locked dependencies, but also on direct dependencies and additional configuration as provided in appropriate files (`Pipfile` in this case).\n",
    "\n",
    "You can try generated stack by placing `Pipfile` and `Pipfile.lock` files into a directory [running a Flask application](https://github.com/thoth-station/thamos/blob/master/examples/lockdown/hello.py)."
   ]
  },
  {
   "cell_type": "code",
   "execution_count": 14,
   "metadata": {},
   "outputs": [
    {
     "name": "stdout",
     "output_type": "stream",
     "text": [
      "[packages]\n",
      "daiquiri = \"*\"\n",
      "flask = \"<=0.12.4\"\n",
      "\n",
      "[dev-packages]\n",
      "\n",
      "[[source]]\n",
      "url = \"https://pypi.org/simple\"\n",
      "verify_ssl = true\n",
      "name = \"pypi-org\"\n",
      "\n",
      "[requires]\n",
      "python_version = \"3.6\"\n",
      "\n",
      "\n"
     ]
    }
   ],
   "source": [
    "# Pipfile\n",
    "\n",
    "print(project.pipfile.to_string())"
   ]
  },
  {
   "cell_type": "code",
   "execution_count": 15,
   "metadata": {},
   "outputs": [
    {
     "name": "stdout",
     "output_type": "stream",
     "text": [
      "{\n",
      "    \"_meta\": {\n",
      "        \"hash\": {\n",
      "            \"sha256\": \"09e4195b3fc6e06bd5ba3a9a641b6bd3e3b036256850507e18e37aaf7294f148\"\n",
      "        },\n",
      "        \"pipfile-spec\": 6,\n",
      "        \"requires\": {\n",
      "            \"python_version\": \"3.6\"\n",
      "        },\n",
      "        \"sources\": [\n",
      "            {\n",
      "                \"name\": \"pypi-org\",\n",
      "                \"url\": \"https://pypi.org/simple\",\n",
      "                \"verify_ssl\": true\n",
      "            }\n",
      "        ]\n",
      "    },\n",
      "    \"default\": {\n",
      "        \"click\": {\n",
      "            \"hashes\": [],\n",
      "            \"index\": \"pypi-org\",\n",
      "            \"version\": \"==7.0\"\n",
      "        },\n",
      "        \"flask\": {\n",
      "            \"hashes\": [],\n",
      "            \"index\": \"pypi-org\",\n",
      "            \"version\": \"==0.12.4\"\n",
      "        },\n",
      "        \"itsdangerous\": {\n",
      "            \"hashes\": [],\n",
      "            \"index\": \"pypi-org\",\n",
      "            \"version\": \"==1.1.0\"\n",
      "        },\n",
      "        \"jinja2\": {\n",
      "            \"hashes\": [],\n",
      "            \"index\": \"pypi-org\",\n",
      "            \"version\": \"==2.10\"\n",
      "        },\n",
      "        \"markupsafe\": {\n",
      "            \"hashes\": [],\n",
      "            \"index\": \"pypi-org\",\n",
      "            \"version\": \"==1.1.1\"\n",
      "        },\n",
      "        \"werkzeug\": {\n",
      "            \"hashes\": [],\n",
      "            \"index\": \"pypi-org\",\n",
      "            \"version\": \"==0.14.1\"\n",
      "        }\n",
      "    },\n",
      "    \"develop\": {}\n",
      "}\n",
      "\n"
     ]
    }
   ],
   "source": [
    "# Pipfile.lock\n",
    "\n",
    "print(project.pipfile_lock.to_string())"
   ]
  },
  {
   "cell_type": "markdown",
   "metadata": {},
   "source": [
    "Now, let's print our justification - score of stack and stack number. Thoth generates stacks from the latest first (at least tries to do that, this is not easy to accomplish given the computation restrictions we have so a simple heuristic is used). "
   ]
  },
  {
   "cell_type": "code",
   "execution_count": 16,
   "metadata": {},
   "outputs": [
    {
     "data": {
      "text/plain": [
       "[{'Latest stack': 1}, {'score': 1.0}]"
      ]
     },
     "execution_count": 16,
     "metadata": {},
     "output_type": "execute_result"
    }
   ],
   "source": [
    "report[0][0]"
   ]
  },
  {
   "cell_type": "markdown",
   "metadata": {},
   "source": [
    "Feel free to experiment with additional configuration options, e.g.:"
   ]
  },
  {
   "cell_type": "code",
   "execution_count": 17,
   "metadata": {},
   "outputs": [
    {
     "data": {
      "text/plain": [
       "['STABLE', 'TESTING', 'LATEST']"
      ]
     },
     "execution_count": 17,
     "metadata": {},
     "output_type": "execute_result"
    }
   ],
   "source": [
    "# Set recommendation type to one of the following:\n",
    "\n",
    "[e.name for e in RecommendationType]"
   ]
  },
  {
   "cell_type": "code",
   "execution_count": 18,
   "metadata": {},
   "outputs": [
    {
     "data": {
      "text/plain": [
       "{'hardware': {'cpu_family': None, 'cpu_model': None},\n",
       " 'operating_system': {'name': None, 'version': None},\n",
       " 'python_version': None,\n",
       " 'cuda_version': None,\n",
       " 'name': None}"
      ]
     },
     "execution_count": 18,
     "metadata": {},
     "output_type": "execute_result"
    }
   ],
   "source": [
    "# Adjust runtime specific information (e.g. provide CPU, CUDA information, ...)\n",
    "\n",
    "RuntimeEnvironment.from_dict({}).to_dict(without_none=False)"
   ]
  },
  {
   "cell_type": "code",
   "execution_count": 19,
   "metadata": {},
   "outputs": [
    {
     "data": {
      "text/plain": [
       "{'requirements': {'packages': {'daiquiri': '*', 'flask': '*'},\n",
       "  'dev-packages': {},\n",
       "  'source': [{'url': 'https://pypi.org/simple',\n",
       "    'verify_ssl': True,\n",
       "    'name': 'pypi'}],\n",
       "  'requires': {'python_version': '3.6'}},\n",
       " 'requirements_locked': None}"
      ]
     },
     "execution_count": 19,
     "metadata": {},
     "output_type": "execute_result"
    }
   ],
   "source": [
    "# Adjust version ranges of Python packages being installed. These versions are resolved using\n",
    "# pip's internal algorithm, so anything which is compatible with PEP-440 (and Pipfile compatible\n",
    "# for Pipfile inputs) works out of box. Note this resolution is not done by installing\n",
    "# dependencies (as in case of Pip/Pipenv), but there is implemented resolver on top of\n",
    "# graph database which can resolve dependencies much faster as all the data are pre-computed.\n",
    "\n",
    "PIPFILE_STR = \"\"\"\n",
    "\n",
    "[[source]]\n",
    "url = \"https://pypi.org/simple\"\n",
    "verify_ssl = true\n",
    "name = \"pypi\"\n",
    "\n",
    "[packages]\n",
    "daiquiri = \"*\"\n",
    "# Any flask version:\n",
    "flask = \"*\"\n",
    "\n",
    "[requires]\n",
    "python_version = \"3.6\"\n",
    "\"\"\"\n",
    "\n",
    "Project.from_strings(PIPFILE_STR).to_dict()\n",
    "\n",
    "# Mind dependencies resolved in solver run, unknown dependencies to Thoth, obviusly, cannot be resolved by Thoth."
   ]
  },
  {
   "cell_type": "markdown",
   "metadata": {},
   "source": [
    "Parameter `count` limits number of stacks provided in the output, parameter `limit` limits numbef of stacks scored in total.\n",
    "\n",
    "All of the above can be accomplished using Thamos CLI (as the above is more in-depth description what Thoth does on lower level). From user's perspective a user just installs `Thamos`, adjusts configuration via `thamos config` (automatic discovery of available hardware is performed) and issues `thamos advise`. All of the above is transparent to the user, the report is shown in a well formatted table. [Follow instructions in Thamos repository to make this happen](https://github.com/thoth-station/thamos/tree/master/examples/lockdown)."
   ]
  },
  {
   "cell_type": "markdown",
   "metadata": {},
   "source": [
    "Happy hacking! ;-)"
   ]
  },
  {
   "cell_type": "code",
   "execution_count": 20,
   "metadata": {},
   "outputs": [
    {
     "name": "stderr",
     "output_type": "stream",
     "text": [
      "2019-03-13 09:25:44,658 [24560] INFO     root:126: Logging to a Sentry instance is turned off\n",
      "2019-03-13 09:25:44,660 [24560] INFO     root:148: Logging to rsyslog endpoint is turned off\n"
     ]
    },
    {
     "data": {
      "text/html": [
       "<div>\n",
       "<style scoped>\n",
       "    .dataframe tbody tr th:only-of-type {\n",
       "        vertical-align: middle;\n",
       "    }\n",
       "\n",
       "    .dataframe tbody tr th {\n",
       "        vertical-align: top;\n",
       "    }\n",
       "\n",
       "    .dataframe thead th {\n",
       "        text-align: right;\n",
       "    }\n",
       "</style>\n",
       "<table border=\"1\" class=\"dataframe\">\n",
       "  <thead>\n",
       "    <tr style=\"text-align: right;\">\n",
       "      <th></th>\n",
       "      <th>package</th>\n",
       "      <th>version</th>\n",
       "      <th>importable</th>\n",
       "    </tr>\n",
       "  </thead>\n",
       "  <tbody>\n",
       "    <tr>\n",
       "      <th>0</th>\n",
       "      <td>thoth.adviser</td>\n",
       "      <td>0.3.0</td>\n",
       "      <td>True</td>\n",
       "    </tr>\n",
       "    <tr>\n",
       "      <th>1</th>\n",
       "      <td>thoth.analyzer</td>\n",
       "      <td>0.1.2</td>\n",
       "      <td>True</td>\n",
       "    </tr>\n",
       "    <tr>\n",
       "      <th>2</th>\n",
       "      <td>thoth.common</td>\n",
       "      <td>0.7.1</td>\n",
       "      <td>True</td>\n",
       "    </tr>\n",
       "    <tr>\n",
       "      <th>3</th>\n",
       "      <td>thoth.lab</td>\n",
       "      <td>0.0.3</td>\n",
       "      <td>True</td>\n",
       "    </tr>\n",
       "    <tr>\n",
       "      <th>4</th>\n",
       "      <td>thoth.package_extract</td>\n",
       "      <td>1.0.1</td>\n",
       "      <td>True</td>\n",
       "    </tr>\n",
       "    <tr>\n",
       "      <th>5</th>\n",
       "      <td>thoth.python</td>\n",
       "      <td>0.4.6</td>\n",
       "      <td>True</td>\n",
       "    </tr>\n",
       "    <tr>\n",
       "      <th>6</th>\n",
       "      <td>thoth.solver</td>\n",
       "      <td>1.1.0</td>\n",
       "      <td>True</td>\n",
       "    </tr>\n",
       "    <tr>\n",
       "      <th>7</th>\n",
       "      <td>thoth.storages</td>\n",
       "      <td>0.9.6</td>\n",
       "      <td>True</td>\n",
       "    </tr>\n",
       "    <tr>\n",
       "      <th>8</th>\n",
       "      <td>thoth.worker</td>\n",
       "      <td>0.0.2</td>\n",
       "      <td>True</td>\n",
       "    </tr>\n",
       "  </tbody>\n",
       "</table>\n",
       "</div>"
      ],
      "text/plain": [
       "                 package version  importable\n",
       "0          thoth.adviser   0.3.0        True\n",
       "1         thoth.analyzer   0.1.2        True\n",
       "2           thoth.common   0.7.1        True\n",
       "3              thoth.lab   0.0.3        True\n",
       "4  thoth.package_extract   1.0.1        True\n",
       "5           thoth.python   0.4.6        True\n",
       "6           thoth.solver   1.1.0        True\n",
       "7         thoth.storages   0.9.6        True\n",
       "8           thoth.worker   0.0.2        True"
      ]
     },
     "execution_count": 20,
     "metadata": {},
     "output_type": "execute_result"
    }
   ],
   "source": [
    "from thoth.lab import packages_info\n",
    "\n",
    "# Let's state Thoth's package versions for reproducible next runs of this Jupyter Notebook.\n",
    "packages_info()"
   ]
  }
 ],
 "metadata": {
  "hide_input": false,
  "kernelspec": {
   "display_name": "Python 3",
   "language": "python",
   "name": "python3"
  },
  "language_info": {
   "codemirror_mode": {
    "name": "ipython",
    "version": 3
   },
   "file_extension": ".py",
   "mimetype": "text/x-python",
   "name": "python",
   "nbconvert_exporter": "python",
   "pygments_lexer": "ipython3",
   "version": "3.6.8"
  },
  "varInspector": {
   "cols": {
    "lenName": 16,
    "lenType": 16,
    "lenVar": 40
   },
   "kernels_config": {
    "python": {
     "delete_cmd_postfix": "",
     "delete_cmd_prefix": "del ",
     "library": "var_list.py",
     "varRefreshCmd": "print(var_dic_list())"
    },
    "r": {
     "delete_cmd_postfix": ") ",
     "delete_cmd_prefix": "rm(",
     "library": "var_list.r",
     "varRefreshCmd": "cat(var_dic_list()) "
    }
   },
   "types_to_exclude": [
    "module",
    "function",
    "builtin_function_or_method",
    "instance",
    "_Feature"
   ],
   "window_display": false
  }
 },
 "nbformat": 4,
 "nbformat_minor": 2
}
