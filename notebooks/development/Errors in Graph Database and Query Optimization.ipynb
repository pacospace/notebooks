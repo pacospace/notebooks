{
 "cells": [
  {
   "cell_type": "markdown",
   "metadata": {
    "toc": true
   },
   "source": [
    "<h1>Table of Contents<span class=\"tocSkip\"></span></h1>\n",
    "<div class=\"toc\"><ul class=\"toc-item\"><li><span><a href=\"#Graph-Database-Error\" data-toc-modified-id=\"Graph-Database-Error-1\"><span class=\"toc-item-num\">1&nbsp;&nbsp;</span>Graph Database Error</a></span><ul class=\"toc-item\"><li><span><a href=\"#Package_name-error-in-package-vertex-instances-because-of-RPM-error\" data-toc-modified-id=\"Package_name-error-in-package-vertex-instances-because-of-RPM-error-1.1\"><span class=\"toc-item-num\">1.1&nbsp;&nbsp;</span>Package_name error in package vertex instances because of RPM error</a></span></li><li><span><a href=\"#Number-of-total-vertex-instances-and-sum-of-total-vertex-instances-for-each-vertex-label-is-not-the-same\" data-toc-modified-id=\"Number-of-total-vertex-instances-and-sum-of-total-vertex-instances-for-each-vertex-label-is-not-the-same-1.2\"><span class=\"toc-item-num\">1.2&nbsp;&nbsp;</span>Number of total vertex instances and sum of total vertex instances for each vertex label is not the same</a></span></li><li><span><a href=\"#Duplicates-of-packages-version-which-leads-to-more-has_artifact-edges-respect-to-the-number-of-artifacts\" data-toc-modified-id=\"Duplicates-of-packages-version-which-leads-to-more-has_artifact-edges-respect-to-the-number-of-artifacts-1.3\"><span class=\"toc-item-num\">1.3&nbsp;&nbsp;</span>Duplicates of packages version which leads to more has_artifact edges respect to the number of artifacts</a></span></li><li><span><a href=\"#There-is-one-python-package-version-without-url_index-(maybe-it-is-also-the-missing-vertex-error-1.2)\" data-toc-modified-id=\"There-is-one-python-package-version-without-url_index-(maybe-it-is-also-the-missing-vertex-error-1.2)-1.4\"><span class=\"toc-item-num\">1.4&nbsp;&nbsp;</span>There is one python package version without url_index (maybe it is also the missing vertex error 1.2)</a></span></li><li><span><a href=\"#Why-RPM-packages-don't-have-url_index-yet?\" data-toc-modified-id=\"Why-RPM-packages-don't-have-url_index-yet?-1.5\"><span class=\"toc-item-num\">1.5&nbsp;&nbsp;</span>Why RPM packages don't have url_index yet?</a></span></li></ul></li><li><span><a href=\"#Query-Optimization\" data-toc-modified-id=\"Query-Optimization-2\"><span class=\"toc-item-num\">2&nbsp;&nbsp;</span>Query Optimization</a></span><ul class=\"toc-item\"><li><span><a href=\"#Analyze-get_error_python_packages_count(self,-unsolvable:-bool-=-False,-unparsable:-bool-=-False)\" data-toc-modified-id=\"Analyze-get_error_python_packages_count(self,-unsolvable:-bool-=-False,-unparsable:-bool-=-False)-2.1\"><span class=\"toc-item-num\">2.1&nbsp;&nbsp;</span>Analyze get_error_python_packages_count(self, unsolvable: bool = False, unparsable: bool = False)</a></span></li><li><span><a href=\"#Analyze-get_solver_documents_count(self)\" data-toc-modified-id=\"Analyze-get_solver_documents_count(self)-2.2\"><span class=\"toc-item-num\">2.2&nbsp;&nbsp;</span>Analyze get_solver_documents_count(self)</a></span></li><li><span><a href=\"#Analyze-get_analyzer_documents_count(self)\" data-toc-modified-id=\"Analyze-get_analyzer_documents_count(self)-2.3\"><span class=\"toc-item-num\">2.3&nbsp;&nbsp;</span>Analyze get_analyzer_documents_count(self)</a></span></li></ul></li></ul></div>"
   ]
  },
  {
   "cell_type": "code",
   "execution_count": 1,
   "metadata": {
    "ExecuteTime": {
     "end_time": "2019-04-08T15:58:10.590303Z",
     "start_time": "2019-04-08T15:58:09.487334Z"
    }
   },
   "outputs": [],
   "source": [
    "from thoth.storages.graph import GraphDatabase\n",
    "from thoth.lab import GraphQueryResult as gqr\n",
    "\n",
    "graph_db = GraphDatabase.create('janusgraph.test.thoth-station.ninja', port=8182)\n",
    "graph_db.connect()\n",
    "g = graph_db.g   # We will use raw Gremlin traversal in examples."
   ]
  },
  {
   "cell_type": "code",
   "execution_count": 2,
   "metadata": {
    "ExecuteTime": {
     "end_time": "2019-04-08T15:58:11.656028Z",
     "start_time": "2019-04-08T15:58:11.337489Z"
    }
   },
   "outputs": [],
   "source": [
    "import pandas as pd\n",
    "from pprint import pprint\n",
    "from thoth.solver import pip_compile\n",
    "from thoth.storages.graph.models import ALL_MODELS\n",
    "from gremlin_python.process.graph_traversal import has\n",
    "from gremlin_python.process.traversal import Operator\n",
    "from gremlin_python.process.traversal import Pop\n",
    "from gremlin_python.process.traversal import not_\n",
    "from gremlin_python.process.traversal import P\n",
    "from gremlin_python.process.graph_traversal import identity\n",
    "from gremlin_python.process.graph_traversal import path\n",
    "from gremlin_python.process.graph_traversal import outE\n",
    "from gremlin_python.process.graph_traversal import out\n",
    "from gremlin_python.process.graph_traversal import inE\n",
    "from gremlin_python.process.graph_traversal import inV\n",
    "from gremlin_python.process.graph_traversal import select\n",
    "from gremlin_python.process.graph_traversal import values\n",
    "from gremlin_python.process.graph_traversal import fold\n",
    "from gremlin_python.process.graph_traversal import constant\n",
    "from gremlin_python.process.graph_traversal import project"
   ]
  },
  {
   "cell_type": "markdown",
   "metadata": {},
   "source": [
    "# Graph Database Error"
   ]
  },
  {
   "cell_type": "markdown",
   "metadata": {},
   "source": [
    "## Package_name error in package vertex instances because of RPM error"
   ]
  },
  {
   "cell_type": "code",
   "execution_count": null,
   "metadata": {},
   "outputs": [],
   "source": [
    "packages_vector_all = gqr(g.V().has('__label__', 'package').groupCount().by(\"package_name\").next()).result"
   ]
  },
  {
   "cell_type": "markdown",
   "metadata": {},
   "source": [
    "## Number of total vertex instances and sum of total vertex instances for each vertex label is not the same"
   ]
  },
  {
   "cell_type": "code",
   "execution_count": null,
   "metadata": {},
   "outputs": [],
   "source": [
    "#Take ids of vertices instances for each label\n",
    "vertices_ids_per_label = gqr(g.V().has(\"__label__\").group().by(\"__label__\").next()).result"
   ]
  },
  {
   "cell_type": "code",
   "execution_count": null,
   "metadata": {},
   "outputs": [],
   "source": [
    "vertices_ids_total = gqr(g.V().has(\"__label__\").valueMap(True).next()).result\n",
    "print(vertices_ids_total)"
   ]
  },
  {
   "cell_type": "code",
   "execution_count": null,
   "metadata": {},
   "outputs": [],
   "source": [
    "print(vertices_ids_per_label)"
   ]
  },
  {
   "cell_type": "markdown",
   "metadata": {
    "ExecuteTime": {
     "end_time": "2019-04-08T16:23:22.388528Z",
     "start_time": "2019-04-08T16:23:22.386074Z"
    }
   },
   "source": [
    "## Duplicates of packages version which leads to more has_artifact edges respect to the number of artifacts"
   ]
  },
  {
   "cell_type": "markdown",
   "metadata": {},
   "source": [
    "## There is one python package version without url_index (maybe it is also the missing vertex error 1.2)"
   ]
  },
  {
   "cell_type": "markdown",
   "metadata": {},
   "source": [
    "## Why RPM packages don't have url_index yet?"
   ]
  },
  {
   "cell_type": "markdown",
   "metadata": {
    "ExecuteTime": {
     "end_time": "2019-04-08T15:50:03.922956Z",
     "start_time": "2019-04-08T15:50:03.915398Z"
    }
   },
   "source": [
    "# Query Optimization"
   ]
  },
  {
   "cell_type": "markdown",
   "metadata": {},
   "source": [
    "## Analyze get_error_python_packages_count(self, unsolvable: bool = False, unparsable: bool = False)"
   ]
  },
  {
   "cell_type": "markdown",
   "metadata": {},
   "source": [
    "     def get_error_python_packages_count(self, unsolvable: bool = False, unparsable: bool = False) -> int:\n",
    "        \"\"\"Retrieve number of Python packages stored in the graph database with error flag.\"\"\"\n",
    "        if unsolvable and unparsable:\n",
    "            raise ValueError(\"Properties unsolvable and unparsable are disjoin\")\n",
    "\n",
    "        query = (\n",
    "            self.g.E()\n",
    "            .has(\"__label__\", Solved.__label__)\n",
    "            .has(\"__type__\", \"edge\")\n",
    "            .has(\"solver_document_id\")\n",
    "            .has(\"solver_datetime\")\n",
    "            .has(\"solver_error\", True)\n",
    "            .has(\"solver_error_unsolvable\", unsolvable)\n",
    "            .has(\"solver_error_unparsable\", unparsable)\n",
    "            .inV()\n",
    "            .has(\"__label__\", PythonPackageVersion.__label__)\n",
    "            .has(\"__type__\", \"vertex\")\n",
    "            .has(\"ecosystem\", \"pypi\")\n",
    "            .has(\"package_name\")\n",
    "            .has(\"package_version\")\n",
    "            .dedup()\n",
    "            .count()\n",
    "            .next()\n",
    "        )\n",
    "\n",
    "        return asyncio.get_event_loop().run_until_complete(query)"
   ]
  },
  {
   "cell_type": "code",
   "execution_count": 3,
   "metadata": {
    "ExecuteTime": {
     "end_time": "2019-04-08T16:00:20.341721Z",
     "start_time": "2019-04-08T15:58:50.418401Z"
    }
   },
   "outputs": [
    {
     "data": {
      "text/plain": [
       "3601"
      ]
     },
     "execution_count": 3,
     "metadata": {},
     "output_type": "execute_result"
    }
   ],
   "source": [
    "graph_db.get_error_python_packages_count(unsolvable=True)"
   ]
  },
  {
   "cell_type": "code",
   "execution_count": 27,
   "metadata": {
    "ExecuteTime": {
     "end_time": "2019-04-08T16:38:53.616069Z",
     "start_time": "2019-04-08T16:37:25.271570Z"
    }
   },
   "outputs": [
    {
     "data": {
      "text/plain": [
       "3601"
      ]
     },
     "execution_count": 27,
     "metadata": {},
     "output_type": "execute_result"
    }
   ],
   "source": [
    "gqr(g.E()\n",
    "    .has(\"__type__\", \"edge\")\n",
    "    .has(\"__label__\", \"solved\")\n",
    "    .has(\"solver_datetime\")\n",
    "    .has(\"solver_document_id\")\n",
    "    .has(\"solver_error\", True)\n",
    "    .has(\"solver_error_unsolvable\", True)\n",
    "    .inV()\n",
    "    .has(\"__label__\", \"python_package_version\")\n",
    "    .has(\"__type__\", \"vertex\")\n",
    "    .has(\"ecosystem\", \"pypi\")\n",
    "    .has(\"package_name\")\n",
    "    .has(\"package_version\")\n",
    "    .dedup()\n",
    "    .count()\n",
    "    .next()\n",
    "   ).result"
   ]
  },
  {
   "cell_type": "code",
   "execution_count": 29,
   "metadata": {
    "ExecuteTime": {
     "end_time": "2019-04-08T16:40:51.891142Z",
     "start_time": "2019-04-08T16:40:34.913281Z"
    }
   },
   "outputs": [
    {
     "name": "stdout",
     "output_type": "stream",
     "text": [
      "CPU times: user 3.08 ms, sys: 2.04 ms, total: 5.11 ms\n",
      "Wall time: 17 s\n"
     ]
    },
    {
     "data": {
      "text/plain": [
       "3601"
      ]
     },
     "execution_count": 29,
     "metadata": {},
     "output_type": "execute_result"
    }
   ],
   "source": [
    "%%time\n",
    "gqr(g.E()\n",
    "    .has(\"__label__\", \"solved\")\n",
    "    .flatMap(\n",
    "    has(\"__type__\", \"edge\")\n",
    "    .has(\"solver_datetime\")\n",
    "    .has(\"solver_document_id\")\n",
    "    .has(\"solver_error\", True)\n",
    "    .has(\"solver_error_unsolvable\", True)\n",
    "    .inV()\n",
    "    .has(\"__label__\", \"python_package_version\")\n",
    "    .has(\"__type__\", \"vertex\")\n",
    "    .has(\"ecosystem\", \"pypi\")\n",
    "    .has(\"package_name\")\n",
    "    .has(\"package_version\")\n",
    "    )\n",
    "    .dedup()\n",
    "    .count()\n",
    "    .next()\n",
    "   ).result"
   ]
  },
  {
   "cell_type": "code",
   "execution_count": 28,
   "metadata": {
    "ExecuteTime": {
     "end_time": "2019-04-08T16:40:04.583405Z",
     "start_time": "2019-04-08T16:39:49.235741Z"
    }
   },
   "outputs": [
    {
     "name": "stdout",
     "output_type": "stream",
     "text": [
      "CPU times: user 4.75 ms, sys: 995 µs, total: 5.75 ms\n",
      "Wall time: 15.3 s\n"
     ]
    },
    {
     "data": {
      "text/plain": [
       "3601"
      ]
     },
     "execution_count": 28,
     "metadata": {},
     "output_type": "execute_result"
    }
   ],
   "source": [
    "%%time\n",
    "gqr(g.E()\n",
    "    .has(\"__label__\", \"solved\")\n",
    "    .flatMap(\n",
    "    has(\"__type__\", \"edge\")\n",
    "    )\n",
    "    .has(\"solver_datetime\")\n",
    "    .has(\"solver_document_id\")\n",
    "    .has(\"solver_error\", True)\n",
    "    .has(\"solver_error_unsolvable\", True)\n",
    "    .inV()\n",
    "    .has(\"__label__\", \"python_package_version\")\n",
    "    .has(\"__type__\", \"vertex\")\n",
    "    .has(\"ecosystem\", \"pypi\")\n",
    "    .has(\"package_name\")\n",
    "    .has(\"package_version\")\n",
    "    .dedup()\n",
    "    .count()\n",
    "    .next()\n",
    "   ).result"
   ]
  },
  {
   "cell_type": "code",
   "execution_count": 13,
   "metadata": {
    "ExecuteTime": {
     "end_time": "2019-04-08T16:24:45.107019Z",
     "start_time": "2019-04-08T16:24:32.117278Z"
    }
   },
   "outputs": [
    {
     "name": "stdout",
     "output_type": "stream",
     "text": [
      "CPU times: user 2.86 ms, sys: 3.54 ms, total: 6.4 ms\n",
      "Wall time: 13 s\n"
     ]
    },
    {
     "data": {
      "text/plain": [
       "3601"
      ]
     },
     "execution_count": 13,
     "metadata": {},
     "output_type": "execute_result"
    }
   ],
   "source": [
    "%%time\n",
    "gqr(g.E()\n",
    "    .has(\"__label__\", \"solved\")\n",
    "    .has(\"solver_datetime\")\n",
    "    .has(\"solver_document_id\")\n",
    "    .has(\"solver_error\", True)\n",
    "    .has(\"solver_error_unsolvable\", True)\n",
    "    .inV()\n",
    "    .has(\"__label__\", \"python_package_version\")\n",
    "    .has(\"__type__\", \"vertex\")\n",
    "    .has(\"ecosystem\", \"pypi\")\n",
    "    .has(\"package_name\")\n",
    "    .has(\"package_version\")\n",
    "    .dedup()\n",
    "    .count()\n",
    "    .next()\n",
    "   ).result"
   ]
  },
  {
   "cell_type": "markdown",
   "metadata": {},
   "source": [
    "## Analyze get_solver_documents_count(self)"
   ]
  },
  {
   "cell_type": "markdown",
   "metadata": {},
   "source": [
    "    def get_solver_documents_count(self) -> int:\n",
    "        \"\"\"Get number of solver documents synced into graph.\"\"\"\n",
    "        query = (\n",
    "            self.g.E()\n",
    "            .has(\"__label__\", Solved.__label__)\n",
    "            .has(\"__type__\", \"edge\")\n",
    "            .has(\"solver_document_id\")\n",
    "            .has(\"solver_datetime\")\n",
    "            .has(\"solver_error\")\n",
    "            .has(\"solver_error_unsolvable\")\n",
    "            .has(\"solver_error_unparsable\")\n",
    "            .valueMap()\n",
    "            .select(\"solver_document_id\")\n",
    "            .dedup()\n",
    "            .count()\n",
    "            .next()\n",
    "        )\n",
    "\n",
    "        return asyncio.get_event_loop().run_until_complete(query)"
   ]
  },
  {
   "cell_type": "code",
   "execution_count": 14,
   "metadata": {
    "ExecuteTime": {
     "end_time": "2019-04-08T16:26:54.747383Z",
     "start_time": "2019-04-08T16:25:14.763455Z"
    }
   },
   "outputs": [
    {
     "data": {
      "text/plain": [
       "3068"
      ]
     },
     "execution_count": 14,
     "metadata": {},
     "output_type": "execute_result"
    }
   ],
   "source": [
    "graph_db.get_solver_documents_count()"
   ]
  },
  {
   "cell_type": "code",
   "execution_count": 58,
   "metadata": {
    "ExecuteTime": {
     "end_time": "2019-04-08T17:28:03.908079Z",
     "start_time": "2019-04-08T17:26:26.421765Z"
    }
   },
   "outputs": [
    {
     "name": "stdout",
     "output_type": "stream",
     "text": [
      "TOTAL:  97267.194222\n",
      "\n",
      "dur 84653.575187\n",
      "counts {'traverserCount': 405001, 'elementCount': 405001}\n",
      "name JanusGraphStep([],[__label__.eq(solved), __type__.eq(edge)])\n",
      "annotations {'percentDur': 87.0319904507464, 'condition': '(__label__ = solved AND __type__ = edge)', 'isFitted': 'true', 'query': 'multiKSQ[1]@2147483647', 'index': 'byEdge', 'orders': '[]', 'isOrdered': 'true'}\n",
      "id 13.0.0()\n",
      "\n",
      "dur 4739.137767\n",
      "counts {'traverserCount': 405001, 'elementCount': 405001}\n",
      "name TraversalFilterStep([JanusGraphPropertiesStep([solver_datetime],value), ProfileStep])\n",
      "annotations {'percentDur': 4.872287933158143}\n",
      "id 2.0.0()\n",
      "\n",
      "dur 990.307358\n",
      "counts {'traverserCount': 405001, 'elementCount': 405001}\n",
      "name TraversalFilterStep([JanusGraphPropertiesStep([solver_document_id],value), ProfileStep])\n",
      "annotations {'percentDur': 1.018130898008376}\n",
      "id 3.0.0()\n",
      "\n",
      "dur 909.773137\n",
      "counts {'traverserCount': 405001, 'elementCount': 405001}\n",
      "name TraversalFilterStep([JanusGraphPropertiesStep([solver_error],value), ProfileStep])\n",
      "annotations {'percentDur': 0.9353339985561401}\n",
      "id 4.0.0()\n",
      "\n",
      "dur 923.77384\n",
      "counts {'traverserCount': 405001, 'elementCount': 405001}\n",
      "name TraversalFilterStep([JanusGraphPropertiesStep([solver_error_unsolvable],value), ProfileStep])\n",
      "annotations {'percentDur': 0.949728063391654}\n",
      "id 5.0.0()\n",
      "\n",
      "dur 926.250435\n",
      "counts {'traverserCount': 405001, 'elementCount': 405001}\n",
      "name TraversalFilterStep([JanusGraphPropertiesStep([solver_error_unparsable],value), ProfileStep])\n",
      "annotations {'percentDur': 0.9522742404658561}\n",
      "id 6.0.0()\n",
      "\n",
      "dur 3678.448955\n",
      "counts {'traverserCount': 405001, 'elementCount': 405001}\n",
      "name PropertyMapStep(value)\n",
      "annotations {'percentDur': 3.781798153449772}\n",
      "id 7.0.0()\n",
      "\n",
      "dur 260.775739\n",
      "counts {'traverserCount': 405001, 'elementCount': 405001}\n",
      "name SelectOneStep(last,solver_document_id)\n",
      "annotations {'percentDur': 0.268102458476197}\n",
      "id 8.0.0()\n",
      "\n",
      "dur 181.534645\n",
      "counts {'traverserCount': 3068, 'elementCount': 3068}\n",
      "name DedupGlobalStep\n",
      "annotations {'percentDur': 0.186635017543191}\n",
      "id 9.0.0()\n",
      "\n",
      "dur 3.617159\n",
      "counts {'traverserCount': 1, 'elementCount': 1}\n",
      "name CountGlobalStep\n",
      "annotations {'percentDur': 0.0037187862042610004}\n",
      "id 10.0.0()\n"
     ]
    }
   ],
   "source": [
    "profiling = gqr(g.E()\n",
    "    .has(\"__label__\", \"solved\")\n",
    "    .has(\"__type__\", \"edge\")\n",
    "    .has(\"solver_datetime\")\n",
    "    .has(\"solver_document_id\")\n",
    "    .has(\"solver_error\")\n",
    "    .has(\"solver_error_unsolvable\")\n",
    "    .has(\"solver_error_unparsable\")\n",
    "    .valueMap()\n",
    "    .select(\"solver_document_id\")\n",
    "    .dedup()\n",
    "    .count()\n",
    "    .profile()\n",
    "    .next()\n",
    "   ).result\n",
    "\n",
    "print('TOTAL: ', profiling['@value']['dur'])\n",
    "for metric in profiling['@value']['metrics']:\n",
    "    print()\n",
    "    print('dur', metric['@value']['dur'])\n",
    "    print('counts', metric['@value']['counts'])\n",
    "    print('name', metric['@value']['name'])\n",
    "    print('annotations', metric['@value']['annotations'])\n",
    "    print('id', metric['@value']['id'])"
   ]
  },
  {
   "cell_type": "code",
   "execution_count": 30,
   "metadata": {
    "ExecuteTime": {
     "end_time": "2019-04-08T16:42:34.805010Z",
     "start_time": "2019-04-08T16:42:12.609444Z"
    }
   },
   "outputs": [
    {
     "name": "stdout",
     "output_type": "stream",
     "text": [
      "CPU times: user 4.12 ms, sys: 3.92 ms, total: 8.04 ms\n",
      "Wall time: 22.2 s\n"
     ]
    },
    {
     "data": {
      "text/plain": [
       "3068"
      ]
     },
     "execution_count": 30,
     "metadata": {},
     "output_type": "execute_result"
    }
   ],
   "source": [
    "gqr(g.E()\n",
    "    .has(\"__label__\", \"solved\")\n",
    "    .flatMap(\n",
    "        has(\"__type__\", \"edge\")\n",
    "        .has(\"solver_document_id\")\n",
    "        .has(\"solver_datetime\")\n",
    "        .has(\"solver_error\")\n",
    "        .has(\"solver_error_unsolvable\")\n",
    "        .has(\"solver_error_unparsable\")\n",
    "    )\n",
    "    .valueMap()\n",
    "    .select(\"solver_document_id\")\n",
    "    .dedup()\n",
    "    .count()\n",
    "    .next()\n",
    "   ).result"
   ]
  },
  {
   "cell_type": "code",
   "execution_count": 51,
   "metadata": {
    "ExecuteTime": {
     "end_time": "2019-04-08T17:02:13.108991Z",
     "start_time": "2019-04-08T17:01:47.454221Z"
    }
   },
   "outputs": [
    {
     "name": "stdout",
     "output_type": "stream",
     "text": [
      "TOTAL:  25468.824184\n",
      "\n",
      "dur 13914.399615\n",
      "counts {'traverserCount': 405001, 'elementCount': 405001}\n",
      "name JanusGraphStep([],[__label__.eq(solved)])\n",
      "annotations {'percentDur': 54.63306634996244, 'condition': '(__label__ = solved)', 'isFitted': 'false', 'query': '[]', 'orders': '[]', 'isOrdered': 'true'}\n",
      "id 9.0.0()\n",
      "\n",
      "dur 7417.470736\n",
      "counts {'traverserCount': 405001, 'elementCount': 405001}\n",
      "name TraversalFlatMapStep([HasStep([__type__.eq(edge)]), ProfileStep, TraversalFilterStep([JanusGraphPropertiesStep([solver_datetime],value), ProfileStep]), ProfileStep, TraversalFilterStep([JanusGraphPropertiesStep([solver_document_id],value), ProfileStep]), ProfileStep, TraversalFilterStep([JanusGraphPropertiesStep([solver_error],value), ProfileStep]), ProfileStep, TraversalFilterStep([JanusGraphPropertiesStep([solver_error_unsolvable],value), ProfileStep]), ProfileStep, TraversalFilterStep([JanusGraphPropertiesStep([solver_error_unparsable],value), ProfileStep]), ProfileStep])\n",
      "annotations {'percentDur': 29.123726648754346}\n",
      "id 2.0.0()\n",
      "\n",
      "dur 3649.612601\n",
      "counts {'traverserCount': 405001, 'elementCount': 405001}\n",
      "name PropertyMapStep(value)\n",
      "annotations {'percentDur': 14.32972552887917}\n",
      "id 3.0.0()\n",
      "\n",
      "dur 217.343296\n",
      "counts {'traverserCount': 405001, 'elementCount': 405001}\n",
      "name SelectOneStep(last,solver_document_id)\n",
      "annotations {'percentDur': 0.8533699649021851}\n",
      "id 4.0.0()\n",
      "\n",
      "dur 268.830373\n",
      "counts {'traverserCount': 3068, 'elementCount': 3068}\n",
      "name DedupGlobalStep\n",
      "annotations {'percentDur': 1.055527224412991}\n",
      "id 5.0.0()\n",
      "\n",
      "dur 1.167563\n",
      "counts {'traverserCount': 1, 'elementCount': 1}\n",
      "name CountGlobalStep\n",
      "annotations {'percentDur': 0.004584283088865}\n",
      "id 6.0.0()\n"
     ]
    }
   ],
   "source": [
    "profiling = gqr(g.E()\n",
    "    .has(\"__label__\", \"solved\")\n",
    "    .flatMap(\n",
    "        has(\"__type__\", \"edge\")\n",
    "        .has(\"solver_datetime\")\n",
    "        .has(\"solver_document_id\")\n",
    "        .has(\"solver_error\")\n",
    "        .has(\"solver_error_unsolvable\")\n",
    "        .has(\"solver_error_unparsable\")\n",
    "    )\n",
    "    .valueMap()\n",
    "    .select(\"solver_document_id\")\n",
    "    .dedup()  \n",
    "    .count()\n",
    "    .profile()\n",
    "    .next()\n",
    "   ).result\n",
    "\n",
    "print('TOTAL: ', profiling['@value']['dur'])\n",
    "for metric in profiling['@value']['metrics']:\n",
    "    print()\n",
    "    print('dur', metric['@value']['dur'])\n",
    "    print('counts', metric['@value']['counts'])\n",
    "    print('name', metric['@value']['name'])\n",
    "    print('annotations', metric['@value']['annotations'])\n",
    "    print('id', metric['@value']['id'])"
   ]
  },
  {
   "cell_type": "code",
   "execution_count": 31,
   "metadata": {
    "ExecuteTime": {
     "end_time": "2019-04-08T16:42:54.467942Z",
     "start_time": "2019-04-08T16:42:34.812619Z"
    }
   },
   "outputs": [
    {
     "name": "stdout",
     "output_type": "stream",
     "text": [
      "CPU times: user 6.42 ms, sys: 1.2 ms, total: 7.62 ms\n",
      "Wall time: 19.6 s\n"
     ]
    },
    {
     "data": {
      "text/plain": [
       "3068"
      ]
     },
     "execution_count": 31,
     "metadata": {},
     "output_type": "execute_result"
    }
   ],
   "source": [
    "%%time\n",
    "gqr(g.E()\n",
    "    .has(\"__label__\", \"solved\")\n",
    "    .flatMap(\n",
    "        has(\"__type__\", \"edge\")\n",
    "    )\n",
    "    .has(\"solver_document_id\")\n",
    "    .has(\"solver_datetime\")\n",
    "    .has(\"solver_error\")\n",
    "    .has(\"solver_error_unsolvable\")\n",
    "    .has(\"solver_error_unparsable\")\n",
    "    .valueMap()\n",
    "    .select(\"solver_document_id\")\n",
    "    .dedup()\n",
    "    .count()\n",
    "    .next()\n",
    "   ).result"
   ]
  },
  {
   "cell_type": "code",
   "execution_count": 50,
   "metadata": {
    "ExecuteTime": {
     "end_time": "2019-04-08T17:01:39.807221Z",
     "start_time": "2019-04-08T17:01:16.470830Z"
    }
   },
   "outputs": [
    {
     "name": "stdout",
     "output_type": "stream",
     "text": [
      "TOTAL:  22973.117253\n",
      "\n",
      "dur 11340.427286\n",
      "counts {'traverserCount': 405001, 'elementCount': 405001}\n",
      "name JanusGraphStep([],[__label__.eq(solved)])\n",
      "annotations {'percentDur': 49.36390286572486, 'condition': '(__label__ = solved)', 'isFitted': 'false', 'query': '[]', 'orders': '[]', 'isOrdered': 'true'}\n",
      "id 14.0.0()\n",
      "\n",
      "dur 2748.09499\n",
      "counts {'traverserCount': 405001, 'elementCount': 405001}\n",
      "name TraversalFlatMapStep([HasStep([__type__.eq(edge)]), ProfileStep])\n",
      "annotations {'percentDur': 11.96222071099704}\n",
      "id 2.0.0()\n",
      "\n",
      "dur 957.057304\n",
      "counts {'traverserCount': 405001, 'elementCount': 405001}\n",
      "name TraversalFilterStep([JanusGraphPropertiesStep([solver_datetime],value), ProfileStep])\n",
      "annotations {'percentDur': 4.165987982649678}\n",
      "id 3.0.0()\n",
      "\n",
      "dur 1595.575385\n",
      "counts {'traverserCount': 405001, 'elementCount': 405001}\n",
      "name TraversalFilterStep([JanusGraphPropertiesStep([solver_document_id],value), ProfileStep])\n",
      "annotations {'percentDur': 6.945402173454009}\n",
      "id 4.0.0()\n",
      "\n",
      "dur 832.148331\n",
      "counts {'traverserCount': 405001, 'elementCount': 405001}\n",
      "name TraversalFilterStep([JanusGraphPropertiesStep([solver_error],value), ProfileStep])\n",
      "annotations {'percentDur': 3.622269985547268}\n",
      "id 5.0.0()\n",
      "\n",
      "dur 804.980553\n",
      "counts {'traverserCount': 405001, 'elementCount': 405001}\n",
      "name TraversalFilterStep([JanusGraphPropertiesStep([solver_error_unsolvable],value), ProfileStep])\n",
      "annotations {'percentDur': 3.504010988734581}\n",
      "id 6.0.0()\n",
      "\n",
      "dur 1227.209765\n",
      "counts {'traverserCount': 405001, 'elementCount': 405001}\n",
      "name TraversalFilterStep([JanusGraphPropertiesStep([solver_error_unparsable],value), ProfileStep])\n",
      "annotations {'percentDur': 5.341938368593587}\n",
      "id 7.0.0()\n",
      "\n",
      "dur 3003.317824\n",
      "counts {'traverserCount': 405001, 'elementCount': 405001}\n",
      "name PropertyMapStep(value)\n",
      "annotations {'percentDur': 13.073183716971647}\n",
      "id 8.0.0()\n",
      "\n",
      "dur 194.494401\n",
      "counts {'traverserCount': 405001, 'elementCount': 405001}\n",
      "name SelectOneStep(last,solver_document_id)\n",
      "annotations {'percentDur': 0.8466173695892381}\n",
      "id 9.0.0()\n",
      "\n",
      "dur 268.623214\n",
      "counts {'traverserCount': 3068, 'elementCount': 3068}\n",
      "name DedupGlobalStep\n",
      "annotations {'percentDur': 1.169293705515394}\n",
      "id 10.0.0()\n",
      "\n",
      "dur 1.1882\n",
      "counts {'traverserCount': 1, 'elementCount': 1}\n",
      "name CountGlobalStep\n",
      "annotations {'percentDur': 0.005172132222695001}\n",
      "id 11.0.0()\n"
     ]
    }
   ],
   "source": [
    "profiling = gqr(g.E()\n",
    "    .has(\"__label__\", \"solved\")\n",
    "    .flatMap(\n",
    "        has(\"__type__\", \"edge\")\n",
    "    )\n",
    "    .has(\"solver_datetime\")\n",
    "    .has(\"solver_document_id\")\n",
    "    .has(\"solver_error\")\n",
    "    .has(\"solver_error_unsolvable\")\n",
    "    .has(\"solver_error_unparsable\")\n",
    "    .valueMap()\n",
    "    .select(\"solver_document_id\")\n",
    "    .dedup()  \n",
    "    .count()\n",
    "    .profile()\n",
    "    .next()\n",
    "   ).result\n",
    "\n",
    "print('TOTAL: ', profiling['@value']['dur'])\n",
    "for metric in profiling['@value']['metrics']:\n",
    "    print()\n",
    "    print('dur', metric['@value']['dur'])\n",
    "    print('counts', metric['@value']['counts'])\n",
    "    print('name', metric['@value']['name'])\n",
    "    print('annotations', metric['@value']['annotations'])\n",
    "    print('id', metric['@value']['id'])"
   ]
  },
  {
   "cell_type": "code",
   "execution_count": 22,
   "metadata": {
    "ExecuteTime": {
     "end_time": "2019-04-08T16:31:40.147028Z",
     "start_time": "2019-04-08T16:31:19.568366Z"
    }
   },
   "outputs": [
    {
     "name": "stdout",
     "output_type": "stream",
     "text": [
      "CPU times: user 2.58 ms, sys: 3.68 ms, total: 6.26 ms\n",
      "Wall time: 20.6 s\n"
     ]
    },
    {
     "data": {
      "text/plain": [
       "3068"
      ]
     },
     "execution_count": 22,
     "metadata": {},
     "output_type": "execute_result"
    }
   ],
   "source": [
    "gqr(g.E()\n",
    "    .has(\"__label__\", \"solved\")\n",
    "    .has(\"solver_document_id\")\n",
    "    .has(\"solver_datetime\")\n",
    "    .has(\"solver_error\")\n",
    "    .has(\"solver_error_unsolvable\")\n",
    "    .has(\"solver_error_unparsable\")\n",
    "    .valueMap()\n",
    "    .select(\"solver_document_id\")\n",
    "    .dedup()\n",
    "    .count()\n",
    "    .next()\n",
    "   ).result"
   ]
  },
  {
   "cell_type": "code",
   "execution_count": 49,
   "metadata": {
    "ExecuteTime": {
     "end_time": "2019-04-08T17:01:03.864439Z",
     "start_time": "2019-04-08T17:00:40.474508Z"
    }
   },
   "outputs": [
    {
     "name": "stdout",
     "output_type": "stream",
     "text": [
      "TOTAL:  23131.734001\n",
      "\n",
      "dur 13313.258026\n",
      "counts {'traverserCount': 405001, 'elementCount': 405001}\n",
      "name JanusGraphStep([],[__label__.eq(solved)])\n",
      "annotations {'percentDur': 57.55408576557408, 'condition': '(__label__ = solved)', 'isFitted': 'false', 'query': '[]', 'orders': '[]', 'isOrdered': 'true'}\n",
      "id 13.0.0()\n",
      "\n",
      "dur 1370.526515\n",
      "counts {'traverserCount': 405001, 'elementCount': 405001}\n",
      "name TraversalFilterStep([JanusGraphPropertiesStep([solver_datetime],value), ProfileStep])\n",
      "annotations {'percentDur': 5.924875821850412}\n",
      "id 2.0.0()\n",
      "\n",
      "dur 905.446926\n",
      "counts {'traverserCount': 405001, 'elementCount': 405001}\n",
      "name TraversalFilterStep([JanusGraphPropertiesStep([solver_document_id],value), ProfileStep])\n",
      "annotations {'percentDur': 3.914306320316742}\n",
      "id 3.0.0()\n",
      "\n",
      "dur 884.264159\n",
      "counts {'traverserCount': 405001, 'elementCount': 405001}\n",
      "name TraversalFilterStep([JanusGraphPropertiesStep([solver_error],value), ProfileStep])\n",
      "annotations {'percentDur': 3.822731832217043}\n",
      "id 4.0.0()\n",
      "\n",
      "dur 887.002752\n",
      "counts {'traverserCount': 405001, 'elementCount': 405001}\n",
      "name TraversalFilterStep([JanusGraphPropertiesStep([solver_error_unsolvable],value), ProfileStep])\n",
      "annotations {'percentDur': 3.8345709489900512}\n",
      "id 5.0.0()\n",
      "\n",
      "dur 874.925153\n",
      "counts {'traverserCount': 405001, 'elementCount': 405001}\n",
      "name TraversalFilterStep([JanusGraphPropertiesStep([solver_error_unparsable],value), ProfileStep])\n",
      "annotations {'percentDur': 3.782358698064643}\n",
      "id 6.0.0()\n",
      "\n",
      "dur 4457.791415\n",
      "counts {'traverserCount': 405001, 'elementCount': 405001}\n",
      "name PropertyMapStep(value)\n",
      "annotations {'percentDur': 19.271324038255354}\n",
      "id 7.0.0()\n",
      "\n",
      "dur 193.121059\n",
      "counts {'traverserCount': 405001, 'elementCount': 405001}\n",
      "name SelectOneStep(last,solver_document_id)\n",
      "annotations {'percentDur': 0.834874977343467}\n",
      "id 8.0.0()\n",
      "\n",
      "dur 244.168145\n",
      "counts {'traverserCount': 3068, 'elementCount': 3068}\n",
      "name DedupGlobalStep\n",
      "annotations {'percentDur': 1.05555487102456}\n",
      "id 9.0.0()\n",
      "\n",
      "dur 1.229851\n",
      "counts {'traverserCount': 1, 'elementCount': 1}\n",
      "name CountGlobalStep\n",
      "annotations {'percentDur': 0.0053167263636470005}\n",
      "id 10.0.0()\n"
     ]
    }
   ],
   "source": [
    "profiling = gqr(g.E()\n",
    "    .has(\"__label__\", \"solved\")\n",
    "    .has(\"solver_datetime\")\n",
    "    .has(\"solver_document_id\")\n",
    "    .has(\"solver_error\")\n",
    "    .has(\"solver_error_unsolvable\")\n",
    "    .has(\"solver_error_unparsable\")\n",
    "    .valueMap()\n",
    "    .select(\"solver_document_id\")\n",
    "    .dedup()  \n",
    "    .count()\n",
    "    .profile()\n",
    "    .next()\n",
    "   ).result\n",
    "\n",
    "print('TOTAL: ', profiling['@value']['dur'])\n",
    "for metric in profiling['@value']['metrics']:\n",
    "    print()\n",
    "    print('dur', metric['@value']['dur'])\n",
    "    print('counts', metric['@value']['counts'])\n",
    "    print('name', metric['@value']['name'])\n",
    "    print('annotations', metric['@value']['annotations'])\n",
    "    print('id', metric['@value']['id'])"
   ]
  },
  {
   "cell_type": "code",
   "execution_count": 43,
   "metadata": {
    "ExecuteTime": {
     "end_time": "2019-04-08T16:53:45.440484Z",
     "start_time": "2019-04-08T16:53:26.661853Z"
    }
   },
   "outputs": [
    {
     "name": "stdout",
     "output_type": "stream",
     "text": [
      "CPU times: user 5.18 ms, sys: 1.53 ms, total: 6.71 ms\n",
      "Wall time: 18.8 s\n"
     ]
    },
    {
     "data": {
      "text/plain": [
       "3068"
      ]
     },
     "execution_count": 43,
     "metadata": {},
     "output_type": "execute_result"
    }
   ],
   "source": [
    "gqr(g.E()\n",
    "    .has(\"solver_document_id\")\n",
    "    .valueMap()\n",
    "    .select(\"solver_document_id\")\n",
    "    .dedup()\n",
    "    .count()\n",
    "    .next()\n",
    "   ).result"
   ]
  },
  {
   "cell_type": "code",
   "execution_count": 48,
   "metadata": {
    "ExecuteTime": {
     "end_time": "2019-04-08T17:00:30.667241Z",
     "start_time": "2019-04-08T17:00:11.096762Z"
    }
   },
   "outputs": [
    {
     "name": "stdout",
     "output_type": "stream",
     "text": [
      "TOTAL:  19177.039377\n",
      "\n",
      "dur 10238.090953\n",
      "counts {'traverserCount': 637271, 'elementCount': 637271}\n",
      "name JanusGraphStep(edge,[])\n",
      "annotations {'percentDur': 53.38723434691939, 'condition': '()', 'isFitted': 'false', 'query': '[]', 'orders': '[]', 'isOrdered': 'true'}\n",
      "id 8.0.0()\n",
      "\n",
      "dur 5077.387064\n",
      "counts {'traverserCount': 405001, 'elementCount': 405001}\n",
      "name TraversalFilterStep([JanusGraphPropertiesStep([solver_document_id],value), ProfileStep])\n",
      "annotations {'percentDur': 26.47638649628873}\n",
      "id 1.0.0()\n",
      "\n",
      "dur 3431.835047\n",
      "counts {'traverserCount': 405001, 'elementCount': 405001}\n",
      "name PropertyMapStep(value)\n",
      "annotations {'percentDur': 17.89554153555097}\n",
      "id 2.0.0()\n",
      "\n",
      "dur 203.253568\n",
      "counts {'traverserCount': 405001, 'elementCount': 405001}\n",
      "name SelectOneStep(last,solver_document_id)\n",
      "annotations {'percentDur': 1.059879807327153}\n",
      "id 3.0.0()\n",
      "\n",
      "dur 225.386191\n",
      "counts {'traverserCount': 3068, 'elementCount': 3068}\n",
      "name DedupGlobalStep\n",
      "annotations {'percentDur': 1.175291902827905}\n",
      "id 4.0.0()\n",
      "\n",
      "dur 1.086554\n",
      "counts {'traverserCount': 1, 'elementCount': 1}\n",
      "name CountGlobalStep\n",
      "annotations {'percentDur': 0.005665911085853}\n",
      "id 5.0.0()\n"
     ]
    }
   ],
   "source": [
    "profiling = gqr(g.E()\n",
    "    .has(\"solver_document_id\")\n",
    "    .valueMap()\n",
    "    .select(\"solver_document_id\")\n",
    "    .dedup()  \n",
    "    .count()\n",
    "    .profile()\n",
    "    .next()\n",
    "   ).result\n",
    "\n",
    "print('TOTAL: ', profiling['@value']['dur'])\n",
    "for metric in profiling['@value']['metrics']:\n",
    "    print()\n",
    "    print('dur', metric['@value']['dur'])\n",
    "    print('counts', metric['@value']['counts'])\n",
    "    print('name', metric['@value']['name'])\n",
    "    print('annotations', metric['@value']['annotations'])\n",
    "    print('id', metric['@value']['id'])"
   ]
  },
  {
   "cell_type": "markdown",
   "metadata": {},
   "source": [
    "## Analyze get_analyzer_documents_count(self)"
   ]
  },
  {
   "cell_type": "markdown",
   "metadata": {},
   "source": [
    "    def get_analyzer_documents_count(self) -> int:\n",
    "        \"\"\"Get number of image analysis documents synced into graph.\"\"\"\n",
    "        query = (\n",
    "            self.g.E()\n",
    "            .has(\"__type__\", \"edge\")\n",
    "            .has(\"__label__\", Requires.__label__)\n",
    "            .has(\"analysis_datetime\")\n",
    "            .has(\"analysis_document_id\")\n",
    "            .has(\"analyzer_name\")\n",
    "            .has(\"analyzer_version\")\n",
    "            .valueMap()\n",
    "            .select(\"analysis_document_id\")\n",
    "            .dedup()\n",
    "            .count()\n",
    "            .next()\n",
    "        )\n",
    "\n",
    "        return asyncio.get_event_loop().run_until_complete(query)"
   ]
  },
  {
   "cell_type": "code",
   "execution_count": 23,
   "metadata": {
    "ExecuteTime": {
     "end_time": "2019-04-08T16:32:30.217625Z",
     "start_time": "2019-04-08T16:32:29.538312Z"
    }
   },
   "outputs": [
    {
     "data": {
      "text/plain": [
       "1"
      ]
     },
     "execution_count": 23,
     "metadata": {},
     "output_type": "execute_result"
    }
   ],
   "source": [
    "graph_db.get_analyzer_documents_count()"
   ]
  },
  {
   "cell_type": "code",
   "execution_count": 59,
   "metadata": {
    "ExecuteTime": {
     "end_time": "2019-04-08T17:57:31.382037Z",
     "start_time": "2019-04-08T17:57:30.720157Z"
    }
   },
   "outputs": [
    {
     "name": "stdout",
     "output_type": "stream",
     "text": [
      "TOTAL:  460.997366\n",
      "\n",
      "dur 340.257041\n",
      "counts {'traverserCount': 3350, 'elementCount': 3350}\n",
      "name JanusGraphStep([],[__label__.eq(requires), __type__.eq(edge)])\n",
      "annotations {'percentDur': 73.80889048290138, 'condition': '(__label__ = requires AND __type__ = edge)', 'isFitted': 'true', 'query': 'multiKSQ[1]@2147483647', 'index': 'byEdge', 'orders': '[]', 'isOrdered': 'true'}\n",
      "id 12.0.0()\n",
      "\n",
      "dur 49.844771\n",
      "counts {'traverserCount': 3350, 'elementCount': 3350}\n",
      "name TraversalFilterStep([JanusGraphPropertiesStep([analysis_datetime],value), ProfileStep])\n",
      "annotations {'percentDur': 10.81237652884984}\n",
      "id 2.0.0()\n",
      "\n",
      "dur 13.11535\n",
      "counts {'traverserCount': 3350, 'elementCount': 3350}\n",
      "name TraversalFilterStep([JanusGraphPropertiesStep([analysis_document_id],value), ProfileStep])\n",
      "annotations {'percentDur': 2.844994563374577}\n",
      "id 3.0.0()\n",
      "\n",
      "dur 11.182904\n",
      "counts {'traverserCount': 3350, 'elementCount': 3350}\n",
      "name TraversalFilterStep([JanusGraphPropertiesStep([analyzer_name],value), ProfileStep])\n",
      "annotations {'percentDur': 2.425806484976749}\n",
      "id 4.0.0()\n",
      "\n",
      "dur 13.264954\n",
      "counts {'traverserCount': 3350, 'elementCount': 3350}\n",
      "name TraversalFilterStep([JanusGraphPropertiesStep([analyzer_version],value), ProfileStep])\n",
      "annotations {'percentDur': 2.877446809533397}\n",
      "id 5.0.0()\n",
      "\n",
      "dur 27.781811\n",
      "counts {'traverserCount': 3350, 'elementCount': 3350}\n",
      "name PropertyMapStep(value)\n",
      "annotations {'percentDur': 6.026457643577946}\n",
      "id 6.0.0()\n",
      "\n",
      "dur 3.5399760000000002\n",
      "counts {'traverserCount': 3350, 'elementCount': 3350}\n",
      "name SelectOneStep(last,analysis_document_id)\n",
      "annotations {'percentDur': 0.7678950599470451}\n",
      "id 7.0.0()\n",
      "\n",
      "dur 1.98665\n",
      "counts {'traverserCount': 1, 'elementCount': 1}\n",
      "name DedupGlobalStep\n",
      "annotations {'percentDur': 0.43094606314952305}\n",
      "id 8.0.0()\n",
      "\n",
      "dur 0.023909\n",
      "counts {'traverserCount': 1, 'elementCount': 1}\n",
      "name CountGlobalStep\n",
      "annotations {'percentDur': 0.0051863636895480006}\n",
      "id 9.0.0()\n"
     ]
    }
   ],
   "source": [
    "profiling = gqr(g.E()\n",
    "    .has(\"__label__\", \"requires\")\n",
    "    .has(\"__type__\", \"edge\")\n",
    "    .has(\"analysis_datetime\")\n",
    "    .has(\"analysis_document_id\")\n",
    "    .has(\"analyzer_name\")\n",
    "    .has(\"analyzer_version\")\n",
    "    .valueMap()\n",
    "    .select(\"analysis_document_id\")\n",
    "    .dedup()\n",
    "    .count()\n",
    "    .profile()\n",
    "    .next()\n",
    "   ).result\n",
    "\n",
    "print('TOTAL: ', profiling['@value']['dur'])\n",
    "for metric in profiling['@value']['metrics']:\n",
    "    print()\n",
    "    print('dur', metric['@value']['dur'])\n",
    "    print('counts', metric['@value']['counts'])\n",
    "    print('name', metric['@value']['name'])\n",
    "    print('annotations', metric['@value']['annotations'])\n",
    "    print('id', metric['@value']['id'])"
   ]
  },
  {
   "cell_type": "code",
   "execution_count": 24,
   "metadata": {
    "ExecuteTime": {
     "end_time": "2019-04-08T16:33:40.265060Z",
     "start_time": "2019-04-08T16:33:27.805947Z"
    }
   },
   "outputs": [
    {
     "name": "stdout",
     "output_type": "stream",
     "text": [
      "CPU times: user 3.29 ms, sys: 1.27 ms, total: 4.57 ms\n",
      "Wall time: 12.4 s\n"
     ]
    },
    {
     "data": {
      "text/plain": [
       "1"
      ]
     },
     "execution_count": 24,
     "metadata": {},
     "output_type": "execute_result"
    }
   ],
   "source": [
    "%%time\n",
    "gqr(g.E()\n",
    "    .has(\"__label__\", \"requires\")\n",
    "    .flatMap(\n",
    "    has(\"__type__\", \"edge\")\n",
    "    .has(\"analysis_datetime\")\n",
    "    .has(\"analysis_document_id\")\n",
    "    .has(\"analyzer_name\")\n",
    "    .has(\"analyzer_version\")\n",
    "    )\n",
    "    .valueMap()\n",
    "    .select(\"analysis_document_id\")\n",
    "    .dedup()\n",
    "    .count()\n",
    "    .next()\n",
    "   ).result"
   ]
  },
  {
   "cell_type": "code",
   "execution_count": 40,
   "metadata": {
    "ExecuteTime": {
     "end_time": "2019-04-08T16:49:54.115017Z",
     "start_time": "2019-04-08T16:49:43.200168Z"
    }
   },
   "outputs": [
    {
     "name": "stdout",
     "output_type": "stream",
     "text": [
      "CPU times: user 5.28 ms, sys: 146 µs, total: 5.42 ms\n",
      "Wall time: 10.9 s\n"
     ]
    },
    {
     "data": {
      "text/plain": [
       "1"
      ]
     },
     "execution_count": 40,
     "metadata": {},
     "output_type": "execute_result"
    }
   ],
   "source": [
    "%%time\n",
    "gqr(g.E()\n",
    "    .has(\"__label__\", \"requires\")\n",
    "    .flatMap(\n",
    "    has(\"__type__\", \"edge\")\n",
    "    )\n",
    "    .has(\"analysis_datetime\")\n",
    "    .has(\"analysis_document_id\")\n",
    "    .has(\"analyzer_name\")\n",
    "    .has(\"analyzer_version\")\n",
    "    .valueMap()\n",
    "    .select(\"analysis_document_id\")\n",
    "    .dedup()\n",
    "    .count()\n",
    "    .next()\n",
    "   ).result"
   ]
  },
  {
   "cell_type": "code",
   "execution_count": 26,
   "metadata": {
    "ExecuteTime": {
     "end_time": "2019-04-08T16:34:05.763889Z",
     "start_time": "2019-04-08T16:33:54.682636Z"
    }
   },
   "outputs": [
    {
     "name": "stdout",
     "output_type": "stream",
     "text": [
      "CPU times: user 3.46 ms, sys: 784 µs, total: 4.24 ms\n",
      "Wall time: 11.1 s\n"
     ]
    },
    {
     "data": {
      "text/plain": [
       "1"
      ]
     },
     "execution_count": 26,
     "metadata": {},
     "output_type": "execute_result"
    }
   ],
   "source": [
    "%%time\n",
    "gqr(g.E()\n",
    "    .has(\"__label__\", \"requires\")\n",
    "    .has(\"analysis_datetime\")\n",
    "    .has(\"analysis_document_id\")\n",
    "    .has(\"analyzer_name\")\n",
    "    .has(\"analyzer_version\")\n",
    "    .valueMap()\n",
    "    .select(\"analysis_document_id\")\n",
    "    .dedup()\n",
    "    .count()\n",
    "    .next()\n",
    "   ).result"
   ]
  }
 ],
 "metadata": {
  "kernelspec": {
   "display_name": "Python 3",
   "language": "python",
   "name": "python3"
  },
  "language_info": {
   "codemirror_mode": {
    "name": "ipython",
    "version": 3
   },
   "file_extension": ".py",
   "mimetype": "text/x-python",
   "name": "python",
   "nbconvert_exporter": "python",
   "pygments_lexer": "ipython3",
   "version": "3.6.8"
  },
  "toc": {
   "base_numbering": 1,
   "nav_menu": {},
   "number_sections": true,
   "sideBar": true,
   "skip_h1_title": false,
   "title_cell": "Table of Contents",
   "title_sidebar": "Contents",
   "toc_cell": true,
   "toc_position": {},
   "toc_section_display": true,
   "toc_window_display": false
  }
 },
 "nbformat": 4,
 "nbformat_minor": 2
}
