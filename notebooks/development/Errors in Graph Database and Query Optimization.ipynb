{
 "cells": [
  {
   "cell_type": "markdown",
   "metadata": {
    "toc": true
   },
   "source": [
    "<h1>Table of Contents<span class=\"tocSkip\"></span></h1>\n",
    "<div class=\"toc\"><ul class=\"toc-item\"><li><span><a href=\"#Graph-Database-Error\" data-toc-modified-id=\"Graph-Database-Error-1\"><span class=\"toc-item-num\">1&nbsp;&nbsp;</span>Graph Database Error</a></span><ul class=\"toc-item\"><li><span><a href=\"#Package_name-error-in-package-vertex-instances-because-of-RPM-error\" data-toc-modified-id=\"Package_name-error-in-package-vertex-instances-because-of-RPM-error-1.1\"><span class=\"toc-item-num\">1.1&nbsp;&nbsp;</span>Package_name error in package vertex instances because of RPM error</a></span></li><li><span><a href=\"#Number-of-total-vertex-instances-and-sum-of-total-vertex-instances-for-each-vertex-label-is-not-the-same\" data-toc-modified-id=\"Number-of-total-vertex-instances-and-sum-of-total-vertex-instances-for-each-vertex-label-is-not-the-same-1.2\"><span class=\"toc-item-num\">1.2&nbsp;&nbsp;</span>Number of total vertex instances and sum of total vertex instances for each vertex label is not the same</a></span></li><li><span><a href=\"#Duplicates-of-packages-version-which-leads-to-more-has_artifact-edges-respect-to-the-number-of-artifacts\" data-toc-modified-id=\"Duplicates-of-packages-version-which-leads-to-more-has_artifact-edges-respect-to-the-number-of-artifacts-1.3\"><span class=\"toc-item-num\">1.3&nbsp;&nbsp;</span>Duplicates of packages version which leads to more has_artifact edges respect to the number of artifacts</a></span></li><li><span><a href=\"#There-is-one-python-package-version-without-url_index-(maybe-it-is-also-the-missing-vertex-error-1.2)\" data-toc-modified-id=\"There-is-one-python-package-version-without-url_index-(maybe-it-is-also-the-missing-vertex-error-1.2)-1.4\"><span class=\"toc-item-num\">1.4&nbsp;&nbsp;</span>There is one python package version without url_index (maybe it is also the missing vertex error 1.2)</a></span></li><li><span><a href=\"#Why-RPM-packages-don't-have-url_index-yet?\" data-toc-modified-id=\"Why-RPM-packages-don't-have-url_index-yet?-1.5\"><span class=\"toc-item-num\">1.5&nbsp;&nbsp;</span>Why RPM packages don't have url_index yet?</a></span></li></ul></li><li><span><a href=\"#Query-Optimization\" data-toc-modified-id=\"Query-Optimization-2\"><span class=\"toc-item-num\">2&nbsp;&nbsp;</span>Query Optimization</a></span><ul class=\"toc-item\"><li><span><a href=\"#Analyze-get_error_python_packages_count(self,-unsolvable:-bool-=-False,-unparsable:-bool-=-False)\" data-toc-modified-id=\"Analyze-get_error_python_packages_count(self,-unsolvable:-bool-=-False,-unparsable:-bool-=-False)-2.1\"><span class=\"toc-item-num\">2.1&nbsp;&nbsp;</span>Analyze get_error_python_packages_count(self, unsolvable: bool = False, unparsable: bool = False)</a></span><ul class=\"toc-item\"><li><span><a href=\"#Current-query\" data-toc-modified-id=\"Current-query-2.1.1\"><span class=\"toc-item-num\">2.1.1&nbsp;&nbsp;</span>Current query</a></span></li><li><span><a href=\"#Flatmap-for-all-has()-filter\" data-toc-modified-id=\"Flatmap-for-all-has()-filter-2.1.2\"><span class=\"toc-item-num\">2.1.2&nbsp;&nbsp;</span>Flatmap for all has() filter</a></span></li><li><span><a href=\"#All-has()-filters-and-flatmap-for-has(__type__)-filter\" data-toc-modified-id=\"All-has()-filters-and-flatmap-for-has(__type__)-filter-2.1.3\"><span class=\"toc-item-num\">2.1.3&nbsp;&nbsp;</span>All has() filters and flatmap for has(<code>__type__</code>) filter</a></span></li><li><span><a href=\"#All-has()-filters-except-__type__\" data-toc-modified-id=\"All-has()-filters-except-__type__-2.1.4\"><span class=\"toc-item-num\">2.1.4&nbsp;&nbsp;</span>All has() filters except <code>__type__</code></a></span></li><li><span><a href=\"#Only-one-has()-filter\" data-toc-modified-id=\"Only-one-has()-filter-2.1.5\"><span class=\"toc-item-num\">2.1.5&nbsp;&nbsp;</span>Only one has() filter</a></span></li><li><span><a href=\"#Summary-all-queries\" data-toc-modified-id=\"Summary-all-queries-2.1.6\"><span class=\"toc-item-num\">2.1.6&nbsp;&nbsp;</span>Summary all queries</a></span></li></ul></li><li><span><a href=\"#Analyze-get_solver_documents_count(self)\" data-toc-modified-id=\"Analyze-get_solver_documents_count(self)-2.2\"><span class=\"toc-item-num\">2.2&nbsp;&nbsp;</span>Analyze get_solver_documents_count(self)</a></span><ul class=\"toc-item\"><li><span><a href=\"#Current-query\" data-toc-modified-id=\"Current-query-2.2.1\"><span class=\"toc-item-num\">2.2.1&nbsp;&nbsp;</span>Current query</a></span></li><li><span><a href=\"#Flatmap-for-all-has()-filter\" data-toc-modified-id=\"Flatmap-for-all-has()-filter-2.2.2\"><span class=\"toc-item-num\">2.2.2&nbsp;&nbsp;</span>Flatmap for all has() filter</a></span></li><li><span><a href=\"#All-has()-filters-and-flatmap-for-has(__type__)-filter\" data-toc-modified-id=\"All-has()-filters-and-flatmap-for-has(__type__)-filter-2.2.3\"><span class=\"toc-item-num\">2.2.3&nbsp;&nbsp;</span>All has() filters and flatmap for has(<code>__type__</code>) filter</a></span></li><li><span><a href=\"#All-has()-filters-except-__type__\" data-toc-modified-id=\"All-has()-filters-except-__type__-2.2.4\"><span class=\"toc-item-num\">2.2.4&nbsp;&nbsp;</span>All has() filters except <code>__type__</code></a></span></li><li><span><a href=\"#Only-one-has()-filter\" data-toc-modified-id=\"Only-one-has()-filter-2.2.5\"><span class=\"toc-item-num\">2.2.5&nbsp;&nbsp;</span>Only one has() filter</a></span></li><li><span><a href=\"#Summary-all-queries\" data-toc-modified-id=\"Summary-all-queries-2.2.6\"><span class=\"toc-item-num\">2.2.6&nbsp;&nbsp;</span>Summary all queries</a></span></li></ul></li><li><span><a href=\"#Analyze-get_analyzer_documents_count(self)\" data-toc-modified-id=\"Analyze-get_analyzer_documents_count(self)-2.3\"><span class=\"toc-item-num\">2.3&nbsp;&nbsp;</span>Analyze get_analyzer_documents_count(self)</a></span><ul class=\"toc-item\"><li><span><a href=\"#Current-query\" data-toc-modified-id=\"Current-query-2.3.1\"><span class=\"toc-item-num\">2.3.1&nbsp;&nbsp;</span>Current query</a></span></li><li><span><a href=\"#Flatmap-for-all-has()-filter\" data-toc-modified-id=\"Flatmap-for-all-has()-filter-2.3.2\"><span class=\"toc-item-num\">2.3.2&nbsp;&nbsp;</span>Flatmap for all has() filter</a></span></li><li><span><a href=\"#All-has()-filters-and-flatmap-for-has(__type__)-filter\" data-toc-modified-id=\"All-has()-filters-and-flatmap-for-has(__type__)-filter-2.3.3\"><span class=\"toc-item-num\">2.3.3&nbsp;&nbsp;</span>All has() filters and flatmap for has(<code>__type__</code>) filter</a></span></li><li><span><a href=\"#All-has()-filters-except-__type__\" data-toc-modified-id=\"All-has()-filters-except-__type__-2.3.4\"><span class=\"toc-item-num\">2.3.4&nbsp;&nbsp;</span>All has() filters except <code>__type__</code></a></span></li><li><span><a href=\"#Only-one-has()-filter\" data-toc-modified-id=\"Only-one-has()-filter-2.3.5\"><span class=\"toc-item-num\">2.3.5&nbsp;&nbsp;</span>Only one has() filter</a></span></li><li><span><a href=\"#Summary-of-all-queries\" data-toc-modified-id=\"Summary-of-all-queries-2.3.6\"><span class=\"toc-item-num\">2.3.6&nbsp;&nbsp;</span>Summary of all queries</a></span></li></ul></li><li><span><a href=\"#Count-all-instances-in-all-vertices-and-edges\" data-toc-modified-id=\"Count-all-instances-in-all-vertices-and-edges-2.4\"><span class=\"toc-item-num\">2.4&nbsp;&nbsp;</span>Count all instances in all vertices and edges</a></span></li></ul></li></ul></div>"
   ]
  },
  {
   "cell_type": "code",
   "execution_count": 1,
   "metadata": {
    "ExecuteTime": {
     "end_time": "2019-04-16T06:49:04.056792Z",
     "start_time": "2019-04-16T06:49:02.925903Z"
    }
   },
   "outputs": [],
   "source": [
    "from thoth.storages.graph import GraphDatabase\n",
    "from thoth.lab import GraphQueryResult as gqr\n",
    "\n",
    "graph_db = GraphDatabase.create('janusgraph.test.thoth-station.ninja', port=8182)\n",
    "graph_db.connect()\n",
    "g = graph_db.g   # We will use raw Gremlin traversal in examples."
   ]
  },
  {
   "cell_type": "code",
   "execution_count": 2,
   "metadata": {
    "ExecuteTime": {
     "end_time": "2019-04-16T06:49:40.841171Z",
     "start_time": "2019-04-16T06:49:40.513883Z"
    }
   },
   "outputs": [],
   "source": [
    "import pandas as pd\n",
    "from pprint import pprint\n",
    "from thoth.solver import pip_compile\n",
    "from thoth.storages.graph.models import ALL_MODELS\n",
    "from gremlin_python.process.graph_traversal import has\n",
    "from gremlin_python.process.traversal import Operator\n",
    "from gremlin_python.process.traversal import Pop\n",
    "from gremlin_python.process.traversal import not_\n",
    "from gremlin_python.process.traversal import P\n",
    "from gremlin_python.process.graph_traversal import identity\n",
    "from gremlin_python.process.graph_traversal import path\n",
    "from gremlin_python.process.graph_traversal import outE\n",
    "from gremlin_python.process.graph_traversal import out\n",
    "from gremlin_python.process.graph_traversal import inE\n",
    "from gremlin_python.process.graph_traversal import inV\n",
    "from gremlin_python.process.graph_traversal import select\n",
    "from gremlin_python.process.graph_traversal import values\n",
    "from gremlin_python.process.graph_traversal import fold\n",
    "from gremlin_python.process.graph_traversal import constant\n",
    "from gremlin_python.process.graph_traversal import project"
   ]
  },
  {
   "cell_type": "markdown",
   "metadata": {},
   "source": [
    "# Graph Database Error"
   ]
  },
  {
   "cell_type": "markdown",
   "metadata": {},
   "source": [
    "## Package_name error in package vertex instances because of RPM error"
   ]
  },
  {
   "cell_type": "code",
   "execution_count": 3,
   "metadata": {
    "ExecuteTime": {
     "end_time": "2019-04-16T06:50:36.989133Z",
     "start_time": "2019-04-16T06:49:45.796775Z"
    }
   },
   "outputs": [],
   "source": [
    "packages_vector_all = gqr(g.V().has('__label__', 'package').groupCount().by(\"package_name\").next()).result"
   ]
  },
  {
   "cell_type": "code",
   "execution_count": 9,
   "metadata": {
    "ExecuteTime": {
     "end_time": "2019-04-16T07:12:20.247186Z",
     "start_time": "2019-04-16T07:12:20.243221Z"
    }
   },
   "outputs": [
    {
     "name": "stdout",
     "output_type": "stream",
     "text": [
      "22640\n"
     ]
    }
   ],
   "source": [
    "print(len(packages_vector_all))"
   ]
  },
  {
   "cell_type": "markdown",
   "metadata": {},
   "source": [
    "## Number of total vertex instances and sum of total vertex instances for each vertex label is not the same"
   ]
  },
  {
   "cell_type": "code",
   "execution_count": null,
   "metadata": {},
   "outputs": [],
   "source": [
    "#Take ids of vertices instances for each label\n",
    "vertices_ids_per_label = gqr(g.V().has(\"__label__\").group().by(\"__label__\").next()).result"
   ]
  },
  {
   "cell_type": "code",
   "execution_count": null,
   "metadata": {},
   "outputs": [],
   "source": [
    "vertices_ids_total = gqr(g.V().has(\"__label__\").valueMap(True).next()).result\n",
    "print(vertices_ids_total)"
   ]
  },
  {
   "cell_type": "code",
   "execution_count": null,
   "metadata": {},
   "outputs": [],
   "source": [
    "print(vertices_ids_per_label)"
   ]
  },
  {
   "cell_type": "markdown",
   "metadata": {
    "ExecuteTime": {
     "end_time": "2019-04-08T16:23:22.388528Z",
     "start_time": "2019-04-08T16:23:22.386074Z"
    }
   },
   "source": [
    "## Duplicates of packages version which leads to more has_artifact edges respect to the number of artifacts"
   ]
  },
  {
   "cell_type": "markdown",
   "metadata": {},
   "source": [
    "## There is one python package version without url_index (maybe it is also the missing vertex error 1.2)"
   ]
  },
  {
   "cell_type": "markdown",
   "metadata": {},
   "source": [
    "## Why RPM packages don't have url_index yet?"
   ]
  },
  {
   "cell_type": "code",
   "execution_count": 75,
   "metadata": {
    "ExecuteTime": {
     "end_time": "2019-04-16T12:11:43.384567Z",
     "start_time": "2019-04-16T12:11:12.951930Z"
    }
   },
   "outputs": [
    {
     "data": {
      "text/plain": [
       "{'__label__': ['python_artifact'],\n",
       " '__type__': ['vertex'],\n",
       " 'artifact_hash_sha256': ['210c02f923df33a8d0e461c86fdcbbb17228ff4f6d92609fc06370a98d283c2d']}"
      ]
     },
     "execution_count": 75,
     "metadata": {},
     "output_type": "execute_result"
    }
   ],
   "source": [
    "gqr(g.V(491576).valueMap().next()).result"
   ]
  },
  {
   "cell_type": "markdown",
   "metadata": {
    "ExecuteTime": {
     "end_time": "2019-04-08T15:50:03.922956Z",
     "start_time": "2019-04-08T15:50:03.915398Z"
    }
   },
   "source": [
    "# Query Optimization"
   ]
  },
  {
   "cell_type": "code",
   "execution_count": 11,
   "metadata": {
    "ExecuteTime": {
     "end_time": "2019-04-16T08:25:24.716901Z",
     "start_time": "2019-04-16T08:25:24.708246Z"
    }
   },
   "outputs": [],
   "source": [
    "def get_profiling_for_query(profiling):\n",
    "    \"\"\" Get the results of performances for the query in Janusgraph\"\"\"\n",
    "    results = {}\n",
    "    total_time = profiling['@value']['dur']\n",
    "    for metric in profiling['@value']['metrics']:\n",
    "        results[metric['@value']['id']] = {}\n",
    "        results[metric['@value']['id']]['dur'] = metric['@value']['dur']\n",
    "        results[metric['@value']['id']]['counts'] = metric['@value']['counts']\n",
    "        results[metric['@value']['id']]['name'] = metric['@value']['name']\n",
    "        results[metric['@value']['id']]['annotations'] = metric['@value']['annotations']\n",
    "    return total_time, results\n",
    "\n",
    "def get_table_results(total_time, results):\n",
    "    \"\"\" Visualize the results of performances for the query in Janusgraph\"\"\"\n",
    "    times = []\n",
    "\n",
    "    for key, value in results.items():\n",
    "        times.append([value['name'],value['dur']/1000])\n",
    "\n",
    "    times.append(['TOTAL',total_time/1000])\n",
    "    df = pd.DataFrame(times, columns = ['Name','Time [s]'])\n",
    "    pd.set_option('max_colwidth', 800)\n",
    "    return df"
   ]
  },
  {
   "cell_type": "markdown",
   "metadata": {},
   "source": [
    "## Analyze get_error_python_packages_count(self, unsolvable: bool = False, unparsable: bool = False)"
   ]
  },
  {
   "cell_type": "markdown",
   "metadata": {},
   "source": [
    "     def get_error_python_packages_count(self, unsolvable: bool = False, unparsable: bool = False) -> int:\n",
    "        \"\"\"Retrieve number of Python packages stored in the graph database with error flag.\"\"\"\n",
    "        if unsolvable and unparsable:\n",
    "            raise ValueError(\"Properties unsolvable and unparsable are disjoin\")\n",
    "\n",
    "        query = (\n",
    "            self.g.E()\n",
    "            .has(\"__label__\", Solved.__label__)\n",
    "            .has(\"__type__\", \"edge\")\n",
    "            .has(\"solver_document_id\")\n",
    "            .has(\"solver_datetime\")\n",
    "            .has(\"solver_error\", True)\n",
    "            .has(\"solver_error_unsolvable\", unsolvable)\n",
    "            .has(\"solver_error_unparsable\", unparsable)\n",
    "            .inV()\n",
    "            .has(\"__label__\", PythonPackageVersion.__label__)\n",
    "            .has(\"__type__\", \"vertex\")\n",
    "            .has(\"ecosystem\", \"pypi\")\n",
    "            .has(\"package_name\")\n",
    "            .has(\"package_version\")\n",
    "            .dedup()\n",
    "            .count()\n",
    "            .next()\n",
    "        )\n",
    "\n",
    "        return asyncio.get_event_loop().run_until_complete(query)"
   ]
  },
  {
   "cell_type": "code",
   "execution_count": 17,
   "metadata": {
    "ExecuteTime": {
     "end_time": "2019-04-16T09:10:39.241908Z",
     "start_time": "2019-04-16T09:09:20.654285Z"
    }
   },
   "outputs": [
    {
     "name": "stdout",
     "output_type": "stream",
     "text": [
      "CPU times: user 5.96 ms, sys: 1.99 ms, total: 7.95 ms\n",
      "Wall time: 1min 18s\n"
     ]
    },
    {
     "data": {
      "text/plain": [
       "3601"
      ]
     },
     "execution_count": 17,
     "metadata": {},
     "output_type": "execute_result"
    }
   ],
   "source": [
    "%%time\n",
    "graph_db.get_error_python_packages_count(unsolvable=True)"
   ]
  },
  {
   "cell_type": "markdown",
   "metadata": {},
   "source": [
    "### Current query"
   ]
  },
  {
   "cell_type": "code",
   "execution_count": 14,
   "metadata": {
    "ExecuteTime": {
     "end_time": "2019-04-16T09:05:17.530147Z",
     "start_time": "2019-04-16T09:03:17.087225Z"
    }
   },
   "outputs": [
    {
     "ename": "GremlinServerError",
     "evalue": "500: 598: A timeout occurred during traversal evaluation of [RequestMessage{, requestId=aa7c4c04-0f6f-4883-a5ad-e4f43e134e06, op='bytecode', processor='traversal', args={gremlin=[[], [E(), has(__type__, edge), has(__label__, solved), has(solver_datetime), has(solver_document_id), has(solver_error, true), has(solver_error_unsolvable, true), inV(), has(__label__, python_package_version), has(__type__, vertex), has(ecosystem, pypi), has(package_name), has(package_version), dedup(), count(), profile()]], aliases={g=g}}}] - consider increasing the limit given to scriptEvaluationTimeout",
     "output_type": "error",
     "traceback": [
      "\u001b[0;31m---------------------------------------------------------------------------\u001b[0m",
      "\u001b[0;31mGremlinServerError\u001b[0m                        Traceback (most recent call last)",
      "\u001b[0;32m<timed exec>\u001b[0m in \u001b[0;36m<module>\u001b[0;34m\u001b[0m\n",
      "\u001b[0;32m~/.local/share/virtualenvs/notebooks-3RWCrxj8/lib/python3.6/site-packages/thoth/lab/graph.py\u001b[0m in \u001b[0;36m__init__\u001b[0;34m(self, result)\u001b[0m\n\u001b[1;32m     17\u001b[0m         \u001b[0;32mif\u001b[0m \u001b[0misinstance\u001b[0m\u001b[0;34m(\u001b[0m\u001b[0mresult\u001b[0m\u001b[0;34m,\u001b[0m \u001b[0mtyping\u001b[0m\u001b[0;34m.\u001b[0m\u001b[0mCoroutine\u001b[0m\u001b[0;34m)\u001b[0m\u001b[0;34m:\u001b[0m\u001b[0;34m\u001b[0m\u001b[0;34m\u001b[0m\u001b[0m\n\u001b[1;32m     18\u001b[0m             \u001b[0mloop\u001b[0m \u001b[0;34m=\u001b[0m \u001b[0masyncio\u001b[0m\u001b[0;34m.\u001b[0m\u001b[0mget_event_loop\u001b[0m\u001b[0;34m(\u001b[0m\u001b[0;34m)\u001b[0m\u001b[0;34m\u001b[0m\u001b[0;34m\u001b[0m\u001b[0m\n\u001b[0;32m---> 19\u001b[0;31m             \u001b[0mresult\u001b[0m \u001b[0;34m=\u001b[0m \u001b[0mloop\u001b[0m\u001b[0;34m.\u001b[0m\u001b[0mrun_until_complete\u001b[0m\u001b[0;34m(\u001b[0m\u001b[0mresult\u001b[0m\u001b[0;34m)\u001b[0m\u001b[0;34m\u001b[0m\u001b[0;34m\u001b[0m\u001b[0m\n\u001b[0m\u001b[1;32m     20\u001b[0m \u001b[0;34m\u001b[0m\u001b[0m\n\u001b[1;32m     21\u001b[0m         \u001b[0mself\u001b[0m\u001b[0;34m.\u001b[0m\u001b[0mresult\u001b[0m \u001b[0;34m=\u001b[0m \u001b[0mresult\u001b[0m\u001b[0;34m\u001b[0m\u001b[0;34m\u001b[0m\u001b[0m\n",
      "\u001b[0;32m~/.local/share/virtualenvs/notebooks-3RWCrxj8/lib/python3.6/site-packages/uvloop/loop.pyx\u001b[0m in \u001b[0;36muvloop.loop.Loop.run_until_complete\u001b[0;34m()\u001b[0m\n",
      "\u001b[0;32m~/.local/share/virtualenvs/notebooks-3RWCrxj8/lib/python3.6/site-packages/aiogremlin/process/graph_traversal.py\u001b[0m in \u001b[0;36mnext\u001b[0;34m(self, amount)\u001b[0m\n\u001b[1;32m     54\u001b[0m         \u001b[0;32mif\u001b[0m \u001b[0;32mnot\u001b[0m \u001b[0mamount\u001b[0m\u001b[0;34m:\u001b[0m\u001b[0;34m\u001b[0m\u001b[0;34m\u001b[0m\u001b[0m\n\u001b[1;32m     55\u001b[0m             \u001b[0;32mtry\u001b[0m\u001b[0;34m:\u001b[0m\u001b[0;34m\u001b[0m\u001b[0;34m\u001b[0m\u001b[0m\n\u001b[0;32m---> 56\u001b[0;31m                 \u001b[0;32mreturn\u001b[0m \u001b[0mawait\u001b[0m \u001b[0mself\u001b[0m\u001b[0;34m.\u001b[0m\u001b[0m__anext__\u001b[0m\u001b[0;34m(\u001b[0m\u001b[0;34m)\u001b[0m\u001b[0;34m\u001b[0m\u001b[0;34m\u001b[0m\u001b[0m\n\u001b[0m\u001b[1;32m     57\u001b[0m             \u001b[0;32mexcept\u001b[0m \u001b[0mStopAsyncIteration\u001b[0m\u001b[0;34m:\u001b[0m\u001b[0;34m\u001b[0m\u001b[0;34m\u001b[0m\u001b[0m\n\u001b[1;32m     58\u001b[0m                 \u001b[0;32mreturn\u001b[0m\u001b[0;34m\u001b[0m\u001b[0;34m\u001b[0m\u001b[0m\n",
      "\u001b[0;32m~/.local/share/virtualenvs/notebooks-3RWCrxj8/lib/python3.6/site-packages/aiogremlin/process/graph_traversal.py\u001b[0m in \u001b[0;36m__anext__\u001b[0;34m(self)\u001b[0m\n\u001b[1;32m     15\u001b[0m             \u001b[0mawait\u001b[0m \u001b[0mself\u001b[0m\u001b[0;34m.\u001b[0m\u001b[0mtraversal_strategies\u001b[0m\u001b[0;34m.\u001b[0m\u001b[0mapply_strategies\u001b[0m\u001b[0;34m(\u001b[0m\u001b[0mself\u001b[0m\u001b[0;34m)\u001b[0m\u001b[0;34m\u001b[0m\u001b[0;34m\u001b[0m\u001b[0m\n\u001b[1;32m     16\u001b[0m         \u001b[0;32mif\u001b[0m \u001b[0mself\u001b[0m\u001b[0;34m.\u001b[0m\u001b[0mlast_traverser\u001b[0m \u001b[0;32mis\u001b[0m \u001b[0;32mNone\u001b[0m\u001b[0;34m:\u001b[0m\u001b[0;34m\u001b[0m\u001b[0;34m\u001b[0m\u001b[0m\n\u001b[0;32m---> 17\u001b[0;31m             \u001b[0mself\u001b[0m\u001b[0;34m.\u001b[0m\u001b[0mlast_traverser\u001b[0m \u001b[0;34m=\u001b[0m \u001b[0mawait\u001b[0m \u001b[0mself\u001b[0m\u001b[0;34m.\u001b[0m\u001b[0mtraversers\u001b[0m\u001b[0;34m.\u001b[0m\u001b[0m__anext__\u001b[0m\u001b[0;34m(\u001b[0m\u001b[0;34m)\u001b[0m\u001b[0;34m\u001b[0m\u001b[0;34m\u001b[0m\u001b[0m\n\u001b[0m\u001b[1;32m     18\u001b[0m         \u001b[0mobject\u001b[0m \u001b[0;34m=\u001b[0m \u001b[0mself\u001b[0m\u001b[0;34m.\u001b[0m\u001b[0mlast_traverser\u001b[0m\u001b[0;34m.\u001b[0m\u001b[0mobject\u001b[0m\u001b[0;34m\u001b[0m\u001b[0;34m\u001b[0m\u001b[0m\n\u001b[1;32m     19\u001b[0m         \u001b[0mself\u001b[0m\u001b[0;34m.\u001b[0m\u001b[0mlast_traverser\u001b[0m\u001b[0;34m.\u001b[0m\u001b[0mbulk\u001b[0m \u001b[0;34m=\u001b[0m \u001b[0mself\u001b[0m\u001b[0;34m.\u001b[0m\u001b[0mlast_traverser\u001b[0m\u001b[0;34m.\u001b[0m\u001b[0mbulk\u001b[0m \u001b[0;34m-\u001b[0m \u001b[0;36m1\u001b[0m\u001b[0;34m\u001b[0m\u001b[0;34m\u001b[0m\u001b[0m\n",
      "\u001b[0;32m~/.local/share/virtualenvs/notebooks-3RWCrxj8/lib/python3.6/site-packages/aiogremlin/driver/resultset.py\u001b[0m in \u001b[0;36m__anext__\u001b[0;34m(self)\u001b[0m\n\u001b[1;32m     64\u001b[0m \u001b[0;34m\u001b[0m\u001b[0m\n\u001b[1;32m     65\u001b[0m     \u001b[0;34masync\u001b[0m \u001b[0;32mdef\u001b[0m \u001b[0m__anext__\u001b[0m\u001b[0;34m(\u001b[0m\u001b[0mself\u001b[0m\u001b[0;34m)\u001b[0m\u001b[0;34m:\u001b[0m\u001b[0;34m\u001b[0m\u001b[0;34m\u001b[0m\u001b[0m\n\u001b[0;32m---> 66\u001b[0;31m         \u001b[0mmsg\u001b[0m \u001b[0;34m=\u001b[0m \u001b[0mawait\u001b[0m \u001b[0mself\u001b[0m\u001b[0;34m.\u001b[0m\u001b[0mone\u001b[0m\u001b[0;34m(\u001b[0m\u001b[0;34m)\u001b[0m\u001b[0;34m\u001b[0m\u001b[0;34m\u001b[0m\u001b[0m\n\u001b[0m\u001b[1;32m     67\u001b[0m         \u001b[0;32mif\u001b[0m \u001b[0;32mnot\u001b[0m \u001b[0mmsg\u001b[0m\u001b[0;34m:\u001b[0m\u001b[0;34m\u001b[0m\u001b[0;34m\u001b[0m\u001b[0m\n\u001b[1;32m     68\u001b[0m             \u001b[0;32mraise\u001b[0m \u001b[0mStopAsyncIteration\u001b[0m\u001b[0;34m\u001b[0m\u001b[0;34m\u001b[0m\u001b[0m\n",
      "\u001b[0;32m~/.local/share/virtualenvs/notebooks-3RWCrxj8/lib/python3.6/site-packages/aiogremlin/driver/resultset.py\u001b[0m in \u001b[0;36mwrapper\u001b[0;34m(self)\u001b[0m\n\u001b[1;32m     14\u001b[0m                 raise exception.GremlinServerError(\n\u001b[1;32m     15\u001b[0m                     \u001b[0mmsg\u001b[0m\u001b[0;34m.\u001b[0m\u001b[0mstatus_code\u001b[0m\u001b[0;34m,\u001b[0m\u001b[0;34m\u001b[0m\u001b[0;34m\u001b[0m\u001b[0m\n\u001b[0;32m---> 16\u001b[0;31m                     \"{0}: {1}\".format(msg.status_code, msg.message))\n\u001b[0m\u001b[1;32m     17\u001b[0m             \u001b[0mmsg\u001b[0m \u001b[0;34m=\u001b[0m \u001b[0mmsg\u001b[0m\u001b[0;34m.\u001b[0m\u001b[0mdata\u001b[0m\u001b[0;34m\u001b[0m\u001b[0;34m\u001b[0m\u001b[0m\n\u001b[1;32m     18\u001b[0m         \u001b[0;32mreturn\u001b[0m \u001b[0mmsg\u001b[0m\u001b[0;34m\u001b[0m\u001b[0;34m\u001b[0m\u001b[0m\n",
      "\u001b[0;31mGremlinServerError\u001b[0m: 500: 598: A timeout occurred during traversal evaluation of [RequestMessage{, requestId=aa7c4c04-0f6f-4883-a5ad-e4f43e134e06, op='bytecode', processor='traversal', args={gremlin=[[], [E(), has(__type__, edge), has(__label__, solved), has(solver_datetime), has(solver_document_id), has(solver_error, true), has(solver_error_unsolvable, true), inV(), has(__label__, python_package_version), has(__type__, vertex), has(ecosystem, pypi), has(package_name), has(package_version), dedup(), count(), profile()]], aliases={g=g}}}] - consider increasing the limit given to scriptEvaluationTimeout"
     ]
    }
   ],
   "source": [
    "%%time\n",
    "profiling = gqr(g.E()\n",
    "    .has(\"__type__\", \"edge\")\n",
    "    .has(\"__label__\", \"solved\")\n",
    "    .has(\"solver_datetime\")\n",
    "    .has(\"solver_document_id\")\n",
    "    .has(\"solver_error\", True)\n",
    "    .has(\"solver_error_unsolvable\", True)\n",
    "    .inV()\n",
    "    .has(\"__label__\", \"python_package_version\")\n",
    "    .has(\"__type__\", \"vertex\")\n",
    "    .has(\"ecosystem\", \"pypi\")\n",
    "    .has(\"package_name\")\n",
    "    .has(\"package_version\")\n",
    "    .dedup()\n",
    "    .count()\n",
    "    .profile()\n",
    "    .next()\n",
    "   ).result\n",
    "\n",
    "q1_total_time, q1_contributes = get_profiling_for_query(profiling)\n",
    "df = get_table_results(q1_total_time, q1_contributes)"
   ]
  },
  {
   "cell_type": "code",
   "execution_count": null,
   "metadata": {},
   "outputs": [],
   "source": [
    "df"
   ]
  },
  {
   "cell_type": "markdown",
   "metadata": {},
   "source": [
    "### Flatmap for all has() filter"
   ]
  },
  {
   "cell_type": "code",
   "execution_count": 13,
   "metadata": {
    "ExecuteTime": {
     "end_time": "2019-04-16T09:03:17.084354Z",
     "start_time": "2019-04-16T09:01:26.207431Z"
    }
   },
   "outputs": [
    {
     "name": "stdout",
     "output_type": "stream",
     "text": [
      "CPU times: user 885 ms, sys: 163 ms, total: 1.05 s\n",
      "Wall time: 1min 50s\n"
     ]
    }
   ],
   "source": [
    "%%time\n",
    "profiling = gqr(g.E()\n",
    "    .has(\"__label__\", \"solved\")\n",
    "    .flatMap(\n",
    "    has(\"__type__\", \"edge\")\n",
    "    .has(\"solver_datetime\")\n",
    "    .has(\"solver_document_id\")\n",
    "    .has(\"solver_error\", True)\n",
    "    .has(\"solver_error_unsolvable\", True)\n",
    "    .inV()\n",
    "    .has(\"__label__\", \"python_package_version\")\n",
    "    .has(\"__type__\", \"vertex\")\n",
    "    .has(\"ecosystem\", \"pypi\")\n",
    "    .has(\"package_name\")\n",
    "    .has(\"package_version\")\n",
    "    )\n",
    "    .dedup()\n",
    "    .count()\n",
    "    .profile()\n",
    "    .next()\n",
    "   ).result\n",
    "\n",
    "q2_total_time, q2_contributes = get_profiling_for_query(profiling)\n",
    "df2 = get_table_results(q2_total_time, q2_contributes)"
   ]
  },
  {
   "cell_type": "code",
   "execution_count": 16,
   "metadata": {
    "ExecuteTime": {
     "end_time": "2019-04-16T09:08:49.354478Z",
     "start_time": "2019-04-16T09:08:49.335692Z"
    }
   },
   "outputs": [
    {
     "data": {
      "text/html": [
       "<div>\n",
       "<style scoped>\n",
       "    .dataframe tbody tr th:only-of-type {\n",
       "        vertical-align: middle;\n",
       "    }\n",
       "\n",
       "    .dataframe tbody tr th {\n",
       "        vertical-align: top;\n",
       "    }\n",
       "\n",
       "    .dataframe thead th {\n",
       "        text-align: right;\n",
       "    }\n",
       "</style>\n",
       "<table border=\"1\" class=\"dataframe\">\n",
       "  <thead>\n",
       "    <tr style=\"text-align: right;\">\n",
       "      <th></th>\n",
       "      <th>Name</th>\n",
       "      <th>Time [s]</th>\n",
       "    </tr>\n",
       "  </thead>\n",
       "  <tbody>\n",
       "    <tr>\n",
       "      <th>0</th>\n",
       "      <td>JanusGraphStep([],[__label__.eq(solved)])</td>\n",
       "      <td>39.904566</td>\n",
       "    </tr>\n",
       "    <tr>\n",
       "      <th>1</th>\n",
       "      <td>TraversalFlatMapStep([HasStep([__type__.eq(edge), solver_error.eq(true), solver_error_unsolvable.eq(true)]), ProfileStep, TraversalFilterStep([JanusGraphPropertiesStep([solver_datetime],value), ProfileStep]), ProfileStep, TraversalFilterStep([JanusGraphPropertiesStep([solver_document_id],value), ProfileStep]), ProfileStep, EdgeVertexStep(IN), ProfileStep, HasStep([__label__.eq(python_package_version), __type__.eq(vertex), ecosystem.eq(pypi)]), ProfileStep, TraversalFilterStep([JanusGraphPropertiesStep([package_name],value), ProfileStep]), ProfileStep, TraversalFilterStep([JanusGraphPropertiesStep([package_version],value), ProfileStep]), ProfileStep])</td>\n",
       "      <td>11.339835</td>\n",
       "    </tr>\n",
       "    <tr>\n",
       "      <th>2</th>\n",
       "      <td>DedupGlobalStep</td>\n",
       "      <td>0.013017</td>\n",
       "    </tr>\n",
       "    <tr>\n",
       "      <th>3</th>\n",
       "      <td>CountGlobalStep</td>\n",
       "      <td>0.002932</td>\n",
       "    </tr>\n",
       "    <tr>\n",
       "      <th>4</th>\n",
       "      <td>TOTAL</td>\n",
       "      <td>51.260351</td>\n",
       "    </tr>\n",
       "  </tbody>\n",
       "</table>\n",
       "</div>"
      ],
      "text/plain": [
       "                                                                                                                                                                                                                                                                                                                                                                                                                                                                                                                                                                                                                                                                                 Name  \\\n",
       "0                                                                                                                                                                                                                                                                                                                                                                                                                                                                                                                                                                                                                                           JanusGraphStep([],[__label__.eq(solved)])   \n",
       "1  TraversalFlatMapStep([HasStep([__type__.eq(edge), solver_error.eq(true), solver_error_unsolvable.eq(true)]), ProfileStep, TraversalFilterStep([JanusGraphPropertiesStep([solver_datetime],value), ProfileStep]), ProfileStep, TraversalFilterStep([JanusGraphPropertiesStep([solver_document_id],value), ProfileStep]), ProfileStep, EdgeVertexStep(IN), ProfileStep, HasStep([__label__.eq(python_package_version), __type__.eq(vertex), ecosystem.eq(pypi)]), ProfileStep, TraversalFilterStep([JanusGraphPropertiesStep([package_name],value), ProfileStep]), ProfileStep, TraversalFilterStep([JanusGraphPropertiesStep([package_version],value), ProfileStep]), ProfileStep])   \n",
       "2                                                                                                                                                                                                                                                                                                                                                                                                                                                                                                                                                                                                                                                                     DedupGlobalStep   \n",
       "3                                                                                                                                                                                                                                                                                                                                                                                                                                                                                                                                                                                                                                                                     CountGlobalStep   \n",
       "4                                                                                                                                                                                                                                                                                                                                                                                                                                                                                                                                                                                                                                                                               TOTAL   \n",
       "\n",
       "    Time [s]  \n",
       "0  39.904566  \n",
       "1  11.339835  \n",
       "2   0.013017  \n",
       "3   0.002932  \n",
       "4  51.260351  "
      ]
     },
     "execution_count": 16,
     "metadata": {},
     "output_type": "execute_result"
    }
   ],
   "source": [
    "df2"
   ]
  },
  {
   "cell_type": "markdown",
   "metadata": {
    "ExecuteTime": {
     "end_time": "2019-04-16T09:10:39.255116Z",
     "start_time": "2019-04-16T09:10:39.248895Z"
    }
   },
   "source": [
    "### All has() filters and flatmap for has(```__type__```) filter"
   ]
  },
  {
   "cell_type": "code",
   "execution_count": 33,
   "metadata": {
    "ExecuteTime": {
     "end_time": "2019-04-16T09:22:48.850669Z",
     "start_time": "2019-04-16T09:21:32.439694Z"
    }
   },
   "outputs": [
    {
     "name": "stdout",
     "output_type": "stream",
     "text": [
      "CPU times: user 190 ms, sys: 47.2 ms, total: 237 ms\n",
      "Wall time: 1min 16s\n"
     ]
    }
   ],
   "source": [
    "%%time\n",
    "profiling = gqr(g.E()\n",
    "    .has(\"__label__\", \"solved\")\n",
    "    .flatMap(\n",
    "    has(\"__type__\", \"edge\")\n",
    "    )\n",
    "    .has(\"solver_datetime\")\n",
    "    .has(\"solver_document_id\")\n",
    "    .has(\"solver_error\", True)\n",
    "    .has(\"solver_error_unsolvable\", True)\n",
    "    .inV()\n",
    "    .has(\"__label__\", \"python_package_version\")\n",
    "    .has(\"__type__\", \"vertex\")\n",
    "    .has(\"ecosystem\", \"pypi\")\n",
    "    .has(\"package_name\")\n",
    "    .has(\"package_version\")\n",
    "    .dedup()\n",
    "    .count()\n",
    "    .profile()\n",
    "    .next()\n",
    "   ).result\n",
    "\n",
    "q3_total_time, q3_contributes = get_profiling_for_query(profiling)\n",
    "df3 = get_table_results(q3_total_time, q3_contributes)"
   ]
  },
  {
   "cell_type": "code",
   "execution_count": 35,
   "metadata": {
    "ExecuteTime": {
     "end_time": "2019-04-16T09:22:48.868669Z",
     "start_time": "2019-04-16T09:22:48.861650Z"
    },
    "scrolled": true
   },
   "outputs": [
    {
     "data": {
      "text/html": [
       "<div>\n",
       "<style scoped>\n",
       "    .dataframe tbody tr th:only-of-type {\n",
       "        vertical-align: middle;\n",
       "    }\n",
       "\n",
       "    .dataframe tbody tr th {\n",
       "        vertical-align: top;\n",
       "    }\n",
       "\n",
       "    .dataframe thead th {\n",
       "        text-align: right;\n",
       "    }\n",
       "</style>\n",
       "<table border=\"1\" class=\"dataframe\">\n",
       "  <thead>\n",
       "    <tr style=\"text-align: right;\">\n",
       "      <th></th>\n",
       "      <th>Name</th>\n",
       "      <th>Time [s]</th>\n",
       "    </tr>\n",
       "  </thead>\n",
       "  <tbody>\n",
       "    <tr>\n",
       "      <th>0</th>\n",
       "      <td>JanusGraphStep([],[__label__.eq(solved)])</td>\n",
       "      <td>44.107655</td>\n",
       "    </tr>\n",
       "    <tr>\n",
       "      <th>1</th>\n",
       "      <td>TraversalFlatMapStep([HasStep([__type__.eq(edge)]), ProfileStep])</td>\n",
       "      <td>4.118091</td>\n",
       "    </tr>\n",
       "    <tr>\n",
       "      <th>2</th>\n",
       "      <td>HasStep([solver_error.eq(true), solver_error_unsolvable.eq(true)])</td>\n",
       "      <td>0.932199</td>\n",
       "    </tr>\n",
       "    <tr>\n",
       "      <th>3</th>\n",
       "      <td>TraversalFilterStep([JanusGraphPropertiesStep([solver_datetime],value), ProfileStep])</td>\n",
       "      <td>0.062947</td>\n",
       "    </tr>\n",
       "    <tr>\n",
       "      <th>4</th>\n",
       "      <td>TraversalFilterStep([JanusGraphPropertiesStep([solver_document_id],value), ProfileStep])</td>\n",
       "      <td>0.531750</td>\n",
       "    </tr>\n",
       "    <tr>\n",
       "      <th>5</th>\n",
       "      <td>EdgeVertexStep(IN)</td>\n",
       "      <td>0.013600</td>\n",
       "    </tr>\n",
       "    <tr>\n",
       "      <th>6</th>\n",
       "      <td>NoOpBarrierStep(2500)</td>\n",
       "      <td>0.039019</td>\n",
       "    </tr>\n",
       "    <tr>\n",
       "      <th>7</th>\n",
       "      <td>HasStep([__label__.eq(python_package_version), __type__.eq(vertex), ecosystem.eq(pypi)])</td>\n",
       "      <td>0.965144</td>\n",
       "    </tr>\n",
       "    <tr>\n",
       "      <th>8</th>\n",
       "      <td>TraversalFilterStep([JanusGraphPropertiesStep([package_name],value), ProfileStep])</td>\n",
       "      <td>0.081331</td>\n",
       "    </tr>\n",
       "    <tr>\n",
       "      <th>9</th>\n",
       "      <td>TraversalFilterStep([JanusGraphPropertiesStep([package_version],value), ProfileStep])</td>\n",
       "      <td>0.070526</td>\n",
       "    </tr>\n",
       "    <tr>\n",
       "      <th>10</th>\n",
       "      <td>DedupGlobalStep</td>\n",
       "      <td>0.005863</td>\n",
       "    </tr>\n",
       "    <tr>\n",
       "      <th>11</th>\n",
       "      <td>CountGlobalStep</td>\n",
       "      <td>0.002360</td>\n",
       "    </tr>\n",
       "    <tr>\n",
       "      <th>12</th>\n",
       "      <td>TOTAL</td>\n",
       "      <td>50.930487</td>\n",
       "    </tr>\n",
       "  </tbody>\n",
       "</table>\n",
       "</div>"
      ],
      "text/plain": [
       "                                                                                        Name  \\\n",
       "0                                                  JanusGraphStep([],[__label__.eq(solved)])   \n",
       "1                          TraversalFlatMapStep([HasStep([__type__.eq(edge)]), ProfileStep])   \n",
       "2                         HasStep([solver_error.eq(true), solver_error_unsolvable.eq(true)])   \n",
       "3      TraversalFilterStep([JanusGraphPropertiesStep([solver_datetime],value), ProfileStep])   \n",
       "4   TraversalFilterStep([JanusGraphPropertiesStep([solver_document_id],value), ProfileStep])   \n",
       "5                                                                         EdgeVertexStep(IN)   \n",
       "6                                                                      NoOpBarrierStep(2500)   \n",
       "7   HasStep([__label__.eq(python_package_version), __type__.eq(vertex), ecosystem.eq(pypi)])   \n",
       "8         TraversalFilterStep([JanusGraphPropertiesStep([package_name],value), ProfileStep])   \n",
       "9      TraversalFilterStep([JanusGraphPropertiesStep([package_version],value), ProfileStep])   \n",
       "10                                                                           DedupGlobalStep   \n",
       "11                                                                           CountGlobalStep   \n",
       "12                                                                                     TOTAL   \n",
       "\n",
       "     Time [s]  \n",
       "0   44.107655  \n",
       "1    4.118091  \n",
       "2    0.932199  \n",
       "3    0.062947  \n",
       "4    0.531750  \n",
       "5    0.013600  \n",
       "6    0.039019  \n",
       "7    0.965144  \n",
       "8    0.081331  \n",
       "9    0.070526  \n",
       "10   0.005863  \n",
       "11   0.002360  \n",
       "12  50.930487  "
      ]
     },
     "execution_count": 35,
     "metadata": {},
     "output_type": "execute_result"
    }
   ],
   "source": [
    "df3"
   ]
  },
  {
   "cell_type": "markdown",
   "metadata": {},
   "source": [
    "### All has() filters except ```__type__```"
   ]
  },
  {
   "cell_type": "code",
   "execution_count": 32,
   "metadata": {
    "ExecuteTime": {
     "end_time": "2019-04-16T09:21:32.437771Z",
     "start_time": "2019-04-16T09:19:56.534590Z"
    }
   },
   "outputs": [
    {
     "name": "stdout",
     "output_type": "stream",
     "text": [
      "CPU times: user 790 ms, sys: 222 ms, total: 1.01 s\n",
      "Wall time: 1min 35s\n"
     ]
    }
   ],
   "source": [
    "%%time\n",
    "profiling = gqr(g.E()\n",
    "    .has(\"__label__\", \"solved\")\n",
    "    .has(\"solver_datetime\")\n",
    "    .has(\"solver_document_id\")\n",
    "    .has(\"solver_error\", True)\n",
    "    .has(\"solver_error_unsolvable\", True)\n",
    "    .inV()\n",
    "    .has(\"__label__\", \"python_package_version\")\n",
    "    .has(\"__type__\", \"vertex\")\n",
    "    .has(\"ecosystem\", \"pypi\")\n",
    "    .has(\"package_name\")\n",
    "    .has(\"package_version\")\n",
    "    .dedup()\n",
    "    .count()\n",
    "    .profile()\n",
    "    .next()\n",
    "   ).result\n",
    "\n",
    "q4_total_time, q4_contributes = get_profiling_for_query(profiling)\n",
    "df4 = get_table_results(q4_total_time, q4_contributes)"
   ]
  },
  {
   "cell_type": "code",
   "execution_count": 36,
   "metadata": {
    "ExecuteTime": {
     "end_time": "2019-04-16T09:22:48.878070Z",
     "start_time": "2019-04-16T09:22:48.870212Z"
    }
   },
   "outputs": [
    {
     "data": {
      "text/html": [
       "<div>\n",
       "<style scoped>\n",
       "    .dataframe tbody tr th:only-of-type {\n",
       "        vertical-align: middle;\n",
       "    }\n",
       "\n",
       "    .dataframe tbody tr th {\n",
       "        vertical-align: top;\n",
       "    }\n",
       "\n",
       "    .dataframe thead th {\n",
       "        text-align: right;\n",
       "    }\n",
       "</style>\n",
       "<table border=\"1\" class=\"dataframe\">\n",
       "  <thead>\n",
       "    <tr style=\"text-align: right;\">\n",
       "      <th></th>\n",
       "      <th>Name</th>\n",
       "      <th>Time [s]</th>\n",
       "    </tr>\n",
       "  </thead>\n",
       "  <tbody>\n",
       "    <tr>\n",
       "      <th>0</th>\n",
       "      <td>JanusGraphStep([],[__label__.eq(solved), solver_error.eq(true), solver_error_unsolvable.eq(true)])</td>\n",
       "      <td>42.273323</td>\n",
       "    </tr>\n",
       "    <tr>\n",
       "      <th>1</th>\n",
       "      <td>TraversalFilterStep([JanusGraphPropertiesStep([solver_datetime],value), ProfileStep])</td>\n",
       "      <td>0.086303</td>\n",
       "    </tr>\n",
       "    <tr>\n",
       "      <th>2</th>\n",
       "      <td>TraversalFilterStep([JanusGraphPropertiesStep([solver_document_id],value), ProfileStep])</td>\n",
       "      <td>0.062518</td>\n",
       "    </tr>\n",
       "    <tr>\n",
       "      <th>3</th>\n",
       "      <td>EdgeVertexStep(IN)</td>\n",
       "      <td>0.963350</td>\n",
       "    </tr>\n",
       "    <tr>\n",
       "      <th>4</th>\n",
       "      <td>HasStep([__label__.eq(python_package_version), __type__.eq(vertex), ecosystem.eq(pypi)])</td>\n",
       "      <td>1.089523</td>\n",
       "    </tr>\n",
       "    <tr>\n",
       "      <th>5</th>\n",
       "      <td>TraversalFilterStep([JanusGraphPropertiesStep([package_name],value), ProfileStep])</td>\n",
       "      <td>0.249286</td>\n",
       "    </tr>\n",
       "    <tr>\n",
       "      <th>6</th>\n",
       "      <td>TraversalFilterStep([JanusGraphPropertiesStep([package_version],value), ProfileStep])</td>\n",
       "      <td>0.230686</td>\n",
       "    </tr>\n",
       "    <tr>\n",
       "      <th>7</th>\n",
       "      <td>DedupGlobalStep</td>\n",
       "      <td>0.012747</td>\n",
       "    </tr>\n",
       "    <tr>\n",
       "      <th>8</th>\n",
       "      <td>CountGlobalStep</td>\n",
       "      <td>0.002623</td>\n",
       "    </tr>\n",
       "    <tr>\n",
       "      <th>9</th>\n",
       "      <td>TOTAL</td>\n",
       "      <td>44.970359</td>\n",
       "    </tr>\n",
       "  </tbody>\n",
       "</table>\n",
       "</div>"
      ],
      "text/plain": [
       "                                                                                                 Name  \\\n",
       "0  JanusGraphStep([],[__label__.eq(solved), solver_error.eq(true), solver_error_unsolvable.eq(true)])   \n",
       "1               TraversalFilterStep([JanusGraphPropertiesStep([solver_datetime],value), ProfileStep])   \n",
       "2            TraversalFilterStep([JanusGraphPropertiesStep([solver_document_id],value), ProfileStep])   \n",
       "3                                                                                  EdgeVertexStep(IN)   \n",
       "4            HasStep([__label__.eq(python_package_version), __type__.eq(vertex), ecosystem.eq(pypi)])   \n",
       "5                  TraversalFilterStep([JanusGraphPropertiesStep([package_name],value), ProfileStep])   \n",
       "6               TraversalFilterStep([JanusGraphPropertiesStep([package_version],value), ProfileStep])   \n",
       "7                                                                                     DedupGlobalStep   \n",
       "8                                                                                     CountGlobalStep   \n",
       "9                                                                                               TOTAL   \n",
       "\n",
       "    Time [s]  \n",
       "0  42.273323  \n",
       "1   0.086303  \n",
       "2   0.062518  \n",
       "3   0.963350  \n",
       "4   1.089523  \n",
       "5   0.249286  \n",
       "6   0.230686  \n",
       "7   0.012747  \n",
       "8   0.002623  \n",
       "9  44.970359  "
      ]
     },
     "execution_count": 36,
     "metadata": {},
     "output_type": "execute_result"
    }
   ],
   "source": [
    "df4"
   ]
  },
  {
   "cell_type": "markdown",
   "metadata": {
    "ExecuteTime": {
     "end_time": "2019-04-16T09:15:45.849539Z",
     "start_time": "2019-04-16T09:15:45.842443Z"
    }
   },
   "source": [
    "### Only one has() filter"
   ]
  },
  {
   "cell_type": "code",
   "execution_count": 37,
   "metadata": {
    "ExecuteTime": {
     "end_time": "2019-04-16T09:24:04.205659Z",
     "start_time": "2019-04-16T09:22:48.879393Z"
    }
   },
   "outputs": [
    {
     "name": "stdout",
     "output_type": "stream",
     "text": [
      "CPU times: user 7.96 ms, sys: 1.88 ms, total: 9.84 ms\n",
      "Wall time: 1min 15s\n"
     ]
    }
   ],
   "source": [
    "%%time\n",
    "gqr(g.E()\n",
    "    .has(\"solver_error\", True)\n",
    "    .has(\"solver_error_unsolvable\", True)\n",
    "    .inV()\n",
    "    .has(\"__label__\", \"python_package_version\")\n",
    "    .dedup()\n",
    "    .count()\n",
    "    .profile()\n",
    "    .next()\n",
    "   ).result\n",
    "\n",
    "q5_total_time, q5_contributes = get_profiling_for_query(profiling)\n",
    "df5 = get_table_results(q5_total_time, q5_contributes)"
   ]
  },
  {
   "cell_type": "code",
   "execution_count": 38,
   "metadata": {
    "ExecuteTime": {
     "end_time": "2019-04-16T09:24:04.219715Z",
     "start_time": "2019-04-16T09:24:04.207672Z"
    }
   },
   "outputs": [
    {
     "data": {
      "text/html": [
       "<div>\n",
       "<style scoped>\n",
       "    .dataframe tbody tr th:only-of-type {\n",
       "        vertical-align: middle;\n",
       "    }\n",
       "\n",
       "    .dataframe tbody tr th {\n",
       "        vertical-align: top;\n",
       "    }\n",
       "\n",
       "    .dataframe thead th {\n",
       "        text-align: right;\n",
       "    }\n",
       "</style>\n",
       "<table border=\"1\" class=\"dataframe\">\n",
       "  <thead>\n",
       "    <tr style=\"text-align: right;\">\n",
       "      <th></th>\n",
       "      <th>Name</th>\n",
       "      <th>Time [s]</th>\n",
       "    </tr>\n",
       "  </thead>\n",
       "  <tbody>\n",
       "    <tr>\n",
       "      <th>0</th>\n",
       "      <td>JanusGraphStep([],[__label__.eq(solved)])</td>\n",
       "      <td>44.107655</td>\n",
       "    </tr>\n",
       "    <tr>\n",
       "      <th>1</th>\n",
       "      <td>TraversalFlatMapStep([HasStep([__type__.eq(edge)]), ProfileStep])</td>\n",
       "      <td>4.118091</td>\n",
       "    </tr>\n",
       "    <tr>\n",
       "      <th>2</th>\n",
       "      <td>HasStep([solver_error.eq(true), solver_error_unsolvable.eq(true)])</td>\n",
       "      <td>0.932199</td>\n",
       "    </tr>\n",
       "    <tr>\n",
       "      <th>3</th>\n",
       "      <td>TraversalFilterStep([JanusGraphPropertiesStep([solver_datetime],value), ProfileStep])</td>\n",
       "      <td>0.062947</td>\n",
       "    </tr>\n",
       "    <tr>\n",
       "      <th>4</th>\n",
       "      <td>TraversalFilterStep([JanusGraphPropertiesStep([solver_document_id],value), ProfileStep])</td>\n",
       "      <td>0.531750</td>\n",
       "    </tr>\n",
       "    <tr>\n",
       "      <th>5</th>\n",
       "      <td>EdgeVertexStep(IN)</td>\n",
       "      <td>0.013600</td>\n",
       "    </tr>\n",
       "    <tr>\n",
       "      <th>6</th>\n",
       "      <td>NoOpBarrierStep(2500)</td>\n",
       "      <td>0.039019</td>\n",
       "    </tr>\n",
       "    <tr>\n",
       "      <th>7</th>\n",
       "      <td>HasStep([__label__.eq(python_package_version), __type__.eq(vertex), ecosystem.eq(pypi)])</td>\n",
       "      <td>0.965144</td>\n",
       "    </tr>\n",
       "    <tr>\n",
       "      <th>8</th>\n",
       "      <td>TraversalFilterStep([JanusGraphPropertiesStep([package_name],value), ProfileStep])</td>\n",
       "      <td>0.081331</td>\n",
       "    </tr>\n",
       "    <tr>\n",
       "      <th>9</th>\n",
       "      <td>TraversalFilterStep([JanusGraphPropertiesStep([package_version],value), ProfileStep])</td>\n",
       "      <td>0.070526</td>\n",
       "    </tr>\n",
       "    <tr>\n",
       "      <th>10</th>\n",
       "      <td>DedupGlobalStep</td>\n",
       "      <td>0.005863</td>\n",
       "    </tr>\n",
       "    <tr>\n",
       "      <th>11</th>\n",
       "      <td>CountGlobalStep</td>\n",
       "      <td>0.002360</td>\n",
       "    </tr>\n",
       "    <tr>\n",
       "      <th>12</th>\n",
       "      <td>TOTAL</td>\n",
       "      <td>50.930487</td>\n",
       "    </tr>\n",
       "  </tbody>\n",
       "</table>\n",
       "</div>"
      ],
      "text/plain": [
       "                                                                                        Name  \\\n",
       "0                                                  JanusGraphStep([],[__label__.eq(solved)])   \n",
       "1                          TraversalFlatMapStep([HasStep([__type__.eq(edge)]), ProfileStep])   \n",
       "2                         HasStep([solver_error.eq(true), solver_error_unsolvable.eq(true)])   \n",
       "3      TraversalFilterStep([JanusGraphPropertiesStep([solver_datetime],value), ProfileStep])   \n",
       "4   TraversalFilterStep([JanusGraphPropertiesStep([solver_document_id],value), ProfileStep])   \n",
       "5                                                                         EdgeVertexStep(IN)   \n",
       "6                                                                      NoOpBarrierStep(2500)   \n",
       "7   HasStep([__label__.eq(python_package_version), __type__.eq(vertex), ecosystem.eq(pypi)])   \n",
       "8         TraversalFilterStep([JanusGraphPropertiesStep([package_name],value), ProfileStep])   \n",
       "9      TraversalFilterStep([JanusGraphPropertiesStep([package_version],value), ProfileStep])   \n",
       "10                                                                           DedupGlobalStep   \n",
       "11                                                                           CountGlobalStep   \n",
       "12                                                                                     TOTAL   \n",
       "\n",
       "     Time [s]  \n",
       "0   44.107655  \n",
       "1    4.118091  \n",
       "2    0.932199  \n",
       "3    0.062947  \n",
       "4    0.531750  \n",
       "5    0.013600  \n",
       "6    0.039019  \n",
       "7    0.965144  \n",
       "8    0.081331  \n",
       "9    0.070526  \n",
       "10   0.005863  \n",
       "11   0.002360  \n",
       "12  50.930487  "
      ]
     },
     "execution_count": 38,
     "metadata": {},
     "output_type": "execute_result"
    }
   ],
   "source": [
    "df5"
   ]
  },
  {
   "cell_type": "markdown",
   "metadata": {},
   "source": [
    "### Summary all queries"
   ]
  },
  {
   "cell_type": "code",
   "execution_count": 40,
   "metadata": {
    "ExecuteTime": {
     "end_time": "2019-04-16T10:19:43.003286Z",
     "start_time": "2019-04-16T10:19:42.991588Z"
    }
   },
   "outputs": [
    {
     "data": {
      "text/html": [
       "<div>\n",
       "<style scoped>\n",
       "    .dataframe tbody tr th:only-of-type {\n",
       "        vertical-align: middle;\n",
       "    }\n",
       "\n",
       "    .dataframe tbody tr th {\n",
       "        vertical-align: top;\n",
       "    }\n",
       "\n",
       "    .dataframe thead th {\n",
       "        text-align: right;\n",
       "    }\n",
       "</style>\n",
       "<table border=\"1\" class=\"dataframe\">\n",
       "  <thead>\n",
       "    <tr style=\"text-align: right;\">\n",
       "      <th></th>\n",
       "      <th>Type of query</th>\n",
       "      <th>Total Time [s]</th>\n",
       "    </tr>\n",
       "  </thead>\n",
       "  <tbody>\n",
       "    <tr>\n",
       "      <th>0</th>\n",
       "      <td>Current query</td>\n",
       "      <td>outoftime</td>\n",
       "    </tr>\n",
       "    <tr>\n",
       "      <th>1</th>\n",
       "      <td>Flatmap for all has() filter</td>\n",
       "      <td>51.2604</td>\n",
       "    </tr>\n",
       "    <tr>\n",
       "      <th>2</th>\n",
       "      <td>All has() filters and flatmap for has(__type__) filter</td>\n",
       "      <td>50.9305</td>\n",
       "    </tr>\n",
       "    <tr>\n",
       "      <th>3</th>\n",
       "      <td>All has() filters except __type__</td>\n",
       "      <td>44.9704</td>\n",
       "    </tr>\n",
       "    <tr>\n",
       "      <th>4</th>\n",
       "      <td>Only one has() filter</td>\n",
       "      <td>50.9305</td>\n",
       "    </tr>\n",
       "  </tbody>\n",
       "</table>\n",
       "</div>"
      ],
      "text/plain": [
       "                                            Type of query Total Time [s]\n",
       "0                                           Current query      outoftime\n",
       "1                            Flatmap for all has() filter        51.2604\n",
       "2  All has() filters and flatmap for has(__type__) filter        50.9305\n",
       "3                       All has() filters except __type__        44.9704\n",
       "4                                   Only one has() filter        50.9305"
      ]
     },
     "execution_count": 40,
     "metadata": {},
     "output_type": "execute_result"
    }
   ],
   "source": [
    "summary_results_query = [\n",
    "    ['Current query', 'outoftime'],\n",
    "    ['Flatmap for all has() filter', q2_total_time/1000],\n",
    "    ['All has() filters and flatmap for has(__type__) filter', q3_total_time/1000],\n",
    "    ['All has() filters except __type__', q4_total_time/1000],\n",
    "    ['Only one has() filter', q5_total_time/1000],\n",
    "]\n",
    "\n",
    "df_summary = pd.DataFrame(summary_results_query, columns = ['Type of query','Total Time [s]'])\n",
    "df_summary"
   ]
  },
  {
   "cell_type": "markdown",
   "metadata": {},
   "source": [
    "## Analyze get_solver_documents_count(self)"
   ]
  },
  {
   "cell_type": "markdown",
   "metadata": {},
   "source": [
    "    def get_solver_documents_count(self) -> int:\n",
    "        \"\"\"Get number of solver documents synced into graph.\"\"\"\n",
    "        query = (\n",
    "            self.g.E()\n",
    "            .has(\"__label__\", Solved.__label__)\n",
    "            .has(\"__type__\", \"edge\")\n",
    "            .has(\"solver_document_id\")\n",
    "            .has(\"solver_datetime\")\n",
    "            .has(\"solver_error\")\n",
    "            .has(\"solver_error_unsolvable\")\n",
    "            .has(\"solver_error_unparsable\")\n",
    "            .valueMap()\n",
    "            .select(\"solver_document_id\")\n",
    "            .dedup()\n",
    "            .count()\n",
    "            .next()\n",
    "        )\n",
    "\n",
    "        return asyncio.get_event_loop().run_until_complete(query)"
   ]
  },
  {
   "cell_type": "code",
   "execution_count": 14,
   "metadata": {
    "ExecuteTime": {
     "end_time": "2019-04-08T16:26:54.747383Z",
     "start_time": "2019-04-08T16:25:14.763455Z"
    }
   },
   "outputs": [
    {
     "data": {
      "text/plain": [
       "3068"
      ]
     },
     "execution_count": 14,
     "metadata": {},
     "output_type": "execute_result"
    }
   ],
   "source": [
    "%%time\n",
    "graph_db.get_solver_documents_count()"
   ]
  },
  {
   "cell_type": "markdown",
   "metadata": {
    "ExecuteTime": {
     "end_time": "2019-04-15T15:27:07.209745Z",
     "start_time": "2019-04-15T15:27:07.207310Z"
    }
   },
   "source": [
    "### Current query"
   ]
  },
  {
   "cell_type": "code",
   "execution_count": 91,
   "metadata": {
    "ExecuteTime": {
     "end_time": "2019-04-15T15:13:37.926249Z",
     "start_time": "2019-04-15T15:12:06.818426Z"
    }
   },
   "outputs": [
    {
     "name": "stdout",
     "output_type": "stream",
     "text": [
      "CPU times: user 10.8 ms, sys: 2.5 ms, total: 13.3 ms\n",
      "Wall time: 1min 31s\n"
     ]
    }
   ],
   "source": [
    "%%time\n",
    "profiling = gqr(g.E()\n",
    "    .has(\"__label__\", \"solved\")\n",
    "    .has(\"__type__\", \"edge\")\n",
    "    .has(\"solver_datetime\")\n",
    "    .has(\"solver_document_id\")\n",
    "    .has(\"solver_error\")\n",
    "    .has(\"solver_error_unsolvable\")\n",
    "    .has(\"solver_error_unparsable\")\n",
    "    .valueMap()\n",
    "    .select(\"solver_document_id\")\n",
    "    .dedup()\n",
    "    .count()\n",
    "    .profile()\n",
    "    .next()\n",
    "   ).result\n",
    "\n",
    "q1_total_time, q1_contributes = get_profiling_for_query(profiling)\n",
    "df = get_table_results(q1_total_time, q1_contributes)"
   ]
  },
  {
   "cell_type": "code",
   "execution_count": 107,
   "metadata": {
    "ExecuteTime": {
     "end_time": "2019-04-15T15:29:45.455826Z",
     "start_time": "2019-04-15T15:29:45.445634Z"
    }
   },
   "outputs": [
    {
     "data": {
      "text/html": [
       "<div>\n",
       "<style scoped>\n",
       "    .dataframe tbody tr th:only-of-type {\n",
       "        vertical-align: middle;\n",
       "    }\n",
       "\n",
       "    .dataframe tbody tr th {\n",
       "        vertical-align: top;\n",
       "    }\n",
       "\n",
       "    .dataframe thead th {\n",
       "        text-align: right;\n",
       "    }\n",
       "</style>\n",
       "<table border=\"1\" class=\"dataframe\">\n",
       "  <thead>\n",
       "    <tr style=\"text-align: right;\">\n",
       "      <th></th>\n",
       "      <th>Name</th>\n",
       "      <th>Time [s]</th>\n",
       "    </tr>\n",
       "  </thead>\n",
       "  <tbody>\n",
       "    <tr>\n",
       "      <th>0</th>\n",
       "      <td>JanusGraphStep([],[__label__.eq(solved), __type__.eq(edge)])</td>\n",
       "      <td>79.523250</td>\n",
       "    </tr>\n",
       "    <tr>\n",
       "      <th>1</th>\n",
       "      <td>TraversalFilterStep([JanusGraphPropertiesStep([solver_datetime],value), ProfileStep])</td>\n",
       "      <td>3.640340</td>\n",
       "    </tr>\n",
       "    <tr>\n",
       "      <th>2</th>\n",
       "      <td>TraversalFilterStep([JanusGraphPropertiesStep([solver_document_id],value), ProfileStep])</td>\n",
       "      <td>1.186388</td>\n",
       "    </tr>\n",
       "    <tr>\n",
       "      <th>3</th>\n",
       "      <td>TraversalFilterStep([JanusGraphPropertiesStep([solver_error],value), ProfileStep])</td>\n",
       "      <td>0.992682</td>\n",
       "    </tr>\n",
       "    <tr>\n",
       "      <th>4</th>\n",
       "      <td>TraversalFilterStep([JanusGraphPropertiesStep([solver_error_unsolvable],value), ProfileStep])</td>\n",
       "      <td>1.147735</td>\n",
       "    </tr>\n",
       "    <tr>\n",
       "      <th>5</th>\n",
       "      <td>TraversalFilterStep([JanusGraphPropertiesStep([solver_error_unparsable],value), ProfileStep])</td>\n",
       "      <td>0.975353</td>\n",
       "    </tr>\n",
       "    <tr>\n",
       "      <th>6</th>\n",
       "      <td>PropertyMapStep(value)</td>\n",
       "      <td>2.849789</td>\n",
       "    </tr>\n",
       "    <tr>\n",
       "      <th>7</th>\n",
       "      <td>SelectOneStep(last,solver_document_id)</td>\n",
       "      <td>0.271999</td>\n",
       "    </tr>\n",
       "    <tr>\n",
       "      <th>8</th>\n",
       "      <td>DedupGlobalStep</td>\n",
       "      <td>0.168119</td>\n",
       "    </tr>\n",
       "    <tr>\n",
       "      <th>9</th>\n",
       "      <td>CountGlobalStep</td>\n",
       "      <td>0.004418</td>\n",
       "    </tr>\n",
       "    <tr>\n",
       "      <th>10</th>\n",
       "      <td>TOTAL</td>\n",
       "      <td>90.760073</td>\n",
       "    </tr>\n",
       "  </tbody>\n",
       "</table>\n",
       "</div>"
      ],
      "text/plain": [
       "                                                                                             Name   Time [s]\n",
       "0                                    JanusGraphStep([],[__label__.eq(solved), __type__.eq(edge)])  79.523250\n",
       "1           TraversalFilterStep([JanusGraphPropertiesStep([solver_datetime],value), ProfileStep])   3.640340\n",
       "2        TraversalFilterStep([JanusGraphPropertiesStep([solver_document_id],value), ProfileStep])   1.186388\n",
       "3              TraversalFilterStep([JanusGraphPropertiesStep([solver_error],value), ProfileStep])   0.992682\n",
       "4   TraversalFilterStep([JanusGraphPropertiesStep([solver_error_unsolvable],value), ProfileStep])   1.147735\n",
       "5   TraversalFilterStep([JanusGraphPropertiesStep([solver_error_unparsable],value), ProfileStep])   0.975353\n",
       "6                                                                          PropertyMapStep(value)   2.849789\n",
       "7                                                          SelectOneStep(last,solver_document_id)   0.271999\n",
       "8                                                                                 DedupGlobalStep   0.168119\n",
       "9                                                                                 CountGlobalStep   0.004418\n",
       "10                                                                                          TOTAL  90.760073"
      ]
     },
     "execution_count": 107,
     "metadata": {},
     "output_type": "execute_result"
    }
   ],
   "source": [
    "df"
   ]
  },
  {
   "cell_type": "markdown",
   "metadata": {},
   "source": [
    "### Flatmap for all has() filter"
   ]
  },
  {
   "cell_type": "code",
   "execution_count": 83,
   "metadata": {
    "ExecuteTime": {
     "end_time": "2019-04-15T15:09:02.669717Z",
     "start_time": "2019-04-15T15:08:28.188124Z"
    }
   },
   "outputs": [
    {
     "name": "stdout",
     "output_type": "stream",
     "text": [
      "CPU times: user 14.4 ms, sys: 0 ns, total: 14.4 ms\n",
      "Wall time: 34.5 s\n"
     ]
    }
   ],
   "source": [
    "%%time\n",
    "profiling = gqr(g.E()\n",
    "    .has(\"__label__\", \"solved\")\n",
    "    .flatMap(\n",
    "        has(\"__type__\", \"edge\")\n",
    "        .has(\"solver_datetime\")\n",
    "        .has(\"solver_document_id\")\n",
    "        .has(\"solver_error\")\n",
    "        .has(\"solver_error_unsolvable\")\n",
    "        .has(\"solver_error_unparsable\")\n",
    "    )\n",
    "    .valueMap()\n",
    "    .select(\"solver_document_id\")\n",
    "    .dedup()  \n",
    "    .count()\n",
    "    .profile()\n",
    "    .next()\n",
    "   ).result\n",
    "\n",
    "q2_total_time, q2_contributes = get_profiling_for_query(profiling)\n",
    "df2 = get_table_results(q2_total_time, q2_contributes)"
   ]
  },
  {
   "cell_type": "code",
   "execution_count": 108,
   "metadata": {
    "ExecuteTime": {
     "end_time": "2019-04-15T15:29:51.712974Z",
     "start_time": "2019-04-15T15:29:51.688364Z"
    }
   },
   "outputs": [
    {
     "data": {
      "text/html": [
       "<div>\n",
       "<style scoped>\n",
       "    .dataframe tbody tr th:only-of-type {\n",
       "        vertical-align: middle;\n",
       "    }\n",
       "\n",
       "    .dataframe tbody tr th {\n",
       "        vertical-align: top;\n",
       "    }\n",
       "\n",
       "    .dataframe thead th {\n",
       "        text-align: right;\n",
       "    }\n",
       "</style>\n",
       "<table border=\"1\" class=\"dataframe\">\n",
       "  <thead>\n",
       "    <tr style=\"text-align: right;\">\n",
       "      <th></th>\n",
       "      <th>Name</th>\n",
       "      <th>Time [s]</th>\n",
       "    </tr>\n",
       "  </thead>\n",
       "  <tbody>\n",
       "    <tr>\n",
       "      <th>0</th>\n",
       "      <td>JanusGraphStep([],[__label__.eq(solved)])</td>\n",
       "      <td>18.934514</td>\n",
       "    </tr>\n",
       "    <tr>\n",
       "      <th>1</th>\n",
       "      <td>TraversalFlatMapStep([HasStep([__type__.eq(edge)]), ProfileStep, TraversalFilterStep([JanusGraphPropertiesStep([solver_datetime],value), ProfileStep]), ProfileStep, TraversalFilterStep([JanusGraphPropertiesStep([solver_document_id],value), ProfileStep]), ProfileStep, TraversalFilterStep([JanusGraphPropertiesStep([solver_error],value), ProfileStep]), ProfileStep, TraversalFilterStep([JanusGraphPropertiesStep([solver_error_unsolvable],value), ProfileStep]), ProfileStep, TraversalFilterStep([JanusGraphPropertiesStep([solver_error_unparsable],value), ProfileStep]), ProfileStep])</td>\n",
       "      <td>9.601425</td>\n",
       "    </tr>\n",
       "    <tr>\n",
       "      <th>2</th>\n",
       "      <td>PropertyMapStep(value)</td>\n",
       "      <td>3.097647</td>\n",
       "    </tr>\n",
       "    <tr>\n",
       "      <th>3</th>\n",
       "      <td>SelectOneStep(last,solver_document_id)</td>\n",
       "      <td>0.675499</td>\n",
       "    </tr>\n",
       "    <tr>\n",
       "      <th>4</th>\n",
       "      <td>DedupGlobalStep</td>\n",
       "      <td>0.277627</td>\n",
       "    </tr>\n",
       "    <tr>\n",
       "      <th>5</th>\n",
       "      <td>CountGlobalStep</td>\n",
       "      <td>0.001530</td>\n",
       "    </tr>\n",
       "    <tr>\n",
       "      <th>6</th>\n",
       "      <td>TOTAL</td>\n",
       "      <td>32.588241</td>\n",
       "    </tr>\n",
       "  </tbody>\n",
       "</table>\n",
       "</div>"
      ],
      "text/plain": [
       "                                                                                                                                                                                                                                                                                                                                                                                                                                                                                                                                                                                                    Name   Time [s]\n",
       "0                                                                                                                                                                                                                                                                                                                                                                                                                                                                                                                                                              JanusGraphStep([],[__label__.eq(solved)])  18.934514\n",
       "1  TraversalFlatMapStep([HasStep([__type__.eq(edge)]), ProfileStep, TraversalFilterStep([JanusGraphPropertiesStep([solver_datetime],value), ProfileStep]), ProfileStep, TraversalFilterStep([JanusGraphPropertiesStep([solver_document_id],value), ProfileStep]), ProfileStep, TraversalFilterStep([JanusGraphPropertiesStep([solver_error],value), ProfileStep]), ProfileStep, TraversalFilterStep([JanusGraphPropertiesStep([solver_error_unsolvable],value), ProfileStep]), ProfileStep, TraversalFilterStep([JanusGraphPropertiesStep([solver_error_unparsable],value), ProfileStep]), ProfileStep])   9.601425\n",
       "2                                                                                                                                                                                                                                                                                                                                                                                                                                                                                                                                                                                 PropertyMapStep(value)   3.097647\n",
       "3                                                                                                                                                                                                                                                                                                                                                                                                                                                                                                                                                                 SelectOneStep(last,solver_document_id)   0.675499\n",
       "4                                                                                                                                                                                                                                                                                                                                                                                                                                                                                                                                                                                        DedupGlobalStep   0.277627\n",
       "5                                                                                                                                                                                                                                                                                                                                                                                                                                                                                                                                                                                        CountGlobalStep   0.001530\n",
       "6                                                                                                                                                                                                                                                                                                                                                                                                                                                                                                                                                                                                  TOTAL  32.588241"
      ]
     },
     "execution_count": 108,
     "metadata": {},
     "output_type": "execute_result"
    }
   ],
   "source": [
    "df2"
   ]
  },
  {
   "cell_type": "markdown",
   "metadata": {},
   "source": [
    "### All has() filters and flatmap for has(```__type__```) filter"
   ]
  },
  {
   "cell_type": "code",
   "execution_count": 85,
   "metadata": {
    "ExecuteTime": {
     "end_time": "2019-04-15T15:09:35.117033Z",
     "start_time": "2019-04-15T15:09:02.685218Z"
    }
   },
   "outputs": [
    {
     "name": "stdout",
     "output_type": "stream",
     "text": [
      "CPU times: user 8.03 ms, sys: 775 µs, total: 8.8 ms\n",
      "Wall time: 32.4 s\n"
     ]
    }
   ],
   "source": [
    "%%time\n",
    "profiling = gqr(g.E()\n",
    "    .has(\"__label__\", \"solved\")\n",
    "    .flatMap(\n",
    "        has(\"__type__\", \"edge\")\n",
    "    )\n",
    "    .has(\"solver_datetime\")\n",
    "    .has(\"solver_document_id\")\n",
    "    .has(\"solver_error\")\n",
    "    .has(\"solver_error_unsolvable\")\n",
    "    .has(\"solver_error_unparsable\")\n",
    "    .valueMap()\n",
    "    .select(\"solver_document_id\")\n",
    "    .dedup()  \n",
    "    .count()\n",
    "    .profile()\n",
    "    .next()\n",
    "   ).result\n",
    "\n",
    "q3_total_time, q3_contributes = get_profiling_for_query(profiling)\n",
    "df3 = get_table_results(q3_total_time, q3_contributes)"
   ]
  },
  {
   "cell_type": "code",
   "execution_count": 109,
   "metadata": {
    "ExecuteTime": {
     "end_time": "2019-04-15T15:29:58.125015Z",
     "start_time": "2019-04-15T15:29:58.105197Z"
    }
   },
   "outputs": [
    {
     "data": {
      "text/html": [
       "<div>\n",
       "<style scoped>\n",
       "    .dataframe tbody tr th:only-of-type {\n",
       "        vertical-align: middle;\n",
       "    }\n",
       "\n",
       "    .dataframe tbody tr th {\n",
       "        vertical-align: top;\n",
       "    }\n",
       "\n",
       "    .dataframe thead th {\n",
       "        text-align: right;\n",
       "    }\n",
       "</style>\n",
       "<table border=\"1\" class=\"dataframe\">\n",
       "  <thead>\n",
       "    <tr style=\"text-align: right;\">\n",
       "      <th></th>\n",
       "      <th>Name</th>\n",
       "      <th>Time [s]</th>\n",
       "    </tr>\n",
       "  </thead>\n",
       "  <tbody>\n",
       "    <tr>\n",
       "      <th>0</th>\n",
       "      <td>JanusGraphStep([],[__label__.eq(solved)])</td>\n",
       "      <td>20.968483</td>\n",
       "    </tr>\n",
       "    <tr>\n",
       "      <th>1</th>\n",
       "      <td>TraversalFlatMapStep([HasStep([__type__.eq(edge)]), ProfileStep])</td>\n",
       "      <td>2.415910</td>\n",
       "    </tr>\n",
       "    <tr>\n",
       "      <th>2</th>\n",
       "      <td>TraversalFilterStep([JanusGraphPropertiesStep([solver_datetime],value), ProfileStep])</td>\n",
       "      <td>1.199271</td>\n",
       "    </tr>\n",
       "    <tr>\n",
       "      <th>3</th>\n",
       "      <td>TraversalFilterStep([JanusGraphPropertiesStep([solver_document_id],value), ProfileStep])</td>\n",
       "      <td>1.018742</td>\n",
       "    </tr>\n",
       "    <tr>\n",
       "      <th>4</th>\n",
       "      <td>TraversalFilterStep([JanusGraphPropertiesStep([solver_error],value), ProfileStep])</td>\n",
       "      <td>1.041011</td>\n",
       "    </tr>\n",
       "    <tr>\n",
       "      <th>5</th>\n",
       "      <td>TraversalFilterStep([JanusGraphPropertiesStep([solver_error_unsolvable],value), ProfileStep])</td>\n",
       "      <td>1.022888</td>\n",
       "    </tr>\n",
       "    <tr>\n",
       "      <th>6</th>\n",
       "      <td>TraversalFilterStep([JanusGraphPropertiesStep([solver_error_unparsable],value), ProfileStep])</td>\n",
       "      <td>1.078413</td>\n",
       "    </tr>\n",
       "    <tr>\n",
       "      <th>7</th>\n",
       "      <td>PropertyMapStep(value)</td>\n",
       "      <td>3.039575</td>\n",
       "    </tr>\n",
       "    <tr>\n",
       "      <th>8</th>\n",
       "      <td>SelectOneStep(last,solver_document_id)</td>\n",
       "      <td>0.239995</td>\n",
       "    </tr>\n",
       "    <tr>\n",
       "      <th>9</th>\n",
       "      <td>DedupGlobalStep</td>\n",
       "      <td>0.211033</td>\n",
       "    </tr>\n",
       "    <tr>\n",
       "      <th>10</th>\n",
       "      <td>CountGlobalStep</td>\n",
       "      <td>0.001576</td>\n",
       "    </tr>\n",
       "    <tr>\n",
       "      <th>11</th>\n",
       "      <td>TOTAL</td>\n",
       "      <td>32.236897</td>\n",
       "    </tr>\n",
       "  </tbody>\n",
       "</table>\n",
       "</div>"
      ],
      "text/plain": [
       "                                                                                             Name   Time [s]\n",
       "0                                                       JanusGraphStep([],[__label__.eq(solved)])  20.968483\n",
       "1                               TraversalFlatMapStep([HasStep([__type__.eq(edge)]), ProfileStep])   2.415910\n",
       "2           TraversalFilterStep([JanusGraphPropertiesStep([solver_datetime],value), ProfileStep])   1.199271\n",
       "3        TraversalFilterStep([JanusGraphPropertiesStep([solver_document_id],value), ProfileStep])   1.018742\n",
       "4              TraversalFilterStep([JanusGraphPropertiesStep([solver_error],value), ProfileStep])   1.041011\n",
       "5   TraversalFilterStep([JanusGraphPropertiesStep([solver_error_unsolvable],value), ProfileStep])   1.022888\n",
       "6   TraversalFilterStep([JanusGraphPropertiesStep([solver_error_unparsable],value), ProfileStep])   1.078413\n",
       "7                                                                          PropertyMapStep(value)   3.039575\n",
       "8                                                          SelectOneStep(last,solver_document_id)   0.239995\n",
       "9                                                                                 DedupGlobalStep   0.211033\n",
       "10                                                                                CountGlobalStep   0.001576\n",
       "11                                                                                          TOTAL  32.236897"
      ]
     },
     "execution_count": 109,
     "metadata": {},
     "output_type": "execute_result"
    }
   ],
   "source": [
    "df3"
   ]
  },
  {
   "cell_type": "markdown",
   "metadata": {},
   "source": [
    "### All has() filters except ```__type__```"
   ]
  },
  {
   "cell_type": "code",
   "execution_count": 87,
   "metadata": {
    "ExecuteTime": {
     "end_time": "2019-04-15T15:10:02.673809Z",
     "start_time": "2019-04-15T15:09:35.151966Z"
    }
   },
   "outputs": [
    {
     "name": "stdout",
     "output_type": "stream",
     "text": [
      "CPU times: user 14.1 ms, sys: 587 µs, total: 14.7 ms\n",
      "Wall time: 27.5 s\n"
     ]
    }
   ],
   "source": [
    "%%time\n",
    "profiling = gqr(g.E()\n",
    "    .has(\"__label__\", \"solved\")\n",
    "    .has(\"solver_datetime\")\n",
    "    .has(\"solver_document_id\")\n",
    "    .has(\"solver_error\")\n",
    "    .has(\"solver_error_unsolvable\")\n",
    "    .has(\"solver_error_unparsable\")\n",
    "    .valueMap()\n",
    "    .select(\"solver_document_id\")\n",
    "    .dedup()  \n",
    "    .count()\n",
    "    .profile()\n",
    "    .next()\n",
    "   ).result\n",
    "\n",
    "q4_total_time, q4_contributes = get_profiling_for_query(profiling)\n",
    "df4 = get_table_results(q4_total_time, q4_contributes)"
   ]
  },
  {
   "cell_type": "code",
   "execution_count": 110,
   "metadata": {
    "ExecuteTime": {
     "end_time": "2019-04-15T15:30:04.737702Z",
     "start_time": "2019-04-15T15:30:04.727483Z"
    }
   },
   "outputs": [
    {
     "data": {
      "text/html": [
       "<div>\n",
       "<style scoped>\n",
       "    .dataframe tbody tr th:only-of-type {\n",
       "        vertical-align: middle;\n",
       "    }\n",
       "\n",
       "    .dataframe tbody tr th {\n",
       "        vertical-align: top;\n",
       "    }\n",
       "\n",
       "    .dataframe thead th {\n",
       "        text-align: right;\n",
       "    }\n",
       "</style>\n",
       "<table border=\"1\" class=\"dataframe\">\n",
       "  <thead>\n",
       "    <tr style=\"text-align: right;\">\n",
       "      <th></th>\n",
       "      <th>Name</th>\n",
       "      <th>Time [s]</th>\n",
       "    </tr>\n",
       "  </thead>\n",
       "  <tbody>\n",
       "    <tr>\n",
       "      <th>0</th>\n",
       "      <td>JanusGraphStep([],[__label__.eq(solved)])</td>\n",
       "      <td>19.275800</td>\n",
       "    </tr>\n",
       "    <tr>\n",
       "      <th>1</th>\n",
       "      <td>TraversalFilterStep([JanusGraphPropertiesStep([solver_datetime],value), ProfileStep])</td>\n",
       "      <td>1.069287</td>\n",
       "    </tr>\n",
       "    <tr>\n",
       "      <th>2</th>\n",
       "      <td>TraversalFilterStep([JanusGraphPropertiesStep([solver_document_id],value), ProfileStep])</td>\n",
       "      <td>1.149926</td>\n",
       "    </tr>\n",
       "    <tr>\n",
       "      <th>3</th>\n",
       "      <td>TraversalFilterStep([JanusGraphPropertiesStep([solver_error],value), ProfileStep])</td>\n",
       "      <td>0.865391</td>\n",
       "    </tr>\n",
       "    <tr>\n",
       "      <th>4</th>\n",
       "      <td>TraversalFilterStep([JanusGraphPropertiesStep([solver_error_unsolvable],value), ProfileStep])</td>\n",
       "      <td>0.879491</td>\n",
       "    </tr>\n",
       "    <tr>\n",
       "      <th>5</th>\n",
       "      <td>TraversalFilterStep([JanusGraphPropertiesStep([solver_error_unparsable],value), ProfileStep])</td>\n",
       "      <td>1.170358</td>\n",
       "    </tr>\n",
       "    <tr>\n",
       "      <th>6</th>\n",
       "      <td>PropertyMapStep(value)</td>\n",
       "      <td>2.564891</td>\n",
       "    </tr>\n",
       "    <tr>\n",
       "      <th>7</th>\n",
       "      <td>SelectOneStep(last,solver_document_id)</td>\n",
       "      <td>0.203393</td>\n",
       "    </tr>\n",
       "    <tr>\n",
       "      <th>8</th>\n",
       "      <td>DedupGlobalStep</td>\n",
       "      <td>0.186837</td>\n",
       "    </tr>\n",
       "    <tr>\n",
       "      <th>9</th>\n",
       "      <td>CountGlobalStep</td>\n",
       "      <td>0.001194</td>\n",
       "    </tr>\n",
       "    <tr>\n",
       "      <th>10</th>\n",
       "      <td>TOTAL</td>\n",
       "      <td>27.366568</td>\n",
       "    </tr>\n",
       "  </tbody>\n",
       "</table>\n",
       "</div>"
      ],
      "text/plain": [
       "                                                                                             Name   Time [s]\n",
       "0                                                       JanusGraphStep([],[__label__.eq(solved)])  19.275800\n",
       "1           TraversalFilterStep([JanusGraphPropertiesStep([solver_datetime],value), ProfileStep])   1.069287\n",
       "2        TraversalFilterStep([JanusGraphPropertiesStep([solver_document_id],value), ProfileStep])   1.149926\n",
       "3              TraversalFilterStep([JanusGraphPropertiesStep([solver_error],value), ProfileStep])   0.865391\n",
       "4   TraversalFilterStep([JanusGraphPropertiesStep([solver_error_unsolvable],value), ProfileStep])   0.879491\n",
       "5   TraversalFilterStep([JanusGraphPropertiesStep([solver_error_unparsable],value), ProfileStep])   1.170358\n",
       "6                                                                          PropertyMapStep(value)   2.564891\n",
       "7                                                          SelectOneStep(last,solver_document_id)   0.203393\n",
       "8                                                                                 DedupGlobalStep   0.186837\n",
       "9                                                                                 CountGlobalStep   0.001194\n",
       "10                                                                                          TOTAL  27.366568"
      ]
     },
     "execution_count": 110,
     "metadata": {},
     "output_type": "execute_result"
    }
   ],
   "source": [
    "df4"
   ]
  },
  {
   "cell_type": "markdown",
   "metadata": {},
   "source": [
    "### Only one has() filter"
   ]
  },
  {
   "cell_type": "code",
   "execution_count": 89,
   "metadata": {
    "ExecuteTime": {
     "end_time": "2019-04-15T15:10:30.164180Z",
     "start_time": "2019-04-15T15:10:02.710815Z"
    },
    "scrolled": true
   },
   "outputs": [
    {
     "name": "stdout",
     "output_type": "stream",
     "text": [
      "CPU times: user 8.02 ms, sys: 775 µs, total: 8.8 ms\n",
      "Wall time: 27.4 s\n"
     ]
    }
   ],
   "source": [
    "%%time\n",
    "profiling = gqr(g.E()\n",
    "    .has(\"solver_document_id\")\n",
    "    .valueMap()\n",
    "    .select(\"solver_document_id\")\n",
    "    .dedup()  \n",
    "    .count()\n",
    "    .profile()\n",
    "    .next()\n",
    "   ).result\n",
    "\n",
    "q5_total_time, q5_contributes = get_profiling_for_query(profiling)\n",
    "df5 = get_table_results(q5_total_time, q5_contributes)"
   ]
  },
  {
   "cell_type": "code",
   "execution_count": 111,
   "metadata": {
    "ExecuteTime": {
     "end_time": "2019-04-15T15:30:10.193199Z",
     "start_time": "2019-04-15T15:30:10.170098Z"
    }
   },
   "outputs": [
    {
     "data": {
      "text/html": [
       "<div>\n",
       "<style scoped>\n",
       "    .dataframe tbody tr th:only-of-type {\n",
       "        vertical-align: middle;\n",
       "    }\n",
       "\n",
       "    .dataframe tbody tr th {\n",
       "        vertical-align: top;\n",
       "    }\n",
       "\n",
       "    .dataframe thead th {\n",
       "        text-align: right;\n",
       "    }\n",
       "</style>\n",
       "<table border=\"1\" class=\"dataframe\">\n",
       "  <thead>\n",
       "    <tr style=\"text-align: right;\">\n",
       "      <th></th>\n",
       "      <th>Name</th>\n",
       "      <th>Time [s]</th>\n",
       "    </tr>\n",
       "  </thead>\n",
       "  <tbody>\n",
       "    <tr>\n",
       "      <th>0</th>\n",
       "      <td>JanusGraphStep(edge,[])</td>\n",
       "      <td>15.952610</td>\n",
       "    </tr>\n",
       "    <tr>\n",
       "      <th>1</th>\n",
       "      <td>TraversalFilterStep([JanusGraphPropertiesStep([solver_document_id],value), ProfileStep])</td>\n",
       "      <td>7.548108</td>\n",
       "    </tr>\n",
       "    <tr>\n",
       "      <th>2</th>\n",
       "      <td>PropertyMapStep(value)</td>\n",
       "      <td>3.370092</td>\n",
       "    </tr>\n",
       "    <tr>\n",
       "      <th>3</th>\n",
       "      <td>SelectOneStep(last,solver_document_id)</td>\n",
       "      <td>0.211492</td>\n",
       "    </tr>\n",
       "    <tr>\n",
       "      <th>4</th>\n",
       "      <td>DedupGlobalStep</td>\n",
       "      <td>0.181035</td>\n",
       "    </tr>\n",
       "    <tr>\n",
       "      <th>5</th>\n",
       "      <td>CountGlobalStep</td>\n",
       "      <td>0.001256</td>\n",
       "    </tr>\n",
       "    <tr>\n",
       "      <th>6</th>\n",
       "      <td>TOTAL</td>\n",
       "      <td>27.264593</td>\n",
       "    </tr>\n",
       "  </tbody>\n",
       "</table>\n",
       "</div>"
      ],
      "text/plain": [
       "                                                                                       Name   Time [s]\n",
       "0                                                                   JanusGraphStep(edge,[])  15.952610\n",
       "1  TraversalFilterStep([JanusGraphPropertiesStep([solver_document_id],value), ProfileStep])   7.548108\n",
       "2                                                                    PropertyMapStep(value)   3.370092\n",
       "3                                                    SelectOneStep(last,solver_document_id)   0.211492\n",
       "4                                                                           DedupGlobalStep   0.181035\n",
       "5                                                                           CountGlobalStep   0.001256\n",
       "6                                                                                     TOTAL  27.264593"
      ]
     },
     "execution_count": 111,
     "metadata": {},
     "output_type": "execute_result"
    }
   ],
   "source": [
    "df5"
   ]
  },
  {
   "cell_type": "markdown",
   "metadata": {},
   "source": [
    "### Summary all queries"
   ]
  },
  {
   "cell_type": "code",
   "execution_count": 106,
   "metadata": {
    "ExecuteTime": {
     "end_time": "2019-04-15T15:28:18.409827Z",
     "start_time": "2019-04-15T15:28:18.398151Z"
    }
   },
   "outputs": [
    {
     "data": {
      "text/html": [
       "<div>\n",
       "<style scoped>\n",
       "    .dataframe tbody tr th:only-of-type {\n",
       "        vertical-align: middle;\n",
       "    }\n",
       "\n",
       "    .dataframe tbody tr th {\n",
       "        vertical-align: top;\n",
       "    }\n",
       "\n",
       "    .dataframe thead th {\n",
       "        text-align: right;\n",
       "    }\n",
       "</style>\n",
       "<table border=\"1\" class=\"dataframe\">\n",
       "  <thead>\n",
       "    <tr style=\"text-align: right;\">\n",
       "      <th></th>\n",
       "      <th>Type of query</th>\n",
       "      <th>Total Time [s]</th>\n",
       "    </tr>\n",
       "  </thead>\n",
       "  <tbody>\n",
       "    <tr>\n",
       "      <th>0</th>\n",
       "      <td>Current query</td>\n",
       "      <td>90.760073</td>\n",
       "    </tr>\n",
       "    <tr>\n",
       "      <th>1</th>\n",
       "      <td>Flatmap for all has() filter</td>\n",
       "      <td>32.588241</td>\n",
       "    </tr>\n",
       "    <tr>\n",
       "      <th>2</th>\n",
       "      <td>All has() filters and flatmap for has(__type__) filter</td>\n",
       "      <td>32.236897</td>\n",
       "    </tr>\n",
       "    <tr>\n",
       "      <th>3</th>\n",
       "      <td>All has() filters except __type__</td>\n",
       "      <td>27.366568</td>\n",
       "    </tr>\n",
       "    <tr>\n",
       "      <th>4</th>\n",
       "      <td>Only one has() filter</td>\n",
       "      <td>27.264593</td>\n",
       "    </tr>\n",
       "  </tbody>\n",
       "</table>\n",
       "</div>"
      ],
      "text/plain": [
       "                                            Type of query  Total Time [s]\n",
       "0                                           Current query       90.760073\n",
       "1                            Flatmap for all has() filter       32.588241\n",
       "2  All has() filters and flatmap for has(__type__) filter       32.236897\n",
       "3                       All has() filters except __type__       27.366568\n",
       "4                                   Only one has() filter       27.264593"
      ]
     },
     "execution_count": 106,
     "metadata": {},
     "output_type": "execute_result"
    }
   ],
   "source": [
    "summary_results_query = [\n",
    "    ['Current query', q1_total_time/1000],\n",
    "    ['Flatmap for all has() filter', q2_total_time/1000],\n",
    "    ['All has() filters and flatmap for has(__type__) filter', q3_total_time/1000],\n",
    "    ['All has() filters except __type__', q4_total_time/1000],\n",
    "    ['Only one has() filter', q5_total_time/1000],\n",
    "]\n",
    "\n",
    "df_summary = pd.DataFrame(summary_results_query, columns = ['Type of query','Total Time [s]'])\n",
    "df_summary"
   ]
  },
  {
   "cell_type": "markdown",
   "metadata": {},
   "source": [
    "## Analyze get_analyzer_documents_count(self)"
   ]
  },
  {
   "cell_type": "markdown",
   "metadata": {},
   "source": [
    "    def get_analyzer_documents_count(self) -> int:\n",
    "        \"\"\"Get number of image analysis documents synced into graph.\"\"\"\n",
    "        query = (\n",
    "            self.g.E()\n",
    "            .has(\"__type__\", \"edge\")\n",
    "            .has(\"__label__\", Requires.__label__)\n",
    "            .has(\"analysis_datetime\")\n",
    "            .has(\"analysis_document_id\")\n",
    "            .has(\"analyzer_name\")\n",
    "            .has(\"analyzer_version\")\n",
    "            .valueMap()\n",
    "            .select(\"analysis_document_id\")\n",
    "            .dedup()\n",
    "            .count()\n",
    "            .next()\n",
    "        )\n",
    "\n",
    "        return asyncio.get_event_loop().run_until_complete(query)"
   ]
  },
  {
   "cell_type": "code",
   "execution_count": 43,
   "metadata": {
    "ExecuteTime": {
     "end_time": "2019-04-16T10:34:29.179438Z",
     "start_time": "2019-04-16T10:32:47.224837Z"
    }
   },
   "outputs": [
    {
     "name": "stdout",
     "output_type": "stream",
     "text": [
      "CPU times: user 5.53 ms, sys: 3.21 ms, total: 8.74 ms\n",
      "Wall time: 1min 41s\n"
     ]
    },
    {
     "data": {
      "text/plain": [
       "73"
      ]
     },
     "execution_count": 43,
     "metadata": {},
     "output_type": "execute_result"
    }
   ],
   "source": [
    "%%time\n",
    "graph_db.get_analyzer_documents_count()"
   ]
  },
  {
   "cell_type": "markdown",
   "metadata": {
    "ExecuteTime": {
     "end_time": "2019-04-16T10:34:29.192875Z",
     "start_time": "2019-04-16T10:34:29.186301Z"
    }
   },
   "source": [
    "### Current query"
   ]
  },
  {
   "cell_type": "code",
   "execution_count": 84,
   "metadata": {
    "ExecuteTime": {
     "end_time": "2019-04-16T12:38:38.831098Z",
     "start_time": "2019-04-16T12:36:54.833384Z"
    }
   },
   "outputs": [
    {
     "name": "stdout",
     "output_type": "stream",
     "text": [
      "CPU times: user 11.3 ms, sys: 3.66 ms, total: 14.9 ms\n",
      "Wall time: 1min 43s\n"
     ]
    }
   ],
   "source": [
    "%%time\n",
    "profiling = gqr(g.E()\n",
    "    .has(\"__label__\", \"requires\")\n",
    "    .has(\"__type__\", \"edge\")\n",
    "    .has(\"analysis_datetime\")\n",
    "    .has(\"analysis_document_id\")\n",
    "    .has(\"analyzer_name\")\n",
    "    .has(\"analyzer_version\")\n",
    "    .valueMap()\n",
    "    .select(\"analysis_document_id\")\n",
    "    .dedup()\n",
    "    .count()\n",
    "    .profile()\n",
    "    .next()\n",
    "   ).result\n",
    "\n",
    "q1_total_time, q1_contributes = get_profiling_for_query(profiling)\n",
    "df = get_table_results(q1_total_time, q1_contributes)"
   ]
  },
  {
   "cell_type": "code",
   "execution_count": 85,
   "metadata": {
    "ExecuteTime": {
     "end_time": "2019-04-16T12:38:38.847600Z",
     "start_time": "2019-04-16T12:38:38.838291Z"
    }
   },
   "outputs": [
    {
     "data": {
      "text/html": [
       "<div>\n",
       "<style scoped>\n",
       "    .dataframe tbody tr th:only-of-type {\n",
       "        vertical-align: middle;\n",
       "    }\n",
       "\n",
       "    .dataframe tbody tr th {\n",
       "        vertical-align: top;\n",
       "    }\n",
       "\n",
       "    .dataframe thead th {\n",
       "        text-align: right;\n",
       "    }\n",
       "</style>\n",
       "<table border=\"1\" class=\"dataframe\">\n",
       "  <thead>\n",
       "    <tr style=\"text-align: right;\">\n",
       "      <th></th>\n",
       "      <th>Name</th>\n",
       "      <th>Time [s]</th>\n",
       "    </tr>\n",
       "  </thead>\n",
       "  <tbody>\n",
       "    <tr>\n",
       "      <th>0</th>\n",
       "      <td>JanusGraphStep([],[__label__.eq(requires), __type__.eq(edge)])</td>\n",
       "      <td>49.397789</td>\n",
       "    </tr>\n",
       "    <tr>\n",
       "      <th>1</th>\n",
       "      <td>TraversalFilterStep([JanusGraphPropertiesStep([analysis_datetime],value), ProfileStep])</td>\n",
       "      <td>6.599819</td>\n",
       "    </tr>\n",
       "    <tr>\n",
       "      <th>2</th>\n",
       "      <td>TraversalFilterStep([JanusGraphPropertiesStep([analysis_document_id],value), ProfileStep])</td>\n",
       "      <td>2.558773</td>\n",
       "    </tr>\n",
       "    <tr>\n",
       "      <th>3</th>\n",
       "      <td>TraversalFilterStep([JanusGraphPropertiesStep([analyzer_name],value), ProfileStep])</td>\n",
       "      <td>3.547611</td>\n",
       "    </tr>\n",
       "    <tr>\n",
       "      <th>4</th>\n",
       "      <td>TraversalFilterStep([JanusGraphPropertiesStep([analyzer_version],value), ProfileStep])</td>\n",
       "      <td>1.851212</td>\n",
       "    </tr>\n",
       "    <tr>\n",
       "      <th>5</th>\n",
       "      <td>PropertyMapStep(value)</td>\n",
       "      <td>4.336451</td>\n",
       "    </tr>\n",
       "    <tr>\n",
       "      <th>6</th>\n",
       "      <td>SelectOneStep(last,analysis_document_id)</td>\n",
       "      <td>0.364633</td>\n",
       "    </tr>\n",
       "    <tr>\n",
       "      <th>7</th>\n",
       "      <td>DedupGlobalStep</td>\n",
       "      <td>0.223738</td>\n",
       "    </tr>\n",
       "    <tr>\n",
       "      <th>8</th>\n",
       "      <td>CountGlobalStep</td>\n",
       "      <td>0.000151</td>\n",
       "    </tr>\n",
       "    <tr>\n",
       "      <th>9</th>\n",
       "      <td>TOTAL</td>\n",
       "      <td>68.880176</td>\n",
       "    </tr>\n",
       "  </tbody>\n",
       "</table>\n",
       "</div>"
      ],
      "text/plain": [
       "                                                                                         Name  \\\n",
       "0                              JanusGraphStep([],[__label__.eq(requires), __type__.eq(edge)])   \n",
       "1     TraversalFilterStep([JanusGraphPropertiesStep([analysis_datetime],value), ProfileStep])   \n",
       "2  TraversalFilterStep([JanusGraphPropertiesStep([analysis_document_id],value), ProfileStep])   \n",
       "3         TraversalFilterStep([JanusGraphPropertiesStep([analyzer_name],value), ProfileStep])   \n",
       "4      TraversalFilterStep([JanusGraphPropertiesStep([analyzer_version],value), ProfileStep])   \n",
       "5                                                                      PropertyMapStep(value)   \n",
       "6                                                    SelectOneStep(last,analysis_document_id)   \n",
       "7                                                                             DedupGlobalStep   \n",
       "8                                                                             CountGlobalStep   \n",
       "9                                                                                       TOTAL   \n",
       "\n",
       "    Time [s]  \n",
       "0  49.397789  \n",
       "1   6.599819  \n",
       "2   2.558773  \n",
       "3   3.547611  \n",
       "4   1.851212  \n",
       "5   4.336451  \n",
       "6   0.364633  \n",
       "7   0.223738  \n",
       "8   0.000151  \n",
       "9  68.880176  "
      ]
     },
     "execution_count": 85,
     "metadata": {},
     "output_type": "execute_result"
    }
   ],
   "source": [
    "df"
   ]
  },
  {
   "cell_type": "markdown",
   "metadata": {
    "ExecuteTime": {
     "end_time": "2019-04-16T10:34:29.207630Z",
     "start_time": "2019-04-16T10:34:29.199189Z"
    }
   },
   "source": [
    "### Flatmap for all has() filter"
   ]
  },
  {
   "cell_type": "code",
   "execution_count": 82,
   "metadata": {
    "ExecuteTime": {
     "end_time": "2019-04-16T12:36:54.818515Z",
     "start_time": "2019-04-16T12:35:12.617591Z"
    }
   },
   "outputs": [
    {
     "name": "stdout",
     "output_type": "stream",
     "text": [
      "CPU times: user 11.8 ms, sys: 1.37 ms, total: 13.2 ms\n",
      "Wall time: 1min 42s\n"
     ]
    }
   ],
   "source": [
    "%%time\n",
    "profiling = gqr(g.E()\n",
    "    .has(\"__label__\", \"requires\")\n",
    "    .flatMap(\n",
    "    has(\"__type__\", \"edge\")\n",
    "    .has(\"analysis_datetime\")\n",
    "    .has(\"analysis_document_id\")\n",
    "    .has(\"analyzer_name\")\n",
    "    .has(\"analyzer_version\")\n",
    "    )\n",
    "    .valueMap()\n",
    "    .select(\"analysis_document_id\")\n",
    "    .dedup()\n",
    "    .count()\n",
    "    .profile()\n",
    "    .next()\n",
    "   ).result\n",
    "\n",
    "q2_total_time, q2_contributes = get_profiling_for_query(profiling)\n",
    "df2 = get_table_results(q2_total_time, q2_contributes)"
   ]
  },
  {
   "cell_type": "code",
   "execution_count": 83,
   "metadata": {
    "ExecuteTime": {
     "end_time": "2019-04-16T12:36:54.831451Z",
     "start_time": "2019-04-16T12:36:54.820679Z"
    }
   },
   "outputs": [
    {
     "data": {
      "text/html": [
       "<div>\n",
       "<style scoped>\n",
       "    .dataframe tbody tr th:only-of-type {\n",
       "        vertical-align: middle;\n",
       "    }\n",
       "\n",
       "    .dataframe tbody tr th {\n",
       "        vertical-align: top;\n",
       "    }\n",
       "\n",
       "    .dataframe thead th {\n",
       "        text-align: right;\n",
       "    }\n",
       "</style>\n",
       "<table border=\"1\" class=\"dataframe\">\n",
       "  <thead>\n",
       "    <tr style=\"text-align: right;\">\n",
       "      <th></th>\n",
       "      <th>Name</th>\n",
       "      <th>Time [s]</th>\n",
       "    </tr>\n",
       "  </thead>\n",
       "  <tbody>\n",
       "    <tr>\n",
       "      <th>0</th>\n",
       "      <td>JanusGraphStep([],[__label__.eq(requires)])</td>\n",
       "      <td>40.776039</td>\n",
       "    </tr>\n",
       "    <tr>\n",
       "      <th>1</th>\n",
       "      <td>TraversalFlatMapStep([HasStep([__type__.eq(edge)]), ProfileStep, TraversalFilterStep([JanusGraphPropertiesStep([analysis_datetime],value), ProfileStep]), ProfileStep, TraversalFilterStep([JanusGraphPropertiesStep([analysis_document_id],value), ProfileStep]), ProfileStep, TraversalFilterStep([JanusGraphPropertiesStep([analyzer_name],value), ProfileStep]), ProfileStep, TraversalFilterStep([JanusGraphPropertiesStep([analyzer_version],value), ProfileStep]), ProfileStep])</td>\n",
       "      <td>18.028720</td>\n",
       "    </tr>\n",
       "    <tr>\n",
       "      <th>2</th>\n",
       "      <td>PropertyMapStep(value)</td>\n",
       "      <td>4.699250</td>\n",
       "    </tr>\n",
       "    <tr>\n",
       "      <th>3</th>\n",
       "      <td>SelectOneStep(last,analysis_document_id)</td>\n",
       "      <td>0.580740</td>\n",
       "    </tr>\n",
       "    <tr>\n",
       "      <th>4</th>\n",
       "      <td>DedupGlobalStep</td>\n",
       "      <td>0.251093</td>\n",
       "    </tr>\n",
       "    <tr>\n",
       "      <th>5</th>\n",
       "      <td>CountGlobalStep</td>\n",
       "      <td>0.000065</td>\n",
       "    </tr>\n",
       "    <tr>\n",
       "      <th>6</th>\n",
       "      <td>TOTAL</td>\n",
       "      <td>64.335907</td>\n",
       "    </tr>\n",
       "  </tbody>\n",
       "</table>\n",
       "</div>"
      ],
      "text/plain": [
       "                                                                                                                                                                                                                                                                                                                                                                                                                                                                                      Name  \\\n",
       "0                                                                                                                                                                                                                                                                                                                                                                                                                                              JanusGraphStep([],[__label__.eq(requires)])   \n",
       "1  TraversalFlatMapStep([HasStep([__type__.eq(edge)]), ProfileStep, TraversalFilterStep([JanusGraphPropertiesStep([analysis_datetime],value), ProfileStep]), ProfileStep, TraversalFilterStep([JanusGraphPropertiesStep([analysis_document_id],value), ProfileStep]), ProfileStep, TraversalFilterStep([JanusGraphPropertiesStep([analyzer_name],value), ProfileStep]), ProfileStep, TraversalFilterStep([JanusGraphPropertiesStep([analyzer_version],value), ProfileStep]), ProfileStep])   \n",
       "2                                                                                                                                                                                                                                                                                                                                                                                                                                                                   PropertyMapStep(value)   \n",
       "3                                                                                                                                                                                                                                                                                                                                                                                                                                                 SelectOneStep(last,analysis_document_id)   \n",
       "4                                                                                                                                                                                                                                                                                                                                                                                                                                                                          DedupGlobalStep   \n",
       "5                                                                                                                                                                                                                                                                                                                                                                                                                                                                          CountGlobalStep   \n",
       "6                                                                                                                                                                                                                                                                                                                                                                                                                                                                                    TOTAL   \n",
       "\n",
       "    Time [s]  \n",
       "0  40.776039  \n",
       "1  18.028720  \n",
       "2   4.699250  \n",
       "3   0.580740  \n",
       "4   0.251093  \n",
       "5   0.000065  \n",
       "6  64.335907  "
      ]
     },
     "execution_count": 83,
     "metadata": {},
     "output_type": "execute_result"
    }
   ],
   "source": [
    "df2"
   ]
  },
  {
   "cell_type": "markdown",
   "metadata": {},
   "source": [
    "### All has() filters and flatmap for has(```__type__```) filter"
   ]
  },
  {
   "cell_type": "code",
   "execution_count": 80,
   "metadata": {
    "ExecuteTime": {
     "end_time": "2019-04-16T12:35:12.584474Z",
     "start_time": "2019-04-16T12:33:37.473152Z"
    }
   },
   "outputs": [
    {
     "name": "stdout",
     "output_type": "stream",
     "text": [
      "CPU times: user 11.1 ms, sys: 2.82 ms, total: 13.9 ms\n",
      "Wall time: 1min 35s\n"
     ]
    }
   ],
   "source": [
    "%%time\n",
    "profiling = gqr(g.E()\n",
    "    .has(\"__label__\", \"requires\")\n",
    "    .flatMap(\n",
    "    has(\"__type__\", \"edge\")\n",
    "    )\n",
    "    .has(\"analysis_datetime\")\n",
    "    .has(\"analysis_document_id\")\n",
    "    .has(\"analyzer_name\")\n",
    "    .has(\"analyzer_version\")\n",
    "    .valueMap()\n",
    "    .select(\"analysis_document_id\")\n",
    "    .dedup()\n",
    "    .count()\n",
    "    .profile()\n",
    "    .next()\n",
    "   ).result\n",
    "\n",
    "q3_total_time, q3_contributes = get_profiling_for_query(profiling)\n",
    "df3 = get_table_results(q3_total_time, q3_contributes)"
   ]
  },
  {
   "cell_type": "code",
   "execution_count": 81,
   "metadata": {
    "ExecuteTime": {
     "end_time": "2019-04-16T12:35:12.615023Z",
     "start_time": "2019-04-16T12:35:12.591166Z"
    }
   },
   "outputs": [
    {
     "data": {
      "text/html": [
       "<div>\n",
       "<style scoped>\n",
       "    .dataframe tbody tr th:only-of-type {\n",
       "        vertical-align: middle;\n",
       "    }\n",
       "\n",
       "    .dataframe tbody tr th {\n",
       "        vertical-align: top;\n",
       "    }\n",
       "\n",
       "    .dataframe thead th {\n",
       "        text-align: right;\n",
       "    }\n",
       "</style>\n",
       "<table border=\"1\" class=\"dataframe\">\n",
       "  <thead>\n",
       "    <tr style=\"text-align: right;\">\n",
       "      <th></th>\n",
       "      <th>Name</th>\n",
       "      <th>Time [s]</th>\n",
       "    </tr>\n",
       "  </thead>\n",
       "  <tbody>\n",
       "    <tr>\n",
       "      <th>0</th>\n",
       "      <td>JanusGraphStep([],[__label__.eq(requires)])</td>\n",
       "      <td>43.511093</td>\n",
       "    </tr>\n",
       "    <tr>\n",
       "      <th>1</th>\n",
       "      <td>TraversalFlatMapStep([HasStep([__type__.eq(edge)]), ProfileStep])</td>\n",
       "      <td>6.785960</td>\n",
       "    </tr>\n",
       "    <tr>\n",
       "      <th>2</th>\n",
       "      <td>TraversalFilterStep([JanusGraphPropertiesStep([analysis_datetime],value), ProfileStep])</td>\n",
       "      <td>1.817429</td>\n",
       "    </tr>\n",
       "    <tr>\n",
       "      <th>3</th>\n",
       "      <td>TraversalFilterStep([JanusGraphPropertiesStep([analysis_document_id],value), ProfileStep])</td>\n",
       "      <td>1.622425</td>\n",
       "    </tr>\n",
       "    <tr>\n",
       "      <th>4</th>\n",
       "      <td>TraversalFilterStep([JanusGraphPropertiesStep([analyzer_name],value), ProfileStep])</td>\n",
       "      <td>2.107396</td>\n",
       "    </tr>\n",
       "    <tr>\n",
       "      <th>5</th>\n",
       "      <td>TraversalFilterStep([JanusGraphPropertiesStep([analyzer_version],value), ProfileStep])</td>\n",
       "      <td>1.664465</td>\n",
       "    </tr>\n",
       "    <tr>\n",
       "      <th>6</th>\n",
       "      <td>PropertyMapStep(value)</td>\n",
       "      <td>5.406965</td>\n",
       "    </tr>\n",
       "    <tr>\n",
       "      <th>7</th>\n",
       "      <td>SelectOneStep(last,analysis_document_id)</td>\n",
       "      <td>0.365448</td>\n",
       "    </tr>\n",
       "    <tr>\n",
       "      <th>8</th>\n",
       "      <td>DedupGlobalStep</td>\n",
       "      <td>0.480232</td>\n",
       "    </tr>\n",
       "    <tr>\n",
       "      <th>9</th>\n",
       "      <td>CountGlobalStep</td>\n",
       "      <td>0.000059</td>\n",
       "    </tr>\n",
       "    <tr>\n",
       "      <th>10</th>\n",
       "      <td>TOTAL</td>\n",
       "      <td>63.761472</td>\n",
       "    </tr>\n",
       "  </tbody>\n",
       "</table>\n",
       "</div>"
      ],
      "text/plain": [
       "                                                                                          Name  \\\n",
       "0                                                  JanusGraphStep([],[__label__.eq(requires)])   \n",
       "1                            TraversalFlatMapStep([HasStep([__type__.eq(edge)]), ProfileStep])   \n",
       "2      TraversalFilterStep([JanusGraphPropertiesStep([analysis_datetime],value), ProfileStep])   \n",
       "3   TraversalFilterStep([JanusGraphPropertiesStep([analysis_document_id],value), ProfileStep])   \n",
       "4          TraversalFilterStep([JanusGraphPropertiesStep([analyzer_name],value), ProfileStep])   \n",
       "5       TraversalFilterStep([JanusGraphPropertiesStep([analyzer_version],value), ProfileStep])   \n",
       "6                                                                       PropertyMapStep(value)   \n",
       "7                                                     SelectOneStep(last,analysis_document_id)   \n",
       "8                                                                              DedupGlobalStep   \n",
       "9                                                                              CountGlobalStep   \n",
       "10                                                                                       TOTAL   \n",
       "\n",
       "     Time [s]  \n",
       "0   43.511093  \n",
       "1    6.785960  \n",
       "2    1.817429  \n",
       "3    1.622425  \n",
       "4    2.107396  \n",
       "5    1.664465  \n",
       "6    5.406965  \n",
       "7    0.365448  \n",
       "8    0.480232  \n",
       "9    0.000059  \n",
       "10  63.761472  "
      ]
     },
     "execution_count": 81,
     "metadata": {},
     "output_type": "execute_result"
    }
   ],
   "source": [
    "df3"
   ]
  },
  {
   "cell_type": "markdown",
   "metadata": {},
   "source": [
    "### All has() filters except ```__type__```"
   ]
  },
  {
   "cell_type": "code",
   "execution_count": 57,
   "metadata": {
    "ExecuteTime": {
     "end_time": "2019-04-16T10:44:28.798564Z",
     "start_time": "2019-04-16T10:42:52.505433Z"
    }
   },
   "outputs": [
    {
     "name": "stdout",
     "output_type": "stream",
     "text": [
      "CPU times: user 11.1 ms, sys: 2.07 ms, total: 13.2 ms\n",
      "Wall time: 1min 36s\n"
     ]
    }
   ],
   "source": [
    "%%time\n",
    "profiling = gqr(g.E()\n",
    "    .has(\"__label__\", \"requires\")\n",
    "    .has(\"analysis_datetime\")\n",
    "    .has(\"analysis_document_id\")\n",
    "    .has(\"analyzer_name\")\n",
    "    .has(\"analyzer_version\")\n",
    "    .valueMap()\n",
    "    .select(\"analysis_document_id\")\n",
    "    .dedup()\n",
    "    .count()\n",
    "    .profile()\n",
    "    .next()\n",
    "   ).result\n",
    "\n",
    "q4_total_time, q4_contributes = get_profiling_for_query(profiling)\n",
    "df4 = get_table_results(q4_total_time, q4_contributes)"
   ]
  },
  {
   "cell_type": "code",
   "execution_count": 58,
   "metadata": {
    "ExecuteTime": {
     "end_time": "2019-04-16T10:44:28.818974Z",
     "start_time": "2019-04-16T10:44:28.802726Z"
    }
   },
   "outputs": [
    {
     "data": {
      "text/html": [
       "<div>\n",
       "<style scoped>\n",
       "    .dataframe tbody tr th:only-of-type {\n",
       "        vertical-align: middle;\n",
       "    }\n",
       "\n",
       "    .dataframe tbody tr th {\n",
       "        vertical-align: top;\n",
       "    }\n",
       "\n",
       "    .dataframe thead th {\n",
       "        text-align: right;\n",
       "    }\n",
       "</style>\n",
       "<table border=\"1\" class=\"dataframe\">\n",
       "  <thead>\n",
       "    <tr style=\"text-align: right;\">\n",
       "      <th></th>\n",
       "      <th>Name</th>\n",
       "      <th>Time [s]</th>\n",
       "    </tr>\n",
       "  </thead>\n",
       "  <tbody>\n",
       "    <tr>\n",
       "      <th>0</th>\n",
       "      <td>JanusGraphStep([],[__label__.eq(requires)])</td>\n",
       "      <td>46.263988</td>\n",
       "    </tr>\n",
       "    <tr>\n",
       "      <th>1</th>\n",
       "      <td>TraversalFilterStep([JanusGraphPropertiesStep([analysis_datetime],value), ProfileStep])</td>\n",
       "      <td>1.991922</td>\n",
       "    </tr>\n",
       "    <tr>\n",
       "      <th>2</th>\n",
       "      <td>TraversalFilterStep([JanusGraphPropertiesStep([analysis_document_id],value), ProfileStep])</td>\n",
       "      <td>2.623439</td>\n",
       "    </tr>\n",
       "    <tr>\n",
       "      <th>3</th>\n",
       "      <td>TraversalFilterStep([JanusGraphPropertiesStep([analyzer_name],value), ProfileStep])</td>\n",
       "      <td>2.550197</td>\n",
       "    </tr>\n",
       "    <tr>\n",
       "      <th>4</th>\n",
       "      <td>TraversalFilterStep([JanusGraphPropertiesStep([analyzer_version],value), ProfileStep])</td>\n",
       "      <td>1.707316</td>\n",
       "    </tr>\n",
       "    <tr>\n",
       "      <th>5</th>\n",
       "      <td>PropertyMapStep(value)</td>\n",
       "      <td>4.109970</td>\n",
       "    </tr>\n",
       "    <tr>\n",
       "      <th>6</th>\n",
       "      <td>SelectOneStep(last,analysis_document_id)</td>\n",
       "      <td>0.321672</td>\n",
       "    </tr>\n",
       "    <tr>\n",
       "      <th>7</th>\n",
       "      <td>DedupGlobalStep</td>\n",
       "      <td>0.227692</td>\n",
       "    </tr>\n",
       "    <tr>\n",
       "      <th>8</th>\n",
       "      <td>CountGlobalStep</td>\n",
       "      <td>0.000064</td>\n",
       "    </tr>\n",
       "    <tr>\n",
       "      <th>9</th>\n",
       "      <td>TOTAL</td>\n",
       "      <td>59.796260</td>\n",
       "    </tr>\n",
       "  </tbody>\n",
       "</table>\n",
       "</div>"
      ],
      "text/plain": [
       "                                                                                         Name  \\\n",
       "0                                                 JanusGraphStep([],[__label__.eq(requires)])   \n",
       "1     TraversalFilterStep([JanusGraphPropertiesStep([analysis_datetime],value), ProfileStep])   \n",
       "2  TraversalFilterStep([JanusGraphPropertiesStep([analysis_document_id],value), ProfileStep])   \n",
       "3         TraversalFilterStep([JanusGraphPropertiesStep([analyzer_name],value), ProfileStep])   \n",
       "4      TraversalFilterStep([JanusGraphPropertiesStep([analyzer_version],value), ProfileStep])   \n",
       "5                                                                      PropertyMapStep(value)   \n",
       "6                                                    SelectOneStep(last,analysis_document_id)   \n",
       "7                                                                             DedupGlobalStep   \n",
       "8                                                                             CountGlobalStep   \n",
       "9                                                                                       TOTAL   \n",
       "\n",
       "    Time [s]  \n",
       "0  46.263988  \n",
       "1   1.991922  \n",
       "2   2.623439  \n",
       "3   2.550197  \n",
       "4   1.707316  \n",
       "5   4.109970  \n",
       "6   0.321672  \n",
       "7   0.227692  \n",
       "8   0.000064  \n",
       "9  59.796260  "
      ]
     },
     "execution_count": 58,
     "metadata": {},
     "output_type": "execute_result"
    }
   ],
   "source": [
    "df4"
   ]
  },
  {
   "cell_type": "markdown",
   "metadata": {},
   "source": [
    "### Only one has() filter"
   ]
  },
  {
   "cell_type": "code",
   "execution_count": 78,
   "metadata": {
    "ExecuteTime": {
     "end_time": "2019-04-16T12:33:37.440597Z",
     "start_time": "2019-04-16T12:31:57.775077Z"
    }
   },
   "outputs": [
    {
     "name": "stdout",
     "output_type": "stream",
     "text": [
      "CPU times: user 9.72 ms, sys: 4.77 ms, total: 14.5 ms\n",
      "Wall time: 1min 39s\n"
     ]
    }
   ],
   "source": [
    "%%time\n",
    "profiling = gqr(g.E()\n",
    "    .has(\"analysis_document_id\")\n",
    "    .valueMap()\n",
    "    .select(\"analysis_document_id\")\n",
    "    .dedup()\n",
    "    .count()\n",
    "    .profile()\n",
    "    .next()\n",
    "   ).result\n",
    "\n",
    "q5_total_time, q5_contributes = get_profiling_for_query(profiling)\n",
    "df5 = get_table_results(q5_total_time, q5_contributes)"
   ]
  },
  {
   "cell_type": "code",
   "execution_count": 79,
   "metadata": {
    "ExecuteTime": {
     "end_time": "2019-04-16T12:33:37.469616Z",
     "start_time": "2019-04-16T12:33:37.448189Z"
    }
   },
   "outputs": [
    {
     "data": {
      "text/html": [
       "<div>\n",
       "<style scoped>\n",
       "    .dataframe tbody tr th:only-of-type {\n",
       "        vertical-align: middle;\n",
       "    }\n",
       "\n",
       "    .dataframe tbody tr th {\n",
       "        vertical-align: top;\n",
       "    }\n",
       "\n",
       "    .dataframe thead th {\n",
       "        text-align: right;\n",
       "    }\n",
       "</style>\n",
       "<table border=\"1\" class=\"dataframe\">\n",
       "  <thead>\n",
       "    <tr style=\"text-align: right;\">\n",
       "      <th></th>\n",
       "      <th>Name</th>\n",
       "      <th>Time [s]</th>\n",
       "    </tr>\n",
       "  </thead>\n",
       "  <tbody>\n",
       "    <tr>\n",
       "      <th>0</th>\n",
       "      <td>JanusGraphStep(edge,[])</td>\n",
       "      <td>32.610053</td>\n",
       "    </tr>\n",
       "    <tr>\n",
       "      <th>1</th>\n",
       "      <td>TraversalFilterStep([JanusGraphPropertiesStep([analysis_document_id],value), ProfileStep])</td>\n",
       "      <td>22.151987</td>\n",
       "    </tr>\n",
       "    <tr>\n",
       "      <th>2</th>\n",
       "      <td>PropertyMapStep(value)</td>\n",
       "      <td>5.593767</td>\n",
       "    </tr>\n",
       "    <tr>\n",
       "      <th>3</th>\n",
       "      <td>SelectOneStep(last,analysis_document_id)</td>\n",
       "      <td>0.325676</td>\n",
       "    </tr>\n",
       "    <tr>\n",
       "      <th>4</th>\n",
       "      <td>DedupGlobalStep</td>\n",
       "      <td>0.213257</td>\n",
       "    </tr>\n",
       "    <tr>\n",
       "      <th>5</th>\n",
       "      <td>CountGlobalStep</td>\n",
       "      <td>0.000068</td>\n",
       "    </tr>\n",
       "    <tr>\n",
       "      <th>6</th>\n",
       "      <td>TOTAL</td>\n",
       "      <td>60.894809</td>\n",
       "    </tr>\n",
       "  </tbody>\n",
       "</table>\n",
       "</div>"
      ],
      "text/plain": [
       "                                                                                         Name  \\\n",
       "0                                                                     JanusGraphStep(edge,[])   \n",
       "1  TraversalFilterStep([JanusGraphPropertiesStep([analysis_document_id],value), ProfileStep])   \n",
       "2                                                                      PropertyMapStep(value)   \n",
       "3                                                    SelectOneStep(last,analysis_document_id)   \n",
       "4                                                                             DedupGlobalStep   \n",
       "5                                                                             CountGlobalStep   \n",
       "6                                                                                       TOTAL   \n",
       "\n",
       "    Time [s]  \n",
       "0  32.610053  \n",
       "1  22.151987  \n",
       "2   5.593767  \n",
       "3   0.325676  \n",
       "4   0.213257  \n",
       "5   0.000068  \n",
       "6  60.894809  "
      ]
     },
     "execution_count": 79,
     "metadata": {},
     "output_type": "execute_result"
    }
   ],
   "source": [
    "df5"
   ]
  },
  {
   "cell_type": "markdown",
   "metadata": {},
   "source": [
    "### Summary of all queries"
   ]
  },
  {
   "cell_type": "code",
   "execution_count": 86,
   "metadata": {
    "ExecuteTime": {
     "end_time": "2019-04-16T12:38:45.052823Z",
     "start_time": "2019-04-16T12:38:45.033829Z"
    }
   },
   "outputs": [
    {
     "data": {
      "text/html": [
       "<div>\n",
       "<style scoped>\n",
       "    .dataframe tbody tr th:only-of-type {\n",
       "        vertical-align: middle;\n",
       "    }\n",
       "\n",
       "    .dataframe tbody tr th {\n",
       "        vertical-align: top;\n",
       "    }\n",
       "\n",
       "    .dataframe thead th {\n",
       "        text-align: right;\n",
       "    }\n",
       "</style>\n",
       "<table border=\"1\" class=\"dataframe\">\n",
       "  <thead>\n",
       "    <tr style=\"text-align: right;\">\n",
       "      <th></th>\n",
       "      <th>Type of query</th>\n",
       "      <th>Total Time [s]</th>\n",
       "    </tr>\n",
       "  </thead>\n",
       "  <tbody>\n",
       "    <tr>\n",
       "      <th>0</th>\n",
       "      <td>Current query</td>\n",
       "      <td>68.880176</td>\n",
       "    </tr>\n",
       "    <tr>\n",
       "      <th>1</th>\n",
       "      <td>Flatmap for all has() filter</td>\n",
       "      <td>64.335907</td>\n",
       "    </tr>\n",
       "    <tr>\n",
       "      <th>2</th>\n",
       "      <td>All has() filters and flatmap for has(__type__) filter</td>\n",
       "      <td>63.761472</td>\n",
       "    </tr>\n",
       "    <tr>\n",
       "      <th>3</th>\n",
       "      <td>All has() filters except __type__</td>\n",
       "      <td>59.796260</td>\n",
       "    </tr>\n",
       "    <tr>\n",
       "      <th>4</th>\n",
       "      <td>Only one has() filter</td>\n",
       "      <td>60.894809</td>\n",
       "    </tr>\n",
       "  </tbody>\n",
       "</table>\n",
       "</div>"
      ],
      "text/plain": [
       "                                            Type of query  Total Time [s]\n",
       "0                                           Current query       68.880176\n",
       "1                            Flatmap for all has() filter       64.335907\n",
       "2  All has() filters and flatmap for has(__type__) filter       63.761472\n",
       "3                       All has() filters except __type__       59.796260\n",
       "4                                   Only one has() filter       60.894809"
      ]
     },
     "execution_count": 86,
     "metadata": {},
     "output_type": "execute_result"
    }
   ],
   "source": [
    "summary_results_query = [\n",
    "    ['Current query', q1_total_time/1000],\n",
    "    ['Flatmap for all has() filter', q2_total_time/1000],\n",
    "    ['All has() filters and flatmap for has(__type__) filter', q3_total_time/1000],\n",
    "    ['All has() filters except __type__', q4_total_time/1000],\n",
    "    ['Only one has() filter', q5_total_time/1000],\n",
    "]\n",
    "\n",
    "df_summary = pd.DataFrame(summary_results_query, columns = ['Type of query','Total Time [s]'])\n",
    "df_summary"
   ]
  },
  {
   "cell_type": "markdown",
   "metadata": {},
   "source": [
    "## Count all instances in all vertices and edges"
   ]
  },
  {
   "cell_type": "code",
   "execution_count": 2,
   "metadata": {
    "ExecuteTime": {
     "end_time": "2019-04-09T13:30:17.632549Z",
     "start_time": "2019-04-09T13:30:03.513417Z"
    }
   },
   "outputs": [
    {
     "name": "stdout",
     "output_type": "stream",
     "text": [
      "CPU times: user 1.75 ms, sys: 1.87 ms, total: 3.62 ms\n",
      "Wall time: 14.1 s\n"
     ]
    },
    {
     "data": {
      "text/plain": [
       "{'has_artifact': 15557,\n",
       " 'depends_on': 156006,\n",
       " 'is_part_of': 264,\n",
       " 'solved': 405001,\n",
       " 'has_vulnerability': 34810,\n",
       " 'has_version': 22283,\n",
       " 'requires': 3350}"
      ]
     },
     "execution_count": 2,
     "metadata": {},
     "output_type": "execute_result"
    }
   ],
   "source": [
    "%%time\n",
    "gqr(g.E()\n",
    "    .has(\"__type__\", \"edge\")\n",
    "    .groupCount().by(\"__label__\")\n",
    "    .next()\n",
    "   ).result"
   ]
  },
  {
   "cell_type": "code",
   "execution_count": 6,
   "metadata": {
    "ExecuteTime": {
     "end_time": "2019-04-09T13:41:51.092905Z",
     "start_time": "2019-04-09T13:41:39.736889Z"
    }
   },
   "outputs": [
    {
     "name": "stdout",
     "output_type": "stream",
     "text": [
      "CPU times: user 2.25 ms, sys: 2.62 ms, total: 4.87 ms\n",
      "Wall time: 11.3 s\n"
     ]
    },
    {
     "data": {
      "text/plain": [
       "{'has_artifact': 15557,\n",
       " 'depends_on': 156006,\n",
       " 'is_part_of': 264,\n",
       " 'solved': 405001,\n",
       " 'has_vulnerability': 34810,\n",
       " 'has_version': 22283,\n",
       " 'requires': 3350}"
      ]
     },
     "execution_count": 6,
     "metadata": {},
     "output_type": "execute_result"
    }
   ],
   "source": [
    "%%time\n",
    "gqr(g.E()\n",
    "    .groupCount()\n",
    "    .by(\"__label__\")\n",
    "    .next()\n",
    "   ).result"
   ]
  },
  {
   "cell_type": "code",
   "execution_count": 4,
   "metadata": {
    "ExecuteTime": {
     "end_time": "2019-04-09T13:39:22.710685Z",
     "start_time": "2019-04-09T13:39:18.381320Z"
    }
   },
   "outputs": [
    {
     "name": "stdout",
     "output_type": "stream",
     "text": [
      "CPU times: user 3.7 ms, sys: 2.51 ms, total: 6.21 ms\n",
      "Wall time: 4.31 s\n"
     ]
    },
    {
     "data": {
      "text/plain": [
       "{'ecosystem_solver': 4,\n",
       " 'runtime_environment': 1,\n",
       " 'cve': 796,\n",
       " 'package': 946,\n",
       " 'python_package_index': 7,\n",
       " 'python_artifact': 15407,\n",
       " 'python_package_version': 22015,\n",
       " 'rpm_package_version': 174,\n",
       " 'buildtime_environment': 1,\n",
       " 'rpm_requirement': 513}"
      ]
     },
     "execution_count": 4,
     "metadata": {},
     "output_type": "execute_result"
    }
   ],
   "source": [
    "%%time\n",
    "gqr(g.V()\n",
    "    .has(\"__type__\", \"vertex\")\n",
    "    .groupCount()\n",
    "    .by(\"__label__\")\n",
    "    .next()\n",
    "   ).result"
   ]
  },
  {
   "cell_type": "code",
   "execution_count": null,
   "metadata": {},
   "outputs": [],
   "source": []
  }
 ],
 "metadata": {
  "kernelspec": {
   "display_name": "Python 3",
   "language": "python",
   "name": "python3"
  },
  "language_info": {
   "codemirror_mode": {
    "name": "ipython",
    "version": 3
   },
   "file_extension": ".py",
   "mimetype": "text/x-python",
   "name": "python",
   "nbconvert_exporter": "python",
   "pygments_lexer": "ipython3",
   "version": "3.6.8"
  },
  "toc": {
   "base_numbering": 1,
   "nav_menu": {},
   "number_sections": true,
   "sideBar": true,
   "skip_h1_title": false,
   "title_cell": "Table of Contents",
   "title_sidebar": "Contents",
   "toc_cell": true,
   "toc_position": {
    "height": "calc(100% - 180px)",
    "left": "10px",
    "top": "150px",
    "width": "384px"
   },
   "toc_section_display": true,
   "toc_window_display": true
  }
 },
 "nbformat": 4,
 "nbformat_minor": 2
}
