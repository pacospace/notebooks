{
 "cells": [
  {
   "cell_type": "markdown",
   "metadata": {},
   "source": [
    "# Interacting with Thoth"
   ]
  },
  {
   "cell_type": "markdown",
   "metadata": {},
   "source": [
    "Deployed Thoth, as of now, offers one API service for users. This endpoint exposes all the actions that can be done with Thoth, how one can interact with Thoth, how to consume data, use cluster for computation by supplying work and so. The API service exposes OpenAPI/Swagger documentation in a form of JSON so one can use Swagger user UIs, testing and tooling aroung OpenAPI/Swagger available out there.\n",
    "\n",
    "The Swagger documentation is available under `/api/<version>/swagger.json` endpoint. In this Jupyter notebook one can see how to interact with the cluster, how to check responses and how to get cluster or job statuses. Let's start with defining Thoth's user API service where our Thoth deployment sits. If you access Thoth's user API service, you will get Swagger UI that will give you a documentation of the current user API service."
   ]
  },
  {
   "cell_type": "markdown",
   "metadata": {},
   "source": [
    "Now let's obtain actual service host so that the host is not exposed in the Jupyter notebook (it's an internal URL). We will use `obtain_location()` function to obtain URL to actual Thoth deployment:"
   ]
  },
  {
   "cell_type": "code",
   "execution_count": 1,
   "metadata": {},
   "outputs": [],
   "source": [
    "from thoth.lab import obtain_location\n",
    "\n",
    "THOTH_USER_API = obtain_location('thoth-test-upshift', verify=False)"
   ]
  },
  {
   "cell_type": "markdown",
   "metadata": {},
   "source": [
    "In this Jupyter notebook we will use a library [requests](http://docs.python-requests.org/en/master/) to interact with endpoints directly. However, you can also use libraries such as [bravado](http://bravado.readthedocs.io/en/latest) that is a client for API endpoints defined by OpenAPI/Swagger specification.\n",
    "\n",
    "Let's instantiate the client object that encapsulates all the logic for us:"
   ]
  },
  {
   "cell_type": "code",
   "execution_count": 2,
   "metadata": {},
   "outputs": [],
   "source": [
    "import requests\n",
    "from urllib.parse import urljoin\n",
    "\n",
    "client = requests.get(urljoin(THOTH_USER_API, '/api/v1/swagger.json'))"
   ]
  },
  {
   "cell_type": "markdown",
   "metadata": {},
   "source": [
    "Thoth user API exposes models that can be used to interact with the API. Let's get some models and let's check what do they offer."
   ]
  },
  {
   "cell_type": "code",
   "execution_count": 3,
   "metadata": {},
   "outputs": [],
   "source": [
    "Log = client.json().get('definitions').get('Log')\n",
    "Packages = client.json().get('definitions').get('Packages')"
   ]
  },
  {
   "cell_type": "markdown",
   "metadata": {},
   "source": [
    "Besides inherited attributes and methods, the `Packages` model also provides requirement property that, based on the docstring, is a string that represents stack requirements as they would be stated in the `requirements.txt` file.\n",
    "\n",
    "You can browse intaractive pop-up via calling (shown in the pannel bellow in the Jupyter notebook UI):"
   ]
  },
  {
   "cell_type": "code",
   "execution_count": 4,
   "metadata": {},
   "outputs": [],
   "source": [
    "Packages?"
   ]
  },
  {
   "cell_type": "markdown",
   "metadata": {},
   "source": [
    "Now, let's try to instantiate such model:"
   ]
  },
  {
   "cell_type": "code",
   "execution_count": 5,
   "metadata": {},
   "outputs": [],
   "source": [
    "packages = {'requirements':'tensorflow==1.6.0'}\n",
    "headers = {'content-type': 'application/json'}\n",
    "payload = {\n",
    "    'solver': 'fridex/thoth-solver-fc27', # Solver image to be used.\n",
    "    'debug': True, # We can optionally turn on debug mode to keep track of actions that are done by solver image.\n",
    "    'transitive':False # To Inspect all the transitive dependencies, set as True.\n",
    "} "
   ]
  },
  {
   "cell_type": "markdown",
   "metadata": {},
   "source": [
    "And call the remote endpoint called `solve` that will try to find all packages that can be installed with the given package (based on requirements stated in the `tensorflow` package in version 1.6.0 and all the transitive dependencies):"
   ]
  },
  {
   "cell_type": "code",
   "execution_count": 6,
   "metadata": {},
   "outputs": [
    {
     "name": "stdout",
     "output_type": "stream",
     "text": [
      "Status Code:  202\n"
     ]
    }
   ],
   "source": [
    "import json\n",
    "\n",
    "\n",
    "response = requests.post(\n",
    "    urljoin(THOTH_USER_API, '/api/v1/solve'),\n",
    "    json=packages,\n",
    "    params=payload,\n",
    "    headers=headers\n",
    ")\n",
    "\n",
    "print(\"Status Code: \",response.status_code)\n",
    "# Our instantiated Package model holding requirements as stated in requirements.txt file."
   ]
  },
  {
   "cell_type": "markdown",
   "metadata": {},
   "source": [
    "Now let's check the response from the user API service. If everything went well, the remote API should response with 202 HTTP status code:"
   ]
  },
  {
   "cell_type": "code",
   "execution_count": 7,
   "metadata": {},
   "outputs": [],
   "source": [
    "assert response.status_code == 202, \"The HTTP status code was not 202 but {:d}\".format(response.status_code)"
   ]
  },
  {
   "cell_type": "markdown",
   "metadata": {},
   "source": [
    "And the response itself should hold all the relevant information such as parameters supplied (also the ones that were not explicitly supplied) and `pod_id` that is ID of the pod in which the solver image is run:"
   ]
  },
  {
   "cell_type": "code",
   "execution_count": 8,
   "metadata": {},
   "outputs": [
    {
     "name": "stdout",
     "output_type": "stream",
     "text": [
      "{'parameters': {'cpu_request': None,\n",
      "                'debug': True,\n",
      "                'memory_request': None,\n",
      "                'packages': 'tensorflow==1.6.0',\n",
      "                'solver': 'fridex/thoth-solver-fc27',\n",
      "                'transitive': False},\n",
      " 'pod_id': 'fridex-thoth-solver-fc27-thoth-solver-fc27-7jb5z'}\n"
     ]
    }
   ],
   "source": [
    "from pprint import pprint\n",
    "\n",
    "pprint(response.json())\n",
    "pod_id = response.json()['pod_id']"
   ]
  },
  {
   "cell_type": "markdown",
   "metadata": {},
   "source": [
    "Now let's try to check status of the pod:"
   ]
  },
  {
   "cell_type": "code",
   "execution_count": 9,
   "metadata": {},
   "outputs": [
    {
     "name": "stdout",
     "output_type": "stream",
     "text": [
      "{'pod_id': 'fridex-thoth-solver-fc27-thoth-solver-fc27-7jb5z',\n",
      " 'status': {'waiting': {'reason': 'ContainerCreating'}}}\n"
     ]
    }
   ],
   "source": [
    "response = requests.get(urljoin(THOTH_USER_API, '/api/v1/status/'+pod_id))\n",
    "pprint(response.json())"
   ]
  },
  {
   "cell_type": "markdown",
   "metadata": {},
   "source": [
    "Thoth-core scheduled a pod in thoth-middleend namespace (a restricted environment). Let's wait for container creation to finish:"
   ]
  },
  {
   "cell_type": "code",
   "execution_count": 10,
   "metadata": {},
   "outputs": [
    {
     "name": "stdout",
     "output_type": "stream",
     "text": [
      "Waiting for solver to start analyzing packages...\n",
      "Waiting for solver to start analyzing packages...\n"
     ]
    }
   ],
   "source": [
    "from time import sleep\n",
    "\n",
    "while 'waiting' in response.json()['status']:\n",
    "    print(\"Waiting for solver to start analyzing packages...\")\n",
    "    sleep(2)\n",
    "    response = requests.get(urljoin(THOTH_USER_API, '/api/v1/status/'+pod_id))"
   ]
  },
  {
   "cell_type": "markdown",
   "metadata": {},
   "source": [
    "As of now, the solver started analyzing dependencies:"
   ]
  },
  {
   "cell_type": "code",
   "execution_count": 11,
   "metadata": {},
   "outputs": [
    {
     "name": "stdout",
     "output_type": "stream",
     "text": [
      "{'pod_id': 'fridex-thoth-solver-fc27-thoth-solver-fc27-7jb5z',\n",
      " 'status': {'running': {'startedAt': '2018-06-12T17:54:06Z'}}}\n"
     ]
    }
   ],
   "source": [
    "pprint(response.json())"
   ]
  },
  {
   "cell_type": "markdown",
   "metadata": {},
   "source": [
    "As we started the solver in verbose mode, we can check what is going on right now:"
   ]
  },
  {
   "cell_type": "code",
   "execution_count": 12,
   "metadata": {},
   "outputs": [],
   "source": [
    "sleep(20)\n",
    "response = requests.get(urljoin(THOTH_USER_API, '/api/v1/log/'+pod_id))"
   ]
  },
  {
   "cell_type": "markdown",
   "metadata": {},
   "source": [
    "Now let's print last ten lines of the pod log:"
   ]
  },
  {
   "cell_type": "code",
   "execution_count": 13,
   "metadata": {},
   "outputs": [
    {
     "data": {
      "text/plain": [
       "['INFO:thoth:Logging to rsyslog endpoint is turned off',\n",
       " 'DEBUG:thoth.solver.cli:Debug mode is on',\n",
       " '']"
      ]
     },
     "execution_count": 13,
     "metadata": {},
     "output_type": "execute_result"
    }
   ],
   "source": [
    "response.json()['pod_log'].split('\\n')[-10:]"
   ]
  },
  {
   "cell_type": "markdown",
   "metadata": {},
   "source": [
    "Once the analysis finishes, all the results are stored onto [Ceph](https://ceph.com/), the distributed storage system. You can retrieve raw results by calling the following endpoint:"
   ]
  },
  {
   "cell_type": "code",
   "execution_count": 14,
   "metadata": {},
   "outputs": [
    {
     "name": "stdout",
     "output_type": "stream",
     "text": [
      "Waiting for solver to finish analyzing packages...\n",
      "Waiting for solver to finish analyzing packages...\n",
      "Waiting for solver to finish analyzing packages...\n"
     ]
    }
   ],
   "source": [
    "while True:\n",
    "    response = requests.get(urljoin(THOTH_USER_API, '/api/v1/status/'+pod_id))\n",
    "    if 'running' not in response.json()['status']:\n",
    "        break\n",
    "\n",
    "    print(\"Waiting for solver to finish analyzing packages...\")\n",
    "    sleep(10)\n",
    "response = requests.get(urljoin(THOTH_USER_API, '/api/v1/solve/'+pod_id))"
   ]
  },
  {
   "cell_type": "markdown",
   "metadata": {},
   "source": [
    "And let's display result that is stored onto Ceph distrubuted filesystem:"
   ]
  },
  {
   "cell_type": "code",
   "execution_count": 15,
   "metadata": {},
   "outputs": [
    {
     "name": "stdout",
     "output_type": "stream",
     "text": [
      "{'metadata': {'analyzer': 'thoth-solver',\n",
      "              'analyzer_version': '1.0.2',\n",
      "              'arguments': {'pypi': {'exclude_packages': None,\n",
      "                                     'index': None,\n",
      "                                     'no_pretty': False,\n",
      "                                     'no_transitive': True,\n",
      "                                     'output': 'http://result-api/api/v1/solver-result',\n",
      "                                     'requirements': 'tensorflow==1.6.0'},\n",
      "                            'thoth-solver': {'verbose': True}},\n",
      "              'datetime': '2018-06-12T17:54:59.604139',\n",
      "              'distribution': {'codename': 'Twenty Seven',\n",
      "                               'id': 'fedora',\n",
      "                               'like': '',\n",
      "                               'version': '27',\n",
      "                               'version_parts': {'build_number': '',\n",
      "                                                 'major': '27',\n",
      "                                                 'minor': ''}},\n",
      "              'hostname': 'fridex-thoth-solver-fc27-thoth-solver-fc27-7jb5z',\n",
      "              'python': {'api_version': 1013,\n",
      "                         'implementation_name': 'cpython',\n",
      "                         'major': 3,\n",
      "                         'micro': 5,\n",
      "                         'minor': 6,\n",
      "                         'releaselevel': 'final',\n",
      "                         'serial': 0}},\n",
      " 'result': {'environment': [{'dependencies': [],\n",
      "                             'package_name': 'wheel',\n",
      "                             'package_version': '0.31.1'},\n",
      "                            {'dependencies': [],\n",
      "                             'package_name': 'setuptools',\n",
      "                             'package_version': '39.2.0'},\n",
      "                            {'dependencies': [{'package_name': 'pip',\n",
      "                                               'required_version': '>=6.0.0'}],\n",
      "                             'package_name': 'pipdeptree',\n",
      "                             'package_version': '0.12.1'},\n",
      "                            {'dependencies': [],\n",
      "                             'package_name': 'pip',\n",
      "                             'package_version': '10.0.1'}],\n",
      "            'errors': [],\n",
      "            'tree': [{'dependencies': [{'package_name': 'tensorboard',\n",
      "                                        'required_version': '<1.7.0,>=1.6.0',\n",
      "                                        'resolved_versions': ['1.0.0a6',\n",
      "                                                              '1.0.0a5',\n",
      "                                                              '1.0.0a4',\n",
      "                                                              '1.0.0a3',\n",
      "                                                              '1.0.0a2',\n",
      "                                                              '1.0.0a1',\n",
      "                                                              '1.0.0a0',\n",
      "                                                              '1.6.0rc0',\n",
      "                                                              '1.6.0',\n",
      "                                                              '1.7.0',\n",
      "                                                              '1.8.0']},\n",
      "                                       {'package_name': 'wheel',\n",
      "                                        'required_version': '>=0.26',\n",
      "                                        'resolved_versions': ['0.26.0',\n",
      "                                                              '0.27.0',\n",
      "                                                              '0.28.0',\n",
      "                                                              '0.29.0',\n",
      "                                                              '0.30.0a0',\n",
      "                                                              '0.30.0',\n",
      "                                                              '0.31.0',\n",
      "                                                              '0.31.1']},\n",
      "                                       {'package_name': 'astor',\n",
      "                                        'required_version': '>=0.6.0',\n",
      "                                        'resolved_versions': ['0.6',\n",
      "                                                              '0.6.1',\n",
      "                                                              '0.6.2']},\n",
      "                                       {'package_name': 'protobuf',\n",
      "                                        'required_version': '>=3.4.0',\n",
      "                                        'resolved_versions': ['3.4.0',\n",
      "                                                              '3.5.0.post1',\n",
      "                                                              '3.5.1',\n",
      "                                                              '3.5.2.post1',\n",
      "                                                              '3.5.2']},\n",
      "                                       {'package_name': 'gast',\n",
      "                                        'required_version': '>=0.2.0',\n",
      "                                        'resolved_versions': ['0.2.0']},\n",
      "                                       {'package_name': 'termcolor',\n",
      "                                        'required_version': '>=1.1.0',\n",
      "                                        'resolved_versions': ['1.1.0']},\n",
      "                                       {'package_name': 'numpy',\n",
      "                                        'required_version': '>=1.13.3',\n",
      "                                        'resolved_versions': ['1.13.3',\n",
      "                                                              '1.14.0rc1',\n",
      "                                                              '1.14.0',\n",
      "                                                              '1.14.1',\n",
      "                                                              '1.14.2',\n",
      "                                                              '1.14.3',\n",
      "                                                              '1.14.4']},\n",
      "                                       {'package_name': 'six',\n",
      "                                        'required_version': '>=1.10.0',\n",
      "                                        'resolved_versions': ['1.10.0',\n",
      "                                                              '1.11.0']},\n",
      "                                       {'package_name': 'grpcio',\n",
      "                                        'required_version': '>=1.8.6',\n",
      "                                        'resolved_versions': ['1.8.6',\n",
      "                                                              '1.9.0rc3',\n",
      "                                                              '1.9.0rc2',\n",
      "                                                              '1.9.0rc1',\n",
      "                                                              '1.9.0',\n",
      "                                                              '1.9.1',\n",
      "                                                              '1.10.1rc2',\n",
      "                                                              '1.10.1rc1',\n",
      "                                                              '1.10.0rc2',\n",
      "                                                              '1.10.0rc1',\n",
      "                                                              '1.10.0',\n",
      "                                                              '1.10.1',\n",
      "                                                              '1.11.1rc1',\n",
      "                                                              '1.11.0rc2',\n",
      "                                                              '1.11.0rc1',\n",
      "                                                              '1.11.0',\n",
      "                                                              '1.11.1',\n",
      "                                                              '1.12.0rc1',\n",
      "                                                              '1.12.0',\n",
      "                                                              '1.12.1',\n",
      "                                                              '1.13.0rc1']},\n",
      "                                       {'package_name': 'absl-py',\n",
      "                                        'required_version': '>=0.1.6',\n",
      "                                        'resolved_versions': ['0.1.6',\n",
      "                                                              '0.1.7',\n",
      "                                                              '0.1.8',\n",
      "                                                              '0.1.9',\n",
      "                                                              '0.1.10',\n",
      "                                                              '0.1.11',\n",
      "                                                              '0.1.12',\n",
      "                                                              '0.1.13',\n",
      "                                                              '0.2.0',\n",
      "                                                              '0.2.1',\n",
      "                                                              '0.2.2']}],\n",
      "                      'package_name': 'tensorflow',\n",
      "                      'package_version': '1.6.0'}],\n",
      "            'unparsed': [],\n",
      "            'unresolved': []}}\n"
     ]
    }
   ],
   "source": [
    "pprint(response.json())"
   ]
  },
  {
   "cell_type": "markdown",
   "metadata": {},
   "source": [
    "## Solver images"
   ]
  },
  {
   "cell_type": "markdown",
   "metadata": {},
   "source": [
    "As can be seen above, there are multiple solver images. They differ mainly in the base image. In the example shown in this Jupyter notebook, we run a solver that is based on Fedora:27 base image.\n",
    "\n",
    "Requested solver is trying to install all the packages that you submitted in the `requirements` attribute via `Packages` model respecting version range specification. Thoth's solver tries to solve the given version range against index (PyPI index by default) and checks which versions satisfy the given version range specification at the solving time. That are also the very first observations that Thoth's solver stores about a package:\n",
    "\n",
    " > * Is the given package available?\n",
    " > * What versions of the given package satisfy the given version range specification at the analyzing time?\n",
    "\n",
    "The next step of Thoth's solver is to actually try to install provided packages in resolved versions into the base image environment. With this step Thoth gathers additional observation:\n",
    "\n",
    " > * Can I install the given package into the base image environment?\n",
    "\n",
    "If the given package is not installable, thoth-solver keeps track of errors that were encountered during installation for additional analyses. The reasons why a package is not installable can be numerous (such as expectation of some native binary such as `gcc` for installation that is not available in the given container environment, package not installable for the given Python version and so).\n",
    "\n",
    "After each installation, the container environment is restored so that installation of a package does not affect solver environment for subsequent installations.\n",
    "\n",
    "The steps discussed above are repeated for each and every package supplied via the `requirements` attribute in the `Packages` model and, if requested, for all the transitive dependencies of supplied packages. With this, Thoth also gathers addition observation:\n",
    "\n",
    " > * What are all the package requirements that satisfy package version ranges at the given point of time?\n",
    "\n",
    "The result of a solver is a JSON document describing observations above and additional metadata such as Python interpreter used and its version available in the solver environment. These documents are subsequently additionally analysed and processed in the Thoth."
   ]
  }
 ],
 "metadata": {
  "kernelspec": {
   "display_name": "Python 3",
   "language": "python",
   "name": "python3"
  },
  "language_info": {
   "codemirror_mode": {
    "name": "ipython",
    "version": 3
   },
   "file_extension": ".py",
   "mimetype": "text/x-python",
   "name": "python",
   "nbconvert_exporter": "python",
   "pygments_lexer": "ipython3",
   "version": "3.6.5"
  }
 },
 "nbformat": 4,
 "nbformat_minor": 2
}
