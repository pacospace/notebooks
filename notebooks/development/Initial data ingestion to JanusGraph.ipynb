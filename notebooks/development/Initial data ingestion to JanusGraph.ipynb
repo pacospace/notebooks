{
 "cells": [
  {
   "cell_type": "markdown",
   "metadata": {},
   "source": [
    "# Initial data ingestion to JanusGraph"
   ]
  },
  {
   "cell_type": "code",
   "execution_count": 1,
   "metadata": {},
   "outputs": [],
   "source": [
    "from thoth.storages.graph import GraphDatabase\n",
    "from thoth.storages import SolverResultsStore\n",
    "from thoth.storages import AnalysisResultsStore\n",
    "\n",
    "from thoth.lab import obtain_location\n",
    "from thoth.lab import GraphQueryResult as gqr\n",
    "\n",
    "graph_db = GraphDatabase()\n",
    "solver_results = SolverResultsStore()\n",
    "analysis_results = AnalysisResultsStore()\n",
    "\n",
    "graph_db.connect()\n",
    "solver_results.connect()\n",
    "analysis_results.connect()"
   ]
  },
  {
   "cell_type": "markdown",
   "metadata": {},
   "source": [
    "## Place for experiments:"
   ]
  },
  {
   "cell_type": "code",
   "execution_count": 2,
   "metadata": {},
   "outputs": [],
   "source": [
    "gqr(graph_db.g.V().drop().next()).result\n",
    "assert gqr(graph_db.g.V().count().next()).result == 0"
   ]
  },
  {
   "cell_type": "markdown",
   "metadata": {},
   "source": [
    "## Syncing image analysis results - with adapter cache"
   ]
  },
  {
   "cell_type": "code",
   "execution_count": 3,
   "metadata": {},
   "outputs": [
    {
     "data": {
      "text/plain": [
       "0"
      ]
     },
     "execution_count": 3,
     "metadata": {},
     "output_type": "execute_result"
    }
   ],
   "source": [
    "gqr(graph_db.g.V().count().next()).result"
   ]
  },
  {
   "cell_type": "code",
   "execution_count": 4,
   "metadata": {
    "scrolled": true
   },
   "outputs": [
    {
     "name": "stdout",
     "output_type": "stream",
     "text": [
      "Syncing fridex-thoth-package-extract-centos-6-hh7ws\n",
      "Syncing fridex-thoth-package-extract-centos-7-glrdg\n",
      "Syncing fridex-thoth-package-extract-fedora-27-ntwsp\n",
      "Syncing fridex-thoth-package-extract-fedora-28-cfmtc\n",
      "CPU times: user 14.2 s, sys: 1 s, total: 15.2 s\n",
      "Wall time: 1min 42s\n"
     ]
    }
   ],
   "source": [
    "%%time\n",
    "\n",
    "for document_name in analysis_results.get_document_listing():\n",
    "    print(\"Syncing %s\" % document_name)\n",
    "    analysis_document = analysis_results.retrieve_document(document_name)\n",
    "    graph_db.sync_analysis_result(analysis_document)"
   ]
  },
  {
   "cell_type": "markdown",
   "metadata": {},
   "source": [
    "Errors reported above are actually fine - the given artifacts do not carry package name informarmation (these are `requirements.txt`). We will filter them out on source code level since we do not want to sync such data anyway."
   ]
  },
  {
   "cell_type": "code",
   "execution_count": 5,
   "metadata": {},
   "outputs": [
    {
     "name": "stdout",
     "output_type": "stream",
     "text": [
      "Syncing fridex-thoth-solver-fc26-thoth-solver-fc26-98rx4\n",
      "Syncing fridex-thoth-solver-fc26-thoth-solver-fc26-tsb4s\n",
      "Syncing fridex-thoth-solver-fc27-thoth-solver-fc27-w7vzf\n",
      "CPU times: user 6.26 s, sys: 474 ms, total: 6.73 s\n",
      "Wall time: 43.3 s\n"
     ]
    }
   ],
   "source": [
    "%%time\n",
    "\n",
    "for document_name in list(solver_results.get_document_listing()):\n",
    "    print(\"Syncing %s\" % document_name)\n",
    "    analysis_document = solver_results.retrieve_document(document_name)\n",
    "    graph_db.sync_solver_result(analysis_document)"
   ]
  },
  {
   "cell_type": "code",
   "execution_count": 6,
   "metadata": {},
   "outputs": [
    {
     "name": "stdout",
     "output_type": "stream",
     "text": [
      "Number of vertexes present in graph: 2373\n",
      "Number of edges present in graph: 16913\n",
      "Number of analysis files ingested: 4\n",
      "Number of solver resultes ingested: 3\n"
     ]
    }
   ],
   "source": [
    "print(f\"Number of vertexes present in graph: {gqr(graph_db.g.V().count().next()).result:d}\")\n",
    "print(f\"Number of edges present in graph: {gqr(graph_db.g.E().count().next()).result:d}\")\n",
    "print(f\"Number of analysis files ingested: {len(list(analysis_results.get_document_listing()))}\")\n",
    "print(f\"Number of solver resultes ingested: {len(list(solver_results.get_document_listing()))}\")"
   ]
  },
  {
   "cell_type": "markdown",
   "metadata": {},
   "source": [
    "**Note:** JanusGraph was run in verbose mode on localhost with indexes and schema configured."
   ]
  }
 ],
 "metadata": {
  "kernelspec": {
   "display_name": "Python 3",
   "language": "python",
   "name": "python3"
  },
  "language_info": {
   "codemirror_mode": {
    "name": "ipython",
    "version": 3
   },
   "file_extension": ".py",
   "mimetype": "text/x-python",
   "name": "python",
   "nbconvert_exporter": "python",
   "pygments_lexer": "ipython3",
   "version": "3.6.3"
  }
 },
 "nbformat": 4,
 "nbformat_minor": 2
}
