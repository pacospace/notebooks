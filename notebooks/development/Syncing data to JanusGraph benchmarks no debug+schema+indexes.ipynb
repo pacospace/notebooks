{
 "cells": [
  {
   "cell_type": "markdown",
   "metadata": {},
   "source": [
    "# Syncing data to JanusGraph benchmarks no debug+schema+indexes"
   ]
  },
  {
   "cell_type": "markdown",
   "metadata": {},
   "source": [
    "## Used configuration:\n",
    "\n",
    "* without debug mode\n",
    "* with schema\n",
    "* with indexes"
   ]
  },
  {
   "cell_type": "code",
   "execution_count": 1,
   "metadata": {},
   "outputs": [],
   "source": [
    "from thoth.storages.graph import GraphDatabase\n",
    "from thoth.storages import SolverResultsStore\n",
    "from thoth.storages import AnalysisResultsStore\n",
    "\n",
    "from thoth.lab import obtain_location\n",
    "from thoth.lab import GraphQueryResult as gqr\n",
    "\n",
    "#graph_db = GraphDatabase.create(obtain_location('thoth-sbu-janusgraph-test1', verify=False, only_netloc=True), port=80)\n",
    "graph_db = GraphDatabase.create('localhost', port=8182)\n",
    "solver_results = SolverResultsStore('thoth-sbu', host=obtain_location('thoth-upshift-ceph', verify=False))\n",
    "analysis_results = AnalysisResultsStore('thoth-sbu', host=obtain_location('thoth-upshift-ceph', verify=False))\n",
    "\n",
    "graph_db.connect()\n",
    "solver_results.connect()\n",
    "analysis_results.connect()"
   ]
  },
  {
   "cell_type": "markdown",
   "metadata": {},
   "source": [
    "## Place for experiments:"
   ]
  },
  {
   "cell_type": "markdown",
   "metadata": {},
   "source": [
    "These are benchmarks when running JanusGraph on a local machine. **Note** the debug mode of JanusGraph was turned **off**."
   ]
  },
  {
   "cell_type": "code",
   "execution_count": 2,
   "metadata": {},
   "outputs": [],
   "source": [
    "from thoth.common import init_logging\n",
    "\n",
    "# Let's keep info about enabling/disabling caches.\n",
    "init_logging({'thoth.storages.graph.utils': 'DEBUG'})"
   ]
  },
  {
   "cell_type": "markdown",
   "metadata": {},
   "source": [
    "## Syncing image analysis results - without adapter cache"
   ]
  },
  {
   "cell_type": "code",
   "execution_count": 3,
   "metadata": {},
   "outputs": [],
   "source": [
    "from thoth.lab import GraphQueryResult as gqr\n",
    "\n",
    "# Erase content of the graph database:\n",
    "gqr(graph_db.g.V().drop().next()).result\n",
    "assert gqr(graph_db.g.V().count().next()).result == 0"
   ]
  },
  {
   "cell_type": "code",
   "execution_count": 4,
   "metadata": {},
   "outputs": [],
   "source": [
    "#list(analysis_results.get_document_listing())\n",
    "analysis_document = analysis_results.retrieve_document('fridex-thoth-package-extract-dash-4f47l')"
   ]
  },
  {
   "cell_type": "code",
   "execution_count": 5,
   "metadata": {},
   "outputs": [
    {
     "name": "stderr",
     "output_type": "stream",
     "text": [
      "DEBUG:thoth.storages.graph.utils:Disabling edge graph cache\n",
      "DEBUG:thoth.storages.graph.utils:Disabling vertex graph cache\n"
     ]
    },
    {
     "name": "stdout",
     "output_type": "stream",
     "text": [
      "env: THOTH_STORAGES_DISABLE_CACHE=1\n",
      "CPU times: user 20.1 s, sys: 920 ms, total: 21.1 s\n",
      "Wall time: 1min 15s\n"
     ]
    }
   ],
   "source": [
    "%%time\n",
    "%env THOTH_STORAGES_DISABLE_CACHE=1\n",
    "\n",
    "graph_db.sync_analysis_result(analysis_document)"
   ]
  },
  {
   "cell_type": "code",
   "execution_count": 6,
   "metadata": {},
   "outputs": [
    {
     "name": "stdout",
     "output_type": "stream",
     "text": [
      "Number of vertexes present in graph: 2827\n"
     ]
    }
   ],
   "source": [
    "print(f\"Number of vertexes present in graph: {gqr(graph_db.g.V().count().next()).result:d}\")"
   ]
  },
  {
   "cell_type": "code",
   "execution_count": 7,
   "metadata": {},
   "outputs": [
    {
     "name": "stdout",
     "output_type": "stream",
     "text": [
      "Number of edges present in graph: 9515\n"
     ]
    }
   ],
   "source": [
    "print(f\"Number of edges present in graph: {gqr(graph_db.g.E().count().next()).result:d}\")"
   ]
  },
  {
   "cell_type": "markdown",
   "metadata": {},
   "source": [
    "## Syncing image analysis results - with adapter cache"
   ]
  },
  {
   "cell_type": "code",
   "execution_count": 8,
   "metadata": {},
   "outputs": [],
   "source": [
    "gqr(graph_db.g.V().drop().next())\n",
    "assert gqr(graph_db.g.V().count().next()).result == 0"
   ]
  },
  {
   "cell_type": "code",
   "execution_count": 9,
   "metadata": {},
   "outputs": [
    {
     "name": "stderr",
     "output_type": "stream",
     "text": [
      "DEBUG:thoth.storages.graph.utils:Enabling edge graph cache\n",
      "DEBUG:thoth.storages.graph.utils:Enabling vertex graph cache\n"
     ]
    },
    {
     "name": "stdout",
     "output_type": "stream",
     "text": [
      "env: THOTH_STORAGES_DISABLE_CACHE=0\n",
      "CPU times: user 28.4 s, sys: 727 ms, total: 29.1 s\n",
      "Wall time: 1min 6s\n"
     ]
    }
   ],
   "source": [
    "%%time\n",
    "%env THOTH_STORAGES_DISABLE_CACHE=0\n",
    "\n",
    "graph_db.sync_analysis_result(analysis_document)"
   ]
  },
  {
   "cell_type": "code",
   "execution_count": 10,
   "metadata": {},
   "outputs": [
    {
     "name": "stdout",
     "output_type": "stream",
     "text": [
      "Number of vertexes present in graph: 2827\n"
     ]
    }
   ],
   "source": [
    "print(f\"Number of vertexes present in graph: {gqr(graph_db.g.V().count().next()).result:d}\")"
   ]
  },
  {
   "cell_type": "code",
   "execution_count": 11,
   "metadata": {},
   "outputs": [
    {
     "name": "stdout",
     "output_type": "stream",
     "text": [
      "Number of edges present in graph: 9515\n"
     ]
    }
   ],
   "source": [
    "print(f\"Number of edges present in graph: {gqr(graph_db.g.E().count().next()).result:d}\")"
   ]
  },
  {
   "cell_type": "markdown",
   "metadata": {},
   "source": [
    "## Syncing solver results - without adapter cache"
   ]
  },
  {
   "cell_type": "code",
   "execution_count": 12,
   "metadata": {},
   "outputs": [],
   "source": [
    "gqr(graph_db.g.V().drop().next())\n",
    "assert gqr(graph_db.g.V().count().next()).result == 0"
   ]
  },
  {
   "cell_type": "code",
   "execution_count": 13,
   "metadata": {},
   "outputs": [],
   "source": [
    "solver_document = solver_results.retrieve_document('fridex-thoth-solver-fc27-thoth-solver-fc27-92qtv')"
   ]
  },
  {
   "cell_type": "code",
   "execution_count": 14,
   "metadata": {},
   "outputs": [
    {
     "name": "stderr",
     "output_type": "stream",
     "text": [
      "DEBUG:thoth.storages.graph.utils:Disabling edge graph cache\n",
      "DEBUG:thoth.storages.graph.utils:Disabling vertex graph cache\n"
     ]
    },
    {
     "name": "stdout",
     "output_type": "stream",
     "text": [
      "env: THOTH_STORAGES_DISABLE_CACHE=1\n",
      "CPU times: user 30.4 s, sys: 1.52 s, total: 31.9 s\n",
      "Wall time: 1min 35s\n"
     ]
    }
   ],
   "source": [
    "%%time\n",
    "%env THOTH_STORAGES_DISABLE_CACHE=1\n",
    "\n",
    "graph_db.sync_solver_result(solver_document)"
   ]
  },
  {
   "cell_type": "code",
   "execution_count": 15,
   "metadata": {},
   "outputs": [
    {
     "name": "stdout",
     "output_type": "stream",
     "text": [
      "Number of vertexes present in graph: 653\n"
     ]
    }
   ],
   "source": [
    "print(f\"Number of vertexes present in graph: {gqr(graph_db.g.V().count().next()).result:d}\")"
   ]
  },
  {
   "cell_type": "code",
   "execution_count": 16,
   "metadata": {},
   "outputs": [
    {
     "name": "stdout",
     "output_type": "stream",
     "text": [
      "Number of edges present in graph: 9075\n"
     ]
    }
   ],
   "source": [
    "print(f\"Number of edges present in graph: {gqr(graph_db.g.E().count().next()).result:d}\")"
   ]
  },
  {
   "cell_type": "markdown",
   "metadata": {},
   "source": [
    "## Syncing solver results - with adapter cache"
   ]
  },
  {
   "cell_type": "code",
   "execution_count": 17,
   "metadata": {},
   "outputs": [],
   "source": [
    "gqr(graph_db.g.V().drop().next())\n",
    "assert gqr(graph_db.g.V().count().next()).result == 0"
   ]
  },
  {
   "cell_type": "code",
   "execution_count": 18,
   "metadata": {},
   "outputs": [
    {
     "name": "stderr",
     "output_type": "stream",
     "text": [
      "DEBUG:thoth.storages.graph.utils:Enabling edge graph cache\n",
      "DEBUG:thoth.storages.graph.utils:Enabling vertex graph cache\n"
     ]
    },
    {
     "name": "stdout",
     "output_type": "stream",
     "text": [
      "env: THOTH_STORAGES_DISABLE_CACHE=0\n",
      "CPU times: user 25.8 s, sys: 728 ms, total: 26.5 s\n",
      "Wall time: 1min 5s\n"
     ]
    }
   ],
   "source": [
    "%%time\n",
    "%env THOTH_STORAGES_DISABLE_CACHE=0\n",
    "\n",
    "graph_db.sync_solver_result(solver_document)"
   ]
  },
  {
   "cell_type": "code",
   "execution_count": 19,
   "metadata": {},
   "outputs": [
    {
     "name": "stdout",
     "output_type": "stream",
     "text": [
      "Number of vertexes present in graph: 653\n"
     ]
    }
   ],
   "source": [
    "print(f\"Number of vertexes present in graph: {gqr(graph_db.g.V().count().next()).result:d}\")"
   ]
  },
  {
   "cell_type": "code",
   "execution_count": 20,
   "metadata": {},
   "outputs": [
    {
     "name": "stdout",
     "output_type": "stream",
     "text": [
      "Number of edges present in graph: 9075\n"
     ]
    }
   ],
   "source": [
    "print(f\"Number of edges present in graph: {gqr(graph_db.g.E().count().next()).result:d}\")"
   ]
  },
  {
   "cell_type": "code",
   "execution_count": null,
   "metadata": {},
   "outputs": [],
   "source": []
  }
 ],
 "metadata": {
  "kernelspec": {
   "display_name": "Python 3",
   "language": "python",
   "name": "python3"
  },
  "language_info": {
   "codemirror_mode": {
    "name": "ipython",
    "version": 3
   },
   "file_extension": ".py",
   "mimetype": "text/x-python",
   "name": "python",
   "nbconvert_exporter": "python",
   "pygments_lexer": "ipython3",
   "version": "3.6.3"
  }
 },
 "nbformat": 4,
 "nbformat_minor": 2
}
