{
 "cells": [
  {
   "cell_type": "markdown",
   "metadata": {},
   "source": [
    "## Setup"
   ]
  },
  {
   "cell_type": "markdown",
   "metadata": {},
   "source": [
    "### Initialization"
   ]
  },
  {
   "cell_type": "code",
   "execution_count": 1,
   "metadata": {},
   "outputs": [],
   "source": [
    "# upgrade thoth-lab from the master\n",
    "# !pip install --upgrade -e \"git://github.com/thoth-station/lab#egg=thoth-lab\"\n",
    "\n",
    "# unfortunately, jupyter-tools package already exists on PyPI, we are gonna have to solve this issue somehow\n",
    "# !pip install --upgrade --pre -e \"git://github.com/CermakM/jupyter-tools#egg=jupyter-tools\" --exists-action w\n",
    "# !pip install --upgrade --pre jupyter-require\n",
    "\n",
    "# from jupyter_tools import utils\n",
    "\n",
    "# utils.install_nbextension('jupyter_require')\n",
    "# utils.load_nbextension('jupyter-require')"
   ]
  },
  {
   "cell_type": "code",
   "execution_count": 2,
   "metadata": {},
   "outputs": [],
   "source": [
    "# ! pip install spacy\n",
    "# !python -m spacy download en"
   ]
  },
  {
   "cell_type": "code",
   "execution_count": 3,
   "metadata": {
    "ExecuteTime": {
     "end_time": "2019-03-21T09:01:10.492576Z",
     "start_time": "2019-03-21T09:01:10.474420Z"
    }
   },
   "outputs": [],
   "source": [
    "%load_ext autoreload\n",
    "%autoreload 2"
   ]
  },
  {
   "cell_type": "code",
   "execution_count": 4,
   "metadata": {
    "ExecuteTime": {
     "end_time": "2019-03-21T09:01:11.224145Z",
     "start_time": "2019-03-21T09:01:11.208524Z"
    }
   },
   "outputs": [],
   "source": [
    "import io\n",
    "import sys;\n",
    "\n",
    "sys.path.insert(0, 'user-api')"
   ]
  },
  {
   "cell_type": "code",
   "execution_count": 5,
   "metadata": {
    "ExecuteTime": {
     "end_time": "2019-03-21T09:01:13.805539Z",
     "start_time": "2019-03-21T09:01:12.817302Z"
    }
   },
   "outputs": [],
   "source": [
    "from collections import Counter\n",
    "\n",
    "# sci\n",
    "import numpy as np\n",
    "import pandas as pd\n",
    "\n",
    "# net\n",
    "import networkx as nx\n",
    "\n",
    "# nltk\n",
    "import spacy\n",
    "\n",
    "# viz\n",
    "from jupyter_require import require\n",
    "from jupyter_require import notebook\n",
    "\n",
    "from thoth.lab.viz import init_notebook_mode\n",
    "from thoth.lab.viz import plot as plot_dependencies\n",
    "\n",
    "from thoth.user_api.parsing import parse_log"
   ]
  },
  {
   "cell_type": "code",
   "execution_count": 6,
   "metadata": {
    "ExecuteTime": {
     "end_time": "2019-03-21T09:01:16.458407Z",
     "start_time": "2019-03-21T09:01:16.355128Z"
    }
   },
   "outputs": [
    {
     "data": {
      "application/javascript": [
       "{ \n",
       "        'use strict';\n",
       "        \n",
       "        const href = \"https://use.fontawesome.com/releases/v5.7.2/css/all.css\";\n",
       "        const attributes = {'integrity': 'sha384-fnmOCqbTlWIlj8LyTjo7mOUStjsKC4pOpQbqyi7RrhN7udi9RwhKkMHpvLbHG9Sr', 'crossorigin': 'anonymous'} || {};\n",
       "        \n",
       "        let link = document.createElement(\"link\");\n",
       "        link.rel = \"stylesheet\";\n",
       "        link.type = \"text/css\";\n",
       "        try {\n",
       "            link.href = requirejs.toUrl(href, 'css');\n",
       "        } catch (error) {\n",
       "            link.href = href;\n",
       "        }\n",
       "        \n",
       "        Object.entries(attributes)\n",
       "            .forEach( ([attr, val]) => $(link).attr(attr, val) );\n",
       "        \n",
       "        document.head.appendChild(link);\n",
       "     }"
      ],
      "text/plain": [
       "<JupyterRequire.display.SafeScript object>"
      ]
     },
     "metadata": {
      "finalized": true
     },
     "output_type": "display_data"
    },
    {
     "data": {
      "application/javascript": [
       "{ \n",
       "        'use strict'\n",
       "        \n",
       "        const style = `/* d3.css */\n",
       "\n",
       "/* controls */\n",
       "\n",
       ".controls {\n",
       "    padding: 10px\n",
       "}\n",
       "\n",
       ".icon {\n",
       "    cursor: pointer;\n",
       "}\n",
       "\n",
       ".tooltip {\n",
       "    margin: 0.25rem 0;\n",
       "\n",
       "    top: 4rem;\n",
       "    text-align: center;\n",
       "\n",
       "    transform: translateX(-40%);\n",
       "}\n",
       "\n",
       "/* links */\n",
       "\n",
       ".links {\n",
       "    fill: none;\n",
       "    stroke: #ccc;\n",
       "    stroke-width: 1px;\n",
       "\n",
       "}\n",
       "\n",
       "/* nodes */\n",
       "\n",
       ".nodes {\n",
       "    fill: darkslateblue;\n",
       "    stroke: none;\n",
       "\n",
       "    cursor: pointer;\n",
       "}\n",
       "\n",
       ".nodes circle.is-leaf {\n",
       "    fill-opacity: 0;  /* transparent fill */\n",
       "\n",
       "    stroke: darkslateblue;\n",
       "    stroke-width: 2px;\n",
       "\n",
       "    cursor: default;\n",
       "}\n",
       "\n",
       ".nodes text {\n",
       "    font: 13px sans-serif;\n",
       "\n",
       "    z-index: 1 !important;\n",
       "}\n",
       "\n",
       "\n",
       ".filters circle.focus-node {\n",
       "    fill: none;\n",
       "\n",
       "    stroke: cornflowerblue;\n",
       "    stroke-opacity: 0.6;\n",
       "    stroke-width: 3px;\n",
       "}\n",
       "`;\n",
       "        const attributes = {'id': 'thoth-lab-stylesheet'} || {};\n",
       "        \n",
       "        let id = attributes.id;\n",
       "        let elem_exists = id ? $(`style#${id}`).length > 0 : false;\n",
       "        \n",
       "        let e = elem_exists ? document.querySelector(`style#${id}`)\n",
       "                            : document.createElement(\"style\");\n",
       "        \n",
       "        $(e).text(`${style}`).attr('type', 'text/css');\n",
       "        \n",
       "        Object.entries(attributes)\n",
       "            .forEach( ([attr, val]) => $(e).attr(attr, val) );\n",
       "\n",
       "        if (!elem_exists) document.head.appendChild(e);\n",
       "     }"
      ],
      "text/plain": [
       "<JupyterRequire.display.SafeScript object>"
      ]
     },
     "metadata": {
      "finalized": true
     },
     "output_type": "display_data"
    }
   ],
   "source": [
    "init_notebook_mode()"
   ]
  },
  {
   "cell_type": "code",
   "execution_count": 7,
   "metadata": {},
   "outputs": [],
   "source": [
    "%reload_ext jupyter_require\n",
    "%reload_ext jupyter_tools"
   ]
  },
  {
   "cell_type": "markdown",
   "metadata": {},
   "source": [
    "### Utilities"
   ]
  },
  {
   "cell_type": "code",
   "execution_count": 8,
   "metadata": {
    "ExecuteTime": {
     "end_time": "2019-03-21T09:01:18.843069Z",
     "start_time": "2019-03-21T09:01:18.797971Z"
    }
   },
   "outputs": [],
   "source": [
    "# installation states\n",
    "_STATES = ['prepare', 'resolve', 'build', 'install', 'postface', 'ANOMALY']\n",
    "\n",
    "# phrases identifying certain state\n",
    "_DEFAULT_STATE_PHRASES = {\n",
    "    'prepare': [\n",
    "        'Processing', 'Collecting', 'Downloading', 'Using cached',\n",
    "        'Requirement already satisfied'\n",
    "    ],\n",
    "    'build': [\n",
    "        'Building wheels', 'Running', 'Stored in directory',\n",
    "        'Successfully built'\n",
    "    ],\n",
    "    'resolve': [\n",
    "        # this state produces incompatibility warnings,\n",
    "        # but does not crach the build\n",
    "        'not installed', 'incompatible'\n",
    "    ],\n",
    "    'install': [\n",
    "        'Installing', 'Found existing', 'Uninstalling',\n",
    "        'install', 'Successfully installed',\n",
    "        'Successfully uninstalled'\n",
    "    ],\n",
    "    'postface': [\n",
    "        'You are using pip version', 'You should consider upgrading'\n",
    "    ]\n",
    "}\n",
    "\n",
    "# colors for the states\n",
    "_DEFAULT_STATE_COLORS = {\n",
    "    'prepare': '#314054',\n",
    "    'build': '#146461',\n",
    "    'resolve': '#4B824C',\n",
    "    'install': '#A4933A',\n",
    "    'postface': 'gray',\n",
    "    'ANOMALY': 'red'\n",
    "}\n",
    "\n",
    "color_mapper = dict(zip(_STATES, _DEFAULT_STATE_COLORS))"
   ]
  },
  {
   "cell_type": "code",
   "execution_count": 9,
   "metadata": {
    "ExecuteTime": {
     "end_time": "2019-03-21T09:01:19.808360Z",
     "start_time": "2019-03-21T09:01:19.711453Z"
    }
   },
   "outputs": [
    {
     "data": {
      "application/javascript": [
       "{ \n",
       "        'use strict'\n",
       "        \n",
       "        const style = `\n",
       "div.output_area pre.prepare {\n",
       "    color: white;\n",
       "    background-color: #314054;\n",
       "}\n",
       "\n",
       "div.output_area pre.build {\n",
       "    color: white;\n",
       "    background-color: #146461;\n",
       "}\n",
       "\n",
       "div.output_area pre.resolve {\n",
       "    color: white;\n",
       "    background-color: #A4933A;\n",
       "}\n",
       "\n",
       "div.output_area pre.install {\n",
       "    color: white;\n",
       "    background-color: #4B824C;\n",
       "}\n",
       "\n",
       "div.output_area pre.postface {\n",
       "    color: white;\n",
       "    background-color: gray;\n",
       "}\n",
       "\n",
       "div.output_area pre.ANOMALY {\n",
       "    color: white;\n",
       "    background-color: red;\n",
       "}\n",
       "`;\n",
       "        const attributes = {'id': 'text-highlight'} || {};\n",
       "        \n",
       "        let id = attributes.id;\n",
       "        let elem_exists = id ? $(`style#${id}`).length > 0 : false;\n",
       "        \n",
       "        let e = elem_exists ? document.querySelector(`style#${id}`)\n",
       "                            : document.createElement(\"style\");\n",
       "        \n",
       "        $(e).text(`${style}`).attr('type', 'text/css');\n",
       "        \n",
       "        Object.entries(attributes)\n",
       "            .forEach( ([attr, val]) => $(e).attr(attr, val) );\n",
       "\n",
       "        if (!elem_exists) document.head.appendChild(e);\n",
       "     }"
      ],
      "text/plain": [
       "<JupyterRequire.display.SafeScript object>"
      ]
     },
     "metadata": {
      "finalized": true
     },
     "output_type": "display_data"
    }
   ],
   "source": [
    "%%load_style id=\"text-highlight\"\n",
    "\n",
    "div.output_area pre.prepare {\n",
    "    color: white;\n",
    "    background-color: #314054;\n",
    "}\n",
    "\n",
    "div.output_area pre.build {\n",
    "    color: white;\n",
    "    background-color: #146461;\n",
    "}\n",
    "\n",
    "div.output_area pre.resolve {\n",
    "    color: white;\n",
    "    background-color: #A4933A;\n",
    "}\n",
    "\n",
    "div.output_area pre.install {\n",
    "    color: white;\n",
    "    background-color: #4B824C;\n",
    "}\n",
    "\n",
    "div.output_area pre.postface {\n",
    "    color: white;\n",
    "    background-color: gray;\n",
    "}\n",
    "\n",
    "div.output_area pre.ANOMALY {\n",
    "    color: white;\n",
    "    background-color: red;\n",
    "}"
   ]
  },
  {
   "cell_type": "code",
   "execution_count": 10,
   "metadata": {
    "ExecuteTime": {
     "end_time": "2019-03-21T09:01:20.739213Z",
     "start_time": "2019-03-21T09:01:20.682234Z"
    },
    "scrolled": true
   },
   "outputs": [],
   "source": [
    "def highlight(df, content: str = None, highlight: str = None, colors: list = None):\n",
    "    from IPython.core.display import HTML\n",
    "\n",
    "    html = []\n",
    "    colors = colors or []\n",
    "    \n",
    "    if len(colors) > 0:\n",
    "        assert len(colors) == len(df)\n",
    "        \n",
    "    line_template = \"\"\"\n",
    "        <span><pre style=\"background-color: {col};\" class=\"{cls}\">{idx: <3} | {content}</pre></span>\n",
    "    \"\"\"\n",
    "        \n",
    "    for idx, row in df.iterrows():\n",
    "        line = line_template.format(\n",
    "            col=colors[idx] if len(colors) > 0 else \"\",\n",
    "            idx=idx,\n",
    "            cls=row[highlight],\n",
    "            content=row[content]\n",
    "        )\n",
    "\n",
    "        html.append(line)\n",
    "\n",
    "    return HTML('<br>'.join(html))"
   ]
  },
  {
   "cell_type": "markdown",
   "metadata": {},
   "source": [
    "### Data"
   ]
  },
  {
   "cell_type": "code",
   "execution_count": 11,
   "metadata": {
    "ExecuteTime": {
     "end_time": "2019-03-21T09:01:23.188917Z",
     "start_time": "2019-03-21T09:01:23.142407Z"
    }
   },
   "outputs": [],
   "source": [
    "with open('logs/thoth-lab.pip.failed.log', 'r') as f:\n",
    "    log_failed = f.read()\n",
    "    \n",
    "with open('logs/thoth-lab.pip.failed.2.log', 'r') as f:\n",
    "    log_failed_collect = f.read()\n",
    "    \n",
    "with open('logs/thoth-lab.pip.success.log', 'r') as f:\n",
    "    log_success = f.read()\n",
    "    \n",
    "with open('logs/thoth-lab.pip.clean.log', 'r') as f:\n",
    "    log_clean = f.read()"
   ]
  },
  {
   "cell_type": "markdown",
   "metadata": {},
   "source": [
    "### Peak"
   ]
  },
  {
   "cell_type": "markdown",
   "metadata": {},
   "source": [
    "#### Success"
   ]
  },
  {
   "cell_type": "code",
   "execution_count": 12,
   "metadata": {
    "ExecuteTime": {
     "end_time": "2019-03-21T08:14:50.805290Z",
     "start_time": "2019-03-21T08:14:48.242Z"
    },
    "scrolled": true
   },
   "outputs": [
    {
     "data": {
      "text/plain": [
       "\"Processing /home/macermak/RedHat/aicoe/lab\\nCollecting networkx (from thoth-lab==0.0.3)\\nCollecting requests (from thoth-lab==0.0.3)\\n  Using cached https://files.pythonhosted.org/packages/7d/e3/20f3d364d6c8e5d2353c72a67778eb189176f08e873c9900e10c0287b84b/requests-2.21.0-py2.py3-none-any.whl\\nCollecting pandas (from thoth-lab==0.0.3)\\n  Using cached https://files.pythonhosted.org/packages/e6/de/a0d3defd8f338eaf53ef716e40ef6d6c277c35d50e09b586e170169cdf0d/pandas-0.24.1-cp36-cp36m-manylinux1_x86_64.whl\\nCollecting plotly (from thoth-lab==0.0.3)\\n  Using cached https://files.pythonhosted.org/packages/fd/db/003b5cfbc710f4d4982440451185b952269e4080a57ae7e760a2ceb8ce0c/plotly-3.6.1-py2.py3-none-any.whl\\nCollecting decorator>=4.3.0 (from networkx->thoth-lab==0.0.3)\\n  Using cached https://files.pythonhosted.org/packages/f1/cd/7c8240007e9716b14679bc217a1baefa4432aa30394f7e2ec40a52b1a708/decorator-4.3.2-py2.py3-none-any.whl\\nCollecting idna<2.9,>=2.5 (from requests->thoth-lab==0.0.3)\\n  Using cached https://files.pythonhosted.org/packages/14/2c/cd551d81dbe15200be1cf41cd03869a46fe7226e7450af7a6545bfc474c9/idna-2.8-py2.py3-none-any.whl\\nCollecting certifi>=2017.4.17 (from requests->thoth-lab==0.0.3)\\n  Using cached https://files.pythonhosted.org/packages/9f/e0/accfc1b56b57e9750eba272e24c4dddeac86852c2bebd1236674d7887e8a/certifi-2018.11.29-py2.py3-none-any.whl\\nCollecting chardet<3.1.0,>=3.0.2 (from requests->thoth-lab==0.0.3)\\n  Using cached https://files.pythonhosted.org/packages/bc/a9/01ffebfb562e4274b6487b4bb1ddec7ca55ec7510b22e4c51f14098443b8/chardet-3.0.4-py2.py3-none-any.whl\\nCollecting urllib3<1.25,>=1.21.1 (from requests->thoth-lab==0.0.3)\\n  Using cached https://files.pythonhosted.org/packages/62/00/ee1d7de624db8ba7090d1226aebefab96a2c71cd5cfa7629d6ad3f61b79e/urllib3-1.24.1-py2.py3-none-any.whl\\nCollecting python-dateutil>=2.5.0 (from pandas->thoth-lab==0.0.3)\\n  Using cached https://files.pythonhosted.org/packages/41/17/c62faccbfbd163c7f57f3844689e3a78bae1f403648a6afb1d0866d87fbb/python_dateutil-2.8.0-py2.py3-none-any.whl\\nCollecting numpy>=1.12.0 (from pandas->thoth-lab==0.0.3)\\n  Using cached https://files.pythonhosted.org/packages/f5/bf/4981bcbee43934f0adb8f764a1e70ab0ee5a448f6505bd04a87a2fda2a8b/numpy-1.16.1-cp36-cp36m-manylinux1_x86_64.whl\\nCollecting pytz>=2011k (from pandas->thoth-lab==0.0.3)\\n  Using cached https://files.pythonhosted.org/packages/61/28/1d3920e4d1d50b19bc5d24398a7cd85cc7b9a75a490570d5a30c57622d34/pytz-2018.9-py2.py3-none-any.whl\\nCollecting nbformat>=4.2 (from plotly->thoth-lab==0.0.3)\\n  Using cached https://files.pythonhosted.org/packages/da/27/9a654d2b6cc1eaa517d1c5a4405166c7f6d72f04f6e7eea41855fe808a46/nbformat-4.4.0-py2.py3-none-any.whl\\nCollecting six (from plotly->thoth-lab==0.0.3)\\n  Using cached https://files.pythonhosted.org/packages/73/fb/00a976f728d0d1fecfe898238ce23f502a721c0ac0ecfedb80e0d88c64e9/six-1.12.0-py2.py3-none-any.whl\\nCollecting retrying>=1.3.3 (from plotly->thoth-lab==0.0.3)\\nCollecting traitlets>=4.1 (from nbformat>=4.2->plotly->thoth-lab==0.0.3)\\n  Using cached https://files.pythonhosted.org/packages/93/d6/abcb22de61d78e2fc3959c964628a5771e47e7cc60d53e9342e21ed6cc9a/traitlets-4.3.2-py2.py3-none-any.whl\\nCollecting ipython-genutils (from nbformat>=4.2->plotly->thoth-lab==0.0.3)\\n  Using cached https://files.pythonhosted.org/packages/fa/bc/9bd3b5c2b4774d5f33b2d544f1460be9df7df2fe42f352135381c347c69a/ipython_genutils-0.2.0-py2.py3-none-any.whl\\nCollecting jupyter-core (from nbformat>=4.2->plotly->thoth-lab==0.0.3)\\n  Using cached https://files.pythonhosted.org/packages/1d/44/065d2d7bae7bebc06f1dd70d23c36da8c50c0f08b4236716743d706762a8/jupyter_core-4.4.0-py2.py3-none-any.whl\\nCollecting jsonschema!=2.5.0,>=2.4 (from nbformat>=4.2->plotly->thoth-lab==0.0.3)\\n  Using cached https://files.pythonhosted.org/packages/77/de/47e35a97b2b05c2fadbec67d44cfcdcd09b8086951b331d82de90d2912da/jsonschema-2.6.0-py2.py3-none-any.whl\\nInstalling collected packages: decorator, networkx, idna, certifi, chardet, urllib3, requests, six, python-dateutil, numpy, pytz, pandas, ipython-genutils, traitlets, jupyter-core, jsonschema, nbformat, retrying, plotly, thoth-lab\\n  Found existing installation: decorator 4.3.2\\n    Uninstalling decorator-4.3.2:\\n      Successfully uninstalled decorator-4.3.2\\n  Found existing installation: networkx 2.2\\n    Uninstalling networkx-2.2:\\n      Successfully uninstalled networkx-2.2\\n  Found existing installation: idna 2.8\\n    Uninstalling idna-2.8:\\n      Successfully uninstalled idna-2.8\\n  Found existing installation: certifi 2018.11.29\\n    Uninstalling certifi-2018.11.29:\\n      Successfully uninstalled certifi-2018.11.29\\n  Found existing installation: chardet 3.0.4\\n    Uninstalling chardet-3.0.4:\\n      Successfully uninstalled chardet-3.0.4\\n  Found existing installation: urllib3 1.24.1\\n    Uninstalling urllib3-1.24.1:\\n      Successfully uninstalled urllib3-1.24.1\\n  Found existing installation: requests 2.21.0\\n    Uninstalling requests-2.21.0:\\n      Successfully uninstalled requests-2.21.0\\n  Found existing installation: six 1.12.0\\n    Uninstalling six-1.12.0:\\n      Successfully uninstalled six-1.12.0\\n  Found existing installation: python-dateutil 2.8.0\\n    Uninstalling python-dateutil-2.8.0:\\n      Successfully uninstalled python-dateutil-2.8.0\\n  Found existing installation: numpy 1.16.1\\n    Uninstalling numpy-1.16.1:\\n      Successfully uninstalled numpy-1.16.1\\n  Found existing installation: pytz 2018.9\\n    Uninstalling pytz-2018.9:\\n      Successfully uninstalled pytz-2018.9\\n  Found existing installation: pandas 0.24.1\\n    Uninstalling pandas-0.24.1:\\n      Successfully uninstalled pandas-0.24.1\\n  Found existing installation: ipython-genutils 0.2.0\\n    Uninstalling ipython-genutils-0.2.0:\\n      Successfully uninstalled ipython-genutils-0.2.0\\n  Found existing installation: traitlets 4.3.2\\n    Uninstalling traitlets-4.3.2:\\n      Successfully uninstalled traitlets-4.3.2\\n  Found existing installation: jupyter-core 4.4.0\\n    Uninstalling jupyter-core-4.4.0:\\n      Successfully uninstalled jupyter-core-4.4.0\\n  Found existing installation: jsonschema 2.6.0\\n    Uninstalling jsonschema-2.6.0:\\n      Successfully uninstalled jsonschema-2.6.0\\n  Found existing installation: nbformat 4.4.0\\n    Uninstalling nbformat-4.4.0:\\n      Successfully uninstalled nbformat-4.4.0\\n  Found existing installation: retrying 1.3.3\\n    Uninstalling retrying-1.3.3:\\n      Successfully uninstalled retrying-1.3.3\\n  Found existing installation: plotly 3.6.1\\n    Uninstalling plotly-3.6.1:\\n      Successfully uninstalled plotly-3.6.1\\n  Found existing installation: thoth-lab 0.0.3\\n    Uninstalling thoth-lab-0.0.3:\\n      Successfully uninstalled thoth-lab-0.0.3\\n  Running setup.py install for thoth-lab: started\\n    Running setup.py install for thoth-lab: finished with status 'done'\\nSuccessfully installed certifi-2018.11.29 chardet-3.0.4 decorator-4.3.2 idna-2.8 ipython-genutils-0.2.0 jsonschema-2.6.0 jupyter-core-4.4.0 nbformat-4.4.0 networkx-2.2 numpy-1.16.1 pandas-0.24.1 plotly-3.6.1 python-dateutil-2.8.0 pytz-2018.9 requests-2.21.0 retrying-1.3.3 six-1.12.0 thoth-lab-0.0.3 traitlets-4.3.2 urllib3-1.24.1\\nYou are using pip version 10.0.1, however version 19.0.3 is available.\\nYou should consider upgrading via the 'pip install --upgrade pip' command.\\n\""
      ]
     },
     "execution_count": 12,
     "metadata": {},
     "output_type": "execute_result"
    }
   ],
   "source": [
    "log_success"
   ]
  },
  {
   "cell_type": "markdown",
   "metadata": {},
   "source": [
    "#### Failed"
   ]
  },
  {
   "cell_type": "code",
   "execution_count": 13,
   "metadata": {
    "ExecuteTime": {
     "end_time": "2019-03-21T08:14:50.820729Z",
     "start_time": "2019-03-21T08:14:48.262Z"
    },
    "scrolled": true
   },
   "outputs": [
    {
     "data": {
      "text/plain": [
       "\"Processing /home/macermak/RedHat/aicoe/lab\\nCollecting networkx (from thoth-lab==0.0.3)\\nCollecting requests (from thoth-lab==0.0.3)\\n  Using cached https://files.pythonhosted.org/packages/7d/e3/20f3d364d6c8e5d2353c72a67778eb189176f08e873c9900e10c0287b84b/requests-2.21.0-py2.py3-none-any.whl\\nCollecting pandas (from thoth-lab==0.0.3)\\n  Using cached https://files.pythonhosted.org/packages/e6/de/a0d3defd8f338eaf53ef716e40ef6d6c277c35d50e09b586e170169cdf0d/pandas-0.24.1-cp36-cp36m-manylinux1_x86_64.whl\\nCollecting plotly (from thoth-lab==0.0.3)\\n  Using cached https://files.pythonhosted.org/packages/fd/db/003b5cfbc710f4d4982440451185b952269e4080a57ae7e760a2ceb8ce0c/plotly-3.6.1-py2.py3-none-any.whl\\nCollecting decorator>=4.3.0 (from networkx->thoth-lab==0.0.3)\\n  Using cached https://files.pythonhosted.org/packages/f1/cd/7c8240007e9716b14679bc217a1baefa4432aa30394f7e2ec40a52b1a708/decorator-4.3.2-py2.py3-none-any.whl\\nCollecting idna<2.9,>=2.5 (from requests->thoth-lab==0.0.3)\\n  Using cached https://files.pythonhosted.org/packages/14/2c/cd551d81dbe15200be1cf41cd03869a46fe7226e7450af7a6545bfc474c9/idna-2.8-py2.py3-none-any.whl\\nCollecting urllib3<1.25,>=1.21.1 (from requests->thoth-lab==0.0.3)\\n  Using cached https://files.pythonhosted.org/packages/62/00/ee1d7de624db8ba7090d1226aebefab96a2c71cd5cfa7629d6ad3f61b79e/urllib3-1.24.1-py2.py3-none-any.whl\\nCollecting certifi>=2017.4.17 (from requests->thoth-lab==0.0.3)\\n  Using cached https://files.pythonhosted.org/packages/9f/e0/accfc1b56b57e9750eba272e24c4dddeac86852c2bebd1236674d7887e8a/certifi-2018.11.29-py2.py3-none-any.whl\\nCollecting chardet<3.1.0,>=3.0.2 (from requests->thoth-lab==0.0.3)\\n  Using cached https://files.pythonhosted.org/packages/bc/a9/01ffebfb562e4274b6487b4bb1ddec7ca55ec7510b22e4c51f14098443b8/chardet-3.0.4-py2.py3-none-any.whl\\nCollecting python-dateutil>=2.5.0 (from pandas->thoth-lab==0.0.3)\\n  Using cached https://files.pythonhosted.org/packages/41/17/c62faccbfbd163c7f57f3844689e3a78bae1f403648a6afb1d0866d87fbb/python_dateutil-2.8.0-py2.py3-none-any.whl\\nCollecting pytz>=2011k (from pandas->thoth-lab==0.0.3)\\n  Using cached https://files.pythonhosted.org/packages/61/28/1d3920e4d1d50b19bc5d24398a7cd85cc7b9a75a490570d5a30c57622d34/pytz-2018.9-py2.py3-none-any.whl\\nCollecting numpy>=1.12.0 (from pandas->thoth-lab==0.0.3)\\n  Using cached https://files.pythonhosted.org/packages/f5/bf/4981bcbee43934f0adb8f764a1e70ab0ee5a448f6505bd04a87a2fda2a8b/numpy-1.16.1-cp36-cp36m-manylinux1_x86_64.whl\\nCollecting six (from plotly->thoth-lab==0.0.3)\\n  Using cached https://files.pythonhosted.org/packages/73/fb/00a976f728d0d1fecfe898238ce23f502a721c0ac0ecfedb80e0d88c64e9/six-1.12.0-py2.py3-none-any.whl\\nCollecting retrying>=1.3.3 (from plotly->thoth-lab==0.0.3)\\nCollecting nbformat>=4.2 (from plotly->thoth-lab==0.0.3)\\n  Using cached https://files.pythonhosted.org/packages/da/27/9a654d2b6cc1eaa517d1c5a4405166c7f6d72f04f6e7eea41855fe808a46/nbformat-4.4.0-py2.py3-none-any.whl\\nCollecting traitlets>=4.1 (from nbformat>=4.2->plotly->thoth-lab==0.0.3)\\n  Using cached https://files.pythonhosted.org/packages/93/d6/abcb22de61d78e2fc3959c964628a5771e47e7cc60d53e9342e21ed6cc9a/traitlets-4.3.2-py2.py3-none-any.whl\\nCollecting jupyter-core (from nbformat>=4.2->plotly->thoth-lab==0.0.3)\\n  Using cached https://files.pythonhosted.org/packages/1d/44/065d2d7bae7bebc06f1dd70d23c36da8c50c0f08b4236716743d706762a8/jupyter_core-4.4.0-py2.py3-none-any.whl\\nCollecting jsonschema!=2.5.0,>=2.4 (from nbformat>=4.2->plotly->thoth-lab==0.0.3)\\n  Using cached https://files.pythonhosted.org/packages/77/de/47e35a97b2b05c2fadbec67d44cfcdcd09b8086951b331d82de90d2912da/jsonschema-2.6.0-py2.py3-none-any.whl\\nCollecting ipython-genutils (from nbformat>=4.2->plotly->thoth-lab==0.0.3)\\n  Using cached https://files.pythonhosted.org/packages/fa/bc/9bd3b5c2b4774d5f33b2d544f1460be9df7df2fe42f352135381c347c69a/ipython_genutils-0.2.0-py2.py3-none-any.whl\\nBuilding wheels for collected packages: thoth-lab\\n  Running setup.py bdist_wheel for thoth-lab: started\\n  Running setup.py bdist_wheel for thoth-lab: finished with status 'done'\\n  Stored in directory: /tmp/pip-ephem-wheel-cache-_4menpyv/wheels/c6/6e/7d/ef751ae03b7d549816c6658c7f8065cb889a8de3f0c2b3ca6c\\nSuccessfully built thoth-lab\\nselinon 0.1.0rc9 requires celery>=4, which is not installed.\\nthoth-analyzer 0.1.0 requires distro, which is not installed.\\nthoth-storages 0.9.5 requires aiogremlin==3.2.6rc1, which is not installed.\\ntensorflow-tensorboard 1.5.1 has requirement bleach==1.5.0, but you'll have bleach 2.1.4 which is incompatible.\\ntensorflow-tensorboard 1.5.1 has requirement html5lib==0.9999999, but you'll have html5lib 1.0.1 which is incompatible.\\ntensorboard 1.6.0 has requirement bleach==1.5.0, but you'll have bleach 2.1.4 which is incompatible.\\ntensorboard 1.6.0 has requirement html5lib==0.9999999, but you'll have html5lib 1.0.1 which is incompatible.\\nnotebook 5.7.0 has requirement jupyter-client>=5.2.0, but you'll have jupyter-client 5.1.0 which is incompatible.\\nnotebook 5.7.0 has requirement pyzmq>=17, but you'll have pyzmq 16.0.3 which is incompatible.\\nkaggle 1.4.7.1 has requirement urllib3<1.23.0,>=1.15, but you'll have urllib3 1.24.1 which is incompatible.\\nbotocore 1.11.3 has requirement urllib3<1.24,>=1.20, but you'll have urllib3 1.24.1 which is incompatible.\\nawscli 1.14.25 has requirement botocore==1.8.29, but you'll have botocore 1.11.3 which is incompatible.\\nawscli 1.14.25 has requirement colorama<=0.3.7,>=0.2.5, but you'll have colorama 0.3.9 which is incompatible.\\nawscli 1.14.25 has requirement PyYAML<=3.12,>=3.10, but you'll have pyyaml 3.13 which is incompatible.\\nthoth-storages 0.9.5 has requirement yarl<1.2, but you'll have yarl 1.3.0 which is incompatible.\\nspyder-kernels 0.2.6 has requirement jupyter-client>=5.2.3, but you'll have jupyter-client 5.1.0 which is incompatible.\\nspyder-kernels 0.2.6 has requirement pyzmq>=17, but you'll have pyzmq 16.0.3 which is incompatible.\\nrstcheck 2.2 has requirement sphinx<1.5,>=1.3, but you'll have sphinx 1.8.1 which is incompatible.\\ngremlinpython 3.2.6 has requirement six==1.10.0, but you'll have six 1.12.0 which is incompatible.\\ngremlinpython 3.2.6 has requirement tornado==4.4.1, but you'll have tornado 4.5.2 which is incompatible.\\nInstalling collected packages: decorator, networkx, idna, urllib3, certifi, chardet, requests, six, python-dateutil, pytz, numpy, pandas, retrying, ipython-genutils, traitlets, jupyter-core, jsonschema, nbformat, plotly, thoth-lab\\n  Found existing installation: decorator 4.3.2\\n    Uninstalling decorator-4.3.2:\\n      Successfully uninstalled decorator-4.3.2\\n  Found existing installation: networkx 2.2\\n    Uninstalling networkx-2.2:\\n      Successfully uninstalled networkx-2.2\\n  Found existing installation: idna 2.8\\n    Uninstalling idna-2.8:\\n      Successfully uninstalled idna-2.8\\n  Found existing installation: urllib3 1.24.1\\n    Uninstalling urllib3-1.24.1:\\n      Successfully uninstalled urllib3-1.24.1\\n  Found existing installation: certifi 2018.11.29\\nCannot uninstall 'certifi'. It is a distutils installed project and thus we cannot accurately determine which files belong to it which would lead to only a partial uninstall.\\nYou are using pip version 18.1, however version 19.0.2 is available.\\nYou should consider upgrading via the 'pip install --upgrade pip' command.\\n\""
      ]
     },
     "execution_count": 13,
     "metadata": {},
     "output_type": "execute_result"
    }
   ],
   "source": [
    "log_failed"
   ]
  },
  {
   "cell_type": "markdown",
   "metadata": {},
   "source": [
    "#### Clean"
   ]
  },
  {
   "cell_type": "code",
   "execution_count": 14,
   "metadata": {
    "ExecuteTime": {
     "end_time": "2019-03-21T08:14:50.822902Z",
     "start_time": "2019-03-21T08:14:48.279Z"
    },
    "scrolled": true
   },
   "outputs": [
    {
     "data": {
      "text/plain": [
       "\"Processing /home/macermak/RedHat/aicoe/lab\\nCollecting gremlinpython (from thoth-lab==0.0.3)\\n  Downloading https://files.pythonhosted.org/packages/36/67/f12b688b8478dceb00e6853b6deb7437f38346fec90766bbcf855ec4942b/gremlinpython-3.4.0-py2.py3-none-any.whl (51kB)\\nCollecting networkx (from thoth-lab==0.0.3)\\nCollecting requests (from thoth-lab==0.0.3)\\n  Using cached https://files.pythonhosted.org/packages/7d/e3/20f3d364d6c8e5d2353c72a67778eb189176f08e873c9900e10c0287b84b/requests-2.21.0-py2.py3-none-any.whl\\nCollecting pandas (from thoth-lab==0.0.3)\\n  Using cached https://files.pythonhosted.org/packages/e6/de/a0d3defd8f338eaf53ef716e40ef6d6c277c35d50e09b586e170169cdf0d/pandas-0.24.1-cp36-cp36m-manylinux1_x86_64.whl\\nCollecting plotly (from thoth-lab==0.0.3)\\n  Using cached https://files.pythonhosted.org/packages/fd/db/003b5cfbc710f4d4982440451185b952269e4080a57ae7e760a2ceb8ce0c/plotly-3.6.1-py2.py3-none-any.whl\\nCollecting aenum>=1.4.5 (from gremlinpython->thoth-lab==0.0.3)\\n  Using cached https://files.pythonhosted.org/packages/0d/46/5b6a6c13fee40f9dfaba84de1394bfe082c0c7d95952ba0ffbd56ce3a3f7/aenum-2.1.2-py3-none-any.whl\\nCollecting six>=1.10.0 (from gremlinpython->thoth-lab==0.0.3)\\n  Using cached https://files.pythonhosted.org/packages/73/fb/00a976f728d0d1fecfe898238ce23f502a721c0ac0ecfedb80e0d88c64e9/six-1.12.0-py2.py3-none-any.whl\\nCollecting tornado<5.0,>=4.4.1 (from gremlinpython->thoth-lab==0.0.3)\\n  Downloading https://files.pythonhosted.org/packages/e3/7b/e29ab3d51c8df66922fea216e2bddfcb6430fb29620e5165b16a216e0d3c/tornado-4.5.3.tar.gz (484kB)\\nCollecting decorator>=4.3.0 (from networkx->thoth-lab==0.0.3)\\n  Using cached https://files.pythonhosted.org/packages/f1/cd/7c8240007e9716b14679bc217a1baefa4432aa30394f7e2ec40a52b1a708/decorator-4.3.2-py2.py3-none-any.whl\\nCollecting idna<2.9,>=2.5 (from requests->thoth-lab==0.0.3)\\n  Using cached https://files.pythonhosted.org/packages/14/2c/cd551d81dbe15200be1cf41cd03869a46fe7226e7450af7a6545bfc474c9/idna-2.8-py2.py3-none-any.whl\\nCollecting certifi>=2017.4.17 (from requests->thoth-lab==0.0.3)\\n  Using cached https://files.pythonhosted.org/packages/9f/e0/accfc1b56b57e9750eba272e24c4dddeac86852c2bebd1236674d7887e8a/certifi-2018.11.29-py2.py3-none-any.whl\\nCollecting urllib3<1.25,>=1.21.1 (from requests->thoth-lab==0.0.3)\\n  Using cached https://files.pythonhosted.org/packages/62/00/ee1d7de624db8ba7090d1226aebefab96a2c71cd5cfa7629d6ad3f61b79e/urllib3-1.24.1-py2.py3-none-any.whl\\nCollecting chardet<3.1.0,>=3.0.2 (from requests->thoth-lab==0.0.3)\\n  Using cached https://files.pythonhosted.org/packages/bc/a9/01ffebfb562e4274b6487b4bb1ddec7ca55ec7510b22e4c51f14098443b8/chardet-3.0.4-py2.py3-none-any.whl\\nCollecting numpy>=1.12.0 (from pandas->thoth-lab==0.0.3)\\n  Using cached https://files.pythonhosted.org/packages/f5/bf/4981bcbee43934f0adb8f764a1e70ab0ee5a448f6505bd04a87a2fda2a8b/numpy-1.16.1-cp36-cp36m-manylinux1_x86_64.whl\\nCollecting python-dateutil>=2.5.0 (from pandas->thoth-lab==0.0.3)\\n  Using cached https://files.pythonhosted.org/packages/41/17/c62faccbfbd163c7f57f3844689e3a78bae1f403648a6afb1d0866d87fbb/python_dateutil-2.8.0-py2.py3-none-any.whl\\nCollecting pytz>=2011k (from pandas->thoth-lab==0.0.3)\\n  Using cached https://files.pythonhosted.org/packages/61/28/1d3920e4d1d50b19bc5d24398a7cd85cc7b9a75a490570d5a30c57622d34/pytz-2018.9-py2.py3-none-any.whl\\nCollecting nbformat>=4.2 (from plotly->thoth-lab==0.0.3)\\n  Using cached https://files.pythonhosted.org/packages/da/27/9a654d2b6cc1eaa517d1c5a4405166c7f6d72f04f6e7eea41855fe808a46/nbformat-4.4.0-py2.py3-none-any.whl\\nCollecting retrying>=1.3.3 (from plotly->thoth-lab==0.0.3)\\nCollecting jupyter-core (from nbformat>=4.2->plotly->thoth-lab==0.0.3)\\n  Using cached https://files.pythonhosted.org/packages/1d/44/065d2d7bae7bebc06f1dd70d23c36da8c50c0f08b4236716743d706762a8/jupyter_core-4.4.0-py2.py3-none-any.whl\\nCollecting ipython-genutils (from nbformat>=4.2->plotly->thoth-lab==0.0.3)\\n  Using cached https://files.pythonhosted.org/packages/fa/bc/9bd3b5c2b4774d5f33b2d544f1460be9df7df2fe42f352135381c347c69a/ipython_genutils-0.2.0-py2.py3-none-any.whl\\nCollecting jsonschema!=2.5.0,>=2.4 (from nbformat>=4.2->plotly->thoth-lab==0.0.3)\\n  Downloading https://files.pythonhosted.org/packages/cd/e6/be1b2a6ebebdaf1f790f1e750bb720fbda0335c2a19601ea9d8bb5059f38/jsonschema-3.0.0-py2.py3-none-any.whl (54kB)\\nCollecting traitlets>=4.1 (from nbformat>=4.2->plotly->thoth-lab==0.0.3)\\n  Using cached https://files.pythonhosted.org/packages/93/d6/abcb22de61d78e2fc3959c964628a5771e47e7cc60d53e9342e21ed6cc9a/traitlets-4.3.2-py2.py3-none-any.whl\\nCollecting attrs>=17.4.0 (from jsonschema!=2.5.0,>=2.4->nbformat>=4.2->plotly->thoth-lab==0.0.3)\\n  Using cached https://files.pythonhosted.org/packages/3a/e1/5f9023cc983f1a628a8c2fd051ad19e76ff7b142a0faf329336f9a62a514/attrs-18.2.0-py2.py3-none-any.whl\\nRequirement already satisfied: setuptools in ./env/lib/python3.6/site-packages (from jsonschema!=2.5.0,>=2.4->nbformat>=4.2->plotly->thoth-lab==0.0.3) (39.0.1)\\nCollecting pyrsistent>=0.14.0 (from jsonschema!=2.5.0,>=2.4->nbformat>=4.2->plotly->thoth-lab==0.0.3)\\n  Downloading https://files.pythonhosted.org/packages/8c/46/4e93ab8a379d7efe93f20a0fb8a27bdfe88942cc954ab0210c3164e783e0/pyrsistent-0.14.11.tar.gz (104kB)\\nInstalling collected packages: aenum, six, tornado, gremlinpython, decorator, networkx, idna, certifi, urllib3, chardet, requests, numpy, python-dateutil, pytz, pandas, ipython-genutils, traitlets, jupyter-core, attrs, pyrsistent, jsonschema, nbformat, retrying, plotly, thoth-lab\\n  Running setup.py install for tornado: started\\n    Running setup.py install for tornado: finished with status 'done'\\n  Running setup.py install for pyrsistent: started\\n    Running setup.py install for pyrsistent: finished with status 'done'\\n  Running setup.py install for thoth-lab: started\\n    Running setup.py install for thoth-lab: finished with status 'done'\\nSuccessfully installed aenum-2.1.2 attrs-18.2.0 certifi-2018.11.29 chardet-3.0.4 decorator-4.3.2 gremlinpython-3.4.0 idna-2.8 ipython-genutils-0.2.0 jsonschema-3.0.0 jupyter-core-4.4.0 nbformat-4.4.0 networkx-2.2 numpy-1.16.1 pandas-0.24.1 plotly-3.6.1 pyrsistent-0.14.11 python-dateutil-2.8.0 pytz-2018.9 requests-2.21.0 retrying-1.3.3 six-1.12.0 thoth-lab-0.0.3 tornado-4.5.3 traitlets-4.3.2 urllib3-1.24.1\\nYou are using pip version 10.0.1, however version 19.0.3 is available.\\nYou should consider upgrading via the 'pip install --upgrade pip' command.\\n\""
      ]
     },
     "execution_count": 14,
     "metadata": {},
     "output_type": "execute_result"
    }
   ],
   "source": [
    "log_clean"
   ]
  },
  {
   "cell_type": "markdown",
   "metadata": {},
   "source": [
    "## Naive 1.0 -- pip3"
   ]
  },
  {
   "cell_type": "markdown",
   "metadata": {},
   "source": [
    "### Definitions"
   ]
  },
  {
   "cell_type": "code",
   "execution_count": 15,
   "metadata": {
    "ExecuteTime": {
     "end_time": "2019-03-21T12:41:43.124157Z",
     "start_time": "2019-03-21T12:41:43.065442Z"
    }
   },
   "outputs": [],
   "source": [
    "from collections import OrderedDict\n",
    "\n",
    "\n",
    "class DependencyGraph(nx.OrderedDiGraph):\n",
    "    node_dict_factory = OrderedDict\n",
    "    adjlist_dict_factory = OrderedDict\n",
    "\n",
    "def get_root(tree):\n",
    "    \"\"\"Return root of the current graph, if any.\n",
    "\n",
    "    By default, tree topology is considered as input,\n",
    "    so if there are multiple roots, only the first one is returned.\n",
    "    \"\"\"\n",
    "    root = None\n",
    "    for node, d in tree.in_degree():\n",
    "        root = node\n",
    "        break;\n",
    "\n",
    "    return root"
   ]
  },
  {
   "cell_type": "code",
   "execution_count": 16,
   "metadata": {
    "ExecuteTime": {
     "end_time": "2019-03-21T13:11:11.035883Z",
     "start_time": "2019-03-21T13:11:10.973797Z"
    }
   },
   "outputs": [],
   "source": [
    "def build_dependency_table(raw_data: str,\n",
    "                           root: str = None,\n",
    "                           source: str = 'from',\n",
    "                           target: str = 'package') -> pd.DataFrame:\n",
    "    \"\"\"Build dependency table from raw data\"\"\"\n",
    "    df = pd.io.json.json_normalize(\n",
    "        parse_log(raw_data), record_path='result')\n",
    "    \n",
    "    df['target'] = df[target]\n",
    "    df['source'] = df[source] \\\n",
    "        .apply(lambda r: r[0]['package'] if r else '')\n",
    "    \n",
    "    if not root:\n",
    "        # try to guess the root by missing target package\n",
    "        targets = set(df.target.unique())\n",
    "        sources = set(df.source.unique())\n",
    "        root_candidates = sources - targets\n",
    "        \n",
    "        if len(root_candidates) > 1:\n",
    "            raise ValueError(\"No root specififed and multiple roots found: \", root)\n",
    "        \n",
    "        root, = root_candidates\n",
    "        \n",
    "    # Create root node\n",
    "    d = pd.DataFrame({'source': '', 'target': root}, columns=df.columns, index=[-1])\n",
    "    \n",
    "    df = df.append(d).sort_index().reindex(sorted(df.columns), axis=1)\n",
    "\n",
    "    if source != 'source':\n",
    "        df.drop(source, axis=1, inplace=True)\n",
    "    if target != 'target':\n",
    "        df.drop(target, axis=1, inplace=True)\n",
    "        \n",
    "    return df\n",
    "    "
   ]
  },
  {
   "cell_type": "code",
   "execution_count": 17,
   "metadata": {
    "ExecuteTime": {
     "end_time": "2019-03-21T12:41:43.124157Z",
     "start_time": "2019-03-21T12:41:43.065442Z"
    }
   },
   "outputs": [],
   "source": [
    "def build_dependency_graph(dep_table: pd.DataFrame):\n",
    "    \"\"\"Build dependency graph from dependency table.\"\"\"\n",
    "\n",
    "    df = dep_table[dep_table.source != '']\n",
    "\n",
    "    nodes = df.source.append(df.target).unique()\n",
    "    edges = list(zip(df.source, df.target))\n",
    "\n",
    "    g = DependencyGraph()\n",
    "    g.add_nodes_from(nodes)\n",
    "    g.add_edges_from(edges)\n",
    "    \n",
    "    # root tree at top-level package\n",
    "    tree = nx.bfs_tree(g, get_root(g))  # collecting is breadth first by default\n",
    "    \n",
    "    return tree"
   ]
  },
  {
   "cell_type": "code",
   "execution_count": 18,
   "metadata": {
    "ExecuteTime": {
     "end_time": "2019-03-21T09:01:28.448605Z",
     "start_time": "2019-03-21T09:01:28.398325Z"
    }
   },
   "outputs": [],
   "source": [
    "def classify_state(line, anomaly='ANOMALY'):\n",
    "    \"\"\"Assign state to the single log line.\"\"\"\n",
    "    import re\n",
    "    \n",
    "    line = line.strip()\n",
    "    scores = {\n",
    "        state: 0 for state in _STATES\n",
    "    }\n",
    "    scores[anomaly] = 0.5\n",
    "    \n",
    "    for state, phrases in _DEFAULT_STATE_PHRASES.items():\n",
    "        scores[state] = sum(\n",
    "            bool(re.search(r\"\\b{}\\b\".format(p), line, re.IGNORECASE))\n",
    "            for p in phrases\n",
    "        )\n",
    "    \n",
    "    return max([(score, key) for key, score in scores.items()])\n",
    "\n",
    "def build_log_table(raw_data: \"Union[List[str], str]\"):\n",
    "    \"\"\"Create build log dataframe from raw data.\"\"\"\n",
    "    if isinstance(raw_data, str):\n",
    "        raw_data = raw_data.strip().splitlines()\n",
    "    \n",
    "    states = [None] * len(raw_data)\n",
    "    scores = [None] * len(raw_data)\n",
    "    for idx, line in enumerate(raw_data):\n",
    "        scores[idx], states[idx] = classify_state(line)\n",
    "\n",
    "    df = pd.DataFrame({'line': raw_data, 'state': states, 'score': scores})\n",
    "    df[df.state.isna()]\n",
    "    \n",
    "    return df"
   ]
  },
  {
   "cell_type": "markdown",
   "metadata": {},
   "source": [
    "### Analysis"
   ]
  },
  {
   "cell_type": "code",
   "execution_count": 19,
   "metadata": {
    "ExecuteTime": {
     "end_time": "2019-03-21T13:17:33.835938Z",
     "start_time": "2019-03-21T13:17:33.805326Z"
    }
   },
   "outputs": [],
   "source": [
    "log = log_failed"
   ]
  },
  {
   "cell_type": "code",
   "execution_count": 20,
   "metadata": {
    "ExecuteTime": {
     "end_time": "2019-03-21T13:24:33.056192Z",
     "start_time": "2019-03-21T13:24:32.810874Z"
    },
    "require": [],
    "tags": [
     "#dep_table"
    ]
   },
   "outputs": [
    {
     "data": {
      "text/html": [
       "<div>\n",
       "<style scoped>\n",
       "    .dataframe tbody tr th:only-of-type {\n",
       "        vertical-align: middle;\n",
       "    }\n",
       "\n",
       "    .dataframe tbody tr th {\n",
       "        vertical-align: top;\n",
       "    }\n",
       "\n",
       "    .dataframe thead th {\n",
       "        text-align: right;\n",
       "    }\n",
       "</style>\n",
       "<table border=\"1\" class=\"dataframe\">\n",
       "  <thead>\n",
       "    <tr style=\"text-align: right;\">\n",
       "      <th></th>\n",
       "      <th>already_satisfied</th>\n",
       "      <th>artifact</th>\n",
       "      <th>source</th>\n",
       "      <th>target</th>\n",
       "      <th>version_installed</th>\n",
       "      <th>version_specified</th>\n",
       "    </tr>\n",
       "  </thead>\n",
       "  <tbody>\n",
       "    <tr>\n",
       "      <th>-1</th>\n",
       "      <td>NaN</td>\n",
       "      <td>NaN</td>\n",
       "      <td></td>\n",
       "      <td>thoth-lab</td>\n",
       "      <td>NaN</td>\n",
       "      <td>NaN</td>\n",
       "    </tr>\n",
       "    <tr>\n",
       "      <th>0</th>\n",
       "      <td>None</td>\n",
       "      <td>None</td>\n",
       "      <td>thoth-lab</td>\n",
       "      <td>networkx</td>\n",
       "      <td>None</td>\n",
       "      <td>None</td>\n",
       "    </tr>\n",
       "    <tr>\n",
       "      <th>1</th>\n",
       "      <td>None</td>\n",
       "      <td>None</td>\n",
       "      <td>thoth-lab</td>\n",
       "      <td>requests</td>\n",
       "      <td>None</td>\n",
       "      <td>None</td>\n",
       "    </tr>\n",
       "    <tr>\n",
       "      <th>2</th>\n",
       "      <td>None</td>\n",
       "      <td>None</td>\n",
       "      <td>thoth-lab</td>\n",
       "      <td>pandas</td>\n",
       "      <td>None</td>\n",
       "      <td>None</td>\n",
       "    </tr>\n",
       "    <tr>\n",
       "      <th>3</th>\n",
       "      <td>None</td>\n",
       "      <td>None</td>\n",
       "      <td>thoth-lab</td>\n",
       "      <td>plotly</td>\n",
       "      <td>None</td>\n",
       "      <td>None</td>\n",
       "    </tr>\n",
       "    <tr>\n",
       "      <th>4</th>\n",
       "      <td>None</td>\n",
       "      <td>None</td>\n",
       "      <td>networkx</td>\n",
       "      <td>decorator</td>\n",
       "      <td>None</td>\n",
       "      <td>&gt;=4.3.0</td>\n",
       "    </tr>\n",
       "    <tr>\n",
       "      <th>5</th>\n",
       "      <td>None</td>\n",
       "      <td>None</td>\n",
       "      <td>requests</td>\n",
       "      <td>idna</td>\n",
       "      <td>None</td>\n",
       "      <td>&lt;2.9,&gt;=2.5</td>\n",
       "    </tr>\n",
       "    <tr>\n",
       "      <th>6</th>\n",
       "      <td>None</td>\n",
       "      <td>None</td>\n",
       "      <td>requests</td>\n",
       "      <td>urllib3</td>\n",
       "      <td>None</td>\n",
       "      <td>&lt;1.25,&gt;=1.21.1</td>\n",
       "    </tr>\n",
       "    <tr>\n",
       "      <th>7</th>\n",
       "      <td>None</td>\n",
       "      <td>None</td>\n",
       "      <td>requests</td>\n",
       "      <td>certifi</td>\n",
       "      <td>None</td>\n",
       "      <td>&gt;=2017.4.17</td>\n",
       "    </tr>\n",
       "    <tr>\n",
       "      <th>8</th>\n",
       "      <td>None</td>\n",
       "      <td>None</td>\n",
       "      <td>requests</td>\n",
       "      <td>chardet</td>\n",
       "      <td>None</td>\n",
       "      <td>&lt;3.1.0,&gt;=3.0.2</td>\n",
       "    </tr>\n",
       "    <tr>\n",
       "      <th>9</th>\n",
       "      <td>None</td>\n",
       "      <td>None</td>\n",
       "      <td>pandas</td>\n",
       "      <td>python-dateutil</td>\n",
       "      <td>None</td>\n",
       "      <td>&gt;=2.5.0</td>\n",
       "    </tr>\n",
       "    <tr>\n",
       "      <th>10</th>\n",
       "      <td>None</td>\n",
       "      <td>None</td>\n",
       "      <td>pandas</td>\n",
       "      <td>pytz</td>\n",
       "      <td>None</td>\n",
       "      <td>&gt;=2011k</td>\n",
       "    </tr>\n",
       "    <tr>\n",
       "      <th>11</th>\n",
       "      <td>None</td>\n",
       "      <td>None</td>\n",
       "      <td>pandas</td>\n",
       "      <td>numpy</td>\n",
       "      <td>None</td>\n",
       "      <td>&gt;=1.12.0</td>\n",
       "    </tr>\n",
       "    <tr>\n",
       "      <th>12</th>\n",
       "      <td>None</td>\n",
       "      <td>None</td>\n",
       "      <td>plotly</td>\n",
       "      <td>six</td>\n",
       "      <td>None</td>\n",
       "      <td>None</td>\n",
       "    </tr>\n",
       "    <tr>\n",
       "      <th>13</th>\n",
       "      <td>None</td>\n",
       "      <td>None</td>\n",
       "      <td>plotly</td>\n",
       "      <td>retrying</td>\n",
       "      <td>None</td>\n",
       "      <td>&gt;=1.3.3</td>\n",
       "    </tr>\n",
       "    <tr>\n",
       "      <th>14</th>\n",
       "      <td>None</td>\n",
       "      <td>None</td>\n",
       "      <td>plotly</td>\n",
       "      <td>nbformat</td>\n",
       "      <td>None</td>\n",
       "      <td>&gt;=4.2</td>\n",
       "    </tr>\n",
       "    <tr>\n",
       "      <th>15</th>\n",
       "      <td>None</td>\n",
       "      <td>None</td>\n",
       "      <td>nbformat</td>\n",
       "      <td>traitlets</td>\n",
       "      <td>None</td>\n",
       "      <td>&gt;=4.1</td>\n",
       "    </tr>\n",
       "    <tr>\n",
       "      <th>16</th>\n",
       "      <td>None</td>\n",
       "      <td>None</td>\n",
       "      <td>nbformat</td>\n",
       "      <td>jupyter-core</td>\n",
       "      <td>None</td>\n",
       "      <td>None</td>\n",
       "    </tr>\n",
       "    <tr>\n",
       "      <th>17</th>\n",
       "      <td>None</td>\n",
       "      <td>None</td>\n",
       "      <td>nbformat</td>\n",
       "      <td>ipython-genutils</td>\n",
       "      <td>None</td>\n",
       "      <td>None</td>\n",
       "    </tr>\n",
       "  </tbody>\n",
       "</table>\n",
       "</div>"
      ],
      "text/plain": [
       "    already_satisfied artifact     source            target version_installed  \\\n",
       "-1                NaN      NaN                    thoth-lab               NaN   \n",
       " 0               None     None  thoth-lab          networkx              None   \n",
       " 1               None     None  thoth-lab          requests              None   \n",
       " 2               None     None  thoth-lab            pandas              None   \n",
       " 3               None     None  thoth-lab            plotly              None   \n",
       " 4               None     None   networkx         decorator              None   \n",
       " 5               None     None   requests              idna              None   \n",
       " 6               None     None   requests           urllib3              None   \n",
       " 7               None     None   requests           certifi              None   \n",
       " 8               None     None   requests           chardet              None   \n",
       " 9               None     None     pandas   python-dateutil              None   \n",
       " 10              None     None     pandas              pytz              None   \n",
       " 11              None     None     pandas             numpy              None   \n",
       " 12              None     None     plotly               six              None   \n",
       " 13              None     None     plotly          retrying              None   \n",
       " 14              None     None     plotly          nbformat              None   \n",
       " 15              None     None   nbformat         traitlets              None   \n",
       " 16              None     None   nbformat      jupyter-core              None   \n",
       " 17              None     None   nbformat  ipython-genutils              None   \n",
       "\n",
       "    version_specified  \n",
       "-1                NaN  \n",
       " 0               None  \n",
       " 1               None  \n",
       " 2               None  \n",
       " 3               None  \n",
       " 4            >=4.3.0  \n",
       " 5         <2.9,>=2.5  \n",
       " 6     <1.25,>=1.21.1  \n",
       " 7        >=2017.4.17  \n",
       " 8     <3.1.0,>=3.0.2  \n",
       " 9            >=2.5.0  \n",
       " 10           >=2011k  \n",
       " 11          >=1.12.0  \n",
       " 12              None  \n",
       " 13           >=1.3.3  \n",
       " 14             >=4.2  \n",
       " 15             >=4.1  \n",
       " 16              None  \n",
       " 17              None  "
      ]
     },
     "execution_count": 20,
     "metadata": {},
     "output_type": "execute_result"
    }
   ],
   "source": [
    "%%suppress_warnings\n",
    "\n",
    "dep_table = build_dependency_table(log)\n",
    "dep_table"
   ]
  },
  {
   "cell_type": "markdown",
   "metadata": {},
   "source": [
    "Get installation state and set it as node attribute"
   ]
  },
  {
   "cell_type": "code",
   "execution_count": 21,
   "metadata": {
    "ExecuteTime": {
     "end_time": "2019-03-21T13:24:33.137630Z",
     "start_time": "2019-03-21T13:24:33.059430Z"
    },
    "scrolled": true,
    "tags": [
     "#dep_log"
    ]
   },
   "outputs": [
    {
     "data": {
      "text/html": [
       "\n",
       "        <span><pre style=\"background-color: ;\" class=\"prepare\">0   | Processing /home/macermak/RedHat/aicoe/lab</pre></span>\n",
       "    <br>\n",
       "        <span><pre style=\"background-color: ;\" class=\"prepare\">1   | Collecting networkx (from thoth-lab==0.0.3)</pre></span>\n",
       "    <br>\n",
       "        <span><pre style=\"background-color: ;\" class=\"prepare\">2   | Collecting requests (from thoth-lab==0.0.3)</pre></span>\n",
       "    <br>\n",
       "        <span><pre style=\"background-color: ;\" class=\"prepare\">3   |   Using cached https://files.pythonhosted.org/packages/7d/e3/20f3d364d6c8e5d2353c72a67778eb189176f08e873c9900e10c0287b84b/requests-2.21.0-py2.py3-none-any.whl</pre></span>\n",
       "    <br>\n",
       "        <span><pre style=\"background-color: ;\" class=\"prepare\">4   | Collecting pandas (from thoth-lab==0.0.3)</pre></span>\n",
       "    <br>\n",
       "        <span><pre style=\"background-color: ;\" class=\"prepare\">5   |   Using cached https://files.pythonhosted.org/packages/e6/de/a0d3defd8f338eaf53ef716e40ef6d6c277c35d50e09b586e170169cdf0d/pandas-0.24.1-cp36-cp36m-manylinux1_x86_64.whl</pre></span>\n",
       "    <br>\n",
       "        <span><pre style=\"background-color: ;\" class=\"prepare\">6   | Collecting plotly (from thoth-lab==0.0.3)</pre></span>\n",
       "    <br>\n",
       "        <span><pre style=\"background-color: ;\" class=\"prepare\">7   |   Using cached https://files.pythonhosted.org/packages/fd/db/003b5cfbc710f4d4982440451185b952269e4080a57ae7e760a2ceb8ce0c/plotly-3.6.1-py2.py3-none-any.whl</pre></span>\n",
       "    <br>\n",
       "        <span><pre style=\"background-color: ;\" class=\"prepare\">8   | Collecting decorator>=4.3.0 (from networkx->thoth-lab==0.0.3)</pre></span>\n",
       "    <br>\n",
       "        <span><pre style=\"background-color: ;\" class=\"prepare\">9   |   Using cached https://files.pythonhosted.org/packages/f1/cd/7c8240007e9716b14679bc217a1baefa4432aa30394f7e2ec40a52b1a708/decorator-4.3.2-py2.py3-none-any.whl</pre></span>\n",
       "    <br>\n",
       "        <span><pre style=\"background-color: ;\" class=\"prepare\">10  | Collecting idna<2.9,>=2.5 (from requests->thoth-lab==0.0.3)</pre></span>\n",
       "    <br>\n",
       "        <span><pre style=\"background-color: ;\" class=\"prepare\">11  |   Using cached https://files.pythonhosted.org/packages/14/2c/cd551d81dbe15200be1cf41cd03869a46fe7226e7450af7a6545bfc474c9/idna-2.8-py2.py3-none-any.whl</pre></span>\n",
       "    <br>\n",
       "        <span><pre style=\"background-color: ;\" class=\"prepare\">12  | Collecting urllib3<1.25,>=1.21.1 (from requests->thoth-lab==0.0.3)</pre></span>\n",
       "    <br>\n",
       "        <span><pre style=\"background-color: ;\" class=\"prepare\">13  |   Using cached https://files.pythonhosted.org/packages/62/00/ee1d7de624db8ba7090d1226aebefab96a2c71cd5cfa7629d6ad3f61b79e/urllib3-1.24.1-py2.py3-none-any.whl</pre></span>\n",
       "    <br>\n",
       "        <span><pre style=\"background-color: ;\" class=\"prepare\">14  | Collecting certifi>=2017.4.17 (from requests->thoth-lab==0.0.3)</pre></span>\n",
       "    <br>\n",
       "        <span><pre style=\"background-color: ;\" class=\"prepare\">15  |   Using cached https://files.pythonhosted.org/packages/9f/e0/accfc1b56b57e9750eba272e24c4dddeac86852c2bebd1236674d7887e8a/certifi-2018.11.29-py2.py3-none-any.whl</pre></span>\n",
       "    <br>\n",
       "        <span><pre style=\"background-color: ;\" class=\"prepare\">16  | Collecting chardet<3.1.0,>=3.0.2 (from requests->thoth-lab==0.0.3)</pre></span>\n",
       "    <br>\n",
       "        <span><pre style=\"background-color: ;\" class=\"prepare\">17  |   Using cached https://files.pythonhosted.org/packages/bc/a9/01ffebfb562e4274b6487b4bb1ddec7ca55ec7510b22e4c51f14098443b8/chardet-3.0.4-py2.py3-none-any.whl</pre></span>\n",
       "    <br>\n",
       "        <span><pre style=\"background-color: ;\" class=\"prepare\">18  | Collecting python-dateutil>=2.5.0 (from pandas->thoth-lab==0.0.3)</pre></span>\n",
       "    <br>\n",
       "        <span><pre style=\"background-color: ;\" class=\"prepare\">19  |   Using cached https://files.pythonhosted.org/packages/41/17/c62faccbfbd163c7f57f3844689e3a78bae1f403648a6afb1d0866d87fbb/python_dateutil-2.8.0-py2.py3-none-any.whl</pre></span>\n",
       "    <br>\n",
       "        <span><pre style=\"background-color: ;\" class=\"prepare\">20  | Collecting pytz>=2011k (from pandas->thoth-lab==0.0.3)</pre></span>\n",
       "    <br>\n",
       "        <span><pre style=\"background-color: ;\" class=\"prepare\">21  |   Using cached https://files.pythonhosted.org/packages/61/28/1d3920e4d1d50b19bc5d24398a7cd85cc7b9a75a490570d5a30c57622d34/pytz-2018.9-py2.py3-none-any.whl</pre></span>\n",
       "    <br>\n",
       "        <span><pre style=\"background-color: ;\" class=\"prepare\">22  | Collecting numpy>=1.12.0 (from pandas->thoth-lab==0.0.3)</pre></span>\n",
       "    <br>\n",
       "        <span><pre style=\"background-color: ;\" class=\"prepare\">23  |   Using cached https://files.pythonhosted.org/packages/f5/bf/4981bcbee43934f0adb8f764a1e70ab0ee5a448f6505bd04a87a2fda2a8b/numpy-1.16.1-cp36-cp36m-manylinux1_x86_64.whl</pre></span>\n",
       "    <br>\n",
       "        <span><pre style=\"background-color: ;\" class=\"prepare\">24  | Collecting six (from plotly->thoth-lab==0.0.3)</pre></span>\n",
       "    <br>\n",
       "        <span><pre style=\"background-color: ;\" class=\"prepare\">25  |   Using cached https://files.pythonhosted.org/packages/73/fb/00a976f728d0d1fecfe898238ce23f502a721c0ac0ecfedb80e0d88c64e9/six-1.12.0-py2.py3-none-any.whl</pre></span>\n",
       "    <br>\n",
       "        <span><pre style=\"background-color: ;\" class=\"prepare\">26  | Collecting retrying>=1.3.3 (from plotly->thoth-lab==0.0.3)</pre></span>\n",
       "    <br>\n",
       "        <span><pre style=\"background-color: ;\" class=\"prepare\">27  | Collecting nbformat>=4.2 (from plotly->thoth-lab==0.0.3)</pre></span>\n",
       "    <br>\n",
       "        <span><pre style=\"background-color: ;\" class=\"prepare\">28  |   Using cached https://files.pythonhosted.org/packages/da/27/9a654d2b6cc1eaa517d1c5a4405166c7f6d72f04f6e7eea41855fe808a46/nbformat-4.4.0-py2.py3-none-any.whl</pre></span>\n",
       "    <br>\n",
       "        <span><pre style=\"background-color: ;\" class=\"prepare\">29  | Collecting traitlets>=4.1 (from nbformat>=4.2->plotly->thoth-lab==0.0.3)</pre></span>\n",
       "    <br>\n",
       "        <span><pre style=\"background-color: ;\" class=\"prepare\">30  |   Using cached https://files.pythonhosted.org/packages/93/d6/abcb22de61d78e2fc3959c964628a5771e47e7cc60d53e9342e21ed6cc9a/traitlets-4.3.2-py2.py3-none-any.whl</pre></span>\n",
       "    <br>\n",
       "        <span><pre style=\"background-color: ;\" class=\"prepare\">31  | Collecting jupyter-core (from nbformat>=4.2->plotly->thoth-lab==0.0.3)</pre></span>\n",
       "    <br>\n",
       "        <span><pre style=\"background-color: ;\" class=\"prepare\">32  |   Using cached https://files.pythonhosted.org/packages/1d/44/065d2d7bae7bebc06f1dd70d23c36da8c50c0f08b4236716743d706762a8/jupyter_core-4.4.0-py2.py3-none-any.whl</pre></span>\n",
       "    <br>\n",
       "        <span><pre style=\"background-color: ;\" class=\"prepare\">33  | Collecting jsonschema!=2.5.0,>=2.4 (from nbformat>=4.2->plotly->thoth-lab==0.0.3)</pre></span>\n",
       "    <br>\n",
       "        <span><pre style=\"background-color: ;\" class=\"prepare\">34  |   Using cached https://files.pythonhosted.org/packages/77/de/47e35a97b2b05c2fadbec67d44cfcdcd09b8086951b331d82de90d2912da/jsonschema-2.6.0-py2.py3-none-any.whl</pre></span>\n",
       "    <br>\n",
       "        <span><pre style=\"background-color: ;\" class=\"prepare\">35  | Collecting ipython-genutils (from nbformat>=4.2->plotly->thoth-lab==0.0.3)</pre></span>\n",
       "    <br>\n",
       "        <span><pre style=\"background-color: ;\" class=\"prepare\">36  |   Using cached https://files.pythonhosted.org/packages/fa/bc/9bd3b5c2b4774d5f33b2d544f1460be9df7df2fe42f352135381c347c69a/ipython_genutils-0.2.0-py2.py3-none-any.whl</pre></span>\n",
       "    <br>\n",
       "        <span><pre style=\"background-color: ;\" class=\"build\">37  | Building wheels for collected packages: thoth-lab</pre></span>\n",
       "    <br>\n",
       "        <span><pre style=\"background-color: ;\" class=\"build\">38  |   Running setup.py bdist_wheel for thoth-lab: started</pre></span>\n",
       "    <br>\n",
       "        <span><pre style=\"background-color: ;\" class=\"build\">39  |   Running setup.py bdist_wheel for thoth-lab: finished with status 'done'</pre></span>\n",
       "    <br>\n",
       "        <span><pre style=\"background-color: ;\" class=\"build\">40  |   Stored in directory: /tmp/pip-ephem-wheel-cache-_4menpyv/wheels/c6/6e/7d/ef751ae03b7d549816c6658c7f8065cb889a8de3f0c2b3ca6c</pre></span>\n",
       "    <br>\n",
       "        <span><pre style=\"background-color: ;\" class=\"build\">41  | Successfully built thoth-lab</pre></span>\n",
       "    <br>\n",
       "        <span><pre style=\"background-color: ;\" class=\"resolve\">42  | selinon 0.1.0rc9 requires celery>=4, which is not installed.</pre></span>\n",
       "    <br>\n",
       "        <span><pre style=\"background-color: ;\" class=\"resolve\">43  | thoth-analyzer 0.1.0 requires distro, which is not installed.</pre></span>\n",
       "    <br>\n",
       "        <span><pre style=\"background-color: ;\" class=\"resolve\">44  | thoth-storages 0.9.5 requires aiogremlin==3.2.6rc1, which is not installed.</pre></span>\n",
       "    <br>\n",
       "        <span><pre style=\"background-color: ;\" class=\"resolve\">45  | tensorflow-tensorboard 1.5.1 has requirement bleach==1.5.0, but you'll have bleach 2.1.4 which is incompatible.</pre></span>\n",
       "    <br>\n",
       "        <span><pre style=\"background-color: ;\" class=\"resolve\">46  | tensorflow-tensorboard 1.5.1 has requirement html5lib==0.9999999, but you'll have html5lib 1.0.1 which is incompatible.</pre></span>\n",
       "    <br>\n",
       "        <span><pre style=\"background-color: ;\" class=\"resolve\">47  | tensorboard 1.6.0 has requirement bleach==1.5.0, but you'll have bleach 2.1.4 which is incompatible.</pre></span>\n",
       "    <br>\n",
       "        <span><pre style=\"background-color: ;\" class=\"resolve\">48  | tensorboard 1.6.0 has requirement html5lib==0.9999999, but you'll have html5lib 1.0.1 which is incompatible.</pre></span>\n",
       "    <br>\n",
       "        <span><pre style=\"background-color: ;\" class=\"resolve\">49  | notebook 5.7.0 has requirement jupyter-client>=5.2.0, but you'll have jupyter-client 5.1.0 which is incompatible.</pre></span>\n",
       "    <br>\n",
       "        <span><pre style=\"background-color: ;\" class=\"resolve\">50  | notebook 5.7.0 has requirement pyzmq>=17, but you'll have pyzmq 16.0.3 which is incompatible.</pre></span>\n",
       "    <br>\n",
       "        <span><pre style=\"background-color: ;\" class=\"resolve\">51  | kaggle 1.4.7.1 has requirement urllib3<1.23.0,>=1.15, but you'll have urllib3 1.24.1 which is incompatible.</pre></span>\n",
       "    <br>\n",
       "        <span><pre style=\"background-color: ;\" class=\"resolve\">52  | botocore 1.11.3 has requirement urllib3<1.24,>=1.20, but you'll have urllib3 1.24.1 which is incompatible.</pre></span>\n",
       "    <br>\n",
       "        <span><pre style=\"background-color: ;\" class=\"resolve\">53  | awscli 1.14.25 has requirement botocore==1.8.29, but you'll have botocore 1.11.3 which is incompatible.</pre></span>\n",
       "    <br>\n",
       "        <span><pre style=\"background-color: ;\" class=\"resolve\">54  | awscli 1.14.25 has requirement colorama<=0.3.7,>=0.2.5, but you'll have colorama 0.3.9 which is incompatible.</pre></span>\n",
       "    <br>\n",
       "        <span><pre style=\"background-color: ;\" class=\"resolve\">55  | awscli 1.14.25 has requirement PyYAML<=3.12,>=3.10, but you'll have pyyaml 3.13 which is incompatible.</pre></span>\n",
       "    <br>\n",
       "        <span><pre style=\"background-color: ;\" class=\"resolve\">56  | thoth-storages 0.9.5 has requirement yarl<1.2, but you'll have yarl 1.3.0 which is incompatible.</pre></span>\n",
       "    <br>\n",
       "        <span><pre style=\"background-color: ;\" class=\"resolve\">57  | spyder-kernels 0.2.6 has requirement jupyter-client>=5.2.3, but you'll have jupyter-client 5.1.0 which is incompatible.</pre></span>\n",
       "    <br>\n",
       "        <span><pre style=\"background-color: ;\" class=\"resolve\">58  | spyder-kernels 0.2.6 has requirement pyzmq>=17, but you'll have pyzmq 16.0.3 which is incompatible.</pre></span>\n",
       "    <br>\n",
       "        <span><pre style=\"background-color: ;\" class=\"resolve\">59  | rstcheck 2.2 has requirement sphinx<1.5,>=1.3, but you'll have sphinx 1.8.1 which is incompatible.</pre></span>\n",
       "    <br>\n",
       "        <span><pre style=\"background-color: ;\" class=\"resolve\">60  | gremlinpython 3.2.6 has requirement six==1.10.0, but you'll have six 1.12.0 which is incompatible.</pre></span>\n",
       "    <br>\n",
       "        <span><pre style=\"background-color: ;\" class=\"resolve\">61  | gremlinpython 3.2.6 has requirement tornado==4.4.1, but you'll have tornado 4.5.2 which is incompatible.</pre></span>\n",
       "    <br>\n",
       "        <span><pre style=\"background-color: ;\" class=\"install\">62  | Installing collected packages: decorator, networkx, idna, urllib3, certifi, chardet, requests, six, python-dateutil, pytz, numpy, pandas, retrying, ipython-genutils, traitlets, jupyter-core, jsonschema, nbformat, plotly, thoth-lab</pre></span>\n",
       "    <br>\n",
       "        <span><pre style=\"background-color: ;\" class=\"install\">63  |   Found existing installation: decorator 4.3.2</pre></span>\n",
       "    <br>\n",
       "        <span><pre style=\"background-color: ;\" class=\"install\">64  |     Uninstalling decorator-4.3.2:</pre></span>\n",
       "    <br>\n",
       "        <span><pre style=\"background-color: ;\" class=\"install\">65  |       Successfully uninstalled decorator-4.3.2</pre></span>\n",
       "    <br>\n",
       "        <span><pre style=\"background-color: ;\" class=\"install\">66  |   Found existing installation: networkx 2.2</pre></span>\n",
       "    <br>\n",
       "        <span><pre style=\"background-color: ;\" class=\"install\">67  |     Uninstalling networkx-2.2:</pre></span>\n",
       "    <br>\n",
       "        <span><pre style=\"background-color: ;\" class=\"install\">68  |       Successfully uninstalled networkx-2.2</pre></span>\n",
       "    <br>\n",
       "        <span><pre style=\"background-color: ;\" class=\"install\">69  |   Found existing installation: idna 2.8</pre></span>\n",
       "    <br>\n",
       "        <span><pre style=\"background-color: ;\" class=\"install\">70  |     Uninstalling idna-2.8:</pre></span>\n",
       "    <br>\n",
       "        <span><pre style=\"background-color: ;\" class=\"install\">71  |       Successfully uninstalled idna-2.8</pre></span>\n",
       "    <br>\n",
       "        <span><pre style=\"background-color: ;\" class=\"install\">72  |   Found existing installation: urllib3 1.24.1</pre></span>\n",
       "    <br>\n",
       "        <span><pre style=\"background-color: ;\" class=\"install\">73  |     Uninstalling urllib3-1.24.1:</pre></span>\n",
       "    <br>\n",
       "        <span><pre style=\"background-color: ;\" class=\"install\">74  |       Successfully uninstalled urllib3-1.24.1</pre></span>\n",
       "    <br>\n",
       "        <span><pre style=\"background-color: ;\" class=\"install\">75  |   Found existing installation: certifi 2018.11.29</pre></span>\n",
       "    <br>\n",
       "        <span><pre style=\"background-color: ;\" class=\"ANOMALY\">76  | Cannot uninstall 'certifi'. It is a distutils installed project and thus we cannot accurately determine which files belong to it which would lead to only a partial uninstall.</pre></span>\n",
       "    <br>\n",
       "        <span><pre style=\"background-color: ;\" class=\"postface\">77  | You are using pip version 18.1, however version 19.0.2 is available.</pre></span>\n",
       "    <br>\n",
       "        <span><pre style=\"background-color: ;\" class=\"postface\">78  | You should consider upgrading via the 'pip install --upgrade pip' command.</pre></span>\n",
       "    "
      ],
      "text/plain": [
       "<IPython.core.display.HTML object>"
      ]
     },
     "execution_count": 21,
     "metadata": {},
     "output_type": "execute_result"
    }
   ],
   "source": [
    "dep_log = build_log_table(log)\n",
    "dep_log['color'] = dep_log.state.map(color_mapper)\n",
    "\n",
    "highlight(dep_log, content='line', highlight='state')"
   ]
  },
  {
   "cell_type": "code",
   "execution_count": 22,
   "metadata": {
    "ExecuteTime": {
     "end_time": "2019-03-21T13:24:33.204216Z",
     "start_time": "2019-03-21T13:24:33.139960Z"
    },
    "tags": [
     "#parse"
    ]
   },
   "outputs": [],
   "source": [
    "from collections import Counter\n",
    "\n",
    "nlp = spacy.load('en')\n",
    "\n",
    "def softmax(X): return np.exp(X) / np.sum(np.exp(X), axis=0)\n",
    "\n",
    "def parse_log_anomalies(df: pd.DataFrame, g: DependencyGraph, top: int = None):\n",
    "    \"\"\"Parse log anomalies and try to match corresponding packages.\"\"\"\n",
    "    anomalies = df.query('state == \"ANOMALY\"').line\n",
    "    \n",
    "    if len(anomalies) <= 0:\n",
    "        return [], []\n",
    "    \n",
    "    packages = []\n",
    "    for line in anomalies:\n",
    "        parsed = nlp(line)\n",
    "        packages.extend([p.orth_ for p in parsed if g.has_node(p.orth_)])\n",
    "        \n",
    "    sp = sorted((s, p) for p, s in Counter(packages).items())[:top]\n",
    "    scores, packages = zip(*sp)\n",
    "    \n",
    "    return softmax(scores), packages\n",
    "    \n",
    "g: DependencyGraph = build_dependency_graph(dep_table)\n",
    "    \n",
    "scores, packages = parse_log_anomalies(dep_log, g)    \n",
    "scores, packages\n",
    "\n",
    "build_breaker = packages[0] if packages else None"
   ]
  },
  {
   "cell_type": "code",
   "execution_count": 23,
   "metadata": {
    "ExecuteTime": {
     "end_time": "2019-03-21T13:24:33.269830Z",
     "start_time": "2019-03-21T13:24:33.218050Z"
    },
    "tags": [
     "#install"
    ]
   },
   "outputs": [
    {
     "data": {
      "text/plain": [
       "{'decorator', 'idna', 'networkx', 'urllib3'}"
      ]
     },
     "execution_count": 23,
     "metadata": {},
     "output_type": "execute_result"
    }
   ],
   "source": [
    "import re\n",
    "\n",
    "root = get_root(g)\n",
    "failed_branch = []\n",
    "\n",
    "if build_breaker:\n",
    "    failed_branch = nx.shortest_path(g, root, build_breaker)[:-1]\n",
    "\n",
    "successfully_installed = set()\n",
    "for node in nx.dfs_preorder_nodes(g, root):\n",
    "    if re.match(re.escape(node), build_breaker or \"\", re.IGNORECASE):\n",
    "        break\n",
    "    successfully_installed.add(node)\n",
    "    \n",
    "successfully_installed = successfully_installed.difference(set(failed_branch))\n",
    "successfully_installed"
   ]
  },
  {
   "cell_type": "code",
   "execution_count": 24,
   "metadata": {
    "ExecuteTime": {
     "end_time": "2019-03-21T13:24:33.323384Z",
     "start_time": "2019-03-21T13:24:33.272897Z"
    },
    "require": [
     "d3"
    ],
    "tags": [
     "#plot"
    ]
   },
   "outputs": [
    {
     "data": {
      "text/html": [
       "<svg width=\"981.354\" height=\"640\"><g transform=\"translate(0, 80)\"><g class=\"nodes\"><circle class=\"node\" cx=\"411.842375\" cy=\"0\" r=\"11\" fill=\"red\"></circle><circle class=\"node\" cx=\"58.834625\" cy=\"160\" r=\"11\" fill=\"green\"></circle><circle class=\"node\" cx=\"264.7558125\" cy=\"160\" r=\"11\" fill=\"red\"></circle><circle class=\"node\" cx=\"529.511625\" cy=\"160\" r=\"11\" fill=\"red\"></circle><circle class=\"node\" cx=\"764.850125\" cy=\"160\" r=\"11\" fill=\"red\"></circle><circle class=\"node\" cx=\"58.834625\" cy=\"320\" r=\"11\" fill=\"green\"></circle><circle class=\"node\" cx=\"176.503875\" cy=\"320\" r=\"11\" fill=\"green\"></circle><circle class=\"node\" cx=\"235.3385\" cy=\"320\" r=\"11\" fill=\"green\"></circle><circle class=\"node\" cx=\"294.173125\" cy=\"320\" r=\"11\" fill=\"red\"></circle><circle class=\"node\" cx=\"353.00775\" cy=\"320\" r=\"11\" fill=\"red\"></circle><circle class=\"node\" cx=\"470.677\" cy=\"320\" r=\"11\" fill=\"red\"></circle><circle class=\"node\" cx=\"529.511625\" cy=\"320\" r=\"11\" fill=\"red\"></circle><circle class=\"node\" cx=\"588.34625\" cy=\"320\" r=\"11\" fill=\"red\"></circle><circle class=\"node\" cx=\"706.0155\" cy=\"320\" r=\"11\" fill=\"red\"></circle><circle class=\"node\" cx=\"764.850125\" cy=\"320\" r=\"11\" fill=\"red\"></circle><circle class=\"node\" cx=\"823.68475\" cy=\"320\" r=\"11\" fill=\"red\"></circle><circle class=\"node\" cx=\"764.850125\" cy=\"480\" r=\"11\" fill=\"red\"></circle><circle class=\"node\" cx=\"823.68475\" cy=\"480\" r=\"11\" fill=\"red\"></circle><circle class=\"node\" cx=\"882.5193750000001\" cy=\"480\" r=\"11\" fill=\"red\"></circle><text class=\"node\" x=\"411.842375\" y=\"0\" dx=\"22.247500000000002\" dy=\".25em\" text-anchor=\"right\">thoth-lab</text><text class=\"node\" x=\"58.834625\" y=\"160\" dx=\"22.247500000000002\" dy=\".25em\" text-anchor=\"right\">networkx</text><text class=\"node\" x=\"264.7558125\" y=\"160\" dx=\"22.247500000000002\" dy=\".25em\" text-anchor=\"right\">requests</text><text class=\"node\" x=\"529.511625\" y=\"160\" dx=\"22.247500000000002\" dy=\".25em\" text-anchor=\"right\">pandas</text><text class=\"node\" x=\"764.850125\" y=\"160\" dx=\"22.247500000000002\" dy=\".25em\" text-anchor=\"right\">plotly</text><text class=\"node\" x=\"58.834625\" y=\"320\" dx=\"\" dy=\"33.2475\" text-anchor=\"middle\">decorator</text><text class=\"node\" x=\"176.503875\" y=\"320\" dx=\"\" dy=\"33.2475\" text-anchor=\"middle\">idna</text><text class=\"node\" x=\"235.3385\" y=\"320\" dx=\"\" dy=\"33.2475\" text-anchor=\"middle\">urllib3</text><text class=\"node\" x=\"294.173125\" y=\"320\" dx=\"\" dy=\"33.2475\" text-anchor=\"middle\">certifi</text><text class=\"node\" x=\"353.00775\" y=\"320\" dx=\"\" dy=\"33.2475\" text-anchor=\"middle\">chardet</text><text class=\"node\" x=\"470.677\" y=\"320\" dx=\"\" dy=\"33.2475\" text-anchor=\"middle\">python-dateutil</text><text class=\"node\" x=\"529.511625\" y=\"320\" dx=\"\" dy=\"33.2475\" text-anchor=\"middle\">pytz</text><text class=\"node\" x=\"588.34625\" y=\"320\" dx=\"\" dy=\"33.2475\" text-anchor=\"middle\">numpy</text><text class=\"node\" x=\"706.0155\" y=\"320\" dx=\"\" dy=\"33.2475\" text-anchor=\"middle\">six</text><text class=\"node\" x=\"764.850125\" y=\"320\" dx=\"\" dy=\"33.2475\" text-anchor=\"middle\">retrying</text><text class=\"node\" x=\"823.68475\" y=\"320\" dx=\"22.247500000000002\" dy=\".25em\" text-anchor=\"right\">nbformat</text><text class=\"node\" x=\"764.850125\" y=\"480\" dx=\"\" dy=\"33.2475\" text-anchor=\"middle\">traitlets</text><text class=\"node\" x=\"823.68475\" y=\"480\" dx=\"\" dy=\"33.2475\" text-anchor=\"middle\">jupyter-core</text><text class=\"node\" x=\"882.5193750000001\" y=\"480\" dx=\"\" dy=\"33.2475\" text-anchor=\"middle\">ipython-genutils</text></g><g class=\"links\"><line class=\"link\" x1=\"411.842375\" y1=\"17.798000000000002\" x2=\"58.834625\" y2=\"142.202\"></line><line class=\"link\" x1=\"411.842375\" y1=\"17.798000000000002\" x2=\"264.7558125\" y2=\"142.202\"></line><line class=\"link\" x1=\"411.842375\" y1=\"17.798000000000002\" x2=\"529.511625\" y2=\"142.202\"></line><line class=\"link\" x1=\"411.842375\" y1=\"17.798000000000002\" x2=\"764.850125\" y2=\"142.202\"></line><line class=\"link\" x1=\"58.834625\" y1=\"177.798\" x2=\"58.834625\" y2=\"302.202\"></line><line class=\"link\" x1=\"264.7558125\" y1=\"177.798\" x2=\"176.503875\" y2=\"302.202\"></line><line class=\"link\" x1=\"264.7558125\" y1=\"177.798\" x2=\"235.3385\" y2=\"302.202\"></line><line class=\"link\" x1=\"264.7558125\" y1=\"177.798\" x2=\"294.173125\" y2=\"302.202\"></line><line class=\"link\" x1=\"264.7558125\" y1=\"177.798\" x2=\"353.00775\" y2=\"302.202\"></line><line class=\"link\" x1=\"529.511625\" y1=\"177.798\" x2=\"470.677\" y2=\"302.202\"></line><line class=\"link\" x1=\"529.511625\" y1=\"177.798\" x2=\"529.511625\" y2=\"302.202\"></line><line class=\"link\" x1=\"529.511625\" y1=\"177.798\" x2=\"588.34625\" y2=\"302.202\"></line><line class=\"link\" x1=\"764.850125\" y1=\"177.798\" x2=\"706.0155\" y2=\"302.202\"></line><line class=\"link\" x1=\"764.850125\" y1=\"177.798\" x2=\"764.850125\" y2=\"302.202\"></line><line class=\"link\" x1=\"764.850125\" y1=\"177.798\" x2=\"823.68475\" y2=\"302.202\"></line><line class=\"link\" x1=\"823.68475\" y1=\"337.798\" x2=\"764.850125\" y2=\"462.202\"></line><line class=\"link\" x1=\"823.68475\" y1=\"337.798\" x2=\"823.68475\" y2=\"462.202\"></line><line class=\"link\" x1=\"823.68475\" y1=\"337.798\" x2=\"882.5193750000001\" y2=\"462.202\"></line></g></g></svg>"
      ],
      "text/plain": [
       "<JupyterRequire.display.FrozenOutput object>"
      ]
     },
     "metadata": {
      "finalized": true,
      "frozen": true
     },
     "output_type": "display_data"
    }
   ],
   "source": [
    "dep_table['color'] = dep_table.target.apply(\n",
    "    lambda p: 'green' if p in successfully_installed else 'red'\n",
    ")\n",
    "\n",
    "# fix for awscli-plugin-endpoint) (1.14.25 invalid parsing\n",
    "dep_table.source = dep_table.source.str.replace('awscli-plugin-endpoint\\) \\(1.14.25', 'awscli-plugin-endpoint')\n",
    "\n",
    "plot_dependencies(dep_table)"
   ]
  },
  {
   "cell_type": "markdown",
   "metadata": {},
   "source": [
    "## Report"
   ]
  },
  {
   "cell_type": "code",
   "execution_count": 25,
   "metadata": {
    "ExecuteTime": {
     "end_time": "2019-03-21T13:24:32.804955Z",
     "start_time": "2019-03-21T13:24:32.670804Z"
    },
    "tags": [
     "#log"
    ]
   },
   "outputs": [],
   "source": [
    "log = log_failed"
   ]
  },
  {
   "cell_type": "code",
   "execution_count": 26,
   "metadata": {
    "ExecuteTime": {
     "end_time": "2019-03-21T13:24:33.360304Z",
     "start_time": "2019-03-21T13:24:33.325628Z"
    },
    "tags": [
     "#report",
     "=>log",
     "=>dep_table",
     "=>dep_log",
     "=>parse",
     "=>install",
     "=>plot"
    ]
   },
   "outputs": [
    {
     "name": "stdout",
     "output_type": "stream",
     "text": [
      "\n",
      "Build breaker:\n",
      "\n",
      "    {\n",
      "        \"already_satisfied\": null,\n",
      "        \"artifact\": null,\n",
      "        \"color\": \"red\",\n",
      "        \"source\": \"requests\",\n",
      "        \"target\": \"certifi\",\n",
      "        \"version_installed\": null,\n",
      "        \"version_specified\": \">=2017.4.17\"\n",
      "    }     \n",
      "\n",
      "Probable reason:\n",
      "\n",
      "    76: Cannot uninstall 'certifi'. It is a distutils installed project and thus we cannot accurately determine which files belong to it which would lead to only a partial uninstall.\n",
      "\n"
     ]
    }
   ],
   "source": [
    "import json\n",
    "from textwrap import dedent, indent\n",
    "\n",
    "indentation_level = 4\n",
    "\n",
    "report = \"\"\"\n",
    "Build breaker:\n",
    "\n",
    "{info}     \n",
    "\n",
    "Probable reason:\n",
    "\n",
    "    {ln}: {reason}\n",
    "\"\"\"\n",
    "\n",
    "if build_breaker:\n",
    "    build_breaker_info = dep_table.query(f\"target == '{build_breaker}'\")\n",
    "    build_breaker_info_str = json.dumps(\n",
    "        build_breaker_info.to_dict(orient='records')[0],\n",
    "        indent=4,\n",
    "        sort_keys=True\n",
    "    )\n",
    "    build_breaker_info_str = indent(\n",
    "        build_breaker_info_str, ' ' * indentation_level)\n",
    "    \n",
    "    line_no, reason = next(\n",
    "        dep_log.query(\"state == 'ANOMALY'\")['line'][::-1].iteritems())\n",
    "    \n",
    "    print(\n",
    "        report.format(info=build_breaker_info_str, ln=line_no, reason=reason)\n",
    "    )\n",
    "\n",
    "else:\n",
    "    print(\"No build breaker identified.\")\n"
   ]
  },
  {
   "cell_type": "code",
   "execution_count": null,
   "metadata": {},
   "outputs": [],
   "source": []
  }
 ],
 "metadata": {
  "celltoolbar": "Tags",
  "finalized": {
   "timestamp": 1554382901440,
   "trusted": true
  },
  "hide_input": false,
  "kernelspec": {
   "display_name": "Python 3",
   "language": "python",
   "name": "python3"
  },
  "language_info": {
   "codemirror_mode": {
    "name": "ipython",
    "version": 3
   },
   "file_extension": ".py",
   "mimetype": "text/x-python",
   "name": "python",
   "nbconvert_exporter": "python",
   "pygments_lexer": "ipython3",
   "version": "3.6.3"
  },
  "require": {
   "paths": {
    "d3": "https://d3js.org/d3.v5.min"
   },
   "shim": {}
  },
  "toc": {
   "base_numbering": 1,
   "nav_menu": {},
   "number_sections": true,
   "sideBar": true,
   "skip_h1_title": false,
   "title_cell": "Table of Contents",
   "title_sidebar": "Contents",
   "toc_cell": false,
   "toc_position": {},
   "toc_section_display": true,
   "toc_window_display": false
  },
  "varInspector": {
   "cols": {
    "lenName": 16,
    "lenType": 16,
    "lenVar": 40
   },
   "kernels_config": {
    "python": {
     "delete_cmd_postfix": "",
     "delete_cmd_prefix": "del ",
     "library": "var_list.py",
     "varRefreshCmd": "print(var_dic_list())"
    },
    "r": {
     "delete_cmd_postfix": ") ",
     "delete_cmd_prefix": "rm(",
     "library": "var_list.r",
     "varRefreshCmd": "cat(var_dic_list()) "
    }
   },
   "types_to_exclude": [
    "module",
    "function",
    "builtin_function_or_method",
    "instance",
    "_Feature"
   ],
   "window_display": false
  }
 },
 "nbformat": 4,
 "nbformat_minor": 2
}
