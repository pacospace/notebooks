{
 "cells": [
  {
   "cell_type": "markdown",
   "metadata": {},
   "source": [
    "# Using Ceph from Jupyter notebooks"
   ]
  },
  {
   "cell_type": "markdown",
   "metadata": {},
   "source": [
    "This notebook will guide you on how to interact with Ceph that is provided by DataHub team directly from Jupyter notebooks.\n",
    "\n",
    "In order to use Ceph, there needs to be installed `thoth-storages` package that provides an adapter for interacting with Ceph. There are implemented also other adapters that will help you interact with other persistent parts, but we will focus strictly on Ceph in this notebook."
   ]
  },
  {
   "cell_type": "code",
   "execution_count": 1,
   "metadata": {},
   "outputs": [],
   "source": [
    "import os\n",
    "\n",
    "from thoth.storages import CephStore"
   ]
  },
  {
   "cell_type": "markdown",
   "metadata": {},
   "source": [
    "**Warning:** If you want to use Thoth directly, please use adapters that encapsulate Ceph handling and ensure data consistency, such as `SolverResultsStore`, `BuildLogsStore` or `AnalysisResultsStore`. This notebook presents low level adapter API.\n",
    "\n",
    "To check what methods the Ceph adapter provides, we can simply check Python documentation."
   ]
  },
  {
   "cell_type": "code",
   "execution_count": 2,
   "metadata": {},
   "outputs": [
    {
     "name": "stdout",
     "output_type": "stream",
     "text": [
      "Help on class CephStore in module thoth.storages.ceph:\n",
      "\n",
      "class CephStore(thoth.storages.base.StorageBase)\n",
      " |  Adapter for storing and retrieving data from Ceph - low level API.\n",
      " |  \n",
      " |  Method resolution order:\n",
      " |      CephStore\n",
      " |      thoth.storages.base.StorageBase\n",
      " |      builtins.object\n",
      " |  \n",
      " |  Methods defined here:\n",
      " |  \n",
      " |  __init__(self, prefix, *, host:str=None, key_id:str=None, secret_key:str=None, bucket:str=None, region:str=None)\n",
      " |      Initialize adapter to Ceph.\n",
      " |      \n",
      " |      Parameters not explicitly provided will be picked from env variables.\n",
      " |  \n",
      " |  check_connection(self) -> None\n",
      " |      Ceph Connection Check.\n",
      " |      \n",
      " |      Check whether the given connection to the Ceph is alive and healthy,\n",
      " |      raise an exception if not.\n",
      " |  \n",
      " |  connect(self) -> None\n",
      " |      Create a connection to the remote Ceph.\n",
      " |  \n",
      " |  document_exists(self, document_id:str) -> bool\n",
      " |      Check if the there is an object with the given key in bucket.\n",
      " |      \n",
      " |      This check does only HEAD request.\n",
      " |  \n",
      " |  get_document_listing(self) -> Generator[str, NoneType, NoneType]\n",
      " |      Get listing of documents stored on the Ceph.\n",
      " |  \n",
      " |  is_connected(self) -> bool\n",
      " |      Check whether adapter is connected to the remote Ceph storage.\n",
      " |  \n",
      " |  iterate_results(self) -> Generator[tuple, NoneType, NoneType]\n",
      " |      Iterate over results available in the Ceph.\n",
      " |  \n",
      " |  retrieve_blob(self, object_key:str) -> bytes\n",
      " |      Retrieve remote object content.\n",
      " |  \n",
      " |  retrieve_document(self, document_id:str) -> dict\n",
      " |      Retrieve a dictionary stored as JSON from S3.\n",
      " |  \n",
      " |  store_blob(self, blob:bytes, object_key:str) -> dict\n",
      " |      Store a blob on Ceph.\n",
      " |  \n",
      " |  store_document(self, document:dict, document_id:str) -> dict\n",
      " |      Store a document (dict) onto Ceph.\n",
      " |  \n",
      " |  ----------------------------------------------------------------------\n",
      " |  Static methods defined here:\n",
      " |  \n",
      " |  dict2blob(dictionary:dict) -> bytes\n",
      " |      Encode a dictionary to a blob so it can be stored on Ceph.\n",
      " |  \n",
      " |  ----------------------------------------------------------------------\n",
      " |  Data and other attributes defined here:\n",
      " |  \n",
      " |  __abstractmethods__ = frozenset()\n",
      " |  \n",
      " |  ----------------------------------------------------------------------\n",
      " |  Data descriptors inherited from thoth.storages.base.StorageBase:\n",
      " |  \n",
      " |  __dict__\n",
      " |      dictionary for instance variables (if defined)\n",
      " |  \n",
      " |  __weakref__\n",
      " |      list of weak references to the object (if defined)\n",
      "\n"
     ]
    }
   ],
   "source": [
    "help(CephStore)"
   ]
  },
  {
   "cell_type": "markdown",
   "metadata": {},
   "source": [
    "The constructor accepts all the parameters that can be supplied eigher explicitly on adapter instantiation or there can be used environment variables (preferred). The ones supplied to constructor have higher priority. Let's check the code of constructor to see which environment variables are applicable:"
   ]
  },
  {
   "cell_type": "code",
   "execution_count": 3,
   "metadata": {},
   "outputs": [
    {
     "name": "stdout",
     "output_type": "stream",
     "text": [
      "    def __init__(self, prefix, *,\n",
      "                 host: str = None, key_id: str = None, secret_key: str = None,\n",
      "                 bucket: str = None, region: str = None):\n",
      "        \"\"\"Initialize adapter to Ceph.\n",
      "\n",
      "        Parameters not explicitly provided will be picked from env variables.\n",
      "        \"\"\"\n",
      "        super().__init__()\n",
      "        self.host = host or os.environ['THOTH_S3_ENDPOINT_URL']\n",
      "        self.key_id = key_id or os.environ['THOTH_CEPH_KEY_ID']\n",
      "        self.secret_key = secret_key or os.environ['THOTH_CEPH_SECRET_KEY']\n",
      "        self.bucket = bucket or os.environ['THOTH_CEPH_BUCKET']\n",
      "        self.region = region or os.getenv('THOTH_CEPH_REGION', None)\n",
      "        self._s3 = None\n",
      "        self.prefix = prefix\n",
      "\n",
      "        if not self.prefix.endswith('/'):\n",
      "            self.prefix += '/'\n",
      "\n"
     ]
    }
   ],
   "source": [
    "import inspect\n",
    "\n",
    "lines = inspect.getsourcelines(CephStore.__init__)\n",
    "print(\"\".join(lines[0]))"
   ]
  },
  {
   "cell_type": "markdown",
   "metadata": {},
   "source": [
    "As we don't want to expose credentials in this notebook that is availble publicly, we assume that environment variables are present inside running Jupyter notebook and we can easily instantiate adapter instance and make a connection to Ceph:"
   ]
  },
  {
   "cell_type": "code",
   "execution_count": 4,
   "metadata": {},
   "outputs": [],
   "source": [
    "adapter = CephStore(\n",
    "    prefix=os.environ['THOTH_CEPH_BUCKET_PREFIX']\n",
    ")  # prefix should either be provided or picked from environment\n",
    "adapter.connect()"
   ]
  },
  {
   "cell_type": "markdown",
   "metadata": {},
   "source": [
    "Let's check the connection status:"
   ]
  },
  {
   "cell_type": "code",
   "execution_count": 5,
   "metadata": {},
   "outputs": [
    {
     "data": {
      "text/plain": [
       "True"
      ]
     },
     "execution_count": 5,
     "metadata": {},
     "output_type": "execute_result"
    }
   ],
   "source": [
    "adapter.is_connected()"
   ]
  },
  {
   "cell_type": "markdown",
   "metadata": {},
   "source": [
    "Let's check whether our document `foo` exists on Ceph:"
   ]
  },
  {
   "cell_type": "code",
   "execution_count": 6,
   "metadata": {},
   "outputs": [
    {
     "data": {
      "text/plain": [
       "True"
      ]
     },
     "execution_count": 6,
     "metadata": {},
     "output_type": "execute_result"
    }
   ],
   "source": [
    "adapter.document_exists('foo')"
   ]
  },
  {
   "cell_type": "markdown",
   "metadata": {},
   "source": [
    "As it is not already present, let's create one with some content:"
   ]
  },
  {
   "cell_type": "code",
   "execution_count": 7,
   "metadata": {},
   "outputs": [
    {
     "data": {
      "text/plain": [
       "{'ResponseMetadata': {'RequestId': 'tx0000000000000000bc10d-005bec4b9b-136a6fe8-default',\n",
       "  'HostId': '',\n",
       "  'HTTPStatusCode': 200,\n",
       "  'HTTPHeaders': {'content-length': '0',\n",
       "   'etag': '\"b7d144531216255307a634d8fe75361e\"',\n",
       "   'accept-ranges': 'bytes',\n",
       "   'x-amz-request-id': 'tx0000000000000000bc10d-005bec4b9b-136a6fe8-default',\n",
       "   'date': 'Wed, 14 Nov 2018 16:21:47 GMT'},\n",
       "  'RetryAttempts': 0},\n",
       " 'ETag': '\"b7d144531216255307a634d8fe75361e\"'}"
      ]
     },
     "execution_count": 7,
     "metadata": {},
     "output_type": "execute_result"
    }
   ],
   "source": [
    "adapter.store_document({'some': 'document'}, 'foo')"
   ]
  },
  {
   "cell_type": "code",
   "execution_count": 8,
   "metadata": {},
   "outputs": [
    {
     "data": {
      "text/plain": [
       "True"
      ]
     },
     "execution_count": 8,
     "metadata": {},
     "output_type": "execute_result"
    }
   ],
   "source": [
    "adapter.document_exists('foo')"
   ]
  },
  {
   "cell_type": "markdown",
   "metadata": {},
   "source": [
    "Explore the documents stored in Ceph"
   ]
  },
  {
   "cell_type": "code",
   "execution_count": 9,
   "metadata": {},
   "outputs": [
    {
     "name": "stdout",
     "output_type": "stream",
     "text": [
      "Help on method get_document_listing in module thoth.storages.ceph:\n",
      "\n",
      "get_document_listing() -> Generator[str, NoneType, NoneType] method of thoth.storages.ceph.CephStore instance\n",
      "    Get listing of documents stored on the Ceph.\n",
      "\n"
     ]
    }
   ],
   "source": [
    "help(adapter.get_document_listing)"
   ]
  },
  {
   "cell_type": "code",
   "execution_count": 10,
   "metadata": {},
   "outputs": [
    {
     "name": "stdout",
     "output_type": "stream",
     "text": [
      "Number of documents in stored on the Ceph: 26550\n"
     ]
    }
   ],
   "source": [
    "document_count = 0\n",
    "\n",
    "for _ in adapter.get_document_listing():\n",
    "    document_count += 1\n",
    "\n",
    "print(f\"Number of documents in stored on the Ceph: {document_count}\")"
   ]
  },
  {
   "cell_type": "code",
   "execution_count": 11,
   "metadata": {},
   "outputs": [
    {
     "data": {
      "text/plain": [
       "'bar'"
      ]
     },
     "execution_count": 11,
     "metadata": {},
     "output_type": "execute_result"
    }
   ],
   "source": [
    "it = adapter.get_document_listing()  # The generator returns document IDs \n",
    "document_id = next(it)\n",
    "\n",
    "document_id  # last document we've inserted"
   ]
  },
  {
   "cell_type": "code",
   "execution_count": 12,
   "metadata": {},
   "outputs": [
    {
     "data": {
      "text/plain": [
       "'foo'"
      ]
     },
     "execution_count": 12,
     "metadata": {},
     "output_type": "execute_result"
    }
   ],
   "source": [
    "next(it)"
   ]
  },
  {
   "cell_type": "code",
   "execution_count": 13,
   "metadata": {},
   "outputs": [
    {
     "name": "stdout",
     "output_type": "stream",
     "text": [
      "b'This is some text'\n"
     ]
    }
   ],
   "source": [
    "from json import JSONDecodeError\n",
    "from pprint import pprint\n",
    "\n",
    "try:\n",
    "    pprint(adapter.retrieve_document(document_id))\n",
    "except JSONDecodeError:  # the last document might have been blob (ie. bytes)\n",
    "    pprint(adapter.retrieve_blob(document_id))"
   ]
  },
  {
   "cell_type": "code",
   "execution_count": 14,
   "metadata": {},
   "outputs": [
    {
     "name": "stdout",
     "output_type": "stream",
     "text": [
      "{'analysis_id': 'package-extract-w7hz7'}\n"
     ]
    }
   ],
   "source": [
    "pprint(adapter.retrieve_document(next(it)))  # try next one, feel free to experiment"
   ]
  },
  {
   "cell_type": "markdown",
   "metadata": {},
   "source": [
    "As Ceph is an object store, Ceph adapter also provides low-level operations that work directly on bytes so you can easily store documents that are not dictionaries, such as text files, images or anything alse:"
   ]
  },
  {
   "cell_type": "code",
   "execution_count": 15,
   "metadata": {},
   "outputs": [
    {
     "data": {
      "text/plain": [
       "{'ResponseMetadata': {'RequestId': 'tx0000000000000000bc130-005bec4ba2-136a6fe8-default',\n",
       "  'HostId': '',\n",
       "  'HTTPStatusCode': 200,\n",
       "  'HTTPHeaders': {'content-length': '0',\n",
       "   'etag': '\"97214f63224bc1e9cc4da377aadce7c7\"',\n",
       "   'accept-ranges': 'bytes',\n",
       "   'x-amz-request-id': 'tx0000000000000000bc130-005bec4ba2-136a6fe8-default',\n",
       "   'date': 'Wed, 14 Nov 2018 16:21:54 GMT'},\n",
       "  'RetryAttempts': 0},\n",
       " 'ETag': '\"97214f63224bc1e9cc4da377aadce7c7\"'}"
      ]
     },
     "execution_count": 15,
     "metadata": {},
     "output_type": "execute_result"
    }
   ],
   "source": [
    "adapter.store_blob('This is some text'.encode(), 'bar')"
   ]
  },
  {
   "cell_type": "code",
   "execution_count": 16,
   "metadata": {},
   "outputs": [
    {
     "data": {
      "text/plain": [
       "'This is some text'"
      ]
     },
     "execution_count": 16,
     "metadata": {},
     "output_type": "execute_result"
    }
   ],
   "source": [
    "adapter.retrieve_blob('bar').decode()"
   ]
  }
 ],
 "metadata": {
  "kernelspec": {
   "display_name": "Python 3",
   "language": "python",
   "name": "python3"
  },
  "language_info": {
   "codemirror_mode": {
    "name": "ipython",
    "version": 3
   },
   "file_extension": ".py",
   "mimetype": "text/x-python",
   "name": "python",
   "nbconvert_exporter": "python",
   "pygments_lexer": "ipython3",
   "version": "3.6.3"
  }
 },
 "nbformat": 4,
 "nbformat_minor": 2
}
