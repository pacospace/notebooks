{
 "cells": [
  {
   "cell_type": "markdown",
   "metadata": {},
   "source": [
    "# Syncing data to JanusGraph benchmarks - debug mode"
   ]
  },
  {
   "cell_type": "markdown",
   "metadata": {},
   "source": [
    "## Used configuration:\n",
    "* debug mode\n",
    "* without schema\n",
    "* without indexes"
   ]
  },
  {
   "cell_type": "code",
   "execution_count": 1,
   "metadata": {},
   "outputs": [],
   "source": [
    "from thoth.storages.graph import GraphDatabase\n",
    "from thoth.storages import SolverResultsStore\n",
    "from thoth.storages import AnalysisResultsStore\n",
    "\n",
    "from thoth.lab import obtain_location\n",
    "from thoth.lab import GraphQueryResult as gqr\n",
    "\n",
    "#graph_db = GraphDatabase.create(obtain_location('thoth-sbu-janusgraph-test1', verify=False, only_netloc=True), port=80)\n",
    "graph_db = GraphDatabase.create('localhost', port=8182)\n",
    "solver_results = SolverResultsStore('thoth-sbu', host=obtain_location('thoth-upshift-ceph', verify=False))\n",
    "analysis_results = AnalysisResultsStore('thoth-sbu', host=obtain_location('thoth-upshift-ceph', verify=False))\n",
    "\n",
    "graph_db.connect()\n",
    "solver_results.connect()\n",
    "analysis_results.connect()"
   ]
  },
  {
   "cell_type": "code",
   "execution_count": 2,
   "metadata": {},
   "outputs": [],
   "source": [
    "import logging\n",
    "\n",
    "logging.getLogger('thoth').setLevel(logging.DEBUG)"
   ]
  },
  {
   "cell_type": "markdown",
   "metadata": {},
   "source": [
    "## Place for experiments:"
   ]
  },
  {
   "cell_type": "markdown",
   "metadata": {},
   "source": [
    "These are benchmarks when running JanusGraph on a local machine. **Note** the debug mode of JanusGraph was turned **off**."
   ]
  },
  {
   "cell_type": "code",
   "execution_count": 3,
   "metadata": {},
   "outputs": [
    {
     "data": {
      "text/plain": [
       "0"
      ]
     },
     "execution_count": 3,
     "metadata": {},
     "output_type": "execute_result"
    }
   ],
   "source": [
    "from thoth.lab import GraphQueryResult as gqr\n",
    "\n",
    "# Erase content of the graph database:\n",
    "gqr(graph_db.g.V().drop().next()).result\n",
    "count = gqr(graph_db.g.V().count().next()).result\n",
    "\n",
    "count"
   ]
  },
  {
   "cell_type": "code",
   "execution_count": 4,
   "metadata": {},
   "outputs": [],
   "source": [
    "#list(analysis_results.get_document_listing())\n",
    "analysis_document = analysis_results.retrieve_document('fridex-thoth-package-extract-dash-4f47l')"
   ]
  },
  {
   "cell_type": "code",
   "execution_count": 6,
   "metadata": {},
   "outputs": [
    {
     "data": {
      "text/plain": [
       "3164"
      ]
     },
     "execution_count": 6,
     "metadata": {},
     "output_type": "execute_result"
    }
   ],
   "source": [
    "gqr(graph_db.g.V().count().next()).result"
   ]
  },
  {
   "cell_type": "code",
   "execution_count": 4,
   "metadata": {},
   "outputs": [
    {
     "name": "stdout",
     "output_type": "stream",
     "text": [
      "env: THOTH_STORAGES_DISABLE_CACHE=1\n"
     ]
    },
    {
     "data": {
      "text/plain": [
       "'1'"
      ]
     },
     "execution_count": 4,
     "metadata": {},
     "output_type": "execute_result"
    }
   ],
   "source": [
    "%env THOTH_STORAGES_DISABLE_CACHE=1\n",
    "\n",
    "import os\n",
    "\n",
    "os.getenv('THOTH_STORAGES_DISABLE_CACHE')"
   ]
  },
  {
   "cell_type": "code",
   "execution_count": 7,
   "metadata": {},
   "outputs": [
    {
     "data": {
      "text/plain": [
       "9542"
      ]
     },
     "execution_count": 7,
     "metadata": {},
     "output_type": "execute_result"
    }
   ],
   "source": [
    "gqr(graph_db.g.E().count().next()).result"
   ]
  },
  {
   "cell_type": "code",
   "execution_count": 23,
   "metadata": {},
   "outputs": [
    {
     "name": "stdout",
     "output_type": "stream",
     "text": [
      "async def get_or_create_vertex(g: AsyncGraphTraversalSource, vertex: VertexBase) -> tuple:\n",
      "    \"\"\"Create a vertex if not existed before, if the given vertex already exists, get tis id.\"\"\"\n",
      "    if VertexBase.cache:\n",
      "        try:\n",
      "            cached_id = VertexBase.cache.get(vertex.to_dict())\n",
      "            vertex.id = cached_id\n",
      "            return cached_id, True\n",
      "        except CacheMiss:\n",
      "            pass\n",
      "\n",
      "    query = g.V()\n",
      "    creation = addV(vertex.__label__)\n",
      "\n",
      "    for key, value in vertex.to_dict().items():\n",
      "        if value is not None:\n",
      "            query = query.has(key, value)\n",
      "            creation = creation.property(key, value)\n",
      "        else:\n",
      "            query = query.hasNot(key)\n",
      "\n",
      "    result = await query.fold().coalesce(\n",
      "        unfold().id().as_('id').constant(True).as_('existed').select('id', 'existed'),\n",
      "        creation.id().as_('id').constant(False).as_('existed').select('id', 'existed')\n",
      "    ).next()\n",
      "\n",
      "    if VertexBase.cache:\n",
      "        VertexBase.cache.put(vertex.to_dict(), result['id'])\n",
      "\n",
      "    # Assign to instance so instance has the id associated correctly for later queries.\n",
      "    vertex.id = result['id']\n",
      "\n",
      "    return result['id'], result['existed']\n",
      "\n"
     ]
    }
   ],
   "source": [
    "import inspect\n",
    "from thoth.storages.graph.utils import get_or_create_vertex\n",
    "\n",
    "lines = inspect.getsourcelines(get_or_create_vertex)\n",
    "print(\"\".join(lines[0]))"
   ]
  },
  {
   "cell_type": "code",
   "execution_count": 10,
   "metadata": {},
   "outputs": [
    {
     "data": {
      "text/plain": [
       "True"
      ]
     },
     "execution_count": 10,
     "metadata": {},
     "output_type": "execute_result"
    }
   ],
   "source": [
    "import os\n",
    "\n",
    "bool(int(os.getenv('THOTH_STORAGES_DISABLE_CACHE', '0')))"
   ]
  },
  {
   "cell_type": "code",
   "execution_count": 21,
   "metadata": {},
   "outputs": [
    {
     "data": {
      "text/plain": [
       "'1'"
      ]
     },
     "execution_count": 21,
     "metadata": {},
     "output_type": "execute_result"
    }
   ],
   "source": [
    "os.getenv('THOTH_STORAGES_DISABLE_CACHE')"
   ]
  },
  {
   "cell_type": "code",
   "execution_count": 11,
   "metadata": {},
   "outputs": [
    {
     "data": {
      "text/plain": [
       "0"
      ]
     },
     "execution_count": 11,
     "metadata": {},
     "output_type": "execute_result"
    }
   ],
   "source": [
    "# Erase again so we have clean shield.\n",
    "gqr(graph_db.g.V().drop().next())\n",
    "count = gqr(graph_db.g.V().count().next()).result\n",
    "\n",
    "count"
   ]
  },
  {
   "cell_type": "code",
   "execution_count": 12,
   "metadata": {},
   "outputs": [],
   "source": [
    "solver_document = solver_results.retrieve_document('fridex-thoth-solver-fc27-thoth-solver-fc27-92qtv')"
   ]
  },
  {
   "cell_type": "code",
   "execution_count": 13,
   "metadata": {},
   "outputs": [
    {
     "name": "stdout",
     "output_type": "stream",
     "text": [
      "CPU times: user 51.1 s, sys: 1.9 s, total: 53 s\n",
      "Wall time: 32min 17s\n"
     ]
    }
   ],
   "source": [
    "%%time\n",
    "\n",
    "graph_db.sync_solver_result(solver_document)"
   ]
  },
  {
   "cell_type": "code",
   "execution_count": 18,
   "metadata": {},
   "outputs": [
    {
     "data": {
      "text/plain": [
       "1253"
      ]
     },
     "execution_count": 18,
     "metadata": {},
     "output_type": "execute_result"
    }
   ],
   "source": [
    "gqr(graph_db.g.V().count().next()).result"
   ]
  },
  {
   "cell_type": "code",
   "execution_count": 20,
   "metadata": {},
   "outputs": [
    {
     "data": {
      "text/plain": [
       "9558"
      ]
     },
     "execution_count": 20,
     "metadata": {},
     "output_type": "execute_result"
    }
   ],
   "source": [
    "gqr(graph_db.g.E().count().next()).result"
   ]
  },
  {
   "cell_type": "code",
   "execution_count": null,
   "metadata": {},
   "outputs": [],
   "source": []
  }
 ],
 "metadata": {
  "kernelspec": {
   "display_name": "Python 3",
   "language": "python",
   "name": "python3"
  },
  "language_info": {
   "codemirror_mode": {
    "name": "ipython",
    "version": 3
   },
   "file_extension": ".py",
   "mimetype": "text/x-python",
   "name": "python",
   "nbconvert_exporter": "python",
   "pygments_lexer": "ipython3",
   "version": "3.6.3"
  }
 },
 "nbformat": 4,
 "nbformat_minor": 2
}
