{
 "cells": [
  {
   "cell_type": "markdown",
   "metadata": {},
   "source": [
    "# Accesing and querying JanusGraph database"
   ]
  },
  {
   "cell_type": "markdown",
   "metadata": {},
   "source": [
    "This notebook demonstrates how to create a connection to the graph database, how to query the graph database and how to visualize graph query results.\n",
    "\n",
    "\n",
    "Let's start with imports and connection to JanusGraph database:"
   ]
  },
  {
   "cell_type": "code",
   "execution_count": 1,
   "metadata": {},
   "outputs": [
    {
     "data": {
      "text/plain": [
       "True"
      ]
     },
     "execution_count": 1,
     "metadata": {},
     "output_type": "execute_result"
    }
   ],
   "source": [
    "from thoth.lab import obtain_location\n",
    "from thoth.storages import GraphDatabase\n",
    "\n",
    "# Instantiate and connect the JanusGraph database\n",
    "adapter = GraphDatabase()\n",
    "adapter.connect()\n",
    "\n",
    "adapter.is_connected()"
   ]
  },
  {
   "cell_type": "markdown",
   "metadata": {},
   "source": [
    "Next, let's try to perform some generic queries. We will use `GraphQueryResult` wrapper that wraps our graph queries and exposes some useful methods for us:"
   ]
  },
  {
   "cell_type": "code",
   "execution_count": 2,
   "metadata": {},
   "outputs": [],
   "source": [
    "from thoth.lab import GraphQueryResult as gqr\n",
    "\n",
    "query = adapter.g.V().has('__label__', 'python_package_version').groupCount().by('package_name').next()\n",
    "query_result = gqr(query)"
   ]
  },
  {
   "cell_type": "markdown",
   "metadata": {},
   "source": [
    "If we would like to access raw response, we can do so by acessing the result attribute:"
   ]
  },
  {
   "cell_type": "code",
   "execution_count": 3,
   "metadata": {},
   "outputs": [
    {
     "data": {
      "text/plain": [
       "{'absl-py': 11,\n",
       " 'astor': 3,\n",
       " 'bleach': 1,\n",
       " 'chardet': 1,\n",
       " 'gast': 1,\n",
       " 'grpcio': 21,\n",
       " 'html5lib': 26,\n",
       " 'iniparse': 1,\n",
       " 'kitchen': 1,\n",
       " 'markdown': 4,\n",
       " 'numpy': 14,\n",
       " 'pip': 2,\n",
       " 'protobuf': 6,\n",
       " 'pyliblzma': 1,\n",
       " 'pyxattr': 1,\n",
       " 'setuptools': 304,\n",
       " 'six': 23,\n",
       " 'smartcols': 1,\n",
       " 'tensorboard': 12,\n",
       " 'tensorflow': 2,\n",
       " 'termcolor': 1,\n",
       " 'webencodings': 6,\n",
       " 'werkzeug': 12,\n",
       " 'wheel': 8}"
      ]
     },
     "execution_count": 3,
     "metadata": {},
     "output_type": "execute_result"
    }
   ],
   "source": [
    "query_result.result"
   ]
  },
  {
   "cell_type": "markdown",
   "metadata": {},
   "source": [
    "We can get results as Pandas dataframe:"
   ]
  },
  {
   "cell_type": "code",
   "execution_count": 4,
   "metadata": {
    "scrolled": true
   },
   "outputs": [
    {
     "data": {
      "text/html": [
       "<div>\n",
       "<table border=\"1\" class=\"dataframe\">\n",
       "  <thead>\n",
       "    <tr style=\"text-align: right;\">\n",
       "      <th></th>\n",
       "      <th>Package Name</th>\n",
       "      <th># Versions</th>\n",
       "    </tr>\n",
       "  </thead>\n",
       "  <tbody>\n",
       "    <tr>\n",
       "      <th>0</th>\n",
       "      <td>absl-py</td>\n",
       "      <td>11</td>\n",
       "    </tr>\n",
       "    <tr>\n",
       "      <th>1</th>\n",
       "      <td>protobuf</td>\n",
       "      <td>6</td>\n",
       "    </tr>\n",
       "    <tr>\n",
       "      <th>2</th>\n",
       "      <td>werkzeug</td>\n",
       "      <td>12</td>\n",
       "    </tr>\n",
       "    <tr>\n",
       "      <th>3</th>\n",
       "      <td>iniparse</td>\n",
       "      <td>1</td>\n",
       "    </tr>\n",
       "    <tr>\n",
       "      <th>4</th>\n",
       "      <td>six</td>\n",
       "      <td>23</td>\n",
       "    </tr>\n",
       "    <tr>\n",
       "      <th>5</th>\n",
       "      <td>html5lib</td>\n",
       "      <td>26</td>\n",
       "    </tr>\n",
       "    <tr>\n",
       "      <th>6</th>\n",
       "      <td>wheel</td>\n",
       "      <td>8</td>\n",
       "    </tr>\n",
       "    <tr>\n",
       "      <th>7</th>\n",
       "      <td>smartcols</td>\n",
       "      <td>1</td>\n",
       "    </tr>\n",
       "    <tr>\n",
       "      <th>8</th>\n",
       "      <td>astor</td>\n",
       "      <td>3</td>\n",
       "    </tr>\n",
       "    <tr>\n",
       "      <th>9</th>\n",
       "      <td>setuptools</td>\n",
       "      <td>304</td>\n",
       "    </tr>\n",
       "    <tr>\n",
       "      <th>10</th>\n",
       "      <td>numpy</td>\n",
       "      <td>14</td>\n",
       "    </tr>\n",
       "    <tr>\n",
       "      <th>11</th>\n",
       "      <td>gast</td>\n",
       "      <td>1</td>\n",
       "    </tr>\n",
       "    <tr>\n",
       "      <th>12</th>\n",
       "      <td>chardet</td>\n",
       "      <td>1</td>\n",
       "    </tr>\n",
       "    <tr>\n",
       "      <th>13</th>\n",
       "      <td>termcolor</td>\n",
       "      <td>1</td>\n",
       "    </tr>\n",
       "    <tr>\n",
       "      <th>14</th>\n",
       "      <td>tensorflow</td>\n",
       "      <td>2</td>\n",
       "    </tr>\n",
       "    <tr>\n",
       "      <th>15</th>\n",
       "      <td>tensorboard</td>\n",
       "      <td>12</td>\n",
       "    </tr>\n",
       "    <tr>\n",
       "      <th>16</th>\n",
       "      <td>pip</td>\n",
       "      <td>2</td>\n",
       "    </tr>\n",
       "    <tr>\n",
       "      <th>17</th>\n",
       "      <td>bleach</td>\n",
       "      <td>1</td>\n",
       "    </tr>\n",
       "    <tr>\n",
       "      <th>18</th>\n",
       "      <td>markdown</td>\n",
       "      <td>4</td>\n",
       "    </tr>\n",
       "    <tr>\n",
       "      <th>19</th>\n",
       "      <td>grpcio</td>\n",
       "      <td>21</td>\n",
       "    </tr>\n",
       "    <tr>\n",
       "      <th>20</th>\n",
       "      <td>pyliblzma</td>\n",
       "      <td>1</td>\n",
       "    </tr>\n",
       "    <tr>\n",
       "      <th>21</th>\n",
       "      <td>kitchen</td>\n",
       "      <td>1</td>\n",
       "    </tr>\n",
       "    <tr>\n",
       "      <th>22</th>\n",
       "      <td>pyxattr</td>\n",
       "      <td>1</td>\n",
       "    </tr>\n",
       "    <tr>\n",
       "      <th>23</th>\n",
       "      <td>webencodings</td>\n",
       "      <td>6</td>\n",
       "    </tr>\n",
       "  </tbody>\n",
       "</table>\n",
       "</div>"
      ],
      "text/plain": [
       "    Package Name  # Versions\n",
       "0        absl-py          11\n",
       "1       protobuf           6\n",
       "2       werkzeug          12\n",
       "3       iniparse           1\n",
       "4            six          23\n",
       "5       html5lib          26\n",
       "6          wheel           8\n",
       "7      smartcols           1\n",
       "8          astor           3\n",
       "9     setuptools         304\n",
       "10         numpy          14\n",
       "11          gast           1\n",
       "12       chardet           1\n",
       "13     termcolor           1\n",
       "14    tensorflow           2\n",
       "15   tensorboard          12\n",
       "16           pip           2\n",
       "17        bleach           1\n",
       "18      markdown           4\n",
       "19        grpcio          21\n",
       "20     pyliblzma           1\n",
       "21       kitchen           1\n",
       "22       pyxattr           1\n",
       "23  webencodings           6"
      ]
     },
     "execution_count": 4,
     "metadata": {},
     "output_type": "execute_result"
    }
   ],
   "source": [
    "import pandas as pd\n",
    "\n",
    "r=query_result.result\n",
    "df = pd.DataFrame(list(r.items()), columns=['Package Name', '# Versions'])\n",
    "df"
   ]
  },
  {
   "cell_type": "markdown",
   "metadata": {},
   "source": [
    "If we get result as a dictionary of values, we can easily plot some graphs:"
   ]
  },
  {
   "cell_type": "code",
   "execution_count": 5,
   "metadata": {},
   "outputs": [],
   "source": [
    "query = adapter.g.V().has('__label__', 'python_package_version').groupCount().by('package_name').next()\n",
    "query_result = gqr(query)"
   ]
  },
  {
   "cell_type": "code",
   "execution_count": 6,
   "metadata": {},
   "outputs": [
    {
     "data": {
      "text/html": [
       "<script>requirejs.config({paths: { 'plotly': ['https://cdn.plot.ly/plotly-latest.min']},});if(!window.Plotly) {{require(['plotly'],function(plotly) {window.Plotly=plotly;});}}</script>"
      ],
      "text/vnd.plotly.v1+html": [
       "<script>requirejs.config({paths: { 'plotly': ['https://cdn.plot.ly/plotly-latest.min']},});if(!window.Plotly) {{require(['plotly'],function(plotly) {window.Plotly=plotly;});}}</script>"
      ]
     },
     "metadata": {},
     "output_type": "display_data"
    },
    {
     "data": {
      "application/vnd.plotly.v1+json": {
       "data": [
        {
         "type": "bar",
         "x": [
          "absl-py",
          "protobuf",
          "werkzeug",
          "iniparse",
          "six",
          "html5lib",
          "wheel",
          "smartcols",
          "astor",
          "setuptools",
          "numpy",
          "gast",
          "chardet",
          "termcolor",
          "tensorflow",
          "tensorboard",
          "pip",
          "bleach",
          "markdown",
          "grpcio",
          "pyliblzma",
          "kitchen",
          "pyxattr",
          "webencodings"
         ],
         "y": [
          11,
          6,
          12,
          1,
          23,
          26,
          8,
          1,
          3,
          304,
          14,
          1,
          1,
          1,
          2,
          12,
          2,
          1,
          4,
          21,
          1,
          1,
          1,
          6
         ]
        }
       ],
       "layout": {}
      },
      "text/html": [
       "<div id=\"7355a340-dddc-49d1-ab32-817e40ce821d\" style=\"height: 525px; width: 100%;\" class=\"plotly-graph-div\"></div><script type=\"text/javascript\">require([\"plotly\"], function(Plotly) { window.PLOTLYENV=window.PLOTLYENV || {};window.PLOTLYENV.BASE_URL=\"https://plot.ly\";Plotly.newPlot(\"7355a340-dddc-49d1-ab32-817e40ce821d\", [{\"type\": \"bar\", \"x\": [\"absl-py\", \"protobuf\", \"werkzeug\", \"iniparse\", \"six\", \"html5lib\", \"wheel\", \"smartcols\", \"astor\", \"setuptools\", \"numpy\", \"gast\", \"chardet\", \"termcolor\", \"tensorflow\", \"tensorboard\", \"pip\", \"bleach\", \"markdown\", \"grpcio\", \"pyliblzma\", \"kitchen\", \"pyxattr\", \"webencodings\"], \"y\": [11, 6, 12, 1, 23, 26, 8, 1, 3, 304, 14, 1, 1, 1, 2, 12, 2, 1, 4, 21, 1, 1, 1, 6]}], {}, {\"showLink\": true, \"linkText\": \"Export to plot.ly\"})});</script>"
      ],
      "text/vnd.plotly.v1+html": [
       "<div id=\"7355a340-dddc-49d1-ab32-817e40ce821d\" style=\"height: 525px; width: 100%;\" class=\"plotly-graph-div\"></div><script type=\"text/javascript\">require([\"plotly\"], function(Plotly) { window.PLOTLYENV=window.PLOTLYENV || {};window.PLOTLYENV.BASE_URL=\"https://plot.ly\";Plotly.newPlot(\"7355a340-dddc-49d1-ab32-817e40ce821d\", [{\"type\": \"bar\", \"x\": [\"absl-py\", \"protobuf\", \"werkzeug\", \"iniparse\", \"six\", \"html5lib\", \"wheel\", \"smartcols\", \"astor\", \"setuptools\", \"numpy\", \"gast\", \"chardet\", \"termcolor\", \"tensorflow\", \"tensorboard\", \"pip\", \"bleach\", \"markdown\", \"grpcio\", \"pyliblzma\", \"kitchen\", \"pyxattr\", \"webencodings\"], \"y\": [11, 6, 12, 1, 23, 26, 8, 1, 3, 304, 14, 1, 1, 1, 2, 12, 2, 1, 4, 21, 1, 1, 1, 6]}], {}, {\"showLink\": true, \"linkText\": \"Export to plot.ly\"})});</script>"
      ]
     },
     "metadata": {},
     "output_type": "display_data"
    }
   ],
   "source": [
    "query_result.plot_bar()"
   ]
  },
  {
   "cell_type": "code",
   "execution_count": 7,
   "metadata": {},
   "outputs": [
    {
     "data": {
      "text/html": [
       "<script>requirejs.config({paths: { 'plotly': ['https://cdn.plot.ly/plotly-latest.min']},});if(!window.Plotly) {{require(['plotly'],function(plotly) {window.Plotly=plotly;});}}</script>"
      ],
      "text/vnd.plotly.v1+html": [
       "<script>requirejs.config({paths: { 'plotly': ['https://cdn.plot.ly/plotly-latest.min']},});if(!window.Plotly) {{require(['plotly'],function(plotly) {window.Plotly=plotly;});}}</script>"
      ]
     },
     "metadata": {},
     "output_type": "display_data"
    },
    {
     "data": {
      "application/vnd.plotly.v1+json": {
       "data": [
        {
         "labels": [
          "absl-py",
          "protobuf",
          "werkzeug",
          "iniparse",
          "six",
          "html5lib",
          "wheel",
          "smartcols",
          "astor",
          "setuptools",
          "numpy",
          "gast",
          "chardet",
          "termcolor",
          "tensorflow",
          "tensorboard",
          "pip",
          "bleach",
          "markdown",
          "grpcio",
          "pyliblzma",
          "kitchen",
          "pyxattr",
          "webencodings"
         ],
         "type": "pie",
         "values": [
          11,
          6,
          12,
          1,
          23,
          26,
          8,
          1,
          3,
          304,
          14,
          1,
          1,
          1,
          2,
          12,
          2,
          1,
          4,
          21,
          1,
          1,
          1,
          6
         ]
        }
       ],
       "layout": {}
      },
      "text/html": [
       "<div id=\"69f8333b-de1f-452c-81a6-8203a27bf830\" style=\"height: 525px; width: 100%;\" class=\"plotly-graph-div\"></div><script type=\"text/javascript\">require([\"plotly\"], function(Plotly) { window.PLOTLYENV=window.PLOTLYENV || {};window.PLOTLYENV.BASE_URL=\"https://plot.ly\";Plotly.newPlot(\"69f8333b-de1f-452c-81a6-8203a27bf830\", [{\"type\": \"pie\", \"labels\": [\"absl-py\", \"protobuf\", \"werkzeug\", \"iniparse\", \"six\", \"html5lib\", \"wheel\", \"smartcols\", \"astor\", \"setuptools\", \"numpy\", \"gast\", \"chardet\", \"termcolor\", \"tensorflow\", \"tensorboard\", \"pip\", \"bleach\", \"markdown\", \"grpcio\", \"pyliblzma\", \"kitchen\", \"pyxattr\", \"webencodings\"], \"values\": [11, 6, 12, 1, 23, 26, 8, 1, 3, 304, 14, 1, 1, 1, 2, 12, 2, 1, 4, 21, 1, 1, 1, 6]}], {}, {\"showLink\": true, \"linkText\": \"Export to plot.ly\"})});</script>"
      ],
      "text/vnd.plotly.v1+html": [
       "<div id=\"69f8333b-de1f-452c-81a6-8203a27bf830\" style=\"height: 525px; width: 100%;\" class=\"plotly-graph-div\"></div><script type=\"text/javascript\">require([\"plotly\"], function(Plotly) { window.PLOTLYENV=window.PLOTLYENV || {};window.PLOTLYENV.BASE_URL=\"https://plot.ly\";Plotly.newPlot(\"69f8333b-de1f-452c-81a6-8203a27bf830\", [{\"type\": \"pie\", \"labels\": [\"absl-py\", \"protobuf\", \"werkzeug\", \"iniparse\", \"six\", \"html5lib\", \"wheel\", \"smartcols\", \"astor\", \"setuptools\", \"numpy\", \"gast\", \"chardet\", \"termcolor\", \"tensorflow\", \"tensorboard\", \"pip\", \"bleach\", \"markdown\", \"grpcio\", \"pyliblzma\", \"kitchen\", \"pyxattr\", \"webencodings\"], \"values\": [11, 6, 12, 1, 23, 26, 8, 1, 3, 304, 14, 1, 1, 1, 2, 12, 2, 1, 4, 21, 1, 1, 1, 6]}], {}, {\"showLink\": true, \"linkText\": \"Export to plot.ly\"})});</script>"
      ]
     },
     "metadata": {},
     "output_type": "display_data"
    }
   ],
   "source": [
    "# Or a pie chart\n",
    "\n",
    "query_result.plot_pie()"
   ]
  },
  {
   "cell_type": "markdown",
   "metadata": {},
   "source": [
    "To get more options on how to visualize and interact with data retrieved from graph database, use the `help` function to access up-to-date `GraphQueryResult` documentation:"
   ]
  },
  {
   "cell_type": "code",
   "execution_count": 8,
   "metadata": {},
   "outputs": [
    {
     "name": "stdout",
     "output_type": "stream",
     "text": [
      "Help on class GraphQueryResult in module thoth.lab.graph:\n",
      "\n",
      "class GraphQueryResult(builtins.object)\n",
      " |  Methods defined here:\n",
      " |  \n",
      " |  __init__(self, result)\n",
      " |      Initialization.\n",
      " |      \n",
      " |      :param result: the result to be used as a query result, can be directly coroutine that is fired.\n",
      " |  \n",
      " |  plot_bar(self)\n",
      " |      Plot histogram of results obtained.\n",
      " |  \n",
      " |  plot_pie(self)\n",
      " |      Plot a pie of results into Jupyter notebook.\n",
      " |  \n",
      " |  serialize(self)\n",
      " |      Serialize the output of graph query.\n",
      " |  \n",
      " |  to_dataframe(self)\n",
      " |      Construct a panda's dataframe on results.\n",
      " |  \n",
      " |  ----------------------------------------------------------------------\n",
      " |  Data descriptors defined here:\n",
      " |  \n",
      " |  __dict__\n",
      " |      dictionary for instance variables (if defined)\n",
      " |  \n",
      " |  __weakref__\n",
      " |      list of weak references to the object (if defined)\n",
      "\n"
     ]
    }
   ],
   "source": [
    "help(gqr)"
   ]
  },
  {
   "cell_type": "markdown",
   "metadata": {},
   "source": [
    "For more info on how to construct queries to the graph database, see [Practical Gremlin: An Apache TinkerPop Tutorial](http://kelvinlawrence.net/book/Gremlin-Graph-Guide.html). Also see [pandas.DataFrame](http://pandas.pydata.org/pandas-docs/stable/generated/pandas.DataFrame.html#pandas.DataFrame) documentation on how to use dataframes and [plotly documentation](https://plot.ly/api/) for creating interactive figures. To visualize data available in the graph, use the [graph explorer](https://url.corp.redhat.com/thoth-sbu-graphexp)."
   ]
  }
 ],
 "metadata": {
  "kernelspec": {
   "display_name": "Python 3",
   "language": "python",
   "name": "python3"
  },
  "language_info": {
   "codemirror_mode": {
    "name": "ipython",
    "version": 3
   },
   "file_extension": ".py",
   "mimetype": "text/x-python",
   "name": "python",
   "nbconvert_exporter": "python",
   "pygments_lexer": "ipython3",
   "version": "3.6.3"
  }
 },
 "nbformat": 4,
 "nbformat_minor": 2
}
