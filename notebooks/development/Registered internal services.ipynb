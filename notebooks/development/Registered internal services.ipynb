{
 "cells": [
  {
   "cell_type": "markdown",
   "metadata": {},
   "source": [
    "# Registered internal services"
   ]
  },
  {
   "cell_type": "markdown",
   "metadata": {},
   "source": [
    "This document provides a listing of services registered for Thoth project. These services are deployed in internal network so you need to obtain their actual location to work with them. \n",
    "\n",
    "\n",
    "**!!! Do not publish service URL in notebooks as services are in internal Red Hat network !!!**\n",
    "\n",
    "This document will be updated on each deployment and each location change, so use this document as a reference for obtaining a list of available services to interact with."
   ]
  },
  {
   "cell_type": "markdown",
   "metadata": {},
   "source": [
    "## Test 1 instance on SBU cluster\n",
    "\n",
    "This is not full deployment of Thoth. There is only present JanusGraph instance for experiments and Graphexp for visualization of JanusGraph content.\n",
    "\n",
    "### JanusGraph\n",
    "\n",
    "```python\n",
    "obtain_location('thoth-sbu-janusgraph-test1', only_netloc=True)\n",
    "```\n",
    "\n",
    "### Graphexp\n",
    "\n",
    "```python\n",
    "obtain_location('thoth-sbu-graphexp-test1')\n",
    "```"
   ]
  },
  {
   "cell_type": "markdown",
   "metadata": {},
   "source": [
    "## Working with names/aliases\n",
    "\n",
    "To obtain an internal URL, use the `obtain_location` function that is shipped within `thoth.lab` package:\n"
   ]
  },
  {
   "cell_type": "code",
   "execution_count": 1,
   "metadata": {},
   "outputs": [
    {
     "name": "stdout",
     "output_type": "stream",
     "text": [
      "Help on function obtain_location in module thoth.lab.utils:\n",
      "\n",
      "obtain_location(name:str, verify:bool=True, only_netloc:bool=False) -> str\n",
      "    Obtain location of a service based on it's name in Red Hat's internal network.\n",
      "    \n",
      "    This function basically checks redirect of URL registered at Red Hat's internal network. By doing so it\n",
      "    is prevented to expose internal URLs. There is queried https://url.corp.redhat.com for redirects.\n",
      "    \n",
      "    >>> obtain_location('thoth-sbu', verify=False)\n",
      "\n"
     ]
    }
   ],
   "source": [
    "from thoth.lab import obtain_location\n",
    "\n",
    "help(obtain_location)"
   ]
  },
  {
   "cell_type": "markdown",
   "metadata": {},
   "source": [
    "A special case is obtaining location of deployed JanusGraph instance. When connecting to a JanusGraph instance you need to preserve only net location. There is used a network socket in connection, so the actual schema is ignored. In other words, to connect to JanusGraph, pass `only_netloc` as `True` along with port 80 that is a port on which OpenShift's HAProxy exposes JanusGraph route:"
   ]
  },
  {
   "cell_type": "code",
   "execution_count": 2,
   "metadata": {},
   "outputs": [],
   "source": [
    "from thoth.storages import GraphDatabase\n",
    "\n",
    "graph_db = GraphDatabase()\n",
    "graph_db.connect()"
   ]
  },
  {
   "cell_type": "markdown",
   "metadata": {},
   "source": [
    "## Registering new deployments\n",
    "\n"
   ]
  },
  {
   "cell_type": "markdown",
   "metadata": {},
   "source": [
    "To register a new deployment, simply go to https://url.corp.redhat.com and register URL to your deployment. You can pick your own name that will be used. All naming that is passed to `obtain_location()` is just a custom alias - a call `obtain_location('thoth-sbu')` simply becomes https://url.corp.redhat.com/thoth-sbu on the background. "
   ]
  }
 ],
 "metadata": {
  "kernelspec": {
   "display_name": "Python 3",
   "language": "python",
   "name": "python3"
  },
  "language_info": {
   "codemirror_mode": {
    "name": "ipython",
    "version": 3
   },
   "file_extension": ".py",
   "mimetype": "text/x-python",
   "name": "python",
   "nbconvert_exporter": "python",
   "pygments_lexer": "ipython3",
   "version": "3.6.3"
  }
 },
 "nbformat": 4,
 "nbformat_minor": 2
}
