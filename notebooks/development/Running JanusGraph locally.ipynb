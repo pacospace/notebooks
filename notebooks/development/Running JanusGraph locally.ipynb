{
 "cells": [
  {
   "cell_type": "markdown",
   "metadata": {},
   "source": [
    "# Running JanusGraph locally"
   ]
  },
  {
   "cell_type": "code",
   "execution_count": 1,
   "metadata": {
    "ExecuteTime": {
     "end_time": "2019-02-19T16:22:50.537310Z",
     "start_time": "2019-02-19T16:22:48.533404Z"
    }
   },
   "outputs": [
    {
     "name": "stderr",
     "output_type": "stream",
     "text": [
      "2019-03-01 11:36:17,364 [5616] INFO     root:126: Logging to a Sentry instance is turned off\n",
      "2019-03-01 11:36:17,365 [5616] INFO     root:148: Logging to rsyslog endpoint is turned off\n"
     ]
    },
    {
     "data": {
      "text/html": [
       "<div>\n",
       "<style scoped>\n",
       "    .dataframe tbody tr th:only-of-type {\n",
       "        vertical-align: middle;\n",
       "    }\n",
       "\n",
       "    .dataframe tbody tr th {\n",
       "        vertical-align: top;\n",
       "    }\n",
       "\n",
       "    .dataframe thead th {\n",
       "        text-align: right;\n",
       "    }\n",
       "</style>\n",
       "<table border=\"1\" class=\"dataframe\">\n",
       "  <thead>\n",
       "    <tr style=\"text-align: right;\">\n",
       "      <th></th>\n",
       "      <th>package</th>\n",
       "      <th>version</th>\n",
       "      <th>importable</th>\n",
       "    </tr>\n",
       "  </thead>\n",
       "  <tbody>\n",
       "    <tr>\n",
       "      <th>0</th>\n",
       "      <td>thoth.adviser</td>\n",
       "      <td>0.3.0</td>\n",
       "      <td>True</td>\n",
       "    </tr>\n",
       "    <tr>\n",
       "      <th>1</th>\n",
       "      <td>thoth.analyzer</td>\n",
       "      <td>0.1.2</td>\n",
       "      <td>True</td>\n",
       "    </tr>\n",
       "    <tr>\n",
       "      <th>2</th>\n",
       "      <td>thoth.common</td>\n",
       "      <td>0.7.1</td>\n",
       "      <td>True</td>\n",
       "    </tr>\n",
       "    <tr>\n",
       "      <th>3</th>\n",
       "      <td>thoth.lab</td>\n",
       "      <td>0.0.3</td>\n",
       "      <td>True</td>\n",
       "    </tr>\n",
       "    <tr>\n",
       "      <th>4</th>\n",
       "      <td>thoth.package_extract</td>\n",
       "      <td>1.0.1</td>\n",
       "      <td>True</td>\n",
       "    </tr>\n",
       "    <tr>\n",
       "      <th>5</th>\n",
       "      <td>thoth.python</td>\n",
       "      <td>0.4.6</td>\n",
       "      <td>True</td>\n",
       "    </tr>\n",
       "    <tr>\n",
       "      <th>6</th>\n",
       "      <td>thoth.solver</td>\n",
       "      <td>1.1.0</td>\n",
       "      <td>True</td>\n",
       "    </tr>\n",
       "    <tr>\n",
       "      <th>7</th>\n",
       "      <td>thoth.storages</td>\n",
       "      <td>0.9.6</td>\n",
       "      <td>True</td>\n",
       "    </tr>\n",
       "    <tr>\n",
       "      <th>8</th>\n",
       "      <td>thoth.worker</td>\n",
       "      <td>0.0.2</td>\n",
       "      <td>True</td>\n",
       "    </tr>\n",
       "  </tbody>\n",
       "</table>\n",
       "</div>"
      ],
      "text/plain": [
       "                 package version  importable\n",
       "0          thoth.adviser   0.3.0        True\n",
       "1         thoth.analyzer   0.1.2        True\n",
       "2           thoth.common   0.7.1        True\n",
       "3              thoth.lab   0.0.3        True\n",
       "4  thoth.package_extract   1.0.1        True\n",
       "5           thoth.python   0.4.6        True\n",
       "6           thoth.solver   1.1.0        True\n",
       "7         thoth.storages   0.9.6        True\n",
       "8           thoth.worker   0.0.2        True"
      ]
     },
     "execution_count": 1,
     "metadata": {},
     "output_type": "execute_result"
    }
   ],
   "source": [
    "from thoth.lab import packages_info\n",
    "\n",
    "packages_info()"
   ]
  },
  {
   "cell_type": "markdown",
   "metadata": {},
   "source": [
    "In this notebook, we will demonstrate how to run a JanusGraph instance locally and use Jupyter notebooks (such as this one) to access and query data stored in JanusGraph as well as on Ceph (we will use test environment for this purpose).\n",
    "\n",
    "Before you run this repo, reach out to [README file of janusgraph-thoth-config repository](https://github.com/thoth-station/janusgraph-thoth-config#running-janusgraph-instance-locally) which states how to run JanusGraph instance locally.\n",
    "\n",
    "Basically the only thing you need to do is to clone the repo and run (in the root of the git repository):\n",
    "\n",
    "```console\n",
    "./local.sh all\n",
    "```\n",
    "\n",
    "After some time you should have a running instance of JanusGraph on your workstation with schema and indexes configured (follow instructions in the README file for more info). This instance will be configured however empty (no data). Now, let's try to connect to this instance and run a query to verify its running:"
   ]
  },
  {
   "cell_type": "code",
   "execution_count": 2,
   "metadata": {
    "ExecuteTime": {
     "end_time": "2019-02-19T16:22:52.028942Z",
     "start_time": "2019-02-19T16:22:51.991794Z"
    }
   },
   "outputs": [
    {
     "data": {
      "text/plain": [
       "True"
      ]
     },
     "execution_count": 2,
     "metadata": {},
     "output_type": "execute_result"
    }
   ],
   "source": [
    "from thoth.storages import GraphDatabase\n",
    "from thoth.lab import GraphQueryResult as gqr\n",
    "\n",
    "# Instantiate and connect the JanusGraph database\n",
    "graph = GraphDatabase.create('localhost')\n",
    "graph.connect()\n",
    "\n",
    "graph.is_connected()"
   ]
  },
  {
   "cell_type": "code",
   "execution_count": 3,
   "metadata": {
    "ExecuteTime": {
     "end_time": "2019-02-19T16:22:54.646186Z",
     "start_time": "2019-02-19T16:22:54.599177Z"
    }
   },
   "outputs": [
    {
     "data": {
      "text/plain": [
       "0"
      ]
     },
     "execution_count": 3,
     "metadata": {},
     "output_type": "execute_result"
    }
   ],
   "source": [
    "gqr(graph.g.V().count().next()).result"
   ]
  },
  {
   "cell_type": "markdown",
   "metadata": {},
   "source": [
    "As you can see, there is exactly zero verteces. Let's sync some data into this instance:"
   ]
  },
  {
   "cell_type": "code",
   "execution_count": 4,
   "metadata": {
    "ExecuteTime": {
     "end_time": "2019-02-19T16:22:56.986679Z",
     "start_time": "2019-02-19T16:22:56.981037Z"
    },
    "scrolled": true
   },
   "outputs": [
    {
     "name": "stdout",
     "output_type": "stream",
     "text": [
      "Help on function sync_solver_documents in module thoth.storages.sync:\n",
      "\n",
      "sync_solver_documents(document_ids:list=None, force:bool=False, graceful:bool=False, graph:thoth.storages.graph.janusgraph.GraphDatabase=None) -> tuple\n",
      "    Sync solver documents into graph.\n",
      "\n"
     ]
    }
   ],
   "source": [
    "from thoth.storages import sync_solver_documents\n",
    "\n",
    "help(sync_solver_documents)"
   ]
  },
  {
   "cell_type": "markdown",
   "metadata": {},
   "source": [
    "The method showed above can sync solver documents (referenced by their document ids) into a JanusGraph instance. If no connected `GraphDatabase` adapter is provided to the function call, it will transparently pick JanusGraph configuration from environment and instantiate a `GraphDatabase` adapter to perform sync.\n",
    "\n",
    "Now, let's get some ids of solver documents we would like to have present in the JanusGraph database. We will explicitly state we are interested in solver documents present in the `thoth-test-core` deployment."
   ]
  },
  {
   "cell_type": "code",
   "execution_count": 5,
   "metadata": {
    "ExecuteTime": {
     "end_time": "2019-02-19T16:22:59.841840Z",
     "start_time": "2019-02-19T16:22:59.748507Z"
    }
   },
   "outputs": [
    {
     "data": {
      "text/plain": [
       "True"
      ]
     },
     "execution_count": 5,
     "metadata": {},
     "output_type": "execute_result"
    }
   ],
   "source": [
    "from thoth.storages import SolverResultsStore\n",
    "\n",
    "solver_store = SolverResultsStore(deployment_name='thoth-test-core')\n",
    "solver_store.connect()\n",
    "solver_store.is_connected()"
   ]
  },
  {
   "cell_type": "markdown",
   "metadata": {
    "ExecuteTime": {
     "end_time": "2019-02-19T14:59:33.589937Z",
     "start_time": "2019-02-19T14:59:33.576537Z"
    }
   },
   "source": [
    "The next step is to find some documents we are interested in. Note this can take a lot of time if there is present a lot of documents (each document has to be downloaded from a remote Ceph instance)."
   ]
  },
  {
   "cell_type": "code",
   "execution_count": 6,
   "metadata": {
    "ExecuteTime": {
     "end_time": "2019-02-19T16:23:02.409014Z",
     "start_time": "2019-02-19T16:23:02.404253Z"
    }
   },
   "outputs": [],
   "source": [
    "def get_document_for_package(package_name: str):\n",
    "    \"\"\"Get documents which correspond to package.\n",
    "\n",
    "    The argument package_name is used as a prefix, so \"tensor\" also matches \"tensorflow\".\n",
    "    \"\"\"\n",
    "    result = []\n",
    "    for document_id, document in solver_store.iterate_results():\n",
    "        if document['metadata']['arguments']['pypi']['requirements'].startswith(package_name):\n",
    "            result.append(document_id)\n",
    "\n",
    "    return result"
   ]
  },
  {
   "cell_type": "code",
   "execution_count": 7,
   "metadata": {
    "ExecuteTime": {
     "end_time": "2019-02-19T16:23:09.846582Z",
     "start_time": "2019-02-19T16:23:07.934032Z"
    }
   },
   "outputs": [
    {
     "data": {
      "text/plain": [
       "3034"
      ]
     },
     "execution_count": 7,
     "metadata": {},
     "output_type": "execute_result"
    }
   ],
   "source": [
    "solver_store.get_document_count()"
   ]
  },
  {
   "cell_type": "code",
   "execution_count": 8,
   "metadata": {
    "ExecuteTime": {
     "end_time": "2019-02-19T16:16:21.449052Z",
     "start_time": "2019-02-19T16:03:04.203402Z"
    }
   },
   "outputs": [],
   "source": [
    "document_ids = get_document_for_package(\"tensorflow\")"
   ]
  },
  {
   "cell_type": "code",
   "execution_count": 9,
   "metadata": {
    "ExecuteTime": {
     "end_time": "2019-02-19T16:16:21.475707Z",
     "start_time": "2019-02-19T16:16:21.472443Z"
    }
   },
   "outputs": [
    {
     "data": {
      "text/plain": [
       "['solver-fedora-28-py36-e61843206520991f']"
      ]
     },
     "execution_count": 9,
     "metadata": {},
     "output_type": "execute_result"
    }
   ],
   "source": [
    "document_ids"
   ]
  },
  {
   "cell_type": "code",
   "execution_count": 10,
   "metadata": {
    "ExecuteTime": {
     "end_time": "2019-02-19T16:16:22.183423Z",
     "start_time": "2019-02-19T16:16:21.496324Z"
    }
   },
   "outputs": [],
   "source": [
    "sync_solver_documents(document_ids, graph=graph)"
   ]
  },
  {
   "cell_type": "markdown",
   "metadata": {},
   "source": [
    "After the step above, the referenced solver documents by their ids in `document_ids` list will be synced into the JanusGraph. After the step above, you can verify it by querying JanusGraph instance."
   ]
  },
  {
   "cell_type": "code",
   "execution_count": 11,
   "metadata": {
    "ExecuteTime": {
     "end_time": "2019-02-19T16:23:15.797763Z",
     "start_time": "2019-02-19T16:23:15.788773Z"
    }
   },
   "outputs": [
    {
     "name": "stdout",
     "output_type": "stream",
     "text": [
      "Help on method get_all_versions_python_package in module thoth.storages.graph.janusgraph:\n",
      "\n",
      "get_all_versions_python_package(package_name:str, index_url:str=None, *, os_name:str=None, os_version:str=None, python_version:str=None, without_error:bool=False) -> List[tuple] method of thoth.storages.graph.janusgraph.GraphDatabase instance\n",
      "    Get all versions available for a Python package.\n",
      "\n"
     ]
    }
   ],
   "source": [
    "help(graph.get_all_versions_python_package)"
   ]
  },
  {
   "cell_type": "code",
   "execution_count": 12,
   "metadata": {
    "ExecuteTime": {
     "end_time": "2019-02-19T16:23:17.734710Z",
     "start_time": "2019-02-19T16:23:17.712131Z"
    }
   },
   "outputs": [
    {
     "data": {
      "text/plain": [
       "[('1.9.0',\n",
       "  'https://tensorflow.pypi.thoth-station.ninja/index/rhel7.5/jemalloc/simple'),\n",
       " ('1.9.0',\n",
       "  'https://tensorflow.pypi.thoth-station.ninja/index/centos7/jemalloc/simple'),\n",
       " ('1.9.0',\n",
       "  'https://tensorflow.pypi.thoth-station.ninja/index/fedora28/jemalloc/simple'),\n",
       " ('1.9.0', 'https://pypi.org/simple'),\n",
       " ('1.9.0',\n",
       "  'https://tensorflow.pypi.thoth-station.ninja/index/fedora27/jemalloc/simple'),\n",
       " ('1.9.0',\n",
       "  'https://tensorflow.pypi.thoth-station.ninja/index/rhel7.5/cuda9.2+jemalloc/simple'),\n",
       " ('1.9.0',\n",
       "  'https://tensorflow.pypi.thoth-station.ninja/index/fedora26/jemalloc/simple')]"
      ]
     },
     "execution_count": 12,
     "metadata": {},
     "output_type": "execute_result"
    }
   ],
   "source": [
    "graph.get_all_versions_python_package(\"tensorflow\")"
   ]
  },
  {
   "cell_type": "markdown",
   "metadata": {},
   "source": [
    "You can find more function which perform sync in the `thoth.storages.sync` module. All of them return a tuple representing number of processed, synced, skipped and failed to sync documents:"
   ]
  },
  {
   "cell_type": "code",
   "execution_count": 13,
   "metadata": {
    "ExecuteTime": {
     "end_time": "2019-02-19T16:20:37.393927Z",
     "start_time": "2019-02-19T16:20:37.379133Z"
    }
   },
   "outputs": [],
   "source": [
    "from thoth.storages.sync import sync_inspection_documents\n",
    "from thoth.storages.sync import sync_analysis_documents\n",
    "from thoth.storages.sync import sync_solver_documents\n",
    "from thoth.storages.sync import sync_adviser_documents\n",
    "from thoth.storages.sync import sync_provenance_checker_documents"
   ]
  },
  {
   "cell_type": "markdown",
   "metadata": {},
   "source": [
    "If you have a local copy on your harddisk or in memory, you can still sync documents into JanusGraph. However, you will need to use lower level methods provided by the `GraphDatabase` adapter, namely:"
   ]
  },
  {
   "cell_type": "code",
   "execution_count": 14,
   "metadata": {},
   "outputs": [
    {
     "name": "stdout",
     "output_type": "stream",
     "text": [
      "Help on method sync_adviser_result in module thoth.storages.graph.janusgraph:\n",
      "\n",
      "sync_adviser_result(document:dict) -> None method of thoth.storages.graph.janusgraph.GraphDatabase instance\n",
      "    Sync adviser result into graph database.\n",
      "\n"
     ]
    }
   ],
   "source": [
    "help(graph.sync_adviser_result)"
   ]
  },
  {
   "cell_type": "code",
   "execution_count": 15,
   "metadata": {},
   "outputs": [
    {
     "name": "stdout",
     "output_type": "stream",
     "text": [
      "Help on method sync_analysis_result in module thoth.storages.graph.janusgraph:\n",
      "\n",
      "sync_analysis_result(document:dict) -> None method of thoth.storages.graph.janusgraph.GraphDatabase instance\n",
      "    Sync the given analysis result to the graph database.\n",
      "\n"
     ]
    }
   ],
   "source": [
    "help(graph.sync_analysis_result)"
   ]
  },
  {
   "cell_type": "code",
   "execution_count": 16,
   "metadata": {},
   "outputs": [
    {
     "name": "stdout",
     "output_type": "stream",
     "text": [
      "Help on method sync_inspection_result in module thoth.storages.graph.janusgraph:\n",
      "\n",
      "sync_inspection_result(document) -> None method of thoth.storages.graph.janusgraph.GraphDatabase instance\n",
      "    Sync the given inspection document into the graph database.\n",
      "\n"
     ]
    }
   ],
   "source": [
    "help(graph.sync_inspection_result)"
   ]
  },
  {
   "cell_type": "code",
   "execution_count": 17,
   "metadata": {},
   "outputs": [
    {
     "name": "stdout",
     "output_type": "stream",
     "text": [
      "Help on method sync_provenance_checker_result in module thoth.storages.graph.janusgraph:\n",
      "\n",
      "sync_provenance_checker_result(document:dict) -> None method of thoth.storages.graph.janusgraph.GraphDatabase instance\n",
      "    Sync provenance checker results into graph database.\n",
      "\n"
     ]
    }
   ],
   "source": [
    "help(graph.sync_provenance_checker_result)"
   ]
  },
  {
   "cell_type": "code",
   "execution_count": 18,
   "metadata": {},
   "outputs": [
    {
     "name": "stdout",
     "output_type": "stream",
     "text": [
      "Help on method sync_solver_result in module thoth.storages.graph.janusgraph:\n",
      "\n",
      "sync_solver_result(document:dict) -> None method of thoth.storages.graph.janusgraph.GraphDatabase instance\n",
      "    Sync the given solver result to the graph database.\n",
      "\n"
     ]
    }
   ],
   "source": [
    "help(graph.sync_solver_result)"
   ]
  },
  {
   "cell_type": "markdown",
   "metadata": {},
   "source": [
    "All of the methods shown above accept document, the document id is automatically derived from metadata stated in the provided document (they must respect result schema). A simple snipped to show calls to the above methods:"
   ]
  },
  {
   "cell_type": "code",
   "execution_count": 19,
   "metadata": {},
   "outputs": [],
   "source": [
    "import json\n",
    "from pathlib import Path\n",
    "\n",
    "solver_document = json.loads(Path(\"/home/fpokorny/git/thoth-station/data/solver-example.json\").read_text())\n",
    "graph.sync_solver_result(solver_document)"
   ]
  },
  {
   "cell_type": "markdown",
   "metadata": {},
   "source": [
    "Feel free to experiment with syncing data you need for your development, adjusting the JanusGraph schema and indexes or running Thoth components against your local JanusGraph database (see the referenced README file on how to do that all).\n",
    "\n",
    "... and that's it. Enjoy! ;-)"
   ]
  }
 ],
 "metadata": {
  "hide_input": false,
  "kernelspec": {
   "display_name": "Python 3",
   "language": "python",
   "name": "python3"
  },
  "language_info": {
   "codemirror_mode": {
    "name": "ipython",
    "version": 3
   },
   "file_extension": ".py",
   "mimetype": "text/x-python",
   "name": "python",
   "nbconvert_exporter": "python",
   "pygments_lexer": "ipython3",
   "version": "3.6.8"
  },
  "varInspector": {
   "cols": {
    "lenName": 16,
    "lenType": 16,
    "lenVar": 40
   },
   "kernels_config": {
    "python": {
     "delete_cmd_postfix": "",
     "delete_cmd_prefix": "del ",
     "library": "var_list.py",
     "varRefreshCmd": "print(var_dic_list())"
    },
    "r": {
     "delete_cmd_postfix": ") ",
     "delete_cmd_prefix": "rm(",
     "library": "var_list.r",
     "varRefreshCmd": "cat(var_dic_list()) "
    }
   },
   "types_to_exclude": [
    "module",
    "function",
    "builtin_function_or_method",
    "instance",
    "_Feature"
   ],
   "window_display": false
  }
 },
 "nbformat": 4,
 "nbformat_minor": 2
}
