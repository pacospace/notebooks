{
 "cells": [
  {
   "cell_type": "markdown",
   "metadata": {
    "toc": true
   },
   "source": [
    "<h1>Table of Contents<span class=\"tocSkip\"></span></h1>\n",
    "<div class=\"toc\"><ul class=\"toc-item\"></ul></div>"
   ]
  },
  {
   "cell_type": "code",
   "execution_count": null,
   "metadata": {
    "ExecuteTime": {
     "end_time": "2020-01-07T09:57:52.594240Z",
     "start_time": "2020-01-07T09:57:52.544003Z"
    }
   },
   "outputs": [],
   "source": [
    "%load_ext autoreload\n",
    "%autoreload 2"
   ]
  },
  {
   "cell_type": "code",
   "execution_count": null,
   "metadata": {
    "ExecuteTime": {
     "end_time": "2020-01-07T09:57:53.115806Z",
     "start_time": "2020-01-07T09:57:53.088498Z"
    }
   },
   "outputs": [],
   "source": [
    "import json\n",
    "import sys\n",
    "import os \n",
    "\n",
    "from datetime import datetime as dt"
   ]
  },
  {
   "cell_type": "code",
   "execution_count": null,
   "metadata": {},
   "outputs": [],
   "source": [
    "from thoth.common.openshift import OpenShift"
   ]
  },
  {
   "cell_type": "code",
   "execution_count": null,
   "metadata": {
    "ExecuteTime": {
     "end_time": "2020-01-07T09:57:53.479912Z",
     "start_time": "2020-01-07T09:57:53.447135Z"
    }
   },
   "outputs": [],
   "source": [
    "from thoth.common import Workflow\n",
    "from thoth.common import WorkflowManager"
   ]
  },
  {
   "cell_type": "code",
   "execution_count": null,
   "metadata": {
    "ExecuteTime": {
     "end_time": "2020-01-07T09:57:53.801567Z",
     "start_time": "2020-01-07T09:57:53.773382Z"
    }
   },
   "outputs": [],
   "source": [
    "from thoth.common.logging import init_logging"
   ]
  },
  {
   "cell_type": "code",
   "execution_count": null,
   "metadata": {
    "ExecuteTime": {
     "end_time": "2020-01-07T09:57:54.150373Z",
     "start_time": "2020-01-07T09:57:54.115936Z"
    }
   },
   "outputs": [],
   "source": [
    "init_logging({'thoth.common.workflows': 'INFO'})"
   ]
  },
  {
   "cell_type": "code",
   "execution_count": null,
   "metadata": {
    "ExecuteTime": {
     "end_time": "2020-01-07T09:57:54.640880Z",
     "start_time": "2020-01-07T09:57:54.610729Z"
    }
   },
   "outputs": [],
   "source": [
    "namespace = \"thoth-test-core\""
   ]
  },
  {
   "cell_type": "code",
   "execution_count": null,
   "metadata": {
    "ExecuteTime": {
     "end_time": "2020-01-07T09:58:12.736432Z",
     "start_time": "2020-01-07T09:58:12.716062Z"
    }
   },
   "outputs": [],
   "source": [
    "%env THOTH_WORKFLOW_CONTEXT          true\n",
    "%env THOTH_INFRA_NAMESPACE           $namespace\n",
    "%env THOTH_BACKEND_NAMESPACE         $namespace"
   ]
  },
  {
   "cell_type": "code",
   "execution_count": null,
   "metadata": {
    "ExecuteTime": {
     "end_time": "2020-01-07T09:58:15.069051Z",
     "start_time": "2020-01-07T09:58:13.864448Z"
    }
   },
   "outputs": [],
   "source": [
    "workflow_manager = WorkflowManager(openshift=OpenShift(kubernetes_verify_tls=False))"
   ]
  },
  {
   "cell_type": "code",
   "execution_count": null,
   "metadata": {
    "ExecuteTime": {
     "end_time": "2020-01-07T09:58:15.091231Z",
     "start_time": "2020-01-07T09:58:15.071317Z"
    }
   },
   "outputs": [],
   "source": [
    "adviser_id = f\"adviser-test1-{int(dt.now().timestamp())}\"\n",
    "\n",
    "template_parameters = {\n",
    "    \"THOTH_ADVISER_JOB_ID\": adviser_id,\n",
    "    \"THOTH_ADVISER_REQUIREMENTS\": \"[[source]]\\nurl = \\\"https://pypi.python.org/simple\\\"\\nverify_ssl = true\\nname = \\\"pypi\\\"\\n\\n[packages]\\ndaiquiri = \\\"*\\\"\\n\\n[dev-packages]\\n\",\n",
    "    \"THOTH_ADVISER_REQUIREMENTS_LOCKED\": \"{ \\\"_meta\\\": { \\\"hash\\\": { \\\"sha256\\\": \\\"fecd8a66514e1129f796d7a45a1f5b2f7733e3ae0ead487ca63752da680ab8e4\\\" }, \\\"pipfile-spec\\\": 6, \\\"requires\\\": {}, \\\"sources\\\": [ { \\\"name\\\": \\\"pypi\\\", \\\"url\\\": \\\"https://pypi.python.org/simple\\\", \\\"verify_ssl\\\": true } ] }, \\\"default\\\": { \\\"daiquiri\\\": { \\\"hashes\\\": [ \\\"sha256:1c4942ef0d40920100162ede6024edd43734e40b8dca9b13ebaf4b52ea198457\\\", \\\"sha256:eb300dfddae43dfdb157938a854b1387298b8fb340d6ecb7b5ae867283af763e\\\" ], \\\"index\\\": \\\"pypi\\\", \\\"version\\\": \\\"==1.4.0\\\" } }, \\\"develop\\\": {} }\",\n",
    "    \"THOTH_ADVISER_LIBRARY_USAGE\":\"{ \\\"report\\\": {}, \\\"version\\\": \\\"string\\\" }\",\n",
    "    \"THOTH_ADVISER_REQUIREMENTS_FORMAT\": \"pipenv\",\n",
    "    \"THOTH_ADVISER_RECOMMENDATION_TYPE\": \"STABLE\",\n",
    "    \"THOTH_ADVISER_RUNTIME_ENVIRONMENT\": \"{\\\"cuda_version\\\":\\\"9.0\\\",\\\"hardware\\\":{},\\\"ipython\\\":{},\\\"name\\\":\\\"rhel:8\\\",\\\"operating_system\\\":{\\\"name\\\":\\\"rhel\\\",\\\"version\\\":\\\"8.0\\\"},\\\"python_version\\\":\\\"3.6\\\"}\",\n",
    "}\n",
    "\n",
    "workflow_parameters = {}\n"
   ]
  },
  {
   "cell_type": "code",
   "execution_count": null,
   "metadata": {
    "ExecuteTime": {
     "end_time": "2020-01-07T09:58:17.467428Z",
     "start_time": "2020-01-07T09:58:15.093061Z"
    }
   },
   "outputs": [],
   "source": [
    "workflow_id = workflow_manager.submit_adviser_workflow(\n",
    "    template_parameters=template_parameters,\n",
    "    workflow_parameters=workflow_parameters\n",
    ")\n",
    "\n",
    "workflow_id"
   ]
  },
  {
   "cell_type": "code",
   "execution_count": null,
   "metadata": {
    "ExecuteTime": {
     "end_time": "2020-01-07T09:58:24.586526Z",
     "start_time": "2020-01-07T09:58:17.471440Z"
    }
   },
   "outputs": [],
   "source": [
    "!argo watch $workflow_id"
   ]
  }
 ],
 "metadata": {
  "finalized": {
   "timestamp": 1578327202217,
   "trusted": true
  },
  "kernelspec": {
   "display_name": "Python 3",
   "language": "python",
   "name": "python3"
  },
  "language_info": {
   "codemirror_mode": {
    "name": "ipython",
    "version": 3
   },
   "file_extension": ".py",
   "mimetype": "text/x-python",
   "name": "python",
   "nbconvert_exporter": "python",
   "pygments_lexer": "ipython3",
   "version": "3.6.9"
  },
  "toc": {
   "base_numbering": 1,
   "nav_menu": {},
   "number_sections": true,
   "sideBar": true,
   "skip_h1_title": false,
   "title_cell": "Table of Contents",
   "title_sidebar": "Contents",
   "toc_cell": true,
   "toc_position": {},
   "toc_section_display": true,
   "toc_window_display": false
  }
 },
 "nbformat": 4,
 "nbformat_minor": 2
}
