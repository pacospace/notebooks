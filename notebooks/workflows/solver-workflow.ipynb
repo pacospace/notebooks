{
 "cells": [
  {
   "cell_type": "markdown",
   "metadata": {
    "toc": true
   },
   "source": [
    "<h1>Table of Contents<span class=\"tocSkip\"></span></h1>\n",
    "<div class=\"toc\"><ul class=\"toc-item\"></ul></div>"
   ]
  },
  {
   "cell_type": "code",
   "execution_count": null,
   "metadata": {
    "ExecuteTime": {
     "end_time": "2020-01-17T16:09:02.119164Z",
     "start_time": "2020-01-17T16:09:02.099734Z"
    }
   },
   "outputs": [],
   "source": [
    "%load_ext autoreload\n",
    "%autoreload 2"
   ]
  },
  {
   "cell_type": "code",
   "execution_count": null,
   "metadata": {
    "ExecuteTime": {
     "end_time": "2020-01-17T16:09:03.010861Z",
     "start_time": "2020-01-17T16:09:02.991246Z"
    }
   },
   "outputs": [],
   "source": [
    "import json\n",
    "import sys\n",
    "import os \n",
    "\n",
    "from datetime import datetime as dt"
   ]
  },
  {
   "cell_type": "code",
   "execution_count": null,
   "metadata": {
    "ExecuteTime": {
     "end_time": "2020-01-17T16:09:03.830786Z",
     "start_time": "2020-01-17T16:09:03.798224Z"
    }
   },
   "outputs": [],
   "source": [
    "from thoth.common.openshift import OpenShift"
   ]
  },
  {
   "cell_type": "code",
   "execution_count": null,
   "metadata": {
    "ExecuteTime": {
     "end_time": "2020-01-17T16:09:04.177490Z",
     "start_time": "2020-01-17T16:09:04.149115Z"
    }
   },
   "outputs": [],
   "source": [
    "from thoth.common import Workflow\n",
    "from thoth.common import WorkflowManager"
   ]
  },
  {
   "cell_type": "code",
   "execution_count": null,
   "metadata": {
    "ExecuteTime": {
     "end_time": "2020-01-17T16:09:04.662487Z",
     "start_time": "2020-01-17T16:09:04.632604Z"
    }
   },
   "outputs": [],
   "source": [
    "from thoth.common.logging import init_logging"
   ]
  },
  {
   "cell_type": "code",
   "execution_count": null,
   "metadata": {
    "ExecuteTime": {
     "end_time": "2020-01-17T16:09:05.118301Z",
     "start_time": "2020-01-17T16:09:05.085713Z"
    }
   },
   "outputs": [],
   "source": [
    "init_logging({'thoth.common.workflows': 'INFO'})"
   ]
  },
  {
   "cell_type": "code",
   "execution_count": null,
   "metadata": {
    "ExecuteTime": {
     "end_time": "2020-01-17T16:09:05.757037Z",
     "start_time": "2020-01-17T16:09:05.741128Z"
    }
   },
   "outputs": [],
   "source": [
    "namespace = \"thoth-test-core\""
   ]
  },
  {
   "cell_type": "code",
   "execution_count": null,
   "metadata": {
    "ExecuteTime": {
     "end_time": "2020-01-17T16:09:06.146089Z",
     "start_time": "2020-01-17T16:09:06.118539Z"
    }
   },
   "outputs": [],
   "source": [
    "%env THOTH_WORKFLOW_CONTEXT             true\n",
    "%env THOTH_INFRA_NAMESPACE              $namespace\n",
    "%env THOTH_MIDDLETIER_NAMESPACE         $namespace"
   ]
  },
  {
   "cell_type": "code",
   "execution_count": null,
   "metadata": {
    "ExecuteTime": {
     "end_time": "2020-01-17T16:09:07.594066Z",
     "start_time": "2020-01-17T16:09:06.617125Z"
    }
   },
   "outputs": [],
   "source": [
    "workflow_manager = WorkflowManager(openshift=OpenShift(kubernetes_verify_tls=False))"
   ]
  },
  {
   "cell_type": "code",
   "execution_count": null,
   "metadata": {
    "ExecuteTime": {
     "end_time": "2020-01-17T16:09:07.753530Z",
     "start_time": "2020-01-17T16:09:07.722852Z"
    }
   },
   "outputs": [],
   "source": [
    "solver_name = \"solver-rhel-8.0-py36\"\n",
    "solver_id = f\"{int(dt.now().timestamp())}\"\n",
    "\n",
    "template_parameters = {\n",
    "    \"THOTH_SOLVER_WORKFLOW_ID\": solver_id,\n",
    "    \"THOTH_SOLVER_NAME\": solver_name,\n",
    "    \"THOTH_SOLVER_PACKAGES\":\"html5lib==0.10\",\n",
    "    \"THOTH_SOLVER_NO_TRANSITIVE\": \"1\",\n",
    "    \"THOTH_SOLVER_INDEXES\": \"https://pypi.org/simple\"\n",
    "\n",
    "}\n",
    "\n",
    "workflow_parameters = {}\n"
   ]
  },
  {
   "cell_type": "code",
   "execution_count": null,
   "metadata": {
    "ExecuteTime": {
     "end_time": "2020-01-17T16:11:24.057730Z",
     "start_time": "2020-01-17T16:11:22.362518Z"
    }
   },
   "outputs": [],
   "source": [
    "workflow_id = workflow_manager.submit_solver_workflow(\n",
    "    template_parameters=template_parameters,\n",
    "    workflow_parameters=workflow_parameters\n",
    ")\n",
    "\n",
    "workflow_id"
   ]
  },
  {
   "cell_type": "code",
   "execution_count": null,
   "metadata": {
    "ExecuteTime": {
     "end_time": "2020-01-17T16:12:20.329895Z",
     "start_time": "2020-01-17T16:11:25.496416Z"
    }
   },
   "outputs": [],
   "source": [
    "!argo watch $workflow_id"
   ]
  },
  {
   "cell_type": "code",
   "execution_count": null,
   "metadata": {},
   "outputs": [],
   "source": []
  }
 ],
 "metadata": {
  "kernelspec": {
   "display_name": "Python 3",
   "language": "python",
   "name": "python3"
  },
  "language_info": {
   "codemirror_mode": {
    "name": "ipython",
    "version": 3
   },
   "file_extension": ".py",
   "mimetype": "text/x-python",
   "name": "python",
   "nbconvert_exporter": "python",
   "pygments_lexer": "ipython3",
   "version": "3.6.9"
  },
  "toc": {
   "base_numbering": 1,
   "nav_menu": {},
   "number_sections": true,
   "sideBar": true,
   "skip_h1_title": false,
   "title_cell": "Table of Contents",
   "title_sidebar": "Contents",
   "toc_cell": true,
   "toc_position": {},
   "toc_section_display": true,
   "toc_window_display": false
  }
 },
 "nbformat": 4,
 "nbformat_minor": 2
}
