{
 "cells": [
  {
   "cell_type": "markdown",
   "metadata": {
    "toc": true
   },
   "source": [
    "<h1>Table of Contents<span class=\"tocSkip\"></span></h1>\n",
    "<div class=\"toc\"><ul class=\"toc-item\"><li><span><a href=\"#Introduction\" data-toc-modified-id=\"Introduction-1\"><span class=\"toc-item-num\">1&nbsp;&nbsp;</span>Introduction</a></span></li><li><span><a href=\"#Retrieve-dependency-monkey-ids-for-the-inspection-identifier\" data-toc-modified-id=\"Retrieve-dependency-monkey-ids-for-the-inspection-identifier-2\"><span class=\"toc-item-num\">2&nbsp;&nbsp;</span>Retrieve dependency monkey ids for the inspection identifier</a></span></li><li><span><a href=\"#Retrieve-filtered-inspection-ids\" data-toc-modified-id=\"Retrieve-filtered-inspection-ids-3\"><span class=\"toc-item-num\">3&nbsp;&nbsp;</span>Retrieve filtered inspection ids</a></span></li><li><span><a href=\"#Aggregate-inspection-results\" data-toc-modified-id=\"Aggregate-inspection-results-4\"><span class=\"toc-item-num\">4&nbsp;&nbsp;</span>Aggregate inspection results</a></span></li><li><span><a href=\"#Create-Inspection-dataframes\" data-toc-modified-id=\"Create-Inspection-dataframes-5\"><span class=\"toc-item-num\">5&nbsp;&nbsp;</span>Create Inspection dataframes</a></span></li><li><span><a href=\"#Create-reports-from-inspections\" data-toc-modified-id=\"Create-reports-from-inspections-6\"><span class=\"toc-item-num\">6&nbsp;&nbsp;</span>Create reports from inspections</a></span></li><li><span><a href=\"#Create-Visualization-of-performance-for-software-stacks\" data-toc-modified-id=\"Create-Visualization-of-performance-for-software-stacks-7\"><span class=\"toc-item-num\">7&nbsp;&nbsp;</span>Create Visualization of performance for software stacks</a></span><ul class=\"toc-item\"><li><span><a href=\"#Filter-final-dataframe\" data-toc-modified-id=\"Filter-final-dataframe-7.1\"><span class=\"toc-item-num\">7.1&nbsp;&nbsp;</span>Filter final dataframe</a></span></li><li><span><a href=\"#Create-plots\" data-toc-modified-id=\"Create-plots-7.2\"><span class=\"toc-item-num\">7.2&nbsp;&nbsp;</span>Create plots</a></span></li></ul></li><li><span><a href=\"#Analysis-of-inspection-batches\" data-toc-modified-id=\"Analysis-of-inspection-batches-8\"><span class=\"toc-item-num\">8&nbsp;&nbsp;</span>Analysis of inspection batches</a></span><ul class=\"toc-item\"><li><span><a href=\"#Error-analysis\" data-toc-modified-id=\"Error-analysis-8.1\"><span class=\"toc-item-num\">8.1&nbsp;&nbsp;</span>Error analysis</a></span><ul class=\"toc-item\"><li><span><a href=\"#Histogram-of-the-elapsed-batches\" data-toc-modified-id=\"Histogram-of-the-elapsed-batches-8.1.1\"><span class=\"toc-item-num\">8.1.1&nbsp;&nbsp;</span>Histogram of the <code>elapsed</code> batches</a></span></li><li><span><a href=\"#Histogram-of-the-rate-batches\" data-toc-modified-id=\"Histogram-of-the-rate-batches-8.1.2\"><span class=\"toc-item-num\">8.1.2&nbsp;&nbsp;</span>Histogram of the <code>rate</code> batches</a></span></li><li><span><a href=\"#Box-plot-and-violin-plot-of-the-elapsed-batches\" data-toc-modified-id=\"Box-plot-and-violin-plot-of-the-elapsed-batches-8.1.3\"><span class=\"toc-item-num\">8.1.3&nbsp;&nbsp;</span>Box plot and violin plot of the <code>elapsed</code> batches</a></span></li><li><span><a href=\"#Box-plot-and-violin-plot-of-the-rate-batches\" data-toc-modified-id=\"Box-plot-and-violin-plot-of-the-rate-batches-8.1.4\"><span class=\"toc-item-num\">8.1.4&nbsp;&nbsp;</span>Box plot and violin plot of the <code>rate</code> batches</a></span></li></ul></li><li><span><a href=\"#Interpolations\" data-toc-modified-id=\"Interpolations-8.2\"><span class=\"toc-item-num\">8.2&nbsp;&nbsp;</span>Interpolations</a></span><ul class=\"toc-item\"><li><span><a href=\"#Standard-Deviation-analysis\" data-toc-modified-id=\"Standard-Deviation-analysis-8.2.1\"><span class=\"toc-item-num\">8.2.1&nbsp;&nbsp;</span>Standard Deviation analysis</a></span></li><li><span><a href=\"#Standard-Deviation-analysis\" data-toc-modified-id=\"Standard-Deviation-analysis-8.2.2\"><span class=\"toc-item-num\">8.2.2&nbsp;&nbsp;</span>Standard Deviation analysis</a></span></li><li><span><a href=\"#Standard-Error-analysis\" data-toc-modified-id=\"Standard-Error-analysis-8.2.3\"><span class=\"toc-item-num\">8.2.3&nbsp;&nbsp;</span>Standard Error analysis</a></span></li><li><span><a href=\"#Box-Plots-interpolated-for-elapsed_time\" data-toc-modified-id=\"Box-Plots-interpolated-for-elapsed_time-8.2.4\"><span class=\"toc-item-num\">8.2.4&nbsp;&nbsp;</span>Box Plots interpolated for <code>elapsed_time</code></a></span></li><li><span><a href=\"#Box-Plots-interpolated-for-rate\" data-toc-modified-id=\"Box-Plots-interpolated-for-rate-8.2.5\"><span class=\"toc-item-num\">8.2.5&nbsp;&nbsp;</span>Box Plots interpolated for <code>rate</code></a></span></li><li><span><a href=\"#Coefficient-of-Variation-analysis\" data-toc-modified-id=\"Coefficient-of-Variation-analysis-8.2.6\"><span class=\"toc-item-num\">8.2.6&nbsp;&nbsp;</span>Coefficient of Variation analysis</a></span></li></ul></li></ul></li><li><span><a href=\"#Inspection-Time-analysis\" data-toc-modified-id=\"Inspection-Time-analysis-9\"><span class=\"toc-item-num\">9&nbsp;&nbsp;</span>Inspection Time analysis</a></span><ul class=\"toc-item\"><li><span><a href=\"#Inspection-Builds-Time\" data-toc-modified-id=\"Inspection-Builds-Time-9.1\"><span class=\"toc-item-num\">9.1&nbsp;&nbsp;</span>Inspection Builds Time</a></span></li><li><span><a href=\"#Inspection-Jobs-Time\" data-toc-modified-id=\"Inspection-Jobs-Time-9.2\"><span class=\"toc-item-num\">9.2&nbsp;&nbsp;</span>Inspection Jobs Time</a></span></li><li><span><a href=\"#Inspection-Builds-+-Jobs-Time\" data-toc-modified-id=\"Inspection-Builds-+-Jobs-Time-9.3\"><span class=\"toc-item-num\">9.3&nbsp;&nbsp;</span>Inspection Builds + Jobs Time</a></span></li></ul></li></ul></div>"
   ]
  },
  {
   "cell_type": "markdown",
   "metadata": {},
   "source": [
    "# Introduction"
   ]
  },
  {
   "cell_type": "code",
   "execution_count": null,
   "metadata": {
    "ExecuteTime": {
     "end_time": "2020-03-24T10:30:44.052902Z",
     "start_time": "2020-03-24T10:30:41.878481Z"
    }
   },
   "outputs": [],
   "source": [
    "import seaborn as sns\n",
    "\n",
    "from thoth.lab import underscore, inspection, inspection_report, dependency_monkey\n",
    "\n",
    "sns.set(style=\"whitegrid\")"
   ]
  },
  {
   "cell_type": "code",
   "execution_count": null,
   "metadata": {
    "ExecuteTime": {
     "end_time": "2020-03-24T10:30:47.457398Z",
     "start_time": "2020-03-24T10:30:47.437167Z"
    },
    "tags": [
     "parameters"
    ]
   },
   "outputs": [],
   "source": [
    "IDENTIFIERS_INSPECTION = [\n",
    "    \"cvut-6\",\n",
    "]\n",
    "\n",
    "# Filters for plot\n",
    "PI_COMPONENT = \"tensorflow\"\n",
    "PI_NAME = \"PiConv2D\"\n",
    "RUNTIME_ENVIRONMENT = \"rhel-8.1-py36\"\n",
    "PYTHON_PACKAGES = None\n",
    "\n",
    "LIMIT_RESULTS = False\n",
    "PROJECT_DIR_NAME = \"Test\"\n",
    "STATIC_FIGURE = True"
   ]
  },
  {
   "cell_type": "code",
   "execution_count": null,
   "metadata": {
    "ExecuteTime": {
     "end_time": "2020-03-24T10:30:48.066517Z",
     "start_time": "2020-03-24T10:30:48.063154Z"
    }
   },
   "outputs": [],
   "source": [
    "THOTH_CEPH_BUCKET=\"thoth\"\n",
    "THOTH_CEPH_BUCKET_PREFIX=\"data/thoth\"\n",
    "THOTH_DEPLOYMENT_NAME=\"thoth-psi-stage\"\n",
    "THOTH_S3_ENDPOINT_URL=\"https://s3.upshift.redhat.com/\""
   ]
  },
  {
   "cell_type": "code",
   "execution_count": null,
   "metadata": {
    "ExecuteTime": {
     "end_time": "2020-03-24T10:30:48.577629Z",
     "start_time": "2020-03-24T10:30:48.566021Z"
    }
   },
   "outputs": [],
   "source": [
    "%env THOTH_CEPH_BUCKET         $THOTH_CEPH_BUCKET\n",
    "%env THOTH_CEPH_BUCKET_PREFIX  $THOTH_CEPH_BUCKET_PREFIX\n",
    "%env THOTH_S3_ENDPOINT_URL     $THOTH_S3_ENDPOINT_URL\n",
    "%env THOTH_DEPLOYMENT_NAME     $THOTH_DEPLOYMENT_NAME"
   ]
  },
  {
   "cell_type": "code",
   "execution_count": null,
   "metadata": {
    "ExecuteTime": {
     "end_time": "2020-03-24T10:30:51.129361Z",
     "start_time": "2020-03-24T10:30:51.126506Z"
    }
   },
   "outputs": [],
   "source": [
    "INSPECTION_PARAMETERS_TO_ANALYZE = [\n",
    "    \"elapsed\",\n",
    "    \"rate\"]\n",
    "\n",
    "SAVE_RESULTS = True"
   ]
  },
  {
   "cell_type": "markdown",
   "metadata": {
    "ExecuteTime": {
     "end_time": "2020-03-02T16:43:11.191051Z",
     "start_time": "2020-03-02T16:43:11.188910Z"
    }
   },
   "source": [
    "# Retrieve dependency monkey ids for the inspection identifier"
   ]
  },
  {
   "cell_type": "code",
   "execution_count": null,
   "metadata": {
    "ExecuteTime": {
     "end_time": "2020-03-24T10:32:43.158063Z",
     "start_time": "2020-03-24T10:30:51.840309Z"
    },
    "scrolled": true
   },
   "outputs": [],
   "source": [
    "inspection_batch_info, INSPECTION_BATCH_IDS = dependency_monkey.aggregate_dm_results_per_identifier(\n",
    "    IDENTIFIERS_INSPECTION,\n",
    "    limit_results=LIMIT_RESULTS,\n",
    "    max_batch_identifiers_ids=5)"
   ]
  },
  {
   "cell_type": "markdown",
   "metadata": {},
   "source": [
    "# Retrieve filtered inspection ids"
   ]
  },
  {
   "cell_type": "code",
   "execution_count": null,
   "metadata": {
    "ExecuteTime": {
     "end_time": "2020-03-24T10:32:50.757282Z",
     "start_time": "2020-03-24T10:32:43.160590Z"
    },
    "scrolled": true
   },
   "outputs": [],
   "source": [
    "filtered_inspection_ids, REDUCED_INSPECTION_BATCH_IDS = inspection.filter_inspection_ids(INSPECTION_BATCH_IDS)"
   ]
  },
  {
   "cell_type": "markdown",
   "metadata": {},
   "source": [
    "# Aggregate inspection results"
   ]
  },
  {
   "cell_type": "code",
   "execution_count": null,
   "metadata": {
    "ExecuteTime": {
     "end_time": "2020-03-24T10:57:05.795223Z",
     "start_time": "2020-03-24T10:32:50.765566Z"
    },
    "scrolled": true
   },
   "outputs": [],
   "source": [
    "#Clean dataset from possible errors in inspections\n",
    "inspection_results_dict = inspection.aggregate_inspection_results_per_identifier(\n",
    "    filtered_inspection_ids,\n",
    "    REDUCED_INSPECTION_BATCH_IDS,\n",
    "    inspection_batch_info\n",
    ")"
   ]
  },
  {
   "cell_type": "markdown",
   "metadata": {},
   "source": [
    "# Create Inspection dataframes"
   ]
  },
  {
   "cell_type": "code",
   "execution_count": null,
   "metadata": {
    "ExecuteTime": {
     "end_time": "2020-03-24T11:08:59.889947Z",
     "start_time": "2020-03-24T10:57:05.803166Z"
    },
    "scrolled": true
   },
   "outputs": [],
   "source": [
    "inspection_df_dict, inspections_df = inspection.create_inspection_dataframes(inspection_results_dict)"
   ]
  },
  {
   "cell_type": "code",
   "execution_count": null,
   "metadata": {
    "ExecuteTime": {
     "end_time": "2020-03-24T11:09:00.019337Z",
     "start_time": "2020-03-24T11:08:59.891554Z"
    }
   },
   "outputs": [],
   "source": [
    "inspections_df"
   ]
  },
  {
   "cell_type": "markdown",
   "metadata": {},
   "source": [
    "# Create reports from inspections"
   ]
  },
  {
   "cell_type": "code",
   "execution_count": null,
   "metadata": {
    "ExecuteTime": {
     "end_time": "2020-03-24T11:09:00.079652Z",
     "start_time": "2020-03-24T11:09:00.020769Z"
    }
   },
   "outputs": [],
   "source": [
    "dfs_inspection_classes, dfs_unique_inspection_classes = inspection_report.create_dfs_inspection_classes(inspection_df=inspections_df)"
   ]
  },
  {
   "cell_type": "code",
   "execution_count": null,
   "metadata": {
    "ExecuteTime": {
     "end_time": "2020-03-24T11:09:00.103173Z",
     "start_time": "2020-03-24T11:09:00.082446Z"
    },
    "scrolled": true
   },
   "outputs": [],
   "source": [
    "inspection_report.multi_table(dfs_unique_inspection_classes[\"hardware\"])"
   ]
  },
  {
   "cell_type": "code",
   "execution_count": null,
   "metadata": {
    "ExecuteTime": {
     "end_time": "2020-03-24T11:09:00.182695Z",
     "start_time": "2020-03-24T11:09:00.104759Z"
    },
    "scrolled": true
   },
   "outputs": [],
   "source": [
    "dfs_unique_inspection_classes[\"software_stack\"]"
   ]
  },
  {
   "cell_type": "code",
   "execution_count": null,
   "metadata": {
    "ExecuteTime": {
     "end_time": "2020-03-24T11:09:00.204878Z",
     "start_time": "2020-03-24T11:09:00.184108Z"
    }
   },
   "outputs": [],
   "source": [
    "sws_df = dfs_unique_inspection_classes[\"software_stack\"]\n",
    "sws_df[[col for col in sws_df.columns.values if \"__version\" in col]]"
   ]
  },
  {
   "cell_type": "code",
   "execution_count": null,
   "metadata": {
    "ExecuteTime": {
     "end_time": "2020-03-24T11:09:00.212860Z",
     "start_time": "2020-03-24T11:09:00.206130Z"
    }
   },
   "outputs": [],
   "source": [
    "dfs_unique_inspection_classes[\"base_image\"]"
   ]
  },
  {
   "cell_type": "code",
   "execution_count": null,
   "metadata": {
    "ExecuteTime": {
     "end_time": "2020-03-24T11:09:00.227494Z",
     "start_time": "2020-03-24T11:09:00.214046Z"
    }
   },
   "outputs": [],
   "source": [
    "dfs_unique_inspection_classes[\"pi\"]"
   ]
  },
  {
   "cell_type": "markdown",
   "metadata": {},
   "source": [
    "# Create Visualization of performance for software stacks"
   ]
  },
  {
   "cell_type": "code",
   "execution_count": null,
   "metadata": {
    "ExecuteTime": {
     "end_time": "2020-03-24T11:09:01.005126Z",
     "start_time": "2020-03-24T11:09:00.228782Z"
    },
    "scrolled": true
   },
   "outputs": [],
   "source": [
    "python_packages_dataframe, python_packages_versions = inspection.create_python_package_df(inspection_df=inspections_df)\n",
    "python_packages_dataframe"
   ]
  },
  {
   "cell_type": "code",
   "execution_count": null,
   "metadata": {
    "ExecuteTime": {
     "end_time": "2020-03-24T11:09:01.201409Z",
     "start_time": "2020-03-24T11:09:01.008224Z"
    },
    "scrolled": true
   },
   "outputs": [],
   "source": [
    "final_dataframe = inspection.create_final_dataframe(\n",
    "    packages_versions=python_packages_versions,\n",
    "    python_packages_dataframe=python_packages_dataframe,\n",
    "    inspection_df=inspections_df\n",
    ")\n",
    "final_dataframe"
   ]
  },
  {
   "cell_type": "markdown",
   "metadata": {},
   "source": [
    "## Filter final dataframe"
   ]
  },
  {
   "cell_type": "code",
   "execution_count": null,
   "metadata": {
    "ExecuteTime": {
     "end_time": "2020-03-24T11:56:14.718525Z",
     "start_time": "2020-03-24T11:56:14.713166Z"
    },
    "scrolled": true
   },
   "outputs": [],
   "source": [
    "plot_df = inspection.create_filtered_final_df(\n",
    "    df=final_dataframe,\n",
    "    pi_name=PI_NAME,\n",
    "    pi_component=PI_COMPONENT,\n",
    "    runtime_environment=RUNTIME_ENVIRONMENT,\n",
    "    packages=PYTHON_PACKAGES\n",
    ")"
   ]
  },
  {
   "cell_type": "markdown",
   "metadata": {},
   "source": [
    "## Create plots"
   ]
  },
  {
   "cell_type": "code",
   "execution_count": null,
   "metadata": {
    "ExecuteTime": {
     "end_time": "2020-03-24T11:56:16.192196Z",
     "start_time": "2020-03-24T11:56:16.112289Z"
    }
   },
   "outputs": [],
   "source": [
    "inspection.create_inspection_3d_plot(plot_df=plot_df, quantity=\"elapsed_time\", identifiers_inspections=IDENTIFIERS_INSPECTION)"
   ]
  },
  {
   "cell_type": "code",
   "execution_count": null,
   "metadata": {
    "ExecuteTime": {
     "end_time": "2020-03-24T11:09:01.968755Z",
     "start_time": "2020-03-24T11:09:01.507422Z"
    }
   },
   "outputs": [],
   "source": [
    "inspection.create_plot_from_df(\n",
    "    plot_df,\n",
    "    columns= [\"sws_hash_id_encoded\",\"elapsed_time\"],\n",
    "    title_plot=f\"PI=Conv2D-tensorflow-{IDENTIFIERS_INSPECTION}-elapsed-time\",\n",
    "    x_label=\"Software Stack ID integer encoded\", \n",
    "    y_label=\"Elapsed Time [ms]\",\n",
    "    static=STATIC_FIGURE,\n",
    "    save_result=SAVE_RESULTS,\n",
    "    project_folder=PROJECT_DIR_NAME,\n",
    "    folder_name=\"InspectionPlots\",\n",
    "    scatter=True\n",
    ")"
   ]
  },
  {
   "cell_type": "code",
   "execution_count": null,
   "metadata": {
    "ExecuteTime": {
     "end_time": "2020-03-24T11:55:35.367797Z",
     "start_time": "2020-03-24T11:55:35.196874Z"
    }
   },
   "outputs": [],
   "source": [
    "create_inspection_2d_plot(plot_df=plot_df, quantity=\"elapsed_time\", identifiers_inspections=IDENTIFIERS_INSPECTION)"
   ]
  },
  {
   "cell_type": "code",
   "execution_count": null,
   "metadata": {
    "ExecuteTime": {
     "end_time": "2020-03-24T11:09:02.239820Z",
     "start_time": "2020-03-24T11:09:02.167313Z"
    }
   },
   "outputs": [],
   "source": [
    "inspection.create_inspection_3d_plot(plot_df=plot_df, quantity=\"rate\", identifiers_inspections=IDENTIFIERS_INSPECTION)"
   ]
  },
  {
   "cell_type": "code",
   "execution_count": null,
   "metadata": {
    "ExecuteTime": {
     "end_time": "2020-03-24T11:09:02.389242Z",
     "start_time": "2020-03-24T11:09:02.241198Z"
    }
   },
   "outputs": [],
   "source": [
    "inspection.create_inspection_2d_plot(plot_df=plot_df, quantity=\"rate\", identifiers_inspections=IDENTIFIERS_INSPECTION)"
   ]
  },
  {
   "cell_type": "code",
   "execution_count": null,
   "metadata": {
    "ExecuteTime": {
     "end_time": "2020-03-24T11:09:02.819584Z",
     "start_time": "2020-03-24T11:09:02.390966Z"
    }
   },
   "outputs": [],
   "source": [
    "inspection.create_plot_from_df(\n",
    "    plot_df,\n",
    "    columns= [\"sws_hash_id_encoded\",\"rate\"],\n",
    "    title_plot=f\"PI=Conv2D-tensorflow-{IDENTIFIERS_INSPECTION}-rate\",\n",
    "    x_label=\"Software Stack ID integer encoded\", \n",
    "    y_label=\"Rate [GFLOPS]\",\n",
    "    static=STATIC_FIGURE,\n",
    "    save_result=SAVE_RESULTS,\n",
    "    project_folder=PROJECT_DIR_NAME,\n",
    "    folder_name=\"InspectionPlots\",\n",
    "    scatter=True\n",
    ")"
   ]
  },
  {
   "cell_type": "markdown",
   "metadata": {},
   "source": [
    "# Analysis of inspection batches"
   ]
  },
  {
   "cell_type": "markdown",
   "metadata": {},
   "source": [
    "## Error analysis"
   ]
  },
  {
   "cell_type": "code",
   "execution_count": null,
   "metadata": {
    "ExecuteTime": {
     "end_time": "2020-03-24T11:09:03.146639Z",
     "start_time": "2020-03-24T11:09:02.821756Z"
    }
   },
   "outputs": [],
   "source": [
    "inspection_parameters_df_dict = inspection.create_inspection_parameters_dataframes(\n",
    "    INSPECTION_PARAMETERS_TO_ANALYZE,\n",
    "    inspection_df_dict)"
   ]
  },
  {
   "cell_type": "markdown",
   "metadata": {},
   "source": [
    "### Histogram of the `elapsed` batches"
   ]
  },
  {
   "cell_type": "code",
   "execution_count": null,
   "metadata": {
    "ExecuteTime": {
     "end_time": "2020-03-24T11:09:18.593729Z",
     "start_time": "2020-03-24T11:09:03.151485Z"
    },
    "scrolled": true
   },
   "outputs": [],
   "source": [
    "inspection.create_plot_multiple_batches(\n",
    "    data=inspection_parameters_df_dict,\n",
    "    quantity=\"elapsed\",\n",
    "    plot_type=\"hist\",\n",
    "    x_label=\"Elapsed Time [ms]\",\n",
    "    y_label=\"Count\",\n",
    "    static=STATIC_FIGURE,\n",
    "    save_result=SAVE_RESULTS,\n",
    "    project_folder=PROJECT_DIR_NAME,\n",
    "    folder_name=\"Histograms\"\n",
    ")"
   ]
  },
  {
   "cell_type": "markdown",
   "metadata": {},
   "source": [
    "### Histogram of the `rate` batches"
   ]
  },
  {
   "cell_type": "code",
   "execution_count": null,
   "metadata": {
    "ExecuteTime": {
     "end_time": "2020-03-24T11:09:29.498297Z",
     "start_time": "2020-03-24T11:09:18.595205Z"
    },
    "scrolled": true
   },
   "outputs": [],
   "source": [
    "inspection.create_plot_multiple_batches(\n",
    "    data=inspection_parameters_df_dict,\n",
    "    quantity=\"rate\",\n",
    "    plot_type=\"hist\",\n",
    "    x_label=\"Rate [GFLOPS]\",\n",
    "    y_label=\"Count\",\n",
    "    static=STATIC_FIGURE,\n",
    "    save_result=SAVE_RESULTS,\n",
    "    project_folder=PROJECT_DIR_NAME,\n",
    "    folder_name=\"Histograms\"\n",
    ")"
   ]
  },
  {
   "cell_type": "markdown",
   "metadata": {},
   "source": [
    "### Box plot and violin plot of the `elapsed` batches"
   ]
  },
  {
   "cell_type": "code",
   "execution_count": null,
   "metadata": {
    "ExecuteTime": {
     "end_time": "2020-03-24T11:09:38.545187Z",
     "start_time": "2020-03-24T11:09:29.499584Z"
    },
    "scrolled": true
   },
   "outputs": [],
   "source": [
    "inspection.create_plot_multiple_batches(\n",
    "    data=inspection_parameters_df_dict,\n",
    "    quantity=\"elapsed\",\n",
    "    plot_type=\"box\",\n",
    "    x_label=\"Elapsed Time [ms]\",\n",
    "    y_label=\"Count\",\n",
    "    static=STATIC_FIGURE,\n",
    "    save_result=SAVE_RESULTS,\n",
    "    project_folder=PROJECT_DIR_NAME,\n",
    "    folder_name=\"BoxPlots\"\n",
    ")"
   ]
  },
  {
   "cell_type": "code",
   "execution_count": null,
   "metadata": {
    "ExecuteTime": {
     "end_time": "2020-03-24T11:09:54.335267Z",
     "start_time": "2020-03-24T11:09:38.546253Z"
    }
   },
   "outputs": [],
   "source": [
    "inspection.create_multiple_violin_plot(\n",
    "    data=inspection_parameters_df_dict,\n",
    "    quantity=\"elapsed\",\n",
    "    x_label=\"Batch identifier\",\n",
    "    y_label=\"Elapsed Time [ms]\",\n",
    "    linewidth=2,\n",
    "    save_result=SAVE_RESULTS,\n",
    "    project_folder=PROJECT_DIR_NAME,\n",
    "    folder_name=\"ViolinPlots\")"
   ]
  },
  {
   "cell_type": "markdown",
   "metadata": {},
   "source": [
    "### Box plot and violin plot of the `rate` batches"
   ]
  },
  {
   "cell_type": "code",
   "execution_count": null,
   "metadata": {
    "ExecuteTime": {
     "end_time": "2020-03-24T11:10:03.731018Z",
     "start_time": "2020-03-24T11:09:54.336649Z"
    }
   },
   "outputs": [],
   "source": [
    "inspection.create_plot_multiple_batches(\n",
    "    data=inspection_parameters_df_dict,\n",
    "    quantity=\"rate\",\n",
    "    plot_type=\"box\",\n",
    "    x_label=\"Rate [GFLOPS]\",\n",
    "    y_label=\"Count\",\n",
    "    static=STATIC_FIGURE,\n",
    "    save_result=SAVE_RESULTS,\n",
    "    project_folder=PROJECT_DIR_NAME,\n",
    "    folder_name=\"BoxPlots\"\n",
    ")"
   ]
  },
  {
   "cell_type": "code",
   "execution_count": null,
   "metadata": {
    "ExecuteTime": {
     "end_time": "2020-03-24T11:10:20.900512Z",
     "start_time": "2020-03-24T11:10:03.734550Z"
    }
   },
   "outputs": [],
   "source": [
    "inspection.create_multiple_violin_plot(\n",
    "    data=inspection_parameters_df_dict,\n",
    "    quantity=\"rate\",\n",
    "    x_label=\"Batch identifier\",\n",
    "    y_label=\"Rate [GFLOPS]\",\n",
    "    linewidth=2,\n",
    "    save_result=SAVE_RESULTS,\n",
    "    project_folder=PROJECT_DIR_NAME,\n",
    "    folder_name=\"ViolinPlots\")"
   ]
  },
  {
   "cell_type": "markdown",
   "metadata": {},
   "source": [
    "## Interpolations"
   ]
  },
  {
   "cell_type": "code",
   "execution_count": null,
   "metadata": {
    "ExecuteTime": {
     "end_time": "2020-03-24T11:10:21.243070Z",
     "start_time": "2020-03-24T11:10:20.901974Z"
    }
   },
   "outputs": [],
   "source": [
    "inspection_statistics_dict, REDUCED_INSPECTION_BATCH = inspection.evaluate_inspection_statistics(\n",
    "        INSPECTION_PARAMETERS_TO_ANALYZE,\n",
    "        inspection_df_dict)"
   ]
  },
  {
   "cell_type": "markdown",
   "metadata": {},
   "source": [
    "### Standard Deviation analysis"
   ]
  },
  {
   "cell_type": "code",
   "execution_count": null,
   "metadata": {
    "ExecuteTime": {
     "end_time": "2020-03-24T11:10:21.577032Z",
     "start_time": "2020-03-24T11:10:21.244641Z"
    }
   },
   "outputs": [],
   "source": [
    "inspection_statistics_dict, REDUCED_INSPECTION_BATCH = inspection.evaluate_inspection_statistics(\n",
    "        INSPECTION_PARAMETERS_TO_ANALYZE,\n",
    "        inspection_df_dict)"
   ]
  },
  {
   "cell_type": "markdown",
   "metadata": {},
   "source": [
    "### Standard Deviation analysis"
   ]
  },
  {
   "cell_type": "code",
   "execution_count": null,
   "metadata": {
    "ExecuteTime": {
     "end_time": "2020-03-24T11:10:23.668795Z",
     "start_time": "2020-03-24T11:10:21.578433Z"
    }
   },
   "outputs": [],
   "source": [
    "inspection.plot_interpolated_statistics_of_inspection_parameters(\n",
    "    statistical_results_dict=inspection_statistics_dict,\n",
    "    identifier_inspection_list=REDUCED_INSPECTION_BATCH,\n",
    "    inspection_parameters=[\"elapsed\"],\n",
    "    colour_list=[\"b\"],\n",
    "    statistical_quantities=[\"std\"],\n",
    "    title_plot=\"Statistics plot of std for elapsed of different batch\",\n",
    "    title_xlabel=\"Batch identifiers\",\n",
    "    title_ylabel=\"Elapsed Time [ms]\",\n",
    "    save_result=SAVE_RESULTS,\n",
    "    project_folder=PROJECT_DIR_NAME,\n",
    "    folder_name=\"Statistics\")"
   ]
  },
  {
   "cell_type": "code",
   "execution_count": null,
   "metadata": {
    "ExecuteTime": {
     "end_time": "2020-03-24T11:10:25.746349Z",
     "start_time": "2020-03-24T11:10:23.670384Z"
    }
   },
   "outputs": [],
   "source": [
    "inspection.plot_interpolated_statistics_of_inspection_parameters(\n",
    "    statistical_results_dict=inspection_statistics_dict,\n",
    "    identifier_inspection_list=REDUCED_INSPECTION_BATCH,\n",
    "    inspection_parameters=[\"rate\"],\n",
    "    colour_list=[\"r\"],\n",
    "    statistical_quantities=[\"std\"],\n",
    "    title_plot=\"Statistics plot of std error for rate of different batch\",\n",
    "    title_xlabel=\"Batch identifiers\",\n",
    "    title_ylabel=\"Rate [GFLOPS]\",\n",
    "    save_result=SAVE_RESULTS,\n",
    "    project_folder=PROJECT_DIR_NAME,\n",
    "    folder_name=\"Statistics\")"
   ]
  },
  {
   "cell_type": "markdown",
   "metadata": {},
   "source": [
    "### Standard Error analysis"
   ]
  },
  {
   "cell_type": "code",
   "execution_count": null,
   "metadata": {
    "ExecuteTime": {
     "end_time": "2020-03-24T11:10:27.814698Z",
     "start_time": "2020-03-24T11:10:25.747447Z"
    }
   },
   "outputs": [],
   "source": [
    "inspection.plot_interpolated_statistics_of_inspection_parameters(\n",
    "    statistical_results_dict=inspection_statistics_dict,\n",
    "    identifier_inspection_list=REDUCED_INSPECTION_BATCH,\n",
    "    inspection_parameters=[\"elapsed\"],\n",
    "    colour_list=[\"b\"],\n",
    "    statistical_quantities=[\"std_error\"],\n",
    "    title_plot=\"Statistics plot of std error for elapsed of different batch\",\n",
    "    title_xlabel=\"Batch identifiers\",\n",
    "    title_ylabel=\"Elapsed Time [ms]\",\n",
    "    save_result=SAVE_RESULTS,\n",
    "    project_folder=PROJECT_DIR_NAME,\n",
    "    folder_name=\"Statistics\")"
   ]
  },
  {
   "cell_type": "code",
   "execution_count": null,
   "metadata": {
    "ExecuteTime": {
     "end_time": "2020-03-24T11:10:30.088679Z",
     "start_time": "2020-03-24T11:10:27.815775Z"
    }
   },
   "outputs": [],
   "source": [
    "inspection.plot_interpolated_statistics_of_inspection_parameters(\n",
    "    statistical_results_dict=inspection_statistics_dict,\n",
    "    identifier_inspection_list=REDUCED_INSPECTION_BATCH,\n",
    "    inspection_parameters=[\"rate\"],\n",
    "    colour_list=[\"r\"],\n",
    "    statistical_quantities=[\"std_error\"],\n",
    "    title_plot=\"Statistics plot of std error for rate of different batch\",\n",
    "    title_xlabel=\"Batch identifiers\",\n",
    "    title_ylabel=\"Rate [GFLOPS]\",\n",
    "    save_result=SAVE_RESULTS,\n",
    "    project_folder=PROJECT_DIR_NAME,\n",
    "    folder_name=\"Statistics\")"
   ]
  },
  {
   "cell_type": "markdown",
   "metadata": {},
   "source": [
    "### Box Plots interpolated for `elapsed_time`"
   ]
  },
  {
   "cell_type": "code",
   "execution_count": null,
   "metadata": {
    "ExecuteTime": {
     "end_time": "2020-03-24T11:10:32.375216Z",
     "start_time": "2020-03-24T11:10:30.091645Z"
    }
   },
   "outputs": [],
   "source": [
    "inspection.plot_interpolated_statistics_of_inspection_parameters(\n",
    "    statistical_results_dict=inspection_statistics_dict,\n",
    "    identifier_inspection_list=REDUCED_INSPECTION_BATCH,\n",
    "    inspection_parameters=[\"elapsed\"],\n",
    "    colour_list=[\"g\", \"b\", \"c\", \"r\", \"y\"],\n",
    "    statistical_quantities=[\"median\", \"q1\", \"q3\", \"max\", \"min\"],\n",
    "    title_plot=\"Interpolated statistics for elapsed of different batch\",\n",
    "    title_xlabel=\"Batch identifiers\",\n",
    "    title_ylabel=\"Elapsed time [ms]\",\n",
    "    save_result=SAVE_RESULTS,\n",
    "    project_folder=PROJECT_DIR_NAME,\n",
    "    folder_name=\"Interpolations\")"
   ]
  },
  {
   "cell_type": "code",
   "execution_count": null,
   "metadata": {
    "ExecuteTime": {
     "end_time": "2020-03-24T11:10:34.440096Z",
     "start_time": "2020-03-24T11:10:32.376537Z"
    }
   },
   "outputs": [],
   "source": [
    "inspection.plot_interpolated_statistics_of_inspection_parameters(\n",
    "    statistical_results_dict=inspection_statistics_dict,\n",
    "    identifier_inspection_list=REDUCED_INSPECTION_BATCH,\n",
    "    inspection_parameters=[\"elapsed\"],\n",
    "    colour_list=[\"k\"],\n",
    "    statistical_quantities=[\"iqr\"],\n",
    "    title_plot=\"Interpolated IQR for elapsed for different inspection batches\",\n",
    "    title_xlabel=\"Batch identifiers\",\n",
    "    title_ylabel=\"Elapsed time [ms]\",\n",
    "    save_result=SAVE_RESULTS,\n",
    "    project_folder=PROJECT_DIR_NAME,\n",
    "    folder_name=\"Interpolations\")"
   ]
  },
  {
   "cell_type": "markdown",
   "metadata": {},
   "source": [
    "### Box Plots interpolated for `rate`"
   ]
  },
  {
   "cell_type": "code",
   "execution_count": null,
   "metadata": {
    "ExecuteTime": {
     "end_time": "2020-03-24T11:10:36.567862Z",
     "start_time": "2020-03-24T11:10:34.441368Z"
    }
   },
   "outputs": [],
   "source": [
    "inspection.plot_interpolated_statistics_of_inspection_parameters(\n",
    "    statistical_results_dict=inspection_statistics_dict,\n",
    "    identifier_inspection_list=REDUCED_INSPECTION_BATCH,\n",
    "    inspection_parameters=[\"rate\"],\n",
    "    colour_list=[\"g\", \"b\", \"b\", \"r\", \"y\"],\n",
    "    statistical_quantities=[\"median\", \"q1\", \"q3\", \"max\", \"min\"],\n",
    "    title_plot=\"Interpolated statistics for rate of different batch\",\n",
    "    title_xlabel=\"Batch identifiers\",\n",
    "    title_ylabel=\"Rate [GFLOPS]\",\n",
    "    save_result=SAVE_RESULTS,\n",
    "    project_folder=PROJECT_DIR_NAME,\n",
    "    folder_name=\"Interpolations\")"
   ]
  },
  {
   "cell_type": "code",
   "execution_count": null,
   "metadata": {
    "ExecuteTime": {
     "end_time": "2020-03-24T11:10:38.740610Z",
     "start_time": "2020-03-24T11:10:36.569110Z"
    }
   },
   "outputs": [],
   "source": [
    "inspection.plot_interpolated_statistics_of_inspection_parameters(\n",
    "    statistical_results_dict=inspection_statistics_dict,\n",
    "    identifier_inspection_list=REDUCED_INSPECTION_BATCH,\n",
    "    inspection_parameters=[\"rate\"],\n",
    "    colour_list=[\"k\"],\n",
    "    statistical_quantities=[\"iqr\"],\n",
    "    title_plot=\"Interpolated IQR for rate for different inspection batches\",\n",
    "    title_xlabel=\"Batch identifiers\",\n",
    "    title_ylabel=\"Rate [GFLOPS]\",\n",
    "    save_result=SAVE_RESULTS,\n",
    "    project_folder=PROJECT_DIR_NAME,\n",
    "    folder_name=\"Interpolations\")"
   ]
  },
  {
   "cell_type": "markdown",
   "metadata": {},
   "source": [
    "### Coefficient of Variation analysis"
   ]
  },
  {
   "cell_type": "code",
   "execution_count": null,
   "metadata": {
    "ExecuteTime": {
     "end_time": "2020-03-24T11:10:40.841599Z",
     "start_time": "2020-03-24T11:10:38.741766Z"
    }
   },
   "outputs": [],
   "source": [
    "inspection.plot_interpolated_statistics_of_inspection_parameters(\n",
    "    statistical_results_dict=inspection_statistics_dict,\n",
    "    identifier_inspection_list=REDUCED_INSPECTION_BATCH,\n",
    "    inspection_parameters=[\"elapsed\", \"rate\"],\n",
    "    colour_list=[\"b\", \"r\"],\n",
    "    statistical_quantities=[\"cv_mean\"],\n",
    "    title_plot=\"Interpolated CV (mean) for elapsed time and rate for different inspection batches\",\n",
    "    title_xlabel=\"Batch identifiers\",\n",
    "    title_ylabel=\"CV [%]\",\n",
    "    save_result=SAVE_RESULTS,\n",
    "    project_folder=PROJECT_DIR_NAME,\n",
    "    folder_name=\"Interpolations\")"
   ]
  },
  {
   "cell_type": "code",
   "execution_count": null,
   "metadata": {
    "ExecuteTime": {
     "end_time": "2020-03-24T11:10:42.930356Z",
     "start_time": "2020-03-24T11:10:40.842768Z"
    }
   },
   "outputs": [],
   "source": [
    "inspection.plot_interpolated_statistics_of_inspection_parameters(\n",
    "    statistical_results_dict=inspection_statistics_dict,\n",
    "    identifier_inspection_list=REDUCED_INSPECTION_BATCH,\n",
    "    inspection_parameters=[\"elapsed\", \"rate\"],\n",
    "    colour_list=[\"b\", \"r\"],\n",
    "    statistical_quantities=[\"cv_median\"],\n",
    "    title_plot=\"Interpolated CV (median) for elapsed time and rate for different inspection batches\",\n",
    "    title_xlabel=\"Batch identifiers\",\n",
    "    title_ylabel=\"CV [%]\",\n",
    "    save_result=SAVE_RESULTS,\n",
    "    project_folder=PROJECT_DIR_NAME,\n",
    "    folder_name=\"Interpolations\")"
   ]
  },
  {
   "cell_type": "markdown",
   "metadata": {},
   "source": [
    "# Inspection Time analysis"
   ]
  },
  {
   "cell_type": "code",
   "execution_count": null,
   "metadata": {
    "ExecuteTime": {
     "end_time": "2020-03-24T11:10:42.933271Z",
     "start_time": "2020-03-24T11:10:42.931490Z"
    }
   },
   "outputs": [],
   "source": [
    "# inspection_time_df = inspection.create_inspection_time_dataframe(inspection_df_dict)"
   ]
  },
  {
   "cell_type": "markdown",
   "metadata": {},
   "source": [
    "## Inspection Builds Time"
   ]
  },
  {
   "cell_type": "code",
   "execution_count": null,
   "metadata": {
    "ExecuteTime": {
     "end_time": "2020-03-24T11:10:42.946246Z",
     "start_time": "2020-03-24T11:10:42.934377Z"
    }
   },
   "outputs": [],
   "source": [
    "# inspection.create_plot_from_df(inspection_time_df,\n",
    "#             columns= [\"batches\",\"builds_time\"],\n",
    "#             title_plot=\"Time spent to evaluate all inspections builds in hours (ASSUMPTIONS ~6 in parallel)\",\n",
    "#             x_label=\"Batch Identifier\", \n",
    "#             y_label=\"Tot Time for builds [h]\",\n",
    "#             static=STATIC_FIGURE,\n",
    "#             save_result=SAVE_RESULTS,\n",
    "#             project_folder=PROJECT_DIR_NAME,\n",
    "#             folder_name=\"TimePlots\")"
   ]
  },
  {
   "cell_type": "markdown",
   "metadata": {},
   "source": [
    "## Inspection Jobs Time"
   ]
  },
  {
   "cell_type": "code",
   "execution_count": null,
   "metadata": {
    "ExecuteTime": {
     "end_time": "2020-03-24T11:10:42.949270Z",
     "start_time": "2020-03-24T11:10:42.947513Z"
    }
   },
   "outputs": [],
   "source": [
    "# inspection.create_plot_from_df(inspection_time_df,\n",
    "#             columns= [\"batches\",\"jobs_time\"],\n",
    "#             title_plot=\"Time spent to evaluate all inspections jobs in hours (ASSUMPTIONS ~6 in parallel)\",\n",
    "#             x_label=\"Batch Identifier\", \n",
    "#             y_label=\"Tot Time for jobs [h]\",\n",
    "#             static=STATIC_FIGURE,\n",
    "#             save_result=SAVE_RESULTS,\n",
    "#             project_folder=PROJECT_DIR_NAME,\n",
    "#             folder_name=\"TimePlots\")"
   ]
  },
  {
   "cell_type": "markdown",
   "metadata": {},
   "source": [
    "## Inspection Builds + Jobs Time"
   ]
  },
  {
   "cell_type": "code",
   "execution_count": null,
   "metadata": {
    "ExecuteTime": {
     "end_time": "2020-03-24T11:10:42.952295Z",
     "start_time": "2020-03-24T11:10:42.950419Z"
    }
   },
   "outputs": [],
   "source": [
    "# inspection.create_plot_from_df(inspection_time_df,\n",
    "#             columns= [\"batches\",\"tot_time\"],\n",
    "#             title_plot=\"Time spent to evaluate all inspections builds + jobs in hours (ASSUMPTIONS ~6 in parallel)\",\n",
    "#             x_label=\"Batch Identifier\", \n",
    "#             y_label=\"Tot Time for builds + jobs [h]\",\n",
    "#             static=STATIC_FIGURE,\n",
    "#             save_result=SAVE_RESULTS,\n",
    "#             project_folder=PROJECT_DIR_NAME,\n",
    "#             folder_name=\"TimePlots\")"
   ]
  }
 ],
 "metadata": {
  "celltoolbar": "Tags",
  "finalized": {
   "timestamp": 1584354628548,
   "trusted": false
  },
  "kernelspec": {
   "display_name": "Python 3",
   "language": "python",
   "name": "python3"
  },
  "language_info": {
   "codemirror_mode": {
    "name": "ipython",
    "version": 3
   },
   "file_extension": ".py",
   "mimetype": "text/x-python",
   "name": "python",
   "nbconvert_exporter": "python",
   "pygments_lexer": "ipython3",
   "version": "3.6.10"
  },
  "toc": {
   "base_numbering": 1,
   "nav_menu": {},
   "number_sections": true,
   "sideBar": true,
   "skip_h1_title": false,
   "title_cell": "Table of Contents",
   "title_sidebar": "Contents",
   "toc_cell": true,
   "toc_position": {
    "height": "calc(100% - 180px)",
    "left": "10px",
    "top": "150px",
    "width": "512px"
   },
   "toc_section_display": true,
   "toc_window_display": true
  }
 },
 "nbformat": 4,
 "nbformat_minor": 2
}
