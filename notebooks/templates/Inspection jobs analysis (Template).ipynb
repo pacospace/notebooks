{
 "cells": [
  {
   "cell_type": "markdown",
   "metadata": {
    "toc": true
   },
   "source": [
    "<h1>Table of Contents<span class=\"tocSkip\"></span></h1>\n",
    "<div class=\"toc\"><ul class=\"toc-item\"><li><span><a href=\"#Introduction\" data-toc-modified-id=\"Introduction-1\"><span class=\"toc-item-num\">1&nbsp;&nbsp;</span>Introduction</a></span></li><li><span><a href=\"#Create-reports-for-each-inspection-batch\" data-toc-modified-id=\"Create-reports-for-each-inspection-batch-2\"><span class=\"toc-item-num\">2&nbsp;&nbsp;</span>Create reports for each inspection batch</a></span></li><li><span><a href=\"#Analysis-of-inspection-batches\" data-toc-modified-id=\"Analysis-of-inspection-batches-3\"><span class=\"toc-item-num\">3&nbsp;&nbsp;</span>Analysis of inspection batches</a></span></li><li><span><a href=\"#Error-analysis\" data-toc-modified-id=\"Error-analysis-4\"><span class=\"toc-item-num\">4&nbsp;&nbsp;</span>Error analysis</a></span><ul class=\"toc-item\"><li><span><a href=\"#Histogram-of-the-job_duration-batches\" data-toc-modified-id=\"Histogram-of-the-job_duration-batches-4.1\"><span class=\"toc-item-num\">4.1&nbsp;&nbsp;</span>Histogram of the <code>job_duration</code> batches</a></span></li><li><span><a href=\"#Boxplot-of-the-job_duration-batches\" data-toc-modified-id=\"Boxplot-of-the-job_duration-batches-4.2\"><span class=\"toc-item-num\">4.2&nbsp;&nbsp;</span>Boxplot of the <code>job_duration</code> batches</a></span></li><li><span><a href=\"#Boxplot-of-the-elapsed-time-batches\" data-toc-modified-id=\"Boxplot-of-the-elapsed-time-batches-4.3\"><span class=\"toc-item-num\">4.3&nbsp;&nbsp;</span>Boxplot of the <code>elapsed time</code> batches</a></span></li><li><span><a href=\"#Boxplot-of-the-rate-batches\" data-toc-modified-id=\"Boxplot-of-the-rate-batches-4.4\"><span class=\"toc-item-num\">4.4&nbsp;&nbsp;</span>Boxplot of the <code>rate</code> batches</a></span></li></ul></li><li><span><a href=\"#Interpolations\" data-toc-modified-id=\"Interpolations-5\"><span class=\"toc-item-num\">5&nbsp;&nbsp;</span>Interpolations</a></span><ul class=\"toc-item\"><li><span><a href=\"#Box-Plots-interpolated-for-job_duration\" data-toc-modified-id=\"Box-Plots-interpolated-for-job_duration-5.1\"><span class=\"toc-item-num\">5.1&nbsp;&nbsp;</span>Box Plots interpolated for <code>job_duration</code></a></span></li><li><span><a href=\"#Box-Plots-interpolated-for-elapsed_time\" data-toc-modified-id=\"Box-Plots-interpolated-for-elapsed_time-5.2\"><span class=\"toc-item-num\">5.2&nbsp;&nbsp;</span>Box Plots interpolated for <code>elapsed_time</code></a></span></li><li><span><a href=\"#Box-Plots-interpolated-for-rate\" data-toc-modified-id=\"Box-Plots-interpolated-for-rate-5.3\"><span class=\"toc-item-num\">5.3&nbsp;&nbsp;</span>Box Plots interpolated for <code>rate</code></a></span></li></ul></li><li><span><a href=\"#Inspection-Time-analysis\" data-toc-modified-id=\"Inspection-Time-analysis-6\"><span class=\"toc-item-num\">6&nbsp;&nbsp;</span>Inspection Time analysis</a></span><ul class=\"toc-item\"><li><span><a href=\"#Inspection-Builds-Time\" data-toc-modified-id=\"Inspection-Builds-Time-6.1\"><span class=\"toc-item-num\">6.1&nbsp;&nbsp;</span>Inspection Builds Time</a></span></li><li><span><a href=\"#Inspection-Jobs-Time\" data-toc-modified-id=\"Inspection-Jobs-Time-6.2\"><span class=\"toc-item-num\">6.2&nbsp;&nbsp;</span>Inspection Jobs Time</a></span></li><li><span><a href=\"#Inspection-Builds-+-Jobs-Time\" data-toc-modified-id=\"Inspection-Builds-+-Jobs-Time-6.3\"><span class=\"toc-item-num\">6.3&nbsp;&nbsp;</span>Inspection Builds + Jobs Time</a></span></li></ul></li></ul></div>"
   ]
  },
  {
   "cell_type": "markdown",
   "metadata": {},
   "source": [
    "# Introduction"
   ]
  },
  {
   "cell_type": "code",
   "execution_count": null,
   "metadata": {
    "ExecuteTime": {
     "end_time": "2019-09-16T13:48:31.953785Z",
     "start_time": "2019-09-16T13:48:29.625073Z"
    }
   },
   "outputs": [],
   "source": [
    "from thoth.lab import inspection, inspection_report, underscore\n",
    "\n",
    "import logging\n",
    "logger = logging.getLogger()\n",
    "logger.handlers = []\n",
    "\n",
    "logger = logging.getLogger()\n",
    "logging.basicConfig(level=logging.INFO)"
   ]
  },
  {
   "cell_type": "code",
   "execution_count": null,
   "metadata": {
    "ExecuteTime": {
     "end_time": "2019-09-16T13:48:31.970413Z",
     "start_time": "2019-09-16T13:48:31.956501Z"
    }
   },
   "outputs": [],
   "source": [
    "%env THOTH_DEPLOYMENT_NAME     thoth-core-psi-stage\n",
    "%env THOTH_CEPH_BUCKET         thoth\n",
    "%env THOTH_CEPH_BUCKET_PREFIX  data/thoth\n",
    "%env THOTH_S3_ENDPOINT_URL     https://s3.upshift.redhat.com/"
   ]
  },
  {
   "cell_type": "code",
   "execution_count": null,
   "metadata": {
    "ExecuteTime": {
     "end_time": "2019-09-16T13:48:37.164721Z",
     "start_time": "2019-09-16T13:48:37.155458Z"
    },
    "tags": [
     "parameters"
    ]
   },
   "outputs": [],
   "source": [
    "identifier_inspection = [\n",
    "    \"64-matrix-size\",\n",
    "    \"128-matrix-size\",\n",
    "    \"256-matrix-size\",\n",
    "    \"test-ms\", # 512-matrix-size\n",
    "    \"1024-matrix-size\",\n",
    "    \"2048-matrix-size\",\n",
    "    \"4096-matrix-size\"\n",
    "]\n",
    "\n",
    "static_figure=True\n",
    "limit_results=False"
   ]
  },
  {
   "cell_type": "code",
   "execution_count": null,
   "metadata": {
    "ExecuteTime": {
     "end_time": "2019-09-16T13:48:37.903827Z",
     "start_time": "2019-09-16T13:48:37.894992Z"
    }
   },
   "outputs": [],
   "source": [
    "parameters_analysis = [\n",
    "    \"job_duration\",\n",
    "    \"build_duration\",\n",
    "    \"elapsed\",\n",
    "    \"rate\"\n",
    "]"
   ]
  },
  {
   "cell_type": "code",
   "execution_count": null,
   "metadata": {
    "ExecuteTime": {
     "end_time": "2019-09-16T13:51:46.711822Z",
     "start_time": "2019-09-16T13:48:39.055379Z"
    }
   },
   "outputs": [],
   "source": [
    "filtered_inspection_ids = inspection.filter_inspection_ids(identifier_inspection)"
   ]
  },
  {
   "cell_type": "code",
   "execution_count": null,
   "metadata": {
    "ExecuteTime": {
     "end_time": "2019-09-16T13:54:12.472697Z",
     "start_time": "2019-09-16T13:51:46.713767Z"
    },
    "scrolled": true
   },
   "outputs": [],
   "source": [
    "inspection_results_dict = inspection.aggregate_inspection_results_per_identifier(filtered_inspection_ids,\n",
    "                                                                                identifier_inspection,\n",
    "                                                                                  limit_results=limit_results)"
   ]
  },
  {
   "cell_type": "code",
   "execution_count": null,
   "metadata": {
    "ExecuteTime": {
     "end_time": "2019-09-16T13:55:10.203281Z",
     "start_time": "2019-09-16T13:54:12.483428Z"
    }
   },
   "outputs": [],
   "source": [
    "inspection_df_dict = inspection.create_inspection_dataframes(inspection_results_dict)"
   ]
  },
  {
   "cell_type": "markdown",
   "metadata": {},
   "source": [
    "# Create reports for each inspection batch"
   ]
  },
  {
   "cell_type": "code",
   "execution_count": null,
   "metadata": {
    "ExecuteTime": {
     "end_time": "2019-09-16T13:55:14.051485Z",
     "start_time": "2019-09-16T13:55:10.205244Z"
    }
   },
   "outputs": [],
   "source": [
    "# Collect all reports and provide results\n",
    "inspection_report_dict = inspection_report.create_inspection_reports(inspection_df_dict)"
   ]
  },
  {
   "cell_type": "markdown",
   "metadata": {},
   "source": [
    "# Analysis of inspection batches"
   ]
  },
  {
   "cell_type": "code",
   "execution_count": null,
   "metadata": {
    "ExecuteTime": {
     "end_time": "2019-09-16T13:55:14.836292Z",
     "start_time": "2019-09-16T13:55:14.053074Z"
    }
   },
   "outputs": [],
   "source": [
    "inspection.create_inspection_analysis_plots(inspection_df_dict[\"64-matrix-size\"])"
   ]
  },
  {
   "cell_type": "code",
   "execution_count": null,
   "metadata": {
    "ExecuteTime": {
     "end_time": "2019-09-16T13:55:14.887682Z",
     "start_time": "2019-09-16T13:55:14.838486Z"
    }
   },
   "outputs": [],
   "source": [
    "inspection_report.create_feature_analysis_summary(inspection_report_dict)"
   ]
  },
  {
   "cell_type": "code",
   "execution_count": null,
   "metadata": {
    "ExecuteTime": {
     "end_time": "2019-09-16T13:55:14.963287Z",
     "start_time": "2019-09-16T13:55:14.890159Z"
    }
   },
   "outputs": [],
   "source": [
    "inspection_report.create_feature_analysis_summary(inspection_report_dict, explanation=True)"
   ]
  },
  {
   "cell_type": "markdown",
   "metadata": {},
   "source": [
    "# Error analysis"
   ]
  },
  {
   "cell_type": "code",
   "execution_count": null,
   "metadata": {
    "ExecuteTime": {
     "end_time": "2019-09-16T13:55:14.994053Z",
     "start_time": "2019-09-16T13:55:14.965489Z"
    }
   },
   "outputs": [],
   "source": [
    "inspection_parameters_df_dict = inspection.create_inspection_parameters_dataframes(\n",
    "    parameters_analysis,\n",
    "    inspection_df_dict)"
   ]
  },
  {
   "cell_type": "markdown",
   "metadata": {},
   "source": [
    "## Histogram of the `job_duration` batches"
   ]
  },
  {
   "cell_type": "code",
   "execution_count": null,
   "metadata": {},
   "outputs": [],
   "source": [
    "inspection.create_plot_multiple_batches(inspection_parameters_df_dict[\"job_duration\"],\n",
    "                plot_type=\"hist\",\n",
    "                x_label=\"Inspection Time [s]\",\n",
    "                y_label=\"Count\",\n",
    "                plot_title=\"Job duration distribution per batch\",\n",
    "                static=static_figure)"
   ]
  },
  {
   "cell_type": "markdown",
   "metadata": {},
   "source": [
    "## Boxplot of the `job_duration` batches"
   ]
  },
  {
   "cell_type": "code",
   "execution_count": null,
   "metadata": {
    "ExecuteTime": {
     "end_time": "2019-09-16T13:56:30.659894Z",
     "start_time": "2019-09-16T13:56:30.342209Z"
    }
   },
   "outputs": [],
   "source": [
    "inspection.create_box_plot_multiple_columns(inspection_parameters_df_dict[\"job_duration\"],\n",
    "                plot_type=\"box\",\n",
    "                x_label=\"Batch identifier\",\n",
    "                y_label=\"Job Duration Time [s]\",\n",
    "                plot_title=\"Box plots job duration per batch\",\n",
    "                static=static_figure)"
   ]
  },
  {
   "cell_type": "markdown",
   "metadata": {},
   "source": [
    "## Boxplot of the `elapsed time` batches"
   ]
  },
  {
   "cell_type": "code",
   "execution_count": null,
   "metadata": {
    "ExecuteTime": {
     "end_time": "2019-09-16T13:56:31.806877Z",
     "start_time": "2019-09-16T13:56:31.475526Z"
    }
   },
   "outputs": [],
   "source": [
    "inspection.create_box_plot_multiple_columns(inspection_parameters_df_dict[\"elapsed\"],\n",
    "                plot_type=\"box\",\n",
    "                x_label=\"Batch identifier\",\n",
    "                y_label=\"Elapsed Time [ms]\",\n",
    "                plot_title=\"Box plots elapsed time per batch\",\n",
    "                static=static_figure)"
   ]
  },
  {
   "cell_type": "markdown",
   "metadata": {},
   "source": [
    "## Boxplot of the `rate` batches"
   ]
  },
  {
   "cell_type": "code",
   "execution_count": null,
   "metadata": {
    "ExecuteTime": {
     "end_time": "2019-09-16T13:56:32.481827Z",
     "start_time": "2019-09-16T13:56:32.138027Z"
    }
   },
   "outputs": [],
   "source": [
    "inspection.create_box_plot_multiple_columns(inspection_parameters_df_dict[\"rate\"],\n",
    "                plot_type=\"box\",\n",
    "                x_label=\"Batch identifier\",\n",
    "                y_label=\"Rate [GFLOPS]\",\n",
    "                plot_title=\"Box plots rate per batch\",\n",
    "                static=static_figure)"
   ]
  },
  {
   "cell_type": "markdown",
   "metadata": {},
   "source": [
    "# Interpolations"
   ]
  },
  {
   "cell_type": "code",
   "execution_count": null,
   "metadata": {
    "ExecuteTime": {
     "end_time": "2019-09-16T13:56:32.812885Z",
     "start_time": "2019-09-16T13:56:32.730136Z"
    }
   },
   "outputs": [],
   "source": [
    "inspection_statistics_dict = inspection.evaluate_inspection_statistics(\n",
    "    parameters_analysis,\n",
    "    inspection_df_dict)"
   ]
  },
  {
   "cell_type": "markdown",
   "metadata": {},
   "source": [
    "## Box Plots interpolated for `job_duration`"
   ]
  },
  {
   "cell_type": "code",
   "execution_count": null,
   "metadata": {
    "ExecuteTime": {
     "end_time": "2019-09-16T13:56:33.621067Z",
     "start_time": "2019-09-16T13:56:33.348082Z"
    }
   },
   "outputs": [],
   "source": [
    "parameter_selected = [\"job_duration\"]\n",
    "colour = [\"g\", \"b\", \"b\", \"r\", \"y\", \"k\"]\n",
    "quantities = [\"median\", \"q1\", \"q3\", \"max\", \"min\", \"iqr\"]\n",
    "\n",
    "inspection.plot_interpolated_statistics_of_inspection_parameters(statistical_results_dict=inspection_statistics_dict,\n",
    "                                                      identifier_inspection_list=identifier_inspection,\n",
    "                                                      inspection_parameters=parameter_selected,\n",
    "                                                      colour_list=colour,\n",
    "                                                      statistical_quantities=quantities,\n",
    "                                                      title_ylabel= \"Job duration [s]\")"
   ]
  },
  {
   "cell_type": "markdown",
   "metadata": {},
   "source": [
    "## Box Plots interpolated for `elapsed_time`"
   ]
  },
  {
   "cell_type": "code",
   "execution_count": null,
   "metadata": {
    "ExecuteTime": {
     "end_time": "2019-09-16T13:56:34.902967Z",
     "start_time": "2019-09-16T13:56:34.638038Z"
    }
   },
   "outputs": [],
   "source": [
    "parameter_selected = [\"elapsed\"]\n",
    "colour = [\"g\", \"b\", \"b\", \"r\", \"y\", \"k\"]\n",
    "quantities = [\"median\", \"q1\", \"q3\", \"max\", \"min\", \"iqr\"]\n",
    "inspection.plot_interpolated_statistics_of_inspection_parameters(statistical_results_dict=inspection_statistics_dict,\n",
    "                                                      identifier_inspection_list=identifier_inspection,\n",
    "                                                      inspection_parameters=parameter_selected,\n",
    "                                                      colour_list=colour,\n",
    "                                                      statistical_quantities=quantities,\n",
    "                                                      title_ylabel= \"Elapsed Time [ms]\")"
   ]
  },
  {
   "cell_type": "markdown",
   "metadata": {},
   "source": [
    "## Box Plots interpolated for `rate`"
   ]
  },
  {
   "cell_type": "code",
   "execution_count": null,
   "metadata": {
    "ExecuteTime": {
     "end_time": "2019-09-16T13:56:35.690412Z",
     "start_time": "2019-09-16T13:56:35.405695Z"
    }
   },
   "outputs": [],
   "source": [
    "parameter_selected = [\"rate\"]\n",
    "colour = [\"g\", \"b\", \"b\", \"r\", \"y\", \"k\"]\n",
    "quantities = [\"median\", \"q1\", \"q3\", \"max\", \"min\", \"iqr\"]\n",
    "inspection.plot_interpolated_statistics_of_inspection_parameters(statistical_results_dict=inspection_statistics_dict,\n",
    "                                                      identifier_inspection_list=identifier_inspection,\n",
    "                                                      inspection_parameters=parameter_selected,\n",
    "                                                      colour_list=colour,\n",
    "                                                      statistical_quantities=quantities,\n",
    "                                                      title_ylabel= \"Rate [GFLOPS]\")"
   ]
  },
  {
   "cell_type": "markdown",
   "metadata": {},
   "source": [
    "# Inspection Time analysis"
   ]
  },
  {
   "cell_type": "code",
   "execution_count": 40,
   "metadata": {
    "ExecuteTime": {
     "end_time": "2019-09-16T14:19:48.081203Z",
     "start_time": "2019-09-16T14:19:48.073993Z"
    }
   },
   "outputs": [],
   "source": [
    "inspection_time_df = inspection.create_inspection_time_dataframe(inspection_df_dict)"
   ]
  },
  {
   "cell_type": "markdown",
   "metadata": {},
   "source": [
    "## Inspection Builds Time"
   ]
  },
  {
   "cell_type": "code",
   "execution_count": null,
   "metadata": {
    "ExecuteTime": {
     "end_time": "2019-09-16T14:19:50.905951Z",
     "start_time": "2019-09-16T14:19:50.546834Z"
    }
   },
   "outputs": [],
   "source": [
    "inspection.create_plot_from_df(inspection_time_df, \n",
    "            columns= [\"batches\",\"builds_time\"],\n",
    "            title_plot=\"Time spent to evaluate all inspections builds in hours (ASSUMPTIONS ~6 in parallel)\",\n",
    "            x_label=\"Batch Identifier\", \n",
    "            y_label=\"Tot Time for builds [h]\",\n",
    "            static=static_figure)"
   ]
  },
  {
   "cell_type": "markdown",
   "metadata": {},
   "source": [
    "## Inspection Jobs Time"
   ]
  },
  {
   "cell_type": "code",
   "execution_count": null,
   "metadata": {
    "ExecuteTime": {
     "end_time": "2019-09-16T13:33:43.362327Z",
     "start_time": "2019-09-16T13:26:28.509Z"
    }
   },
   "outputs": [],
   "source": [
    "inspection.create_plot_from_df(inspection_time_df, \n",
    "            columns= [\"batches\",\"jobs_time\"],\n",
    "            title_plot=\"Time spent to evaluate all inspections jobs in hours (ASSUMPTIONS ~6 in parallel)\",\n",
    "            x_label=\"Batch Identifier\", \n",
    "            y_label=\"Tot Time for jobs [h]\",\n",
    "            static=static_figure)"
   ]
  },
  {
   "cell_type": "markdown",
   "metadata": {},
   "source": [
    "## Inspection Builds + Jobs Time"
   ]
  },
  {
   "cell_type": "code",
   "execution_count": null,
   "metadata": {
    "ExecuteTime": {
     "end_time": "2019-09-16T13:33:43.363276Z",
     "start_time": "2019-09-16T13:26:29.435Z"
    }
   },
   "outputs": [],
   "source": [
    "inspection.create_plot_from_df(inspection_time_df, \n",
    "            columns= [\"batches\",\"tot_time\"],\n",
    "            title_plot=\"Time spent to evaluate all inspections builds + jobs in hours (ASSUMPTIONS ~6 in parallel)\",\n",
    "            x_label=\"Batch Identifier\", \n",
    "            y_label=\"Tot Time for builds + jobs [h]\",\n",
    "            static=static_figure)"
   ]
  }
 ],
 "metadata": {
  "celltoolbar": "Tags",
  "finalized": {
   "timestamp": 1568640316479,
   "trusted": true
  },
  "kernelspec": {
   "display_name": "Python 3",
   "language": "python",
   "name": "python3"
  },
  "language_info": {
   "codemirror_mode": {
    "name": "ipython",
    "version": 3
   },
   "file_extension": ".py",
   "mimetype": "text/x-python",
   "name": "python",
   "nbconvert_exporter": "python",
   "pygments_lexer": "ipython3",
   "version": "3.6.9"
  },
  "toc": {
   "base_numbering": 1,
   "nav_menu": {},
   "number_sections": true,
   "sideBar": true,
   "skip_h1_title": false,
   "title_cell": "Table of Contents",
   "title_sidebar": "Contents",
   "toc_cell": true,
   "toc_position": {},
   "toc_section_display": true,
   "toc_window_display": true
  }
 },
 "nbformat": 4,
 "nbformat_minor": 2
}
